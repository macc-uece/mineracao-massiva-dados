{
 "cells": [
  {
   "cell_type": "markdown",
   "metadata": {},
   "source": [
    "# Exemplo 07: Processamento e Leitura Paralela no Spark\n",
    "## Contagem de Palavras Serial & Paralelo\n",
    "\n",
    "A contagem de palavras em um texto é um dos exemplos mais comuns paa avaliar o desempenho de aplicações distribuídas. Ao contrário do exemplo de cálculo do número Pi que exige apenas processamento, a contagem de palavras exige a leitura de um arquivo texto. Assim, é possível avaliar o desempenho de aplicações paralelas com leitura de arquivo.\n",
    "\n",
    "A contagem pode ser realizada através do paradgma MapReduce. A função Map em um pedaço do texto separa todas as palavras e contabiliza a ocorrencia de cada uma. A função Reduce irá juntar a contagem de todas as partes e totalizar o número de ocorrência de cada palavra.\n",
    "\n",
    "Neste exemplo vamos contar as palavras do livro _Guerra e Paz_ de Tolstói (em ingles War and Peace, do projeto Gutemberg).\n",
    "\n",
    "No primeiro caso, contamos em um único host, o segundo caso conta em vários hosts mas com uma partição única do arquivo, e o ultimo faz a contagem em vários hosts com o arquivo de entrada dividido em partes. Definir o número de partes no qual o arquivo será dividido é um desafio, mas os melhores resultados são obtidos quando o número de partes igual ao número de hosts. \n",
    "\n",
    "Lembramos que para executar um processamento distribuído com leitura de arquivo, este deverá estar disponível em todos os hosts. A melhor forma é colocaá-lo em um sistema de arquivos distribuído."
   ]
  },
  {
   "cell_type": "code",
   "execution_count": 1,
   "metadata": {},
   "outputs": [],
   "source": [
    "import findspark\n",
    "findspark.init()"
   ]
  },
  {
   "cell_type": "code",
   "execution_count": 2,
   "metadata": {},
   "outputs": [],
   "source": [
    "from pyspark import SparkContext\n",
    "from pyspark.sql import SparkSession\n",
    "import time"
   ]
  },
  {
   "cell_type": "code",
   "execution_count": 3,
   "metadata": {},
   "outputs": [
    {
     "name": "stdout",
     "output_type": "stream",
     "text": [
      "file:///data/textdata/books/english/War_and_Peace.txt\n"
     ]
    }
   ],
   "source": [
    "# Configuration\n",
    "# Processamento paralelo que le um arquivo necessita que ele esteja em todos os nós ou sistema de arquivos distribuidos\n",
    "book_folder = \"/data/textdata/books/english/\"\n",
    "book_file = \"file://\"+book_folder+\"War_and_Peace.txt\"\n",
    "print(book_file)"
   ]
  },
  {
   "cell_type": "markdown",
   "metadata": {},
   "source": [
    "## Word Count Serial"
   ]
  },
  {
   "cell_type": "code",
   "execution_count": 4,
   "metadata": {},
   "outputs": [],
   "source": [
    "start_time = time.time()\n",
    "\n",
    "# Create local Spark session\n",
    "spark = SparkSession.builder \\\n",
    "        .appName(\"WordCountSerial\") \\\n",
    "        .master(\"local[*]\") \\\n",
    "        .getOrCreate()\n",
    "\n",
    "# create the Spark Context\n",
    "sc = spark.sparkContext"
   ]
  },
  {
   "cell_type": "code",
   "execution_count": 5,
   "metadata": {},
   "outputs": [
    {
     "name": "stdout",
     "output_type": "stream",
     "text": [
      "+----+-----+\n",
      "|Word|Count|\n",
      "+----+-----+\n",
      "| the|31704|\n",
      "| and|20564|\n",
      "|    |16769|\n",
      "|  to|16320|\n",
      "|  of|14855|\n",
      "+----+-----+\n",
      "only showing top 5 rows\n",
      "\n",
      "--- Execution time: 10.923189640045166 seconds ---\n"
     ]
    }
   ],
   "source": [
    "# Read de book file \n",
    "text_file = sc.textFile(book_file).cache()\n",
    "\n",
    "counts = text_file.flatMap(lambda line: line.split(' ')) \\\n",
    "             .map(lambda word: (word, 1)) \\\n",
    "             .reduceByKey(lambda a, b: a + b)\n",
    "\n",
    "counts.toDF([\"Word\", \"Count\"]).sort(\"Count\",ascending=False).show(5)\n",
    "\n",
    "print(\"--- Execution time: %s seconds ---\" % (time.time() - start_time))"
   ]
  },
  {
   "cell_type": "code",
   "execution_count": 6,
   "metadata": {},
   "outputs": [],
   "source": [
    "spark.stop()"
   ]
  },
  {
   "cell_type": "markdown",
   "metadata": {},
   "source": [
    "## Word Count Parallel"
   ]
  },
  {
   "cell_type": "code",
   "execution_count": 7,
   "metadata": {},
   "outputs": [],
   "source": [
    "spark = SparkSession.builder\\\n",
    "        .appName(\"WordCountParallel_1\") \\\n",
    "        .master(\"mesos://zk://10.129.64.20:2181,10.129.64.10:2181,10.129.64.30:2181/mesos\") \\\n",
    "        .getOrCreate()\n",
    "\n",
    "spark.conf.set(\"spark.submit.deployMode\", \"client\")\n",
    "spark.conf.set(\"spark.driver.supervise\", \"true\")\n",
    "spark.conf.set(\"spark.executor.memory\", \"8g\")\n",
    "spark.conf.set(\"spark.driver.host\",\"10.129.64.20\")\n",
    "spark.conf.set(\"spark.mesos.containerizer\",\"docker\")\n",
    "spark.conf.set(\"spark.mesos.executor.docker.image\",\"lasid/spark-worker:latest\")\n",
    "spark.conf.set(\"spark.mesos.executor.docker.volumes\",\"/data:/data:ro\")\n",
    "spark.conf.set(\"spark.mesos.executor.docker.forcePullImage\",\"true\")\n",
    "\n",
    "#        .config(\"spark.mesos.executor.docker.image\", \"lasid/spark-worker\") \\\n",
    "\n",
    "# create the Spark Context\n",
    "sc = spark.sparkContext"
   ]
  },
  {
   "cell_type": "markdown",
   "metadata": {},
   "source": [
    "### Word Count Parallel One Data Partition"
   ]
  },
  {
   "cell_type": "code",
   "execution_count": 8,
   "metadata": {},
   "outputs": [
    {
     "name": "stdout",
     "output_type": "stream",
     "text": [
      "+----+-----+\n",
      "|Word|Count|\n",
      "+----+-----+\n",
      "| the|31704|\n",
      "| and|20564|\n",
      "|    |16769|\n",
      "|  to|16320|\n",
      "|  of|14855|\n",
      "+----+-----+\n",
      "only showing top 5 rows\n",
      "\n",
      "--- Execution time: 6.898257255554199 seconds ---\n"
     ]
    }
   ],
   "source": [
    "start_time = time.time()\n",
    "\n",
    "# Read book file \n",
    "text_file = sc.textFile(book_file)\n",
    "\n",
    "counts = text_file.flatMap(lambda line: line.split(' ')) \\\n",
    "             .map(lambda word: (word, 1)) \\\n",
    "             .reduceByKey(lambda a, b: a + b)\n",
    "\n",
    "counts.toDF([\"Word\", \"Count\"]).sort(\"Count\",ascending=False).show(5)\n",
    "\n",
    "print(\"--- Execution time: %s seconds ---\" % (time.time() - start_time))"
   ]
  },
  {
   "cell_type": "code",
   "execution_count": 9,
   "metadata": {},
   "outputs": [],
   "source": [
    "spark.stop()"
   ]
  },
  {
   "cell_type": "markdown",
   "metadata": {},
   "source": [
    "### Word Count Five Data Partitions"
   ]
  },
  {
   "cell_type": "code",
   "execution_count": 10,
   "metadata": {},
   "outputs": [],
   "source": [
    "spark = SparkSession.builder\\\n",
    "        .appName(\"WordCountParallel_5\") \\\n",
    "        .master(\"mesos://zk://10.129.64.20:2181,10.129.64.10:2181,10.129.64.30:2181/mesos\") \\\n",
    "        .config(\"spark.mesos.executor.docker.image\", \"lasid/spark-worker\") \\\n",
    "        .getOrCreate()\n",
    "\n",
    "spark.conf.set(\"spark.submit.deployMode\", \"client\")\n",
    "spark.conf.set(\"spark.driver.supervise\", \"true\")\n",
    "spark.conf.set(\"spark.executor.memory\", \"8g\")\n",
    "spark.conf.set(\"spark.driver.host\",\"10.129.64.20\")\n",
    "spark.conf.set(\"spark.mesos.containerizer\",\"docker\")\n",
    "spark.conf.set(\"spark.mesos.executor.docker.image\",\"lasid/spark-worker:latest\")\n",
    "spark.conf.set(\"spark.mesos.executor.docker.volumes\",\"/data:/data:ro\")\n",
    "spark.conf.set(\"spark.mesos.executor.docker.forcePullImage\",\"true\")\n",
    "\n",
    "# create the Spark Context\n",
    "sc = spark.sparkContext"
   ]
  },
  {
   "cell_type": "code",
   "execution_count": 11,
   "metadata": {},
   "outputs": [
    {
     "name": "stdout",
     "output_type": "stream",
     "text": [
      "+----+-----+\n",
      "|Word|Count|\n",
      "+----+-----+\n",
      "| the|31704|\n",
      "| and|20564|\n",
      "|    |16769|\n",
      "|  to|16320|\n",
      "|  of|14855|\n",
      "+----+-----+\n",
      "only showing top 5 rows\n",
      "\n",
      "--- Execution time: 9.708613157272339 seconds ---\n"
     ]
    }
   ],
   "source": [
    "start_time = time.time()\n",
    "\n",
    "# Read book file \n",
    "part = 5 \n",
    "text_file_part = sc.textFile(book_file, part)\n",
    "\n",
    "counts = text_file_part.flatMap(lambda line: line.split(' ')) \\\n",
    "             .map(lambda word: (word, 1)) \\\n",
    "             .reduceByKey(lambda a, b: a + b)\n",
    "\n",
    "counts.toDF([\"Word\", \"Count\"]).sort(\"Count\",ascending=False).show(5)\n",
    "\n",
    "print(\"--- Execution time: %s seconds ---\" % (time.time() - start_time))"
   ]
  },
  {
   "cell_type": "code",
   "execution_count": 12,
   "metadata": {},
   "outputs": [],
   "source": [
    "spark.stop()"
   ]
  },
  {
   "cell_type": "code",
   "execution_count": null,
   "metadata": {},
   "outputs": [],
   "source": []
  }
 ],
 "metadata": {
  "kernelspec": {
   "display_name": "Python 3",
   "language": "python",
   "name": "python3"
  },
  "language_info": {
   "codemirror_mode": {
    "name": "ipython",
    "version": 3
   },
   "file_extension": ".py",
   "mimetype": "text/x-python",
   "name": "python",
   "nbconvert_exporter": "python",
   "pygments_lexer": "ipython3",
   "version": "3.6.9"
  }
 },
 "nbformat": 4,
 "nbformat_minor": 4
}
