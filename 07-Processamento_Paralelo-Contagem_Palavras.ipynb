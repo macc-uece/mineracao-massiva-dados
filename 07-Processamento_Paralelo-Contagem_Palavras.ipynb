{
 "cells": [
  {
   "cell_type": "markdown",
   "metadata": {},
   "source": [
    "# Exemplo 07: Processamento e Leitura Paralela no Spark\n",
    "## Contagem de Palavras Serial & Paralelo\n",
    "\n",
    "A contagem de palavras em um texto é um dos exemplos mais comuns paa avaliar o desempenho de aplicações distribuídas. Ao contrário do exemplo de cálculo do número Pi que exige apenas processamento, a contagem de palavras exige a leitura de um arquivo texto. Assim, é possível avaliar o desempenho de aplicações paralelas com leitura de arquivo.\n",
    "\n",
    "A contagem pode ser realizada através do paradgma MapReduce. A função Map em um pedaço do texto separa todas as palavras e contabiliza a ocorrencia de cada uma. A função Reduce irá juntar a contagem de todas as partes e totalizar o número de ocorrência de cada palavra.\n",
    "\n",
    "Neste exemplo vamos contar as palavras do livro _Guerra e Paz_ de Tolstói (em ingles War and Peace, do projeto Gutemberg).\n",
    "\n",
    "No primeiro caso, contamos em um único host, o segundo caso faz a contagem paralela em vários hosts usando virtualização JVM mas com uma partição única do arquivo, e o terceiro com o arquivo de entrada dividido em partes. O quarto caso faz a contagem  paralela em vários hosts usando virtualização Docker e o quinto também Docker com o arquivo de entrada dividido em partes.\n",
    "\n",
    "Definir o número de partes no qual o arquivo será dividido é um desafio, mas os melhores resultados são obtidos quando o número de partes é maiso ou menos igual ao número de hosts. \n",
    "\n",
    "Lembramos que para executar um processamento distribuído com leitura de arquivo, este deverá estar disponível em todos os hosts. A melhor forma é colocaá-lo em um sistema de arquivos distribuído."
   ]
  },
  {
   "cell_type": "code",
   "execution_count": 1,
   "metadata": {
    "execution": {
     "iopub.execute_input": "2022-07-26T21:31:33.224953Z",
     "iopub.status.busy": "2022-07-26T21:31:33.224250Z",
     "iopub.status.idle": "2022-07-26T21:31:33.239443Z",
     "shell.execute_reply": "2022-07-26T21:31:33.238188Z",
     "shell.execute_reply.started": "2022-07-26T21:31:33.224777Z"
    }
   },
   "outputs": [],
   "source": [
    "from pyspark import SparkContext\n",
    "from pyspark.sql import SparkSession\n",
    "import time"
   ]
  },
  {
   "cell_type": "code",
   "execution_count": 2,
   "metadata": {
    "execution": {
     "iopub.execute_input": "2022-07-26T21:31:33.240508Z",
     "iopub.status.busy": "2022-07-26T21:31:33.240346Z",
     "iopub.status.idle": "2022-07-26T21:31:33.354843Z",
     "shell.execute_reply": "2022-07-26T21:31:33.353369Z",
     "shell.execute_reply.started": "2022-07-26T21:31:33.240488Z"
    }
   },
   "outputs": [
    {
     "name": "stdout",
     "output_type": "stream",
     "text": [
      "file:///data/dataset/books/english/War_and_Peace.txt\n"
     ]
    }
   ],
   "source": [
    "# Configuration\n",
    "# Processamento paralelo que le um arquivo necessita que ele esteja em todos os nós ou sistema de arquivos distribuidos\n",
    "book_folder = \"/data/dataset/books/english/\"\n",
    "book_file = \"file://\"+book_folder+\"War_and_Peace.txt\"\n",
    "print(book_file)"
   ]
  },
  {
   "cell_type": "markdown",
   "metadata": {},
   "source": [
    "## Word Count Serial"
   ]
  },
  {
   "cell_type": "code",
   "execution_count": 3,
   "metadata": {
    "execution": {
     "iopub.execute_input": "2022-07-26T21:31:33.358754Z",
     "iopub.status.busy": "2022-07-26T21:31:33.358321Z",
     "iopub.status.idle": "2022-07-26T21:31:36.955711Z",
     "shell.execute_reply": "2022-07-26T21:31:36.954606Z",
     "shell.execute_reply.started": "2022-07-26T21:31:33.358701Z"
    }
   },
   "outputs": [
    {
     "name": "stderr",
     "output_type": "stream",
     "text": [
      "Setting default log level to \"WARN\".\n",
      "To adjust logging level use sc.setLogLevel(newLevel). For SparkR, use setLogLevel(newLevel).\n"
     ]
    },
    {
     "name": "stdout",
     "output_type": "stream",
     "text": [
      "22/07/26 18:31:35 WARN NativeCodeLoader: Unable to load native-hadoop library for your platform... using builtin-java classes where applicable\n",
      "22/07/26 18:31:36 WARN Utils: Service 'SparkUI' could not bind on port 4040. Attempting port 4041.\n"
     ]
    }
   ],
   "source": [
    "start_time = time.time()\n",
    "\n",
    "# Create local Spark session\n",
    "spark = SparkSession.builder \\\n",
    "        .appName(\"WordCountSerial\") \\\n",
    "        .master(\"local[4]\") \\\n",
    "        .getOrCreate()\n",
    "\n",
    "# create the Spark Context\n",
    "sc = spark.sparkContext"
   ]
  },
  {
   "cell_type": "code",
   "execution_count": 4,
   "metadata": {
    "execution": {
     "iopub.execute_input": "2022-07-26T21:31:36.958763Z",
     "iopub.status.busy": "2022-07-26T21:31:36.958178Z",
     "iopub.status.idle": "2022-07-26T21:31:43.089864Z",
     "shell.execute_reply": "2022-07-26T21:31:43.087563Z",
     "shell.execute_reply.started": "2022-07-26T21:31:36.958694Z"
    }
   },
   "outputs": [
    {
     "name": "stderr",
     "output_type": "stream",
     "text": [
      "                                                                                \r"
     ]
    },
    {
     "name": "stdout",
     "output_type": "stream",
     "text": [
      "+----+-----+\n",
      "|Word|Count|\n",
      "+----+-----+\n",
      "| the|31704|\n",
      "| and|20564|\n",
      "|  to|16320|\n",
      "|  of|14855|\n",
      "|   a|10018|\n",
      "+----+-----+\n",
      "only showing top 5 rows\n",
      "\n",
      "--- Execution time: 9.65882658958435 seconds ---\n"
     ]
    }
   ],
   "source": [
    "# Read de book file \n",
    "text_file = sc.textFile(book_file).cache()\n",
    "\n",
    "counts = text_file.flatMap(lambda line: line.split()) \\\n",
    "             .map(lambda word: (word, 1)) \\\n",
    "             .reduceByKey(lambda a, b: a + b)\n",
    "\n",
    "counts.toDF([\"Word\", \"Count\"]).sort(\"Count\",ascending=False).show(5)\n",
    "\n",
    "print(\"--- Execution time: %s seconds ---\" % (time.time() - start_time))"
   ]
  },
  {
   "cell_type": "code",
   "execution_count": 5,
   "metadata": {
    "execution": {
     "iopub.execute_input": "2022-07-26T21:31:43.092736Z",
     "iopub.status.busy": "2022-07-26T21:31:43.092300Z",
     "iopub.status.idle": "2022-07-26T21:31:44.003308Z",
     "shell.execute_reply": "2022-07-26T21:31:44.001762Z",
     "shell.execute_reply.started": "2022-07-26T21:31:43.092696Z"
    }
   },
   "outputs": [],
   "source": [
    "spark.stop()"
   ]
  },
  {
   "cell_type": "markdown",
   "metadata": {},
   "source": [
    "## Word Count Parallel Standalone Cluster"
   ]
  },
  {
   "cell_type": "markdown",
   "metadata": {},
   "source": [
    "### One Data Partition"
   ]
  },
  {
   "cell_type": "code",
   "execution_count": 6,
   "metadata": {
    "execution": {
     "iopub.execute_input": "2022-07-26T21:31:44.006693Z",
     "iopub.status.busy": "2022-07-26T21:31:44.005959Z",
     "iopub.status.idle": "2022-07-26T21:31:44.348031Z",
     "shell.execute_reply": "2022-07-26T21:31:44.347426Z",
     "shell.execute_reply.started": "2022-07-26T21:31:44.006598Z"
    }
   },
   "outputs": [
    {
     "name": "stdout",
     "output_type": "stream",
     "text": [
      "22/07/26 18:31:44 WARN Utils: Service 'SparkUI' could not bind on port 4040. Attempting port 4041.\n"
     ]
    }
   ],
   "source": [
    "# Starting Spark Cluster\n",
    "\n",
    "spark = SparkSession.builder \\\n",
    "        .master(\"spark://lasidcluster:7077\") \\\n",
    "        .appName(\"WordCountParallel\") \\\n",
    "        .config(\"spark.sql.shuffle.partitions\",\"10000\") \\\n",
    "        .config(\"spark.driver.memory\",\"4g\") \\\n",
    "        .config(\"spark.executor.memory\",\"4g\") \\\n",
    "        .getOrCreate()\n",
    "\n",
    "# create the Spark Context\n",
    "sc = spark.sparkContext"
   ]
  },
  {
   "cell_type": "code",
   "execution_count": 7,
   "metadata": {
    "execution": {
     "iopub.execute_input": "2022-07-26T21:31:44.349124Z",
     "iopub.status.busy": "2022-07-26T21:31:44.348937Z",
     "iopub.status.idle": "2022-07-26T21:31:51.165451Z",
     "shell.execute_reply": "2022-07-26T21:31:51.164097Z",
     "shell.execute_reply.started": "2022-07-26T21:31:44.349103Z"
    }
   },
   "outputs": [
    {
     "name": "stderr",
     "output_type": "stream",
     "text": [
      "[Stage 3:>                                                          (0 + 2) / 2]\r"
     ]
    },
    {
     "name": "stdout",
     "output_type": "stream",
     "text": [
      "+----+-----+\n",
      "|Word|Count|\n",
      "+----+-----+\n",
      "| the|31704|\n",
      "| and|20564|\n",
      "|  to|16320|\n",
      "|  of|14855|\n",
      "|   a|10018|\n",
      "+----+-----+\n",
      "only showing top 5 rows\n",
      "\n",
      "--- Execution time: 6.809361696243286 seconds ---\n"
     ]
    },
    {
     "name": "stderr",
     "output_type": "stream",
     "text": [
      "                                                                                \r"
     ]
    }
   ],
   "source": [
    "start_time = time.time()\n",
    "\n",
    "# Read book file \n",
    "text_file = sc.textFile(book_file)\n",
    "\n",
    "counts = text_file.flatMap(lambda line: line.split()) \\\n",
    "             .map(lambda word: (word, 1)) \\\n",
    "             .reduceByKey(lambda a, b: a + b)\n",
    "\n",
    "counts.toDF([\"Word\", \"Count\"]).sort(\"Count\",ascending=False).show(5)\n",
    "\n",
    "print(\"--- Execution time: %s seconds ---\" % (time.time() - start_time))"
   ]
  },
  {
   "cell_type": "code",
   "execution_count": 8,
   "metadata": {
    "execution": {
     "iopub.execute_input": "2022-07-26T21:31:51.168066Z",
     "iopub.status.busy": "2022-07-26T21:31:51.167562Z",
     "iopub.status.idle": "2022-07-26T21:31:52.155072Z",
     "shell.execute_reply": "2022-07-26T21:31:52.153569Z",
     "shell.execute_reply.started": "2022-07-26T21:31:51.167981Z"
    }
   },
   "outputs": [],
   "source": [
    "spark.stop()"
   ]
  },
  {
   "cell_type": "markdown",
   "metadata": {},
   "source": [
    "### Five Data Partitions"
   ]
  },
  {
   "cell_type": "code",
   "execution_count": 9,
   "metadata": {
    "execution": {
     "iopub.execute_input": "2022-07-26T21:31:52.157781Z",
     "iopub.status.busy": "2022-07-26T21:31:52.157277Z",
     "iopub.status.idle": "2022-07-26T21:31:52.341957Z",
     "shell.execute_reply": "2022-07-26T21:31:52.341401Z",
     "shell.execute_reply.started": "2022-07-26T21:31:52.157719Z"
    }
   },
   "outputs": [
    {
     "name": "stdout",
     "output_type": "stream",
     "text": [
      "22/07/26 18:31:52 WARN Utils: Service 'SparkUI' could not bind on port 4040. Attempting port 4041.\n"
     ]
    }
   ],
   "source": [
    "# Starting Spark Cluster\n",
    "\n",
    "spark = SparkSession.builder \\\n",
    "        .master(\"spark://lasidcluster:7077\") \\\n",
    "        .appName(\"WordCountParallel_part\") \\\n",
    "        .config(\"spark.sql.shuffle.partitions\",\"10000\") \\\n",
    "        .config(\"spark.driver.memory\",\"4g\") \\\n",
    "        .config(\"spark.executor.memory\",\"4g\") \\\n",
    "        .getOrCreate()\n",
    "\n",
    "# create the Spark Context\n",
    "sc = spark.sparkContext"
   ]
  },
  {
   "cell_type": "code",
   "execution_count": 10,
   "metadata": {
    "execution": {
     "iopub.execute_input": "2022-07-26T21:31:52.343261Z",
     "iopub.status.busy": "2022-07-26T21:31:52.343027Z",
     "iopub.status.idle": "2022-07-26T21:31:58.750115Z",
     "shell.execute_reply": "2022-07-26T21:31:58.748346Z",
     "shell.execute_reply.started": "2022-07-26T21:31:52.343239Z"
    }
   },
   "outputs": [
    {
     "name": "stderr",
     "output_type": "stream",
     "text": [
      "[Stage 3:>                                                          (0 + 5) / 5]\r"
     ]
    },
    {
     "name": "stdout",
     "output_type": "stream",
     "text": [
      "+----+-----+\n",
      "|Word|Count|\n",
      "+----+-----+\n",
      "| the|31704|\n",
      "| and|20564|\n",
      "|  to|16320|\n",
      "|  of|14855|\n",
      "|   a|10018|\n",
      "+----+-----+\n",
      "only showing top 5 rows\n",
      "\n",
      "--- Execution time: 6.399545431137085 seconds ---\n"
     ]
    },
    {
     "name": "stderr",
     "output_type": "stream",
     "text": [
      "                                                                                \r"
     ]
    }
   ],
   "source": [
    "start_time = time.time()\n",
    "\n",
    "# Read book file \n",
    "part = 5 \n",
    "text_file_part = sc.textFile(book_file, part)\n",
    "\n",
    "counts = text_file_part.flatMap(lambda line: line.split()) \\\n",
    "             .map(lambda word: (word, 1)) \\\n",
    "             .reduceByKey(lambda a, b: a + b)\n",
    "\n",
    "counts.toDF([\"Word\", \"Count\"]).sort(\"Count\",ascending=False).show(5)\n",
    "\n",
    "print(\"--- Execution time: %s seconds ---\" % (time.time() - start_time))"
   ]
  },
  {
   "cell_type": "code",
   "execution_count": 11,
   "metadata": {
    "execution": {
     "iopub.execute_input": "2022-07-26T21:31:58.752923Z",
     "iopub.status.busy": "2022-07-26T21:31:58.752284Z",
     "iopub.status.idle": "2022-07-26T21:31:59.740252Z",
     "shell.execute_reply": "2022-07-26T21:31:59.738835Z",
     "shell.execute_reply.started": "2022-07-26T21:31:58.752858Z"
    },
    "tags": []
   },
   "outputs": [],
   "source": [
    "spark.stop()"
   ]
  }
 ],
 "metadata": {
  "kernelspec": {
   "display_name": "Python 3 (ipykernel)",
   "language": "python",
   "name": "python3"
  },
  "language_info": {
   "codemirror_mode": {
    "name": "ipython",
    "version": 3
   },
   "file_extension": ".py",
   "mimetype": "text/x-python",
   "name": "python",
   "nbconvert_exporter": "python",
   "pygments_lexer": "ipython3",
   "version": "3.8.10"
  }
 },
 "nbformat": 4,
 "nbformat_minor": 4
}
