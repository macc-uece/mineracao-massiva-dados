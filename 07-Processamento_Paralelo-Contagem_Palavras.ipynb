{
 "cells": [
  {
   "cell_type": "markdown",
   "metadata": {},
   "source": [
    "# Exemplo 07: Processamento e Leitura Paralela no Spark\n",
    "## Contagem de Palavras Serial & Paralelo\n",
    "\n",
    "A contagem de palavras em um texto é um dos exemplos mais comuns paa avaliar o desempenho de aplicações distribuídas. Ao contrário do exemplo de cálculo do número Pi que exige apenas processamento, a contagem de palavras exige a leitura de um arquivo texto. Assim, é possível avaliar o desempenho de aplicações paralelas com leitura de arquivo.\n",
    "\n",
    "A contagem pode ser realizada através do paradgma MapReduce. A função Map em um pedaço do texto separa todas as palavras e contabiliza a ocorrencia de cada uma. A função Reduce irá juntar a contagem de todas as partes e totalizar o número de ocorrência de cada palavra.\n",
    "\n",
    "Neste exemplo vamos contar as palavras do livro _Guerra e Paz_ de Tolstói (em ingles War and Peace, do projeto Gutemberg).\n",
    "\n",
    "No primeiro caso, contamos em um único host, o segundo caso faz a contagem paralela em vários hosts usando virtualização JVM mas com uma partição única do arquivo, e o terceiro com o arquivo de entrada dividido em partes. O quarto caso faz a contagem  paralela em vários hosts usando virtualização Docker e o quinto também Docker com o arquivo de entrada dividido em partes.\n",
    "\n",
    "Definir o número de partes no qual o arquivo será dividido é um desafio, mas os melhores resultados são obtidos quando o número de partes é maiso ou menos igual ao número de hosts. \n",
    "\n",
    "Lembramos que para executar um processamento distribuído com leitura de arquivo, este deverá estar disponível em todos os hosts. A melhor forma é colocaá-lo em um sistema de arquivos distribuído."
   ]
  },
  {
   "cell_type": "code",
   "execution_count": 1,
   "metadata": {
    "execution": {
     "iopub.execute_input": "2022-07-26T21:26:32.359509Z",
     "iopub.status.busy": "2022-07-26T21:26:32.358958Z",
     "iopub.status.idle": "2022-07-26T21:26:32.370822Z",
     "shell.execute_reply": "2022-07-26T21:26:32.369864Z",
     "shell.execute_reply.started": "2022-07-26T21:26:32.359383Z"
    }
   },
   "outputs": [],
   "source": [
    "from pyspark import SparkContext\n",
    "from pyspark.sql import SparkSession\n",
    "import time"
   ]
  },
  {
   "cell_type": "code",
   "execution_count": 2,
   "metadata": {
    "execution": {
     "iopub.execute_input": "2022-07-26T21:26:32.373085Z",
     "iopub.status.busy": "2022-07-26T21:26:32.372783Z",
     "iopub.status.idle": "2022-07-26T21:26:32.458308Z",
     "shell.execute_reply": "2022-07-26T21:26:32.457181Z",
     "shell.execute_reply.started": "2022-07-26T21:26:32.373059Z"
    }
   },
   "outputs": [
    {
     "name": "stdout",
     "output_type": "stream",
     "text": [
      "file:///data/dataset/books/english/War_and_Peace.txt\n"
     ]
    }
   ],
   "source": [
    "# Configuration\n",
    "# Processamento paralelo que le um arquivo necessita que ele esteja em todos os nós ou sistema de arquivos distribuidos\n",
    "book_folder = \"/data/dataset/books/english/\"\n",
    "book_file = \"file://\"+book_folder+\"War_and_Peace.txt\"\n",
    "print(book_file)"
   ]
  },
  {
   "cell_type": "markdown",
   "metadata": {},
   "source": [
    "## Word Count Serial"
   ]
  },
  {
   "cell_type": "code",
   "execution_count": 3,
   "metadata": {
    "execution": {
     "iopub.execute_input": "2022-07-26T21:26:32.461593Z",
     "iopub.status.busy": "2022-07-26T21:26:32.461108Z",
     "iopub.status.idle": "2022-07-26T21:26:36.191983Z",
     "shell.execute_reply": "2022-07-26T21:26:36.190258Z",
     "shell.execute_reply.started": "2022-07-26T21:26:32.461548Z"
    }
   },
   "outputs": [
    {
     "name": "stderr",
     "output_type": "stream",
     "text": [
      "Setting default log level to \"WARN\".\n",
      "To adjust logging level use sc.setLogLevel(newLevel). For SparkR, use setLogLevel(newLevel).\n"
     ]
    },
    {
     "name": "stdout",
     "output_type": "stream",
     "text": [
      "22/07/26 18:26:34 WARN NativeCodeLoader: Unable to load native-hadoop library for your platform... using builtin-java classes where applicable\n",
      "22/07/26 18:26:35 WARN Utils: Service 'SparkUI' could not bind on port 4040. Attempting port 4041.\n"
     ]
    }
   ],
   "source": [
    "start_time = time.time()\n",
    "\n",
    "# Create local Spark session\n",
    "spark = SparkSession.builder \\\n",
    "        .appName(\"WordCountSerial\") \\\n",
    "        .master(\"local[4]\") \\\n",
    "        .getOrCreate()\n",
    "\n",
    "# create the Spark Context\n",
    "sc = spark.sparkContext"
   ]
  },
  {
   "cell_type": "code",
   "execution_count": 4,
   "metadata": {
    "execution": {
     "iopub.execute_input": "2022-07-26T21:26:36.195576Z",
     "iopub.status.busy": "2022-07-26T21:26:36.194739Z",
     "iopub.status.idle": "2022-07-26T21:26:42.652260Z",
     "shell.execute_reply": "2022-07-26T21:26:42.650987Z",
     "shell.execute_reply.started": "2022-07-26T21:26:36.195504Z"
    }
   },
   "outputs": [
    {
     "name": "stderr",
     "output_type": "stream",
     "text": [
      "                                                                                \r"
     ]
    },
    {
     "name": "stdout",
     "output_type": "stream",
     "text": [
      "+----+-----+\n",
      "|Word|Count|\n",
      "+----+-----+\n",
      "| the|31704|\n",
      "| and|20564|\n",
      "|  to|16320|\n",
      "|  of|14855|\n",
      "|   a|10018|\n",
      "+----+-----+\n",
      "only showing top 5 rows\n",
      "\n",
      "--- Execution time: 10.101569652557373 seconds ---\n"
     ]
    }
   ],
   "source": [
    "# Read de book file \n",
    "text_file = sc.textFile(book_file).cache()\n",
    "\n",
    "counts = text_file.flatMap(lambda line: line.split()) \\\n",
    "             .map(lambda word: (word, 1)) \\\n",
    "             .reduceByKey(lambda a, b: a + b)\n",
    "\n",
    "counts.toDF([\"Word\", \"Count\"]).sort(\"Count\",ascending=False).show(5)\n",
    "\n",
    "print(\"--- Execution time: %s seconds ---\" % (time.time() - start_time))"
   ]
  },
  {
   "cell_type": "code",
   "execution_count": 5,
   "metadata": {
    "execution": {
     "iopub.execute_input": "2022-07-26T21:26:42.654618Z",
     "iopub.status.busy": "2022-07-26T21:26:42.654195Z",
     "iopub.status.idle": "2022-07-26T21:26:43.586095Z",
     "shell.execute_reply": "2022-07-26T21:26:43.584426Z",
     "shell.execute_reply.started": "2022-07-26T21:26:42.654578Z"
    }
   },
   "outputs": [],
   "source": [
    "spark.stop()"
   ]
  },
  {
   "cell_type": "markdown",
   "metadata": {},
   "source": [
    "## Word Count Parallel Standalone Cluster"
   ]
  },
  {
   "cell_type": "markdown",
   "metadata": {},
   "source": [
    "### One Data Partition"
   ]
  },
  {
   "cell_type": "code",
   "execution_count": 6,
   "metadata": {
    "execution": {
     "iopub.execute_input": "2022-07-26T21:26:43.589111Z",
     "iopub.status.busy": "2022-07-26T21:26:43.588460Z",
     "iopub.status.idle": "2022-07-26T21:26:43.986237Z",
     "shell.execute_reply": "2022-07-26T21:26:43.984895Z",
     "shell.execute_reply.started": "2022-07-26T21:26:43.589045Z"
    }
   },
   "outputs": [
    {
     "name": "stdout",
     "output_type": "stream",
     "text": [
      "22/07/26 18:26:43 WARN Utils: Service 'SparkUI' could not bind on port 4040. Attempting port 4041.\n"
     ]
    }
   ],
   "source": [
    "# Starting Spark Cluster\n",
    "\n",
    "spark = SparkSession.builder \\\n",
    "        .master(\"spark://lasidcluster:7077\") \\\n",
    "        .appName(\"JupyterWordCount\") \\\n",
    "        .config(\"spark.sql.shuffle.partitions\",\"10000\") \\\n",
    "        .config(\"spark.driver.memory\",\"4g\") \\\n",
    "        .config(\"spark.executor.memory\",\"4g\") \\\n",
    "        .getOrCreate()\n",
    "\n",
    "# create the Spark Context\n",
    "sc = spark.sparkContext"
   ]
  },
  {
   "cell_type": "code",
   "execution_count": 7,
   "metadata": {
    "execution": {
     "iopub.execute_input": "2022-07-26T21:26:43.988924Z",
     "iopub.status.busy": "2022-07-26T21:26:43.988271Z",
     "iopub.status.idle": "2022-07-26T21:26:50.176102Z",
     "shell.execute_reply": "2022-07-26T21:26:50.175141Z",
     "shell.execute_reply.started": "2022-07-26T21:26:43.988865Z"
    }
   },
   "outputs": [
    {
     "name": "stderr",
     "output_type": "stream",
     "text": [
      "[Stage 3:>                                                          (0 + 2) / 2]\r"
     ]
    },
    {
     "name": "stdout",
     "output_type": "stream",
     "text": [
      "+----+-----+\n",
      "|Word|Count|\n",
      "+----+-----+\n",
      "| the|31704|\n",
      "| and|20564|\n",
      "|  to|16320|\n",
      "|  of|14855|\n",
      "|   a|10018|\n",
      "+----+-----+\n",
      "only showing top 5 rows\n",
      "\n",
      "--- Execution time: 6.179067850112915 seconds ---\n"
     ]
    },
    {
     "name": "stderr",
     "output_type": "stream",
     "text": [
      "                                                                                \r"
     ]
    }
   ],
   "source": [
    "start_time = time.time()\n",
    "\n",
    "# Read book file \n",
    "text_file = sc.textFile(book_file)\n",
    "\n",
    "counts = text_file.flatMap(lambda line: line.split()) \\\n",
    "             .map(lambda word: (word, 1)) \\\n",
    "             .reduceByKey(lambda a, b: a + b)\n",
    "\n",
    "counts.toDF([\"Word\", \"Count\"]).sort(\"Count\",ascending=False).show(5)\n",
    "\n",
    "print(\"--- Execution time: %s seconds ---\" % (time.time() - start_time))"
   ]
  },
  {
   "cell_type": "code",
   "execution_count": 8,
   "metadata": {
    "execution": {
     "iopub.execute_input": "2022-07-26T21:26:50.177850Z",
     "iopub.status.busy": "2022-07-26T21:26:50.177482Z",
     "iopub.status.idle": "2022-07-26T21:26:51.163225Z",
     "shell.execute_reply": "2022-07-26T21:26:51.161648Z",
     "shell.execute_reply.started": "2022-07-26T21:26:50.177818Z"
    }
   },
   "outputs": [],
   "source": [
    "spark.stop()"
   ]
  },
  {
   "cell_type": "markdown",
   "metadata": {},
   "source": [
    "### Five Data Partitions"
   ]
  },
  {
   "cell_type": "code",
   "execution_count": 9,
   "metadata": {
    "execution": {
     "iopub.execute_input": "2022-07-26T21:26:51.166182Z",
     "iopub.status.busy": "2022-07-26T21:26:51.165677Z",
     "iopub.status.idle": "2022-07-26T21:26:51.378305Z",
     "shell.execute_reply": "2022-07-26T21:26:51.376843Z",
     "shell.execute_reply.started": "2022-07-26T21:26:51.166122Z"
    }
   },
   "outputs": [
    {
     "name": "stdout",
     "output_type": "stream",
     "text": [
      "22/07/26 18:26:51 WARN Utils: Service 'SparkUI' could not bind on port 4040. Attempting port 4041.\n"
     ]
    }
   ],
   "source": [
    "# Starting Spark Cluster\n",
    "\n",
    "spark = SparkSession.builder \\\n",
    "        .master(\"spark://lasidcluster:7077\") \\\n",
    "        .appName(\"JupyterWordCount_part\") \\\n",
    "        .config(\"spark.sql.shuffle.partitions\",\"10000\") \\\n",
    "        .config(\"spark.driver.memory\",\"4g\") \\\n",
    "        .config(\"spark.executor.memory\",\"4g\") \\\n",
    "        .getOrCreate()\n",
    "\n",
    "# create the Spark Context\n",
    "sc = spark.sparkContext"
   ]
  },
  {
   "cell_type": "code",
   "execution_count": 10,
   "metadata": {
    "execution": {
     "iopub.execute_input": "2022-07-26T21:26:51.381622Z",
     "iopub.status.busy": "2022-07-26T21:26:51.380917Z",
     "iopub.status.idle": "2022-07-26T21:26:57.419212Z",
     "shell.execute_reply": "2022-07-26T21:26:57.418397Z",
     "shell.execute_reply.started": "2022-07-26T21:26:51.381554Z"
    }
   },
   "outputs": [
    {
     "name": "stderr",
     "output_type": "stream",
     "text": [
      "[Stage 3:>                                                          (0 + 5) / 5]\r"
     ]
    },
    {
     "name": "stdout",
     "output_type": "stream",
     "text": [
      "+----+-----+\n",
      "|Word|Count|\n",
      "+----+-----+\n",
      "| the|31704|\n",
      "| and|20564|\n",
      "|  to|16320|\n",
      "|  of|14855|\n",
      "|   a|10018|\n",
      "+----+-----+\n",
      "only showing top 5 rows\n",
      "\n",
      "--- Execution time: 6.026997804641724 seconds ---\n"
     ]
    },
    {
     "name": "stderr",
     "output_type": "stream",
     "text": [
      "                                                                                \r"
     ]
    }
   ],
   "source": [
    "start_time = time.time()\n",
    "\n",
    "# Read book file \n",
    "part = 5 \n",
    "text_file_part = sc.textFile(book_file, part)\n",
    "\n",
    "counts = text_file_part.flatMap(lambda line: line.split()) \\\n",
    "             .map(lambda word: (word, 1)) \\\n",
    "             .reduceByKey(lambda a, b: a + b)\n",
    "\n",
    "counts.toDF([\"Word\", \"Count\"]).sort(\"Count\",ascending=False).show(5)\n",
    "\n",
    "print(\"--- Execution time: %s seconds ---\" % (time.time() - start_time))"
   ]
  },
  {
   "cell_type": "code",
   "execution_count": 11,
   "metadata": {
    "execution": {
     "iopub.execute_input": "2022-07-26T21:26:57.420660Z",
     "iopub.status.busy": "2022-07-26T21:26:57.420357Z",
     "iopub.status.idle": "2022-07-26T21:26:58.417286Z",
     "shell.execute_reply": "2022-07-26T21:26:58.415677Z",
     "shell.execute_reply.started": "2022-07-26T21:26:57.420630Z"
    },
    "tags": []
   },
   "outputs": [],
   "source": [
    "spark.stop()"
   ]
  }
 ],
 "metadata": {
  "kernelspec": {
   "display_name": "Python 3 (ipykernel)",
   "language": "python",
   "name": "python3"
  },
  "language_info": {
   "codemirror_mode": {
    "name": "ipython",
    "version": 3
   },
   "file_extension": ".py",
   "mimetype": "text/x-python",
   "name": "python",
   "nbconvert_exporter": "python",
   "pygments_lexer": "ipython3",
   "version": "3.8.10"
  }
 },
 "nbformat": 4,
 "nbformat_minor": 4
}
