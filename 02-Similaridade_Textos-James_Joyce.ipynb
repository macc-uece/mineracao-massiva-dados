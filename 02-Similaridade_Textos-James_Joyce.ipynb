{
 "cells": [
  {
   "cell_type": "markdown",
   "metadata": {},
   "source": [
    "# Exemplo 02: Similaridade de Textos: LSH\n",
    "\n",
    "## Locality-Sensitive Hashing (LSH) Algorithms\n",
    "\n",
    "LSH for Euclidean distance metrics. The input is a dense or sparse vectors, each of which represents a point in the Euclidean distance space. The output will be vectors of configurable dimension. Hash values in the same dimension are calculated by the same hash function."
   ]
  },
  {
   "cell_type": "code",
   "execution_count": 1,
   "metadata": {},
   "outputs": [],
   "source": [
    "# Load Spark Library\n",
    "#from pyspark import SparkContext\n",
    "from pyspark.sql import SparkSession\n",
    "from pyspark.sql import DataFrame\n",
    "from pyspark.sql.types import *\n",
    "\n",
    "import time, os, string\n",
    "\n",
    "from pyspark.ml import Pipeline, Transformer\n",
    "from pyspark.ml.feature import Tokenizer\n",
    "from pyspark.ml.feature import RegexTokenizer\n",
    "from pyspark.ml.feature import Word2Vec\n",
    "from pyspark.ml.feature import CountVectorizer\n",
    "from pyspark.ml.feature import NGram\n",
    "from pyspark.ml.feature import HashingTF\n",
    "from pyspark.ml.feature import MinHashLSH\n",
    "from pyspark.ml.feature import BucketedRandomProjectionLSH\n",
    "\n",
    "from pyspark.ml.linalg import Vectors\n",
    "from pyspark.sql.functions import regexp_replace, trim, col, lower, when, size, lit, avg"
   ]
  },
  {
   "cell_type": "code",
   "execution_count": 2,
   "metadata": {},
   "outputs": [],
   "source": [
    "# Configuration\n",
    "\n",
    "cwd = os.getcwd()\n",
    "book_folder = \"/data/\"\n",
    "book1 = 'file://'+cwd+book_folder+\"01-Harry_Potter_and_the_Sorcerers_Stone.txt.gz\"\n",
    "book2 = 'file://'+cwd+book_folder+\"02-Harry_Potter_and_the_Chamber_of_Secrets.txt.gz\""
   ]
  },
  {
   "cell_type": "code",
   "execution_count": 3,
   "metadata": {},
   "outputs": [],
   "source": [
    "# Functions to remove ponctuation and empty lines\n",
    "\n",
    "def removePunctuation(column):\n",
    "    return trim(lower(regexp_replace(column,'[!,*)@#%(&$_?.^—]', ''))).alias('text')\n",
    "#[^a-zA-Z0-9]+\n",
    "# [^\\s+a-zA-Z0-9]\n",
    "\n",
    "\n",
    "class RemoveEmptyLines(Transformer):\n",
    "    def __init__(self, column: StringType() ):\n",
    "        super(RemoveEmptyLines, self).__init__()\n",
    "        self.column = column\n",
    "\n",
    "    def _transform(self, df: DataFrame) -> DataFrame:\n",
    "        return df.withColumn(self.column, when(size(col(self.column)) == 0, lit(None)).otherwise(col(self.column))).na.drop()\n",
    "        #return df"
   ]
  },
  {
   "cell_type": "markdown",
   "metadata": {},
   "source": [
    "## Create Spark Session"
   ]
  },
  {
   "cell_type": "code",
   "execution_count": 4,
   "metadata": {},
   "outputs": [],
   "source": [
    "# Create local Spark session\n",
    "sc = SparkSession.builder\\\n",
    "     .appName(\"SparkSimilarityLSH\")\\\n",
    "     .master(\"local[*]\") \\\n",
    "     .getOrCreate()\n",
    "\n",
    "start_time = time.time()"
   ]
  },
  {
   "cell_type": "markdown",
   "metadata": {},
   "source": [
    "### Reading Data"
   ]
  },
  {
   "cell_type": "code",
   "execution_count": 5,
   "metadata": {},
   "outputs": [
    {
     "name": "stdout",
     "output_type": "stream",
     "text": [
      "+----------------------------------------------------------------------------------------------------------------------------------------------------------------------------------------------------------------------------------------------------------------------------------------------------------------------------------------------------------------------------------------------------------------------------------------------------------------------------------------------------------------------------------------------------------------------------------------------------------------------------------------------------------------------------------------------------------------------------------------------------------------------------+\n",
      "|value                                                                                                                                                                                                                                                                                                                                                                                                                                                                                                                                                                                                                                                                                                                                                                       |\n",
      "+----------------------------------------------------------------------------------------------------------------------------------------------------------------------------------------------------------------------------------------------------------------------------------------------------------------------------------------------------------------------------------------------------------------------------------------------------------------------------------------------------------------------------------------------------------------------------------------------------------------------------------------------------------------------------------------------------------------------------------------------------------------------------+\n",
      "|M r. and Mrs. Dursley, of number four, Privet Drive, were proud to say that they were perfectly normal, thank you very much. They were the last people you’d expect to be involved in anything strange or mysterious, because they just didn’t hold with such nonsense.                                                                                                                                                                                                                                                                                                                                                                                                                                                                                                     |\n",
      "|                                                                                                                                                                                                                                                                                                                                                                                                                                                                                                                                                                                                                                                                                                                                                                            |\n",
      "|Mr. Dursley was the director of a firm called Grunnings, which made drills. He was a big, beefy man with hardly any neck, although he did have a very large mustache. Mrs. Dursley was thin and blonde and had nearly twice the usual amount of neck, which came in very useful as she spent so much of her time craning over garden fences, spying on the neighbors. The Dursleys had a small son called Dudley and in their opinion there was no finer boy anywhere.                                                                                                                                                                                                                                                                                                      |\n",
      "|                                                                                                                                                                                                                                                                                                                                                                                                                                                                                                                                                                                                                                                                                                                                                                            |\n",
      "|The Dursleys had everything they wanted, but they also had a secret, and their greatest fear was that somebody would discover it. They didn’t think they could bear it if anyone found out about the Potters. Mrs. Potter was Mrs. Dursley’s sister, but they hadn’t met for several years; in fact, Mrs. Dursley pretended she didn’t have a sister, because her sister and her good-for-nothing husband were as unDursleyish as it was possible to be. The Dursleys shuddered to think what the neighbors would say if the Potters arrived in the street. The Dursleys knew that the Potters had a small son, too, but they had never even seen him. This boy was another good reason for keeping the Potters away; they didn’t want Dudley mixing with a child like that.|\n",
      "|                                                                                                                                                                                                                                                                                                                                                                                                                                                                                                                                                                                                                                                                                                                                                                            |\n",
      "|When Mr. and Mrs. Dursley woke up on the dull, gray Tuesday our story starts, there was nothing about the cloudy sky outside to suggest that strange and mysterious things would soon be happening all over the country. Mr. Dursley hummed as he picked out his most boring tie for work, and Mrs. Dursley gossiped away happily as she wrestled a screaming Dudley into his high chair.                                                                                                                                                                                                                                                                                                                                                                                   |\n",
      "|                                                                                                                                                                                                                                                                                                                                                                                                                                                                                                                                                                                                                                                                                                                                                                            |\n",
      "|None of them noticed a large, tawny owl flutter past the window.                                                                                                                                                                                                                                                                                                                                                                                                                                                                                                                                                                                                                                                                                                            |\n",
      "|                                                                                                                                                                                                                                                                                                                                                                                                                                                                                                                                                                                                                                                                                                                                                                            |\n",
      "+----------------------------------------------------------------------------------------------------------------------------------------------------------------------------------------------------------------------------------------------------------------------------------------------------------------------------------------------------------------------------------------------------------------------------------------------------------------------------------------------------------------------------------------------------------------------------------------------------------------------------------------------------------------------------------------------------------------------------------------------------------------------------+\n",
      "only showing top 10 rows\n",
      "\n",
      "+----------------------------------------------------------------------------------------------------------------------------------------------------------------------------------------------------------------------------------------------------------------------------------------------------------------------------------------------------------------------------------------------------------------------------------------------------------------------------------------------------------------------------------------------------------------------------------------------------------------------------------------------------------------------------------------------------------------------------------------------------------------------------------------------------------------------------------------------------------------------------------------------------------------------------------------------------------------------------------------------------------------+\n",
      "|value                                                                                                                                                                                                                                                                                                                                                                                                                                                                                                                                                                                                                                                                                                                                                                                                                                                                                                                                                                                                           |\n",
      "+----------------------------------------------------------------------------------------------------------------------------------------------------------------------------------------------------------------------------------------------------------------------------------------------------------------------------------------------------------------------------------------------------------------------------------------------------------------------------------------------------------------------------------------------------------------------------------------------------------------------------------------------------------------------------------------------------------------------------------------------------------------------------------------------------------------------------------------------------------------------------------------------------------------------------------------------------------------------------------------------------------------+\n",
      "|M r. and Mrs. Dursley, of number four, Privet Drive, were proud to say that they were perfectly normal, thank you very much. They were the last people you’d expect to be involved in anything strange or mysterious, because they just didn’t hold with such nonsense.                                                                                                                                                                                                                                                                                                                                                                                                                                                                                                                                                                                                                                                                                                                                         |\n",
      "|Mr. Dursley was the director of a firm called Grunnings, which made drills. He was a big, beefy man with hardly any neck, although he did have a very large mustache. Mrs. Dursley was thin and blonde and had nearly twice the usual amount of neck, which came in very useful as she spent so much of her time craning over garden fences, spying on the neighbors. The Dursleys had a small son called Dudley and in their opinion there was no finer boy anywhere.                                                                                                                                                                                                                                                                                                                                                                                                                                                                                                                                          |\n",
      "|The Dursleys had everything they wanted, but they also had a secret, and their greatest fear was that somebody would discover it. They didn’t think they could bear it if anyone found out about the Potters. Mrs. Potter was Mrs. Dursley’s sister, but they hadn’t met for several years; in fact, Mrs. Dursley pretended she didn’t have a sister, because her sister and her good-for-nothing husband were as unDursleyish as it was possible to be. The Dursleys shuddered to think what the neighbors would say if the Potters arrived in the street. The Dursleys knew that the Potters had a small son, too, but they had never even seen him. This boy was another good reason for keeping the Potters away; they didn’t want Dudley mixing with a child like that.                                                                                                                                                                                                                                    |\n",
      "|When Mr. and Mrs. Dursley woke up on the dull, gray Tuesday our story starts, there was nothing about the cloudy sky outside to suggest that strange and mysterious things would soon be happening all over the country. Mr. Dursley hummed as he picked out his most boring tie for work, and Mrs. Dursley gossiped away happily as she wrestled a screaming Dudley into his high chair.                                                                                                                                                                                                                                                                                                                                                                                                                                                                                                                                                                                                                       |\n",
      "|None of them noticed a large, tawny owl flutter past the window.                                                                                                                                                                                                                                                                                                                                                                                                                                                                                                                                                                                                                                                                                                                                                                                                                                                                                                                                                |\n",
      "|At half past eight, Mr. Dursley picked up his briefcase, pecked Mrs. Dursley on the cheek, and tried to kiss Dudley good-bye but missed, because Dudley was now having a tantrum and throwing his cereal at the walls.                                                                                                                                                                                                                                                                                                                                                                                                                                                                                                                                                                                                                                                                                                                                                                                          |\n",
      "|“Little tyke,” chortled Mr. Dursley as he left the house. He got into his car and backed out of number four’s drive.                                                                                                                                                                                                                                                                                                                                                                                                                                                                                                                                                                                                                                                                                                                                                                                                                                                                                            |\n",
      "|It was on the corner of the street that he noticed the first sign of something peculiar — a cat reading a map. For a second, Mr. Dursley didn’t realize what he had seen — then he jerked his head around to look again. There was a tabby cat standing on the corner of Privet Drive, but there wasn’t a map in sight. What could he have been thinking of? It must have been a trick of the light. Mr. Dursley blinked and stared at the cat. It stared back. As Mr. Dursley drove around the corner and up the road, he watched the cat in his mirror. It was now reading the sign that said Privet Drive — no, looking at the sign; cats couldn’t read maps or signs. Mr. Dursley gave himself a little shake and put the cat out of his mind. As he drove toward town he thought of nothing except a large order of drills he was hoping to get that day.                                                                                                                                                  |\n",
      "|But on the edge of town, drills were driven out of his mind by something else. As he sat in the usual morning traffic jam, he couldn’t help noticing that there seemed to be a lot of strangely dressed people about. People in cloaks. Mr. Dursley couldn’t bear people who dressed in funny clothes — the getups you saw on young people! He supposed this was some stupid new fashion. He drummed his fingers on the steering wheel and his eyes fell on a huddle of these weirdos standing quite close by. They were whispering excitedly together. Mr. Dursley was enraged to see that a couple of them weren’t young at all; why, that man had to be older than he was, and wearing an emerald-green cloak! The nerve of him! But then it struck Mr. Dursley that this was probably some silly stunt —these people were obviously collecting for something…yes, that would be it. The traffic moved on and a few minutes later, Mr. Dursley arrived in the Grunnings parking lot, his mind back on drills.|\n",
      "|Mr. Dursley always sat with his back to the window in his office on the ninth floor. If he hadn’t, he might have found it harder to concentrate on drills that morning. He didn’t see the owls swooping past in broad daylight, though people down in the street did; they pointed and gazed open-mouthed as owl after owl sped overhead. Most of them had never seen an owl even at nighttime. Mr. Dursley, however, had a perfectly normal, owl-free morning. He yelled at five different people. He made several important telephone calls and shouted a bit more. He was in a very good mood until lunchtime, when he thought he’d stretch his legs and walk across the road to buy himself a bun from the bakery.                                                                                                                                                                                                                                                                                          |\n",
      "+----------------------------------------------------------------------------------------------------------------------------------------------------------------------------------------------------------------------------------------------------------------------------------------------------------------------------------------------------------------------------------------------------------------------------------------------------------------------------------------------------------------------------------------------------------------------------------------------------------------------------------------------------------------------------------------------------------------------------------------------------------------------------------------------------------------------------------------------------------------------------------------------------------------------------------------------------------------------------------------------------------------+\n",
      "only showing top 10 rows\n",
      "\n",
      "+----------------------------------------------------------------------------------------------------------------------------------------------------------------------------------------------------------------------------------------------------------------------------------------------------------------------------------------------------------------------------------------------------------------------------------------------------------------------------------------------------------------------------------------------------------------------------------------------------------------------------------------------------------------------------------------------------------------------------------------------------------------------------------------------------------------------------------------------------------------------------------------------------------------------------------------------------------------------------------------+\n",
      "|text                                                                                                                                                                                                                                                                                                                                                                                                                                                                                                                                                                                                                                                                                                                                                                                                                                                                                                                                                                                    |\n",
      "+----------------------------------------------------------------------------------------------------------------------------------------------------------------------------------------------------------------------------------------------------------------------------------------------------------------------------------------------------------------------------------------------------------------------------------------------------------------------------------------------------------------------------------------------------------------------------------------------------------------------------------------------------------------------------------------------------------------------------------------------------------------------------------------------------------------------------------------------------------------------------------------------------------------------------------------------------------------------------------------+\n",
      "|m r and mrs dursley of number four privet drive were proud to say that they were perfectly normal thank you very much they were the last people you’d expect to be involved in anything strange or mysterious because they just didn’t hold with such nonsense                                                                                                                                                                                                                                                                                                                                                                                                                                                                                                                                                                                                                                                                                                                          |\n",
      "|mr dursley was the director of a firm called grunnings which made drills he was a big beefy man with hardly any neck although he did have a very large mustache mrs dursley was thin and blonde and had nearly twice the usual amount of neck which came in very useful as she spent so much of her time craning over garden fences spying on the neighbors the dursleys had a small son called dudley and in their opinion there was no finer boy anywhere                                                                                                                                                                                                                                                                                                                                                                                                                                                                                                                             |\n",
      "|the dursleys had everything they wanted but they also had a secret and their greatest fear was that somebody would discover it they didn’t think they could bear it if anyone found out about the potters mrs potter was mrs dursley’s sister but they hadn’t met for several years; in fact mrs dursley pretended she didn’t have a sister because her sister and her good-for-nothing husband were as undursleyish as it was possible to be the dursleys shuddered to think what the neighbors would say if the potters arrived in the street the dursleys knew that the potters had a small son too but they had never even seen him this boy was another good reason for keeping the potters away; they didn’t want dudley mixing with a child like that                                                                                                                                                                                                                            |\n",
      "|when mr and mrs dursley woke up on the dull gray tuesday our story starts there was nothing about the cloudy sky outside to suggest that strange and mysterious things would soon be happening all over the country mr dursley hummed as he picked out his most boring tie for work and mrs dursley gossiped away happily as she wrestled a screaming dudley into his high chair                                                                                                                                                                                                                                                                                                                                                                                                                                                                                                                                                                                                        |\n",
      "|none of them noticed a large tawny owl flutter past the window                                                                                                                                                                                                                                                                                                                                                                                                                                                                                                                                                                                                                                                                                                                                                                                                                                                                                                                          |\n",
      "|at half past eight mr dursley picked up his briefcase pecked mrs dursley on the cheek and tried to kiss dudley good-bye but missed because dudley was now having a tantrum and throwing his cereal at the walls                                                                                                                                                                                                                                                                                                                                                                                                                                                                                                                                                                                                                                                                                                                                                                         |\n",
      "|“little tyke” chortled mr dursley as he left the house he got into his car and backed out of number four’s drive                                                                                                                                                                                                                                                                                                                                                                                                                                                                                                                                                                                                                                                                                                                                                                                                                                                                        |\n",
      "|it was on the corner of the street that he noticed the first sign of something peculiar  a cat reading a map for a second mr dursley didn’t realize what he had seen  then he jerked his head around to look again there was a tabby cat standing on the corner of privet drive but there wasn’t a map in sight what could he have been thinking of it must have been a trick of the light mr dursley blinked and stared at the cat it stared back as mr dursley drove around the corner and up the road he watched the cat in his mirror it was now reading the sign that said privet drive  no looking at the sign; cats couldn’t read maps or signs mr dursley gave himself a little shake and put the cat out of his mind as he drove toward town he thought of nothing except a large order of drills he was hoping to get that day                                                                                                                                                |\n",
      "|but on the edge of town drills were driven out of his mind by something else as he sat in the usual morning traffic jam he couldn’t help noticing that there seemed to be a lot of strangely dressed people about people in cloaks mr dursley couldn’t bear people who dressed in funny clothes  the getups you saw on young people he supposed this was some stupid new fashion he drummed his fingers on the steering wheel and his eyes fell on a huddle of these weirdos standing quite close by they were whispering excitedly together mr dursley was enraged to see that a couple of them weren’t young at all; why that man had to be older than he was and wearing an emerald-green cloak the nerve of him but then it struck mr dursley that this was probably some silly stunt these people were obviously collecting for something…yes that would be it the traffic moved on and a few minutes later mr dursley arrived in the grunnings parking lot his mind back on drills|\n",
      "|mr dursley always sat with his back to the window in his office on the ninth floor if he hadn’t he might have found it harder to concentrate on drills that morning he didn’t see the owls swooping past in broad daylight though people down in the street did; they pointed and gazed open-mouthed as owl after owl sped overhead most of them had never seen an owl even at nighttime mr dursley however had a perfectly normal owl-free morning he yelled at five different people he made several important telephone calls and shouted a bit more he was in a very good mood until lunchtime when he thought he’d stretch his legs and walk across the road to buy himself a bun from the bakery                                                                                                                                                                                                                                                                                  |\n",
      "+----------------------------------------------------------------------------------------------------------------------------------------------------------------------------------------------------------------------------------------------------------------------------------------------------------------------------------------------------------------------------------------------------------------------------------------------------------------------------------------------------------------------------------------------------------------------------------------------------------------------------------------------------------------------------------------------------------------------------------------------------------------------------------------------------------------------------------------------------------------------------------------------------------------------------------------------------------------------------------------+\n",
      "only showing top 10 rows\n",
      "\n"
     ]
    }
   ],
   "source": [
    "# Read de book file: Ulysses \n",
    "text_1 = sc.read.text(book1)\n",
    "text_1.show(10, truncate = False)\n",
    "text_1 = text_1.filter(\"value != ''\")\n",
    "text_1.show(10, truncate = False)\n",
    "text_1 = text_1.select(removePunctuation(col('value')))\n",
    "text_1 = text_1.withColumnRenamed('value', 'text')\n",
    "text_1.show(10, truncate = False)"
   ]
  },
  {
   "cell_type": "code",
   "execution_count": 6,
   "metadata": {},
   "outputs": [
    {
     "ename": "NameError",
     "evalue": "name 'dubliners' is not defined",
     "output_type": "error",
     "traceback": [
      "\u001b[0;31m---------------------------------------------------------------------------\u001b[0m",
      "\u001b[0;31mNameError\u001b[0m                                 Traceback (most recent call last)",
      "Cell \u001b[0;32mIn[6], line 2\u001b[0m\n\u001b[1;32m      1\u001b[0m \u001b[38;5;66;03m# Read de book file:  Dubliner\u001b[39;00m\n\u001b[0;32m----> 2\u001b[0m text_2 \u001b[38;5;241m=\u001b[39m sc\u001b[38;5;241m.\u001b[39mread\u001b[38;5;241m.\u001b[39mtext(\u001b[43mdubliners\u001b[49m)\n\u001b[1;32m      3\u001b[0m text_2 \u001b[38;5;241m=\u001b[39m text_2\u001b[38;5;241m.\u001b[39mfilter(\u001b[38;5;124m\"\u001b[39m\u001b[38;5;124mvalue != \u001b[39m\u001b[38;5;124m'\u001b[39m\u001b[38;5;124m'\u001b[39m\u001b[38;5;124m\"\u001b[39m)\n\u001b[1;32m      4\u001b[0m text_2 \u001b[38;5;241m=\u001b[39m text_2\u001b[38;5;241m.\u001b[39mselect(removePunctuation(col(\u001b[38;5;124m'\u001b[39m\u001b[38;5;124mvalue\u001b[39m\u001b[38;5;124m'\u001b[39m)))\n",
      "\u001b[0;31mNameError\u001b[0m: name 'dubliners' is not defined"
     ]
    }
   ],
   "source": [
    "# Read de book file:  Dubliner\n",
    "text_2 = sc.read.text(dubliners)\n",
    "text_2 = text_2.filter(\"value != ''\")\n",
    "text_2 = text_2.select(removePunctuation(col('value')))\n",
    "text_2 = text_2.withColumnRenamed('value', 'text')\n",
    "text_2.show(10, truncate = False)"
   ]
  },
  {
   "cell_type": "markdown",
   "metadata": {},
   "source": [
    "## Calculate Similarity\n",
    "\n",
    "### Tokenizer"
   ]
  },
  {
   "cell_type": "code",
   "execution_count": 7,
   "metadata": {},
   "outputs": [
    {
     "name": "stderr",
     "output_type": "stream",
     "text": [
      "<>:1: SyntaxWarning: invalid escape sequence '\\s'\n",
      "<>:1: SyntaxWarning: invalid escape sequence '\\s'\n",
      "/tmp/ipykernel_1139/3422413565.py:1: SyntaxWarning: invalid escape sequence '\\s'\n",
      "  tokenizer = RegexTokenizer(pattern='\\s+', inputCol=\"text\", outputCol=\"tokens\", minTokenLength=3, toLowercase=True)\n"
     ]
    },
    {
     "name": "stdout",
     "output_type": "stream",
     "text": [
      "+------------------------------------------------------------------+----------------------------------------------------------------------+\n",
      "|text                                                              |tokens                                                                |\n",
      "+------------------------------------------------------------------+----------------------------------------------------------------------+\n",
      "|the project gutenberg ebook of ulysses by james joyce             |[the, project, gutenberg, ebook, ulysses, james, joyce]               |\n",
      "|this ebook is for the use of anyone anywhere at no cost and with  |[this, ebook, for, the, use, anyone, anywhere, cost, and, with]       |\n",
      "|almost no restrictions whatsoever you may copy it give it away or |[almost, restrictions, whatsoever, you, may, copy, give, away]        |\n",
      "|reuse it under the terms of the project gutenberg license included|[reuse, under, the, terms, the, project, gutenberg, license, included]|\n",
      "|with this ebook or online at wwwgutenbergorg                      |[with, this, ebook, online, wwwgutenbergorg]                          |\n",
      "|title ulysses                                                     |[title, ulysses]                                                      |\n",
      "|author james joyce                                                |[author, james, joyce]                                                |\n",
      "|release date august 1 2008 ebook 4300                             |[release, date, august, 2008, ebook, 4300]                            |\n",
      "|last updated october 30 2018                                      |[last, updated, october, 2018]                                        |\n",
      "|language english                                                  |[language, english]                                                   |\n",
      "|character set encoding utf8                                       |[character, set, encoding, utf8]                                      |\n",
      "|start of this project gutenberg ebook ulysses                     |[start, this, project, gutenberg, ebook, ulysses]                     |\n",
      "|produced by col choat and david widger                            |[produced, col, choat, and, david, widger]                            |\n",
      "|cover                                                             |[cover]                                                               |\n",
      "|ulysses                                                           |[ulysses]                                                             |\n",
      "|by james joyce                                                    |[james, joyce]                                                        |\n",
      "|contents                                                          |[contents]                                                            |\n",
      "|i                                                                 |[]                                                                    |\n",
      "|1                                                                 |[]                                                                    |\n",
      "|2                                                                 |[]                                                                    |\n",
      "+------------------------------------------------------------------+----------------------------------------------------------------------+\n",
      "only showing top 20 rows\n",
      "\n"
     ]
    }
   ],
   "source": [
    "tokenizer = RegexTokenizer(pattern='\\s+', inputCol=\"text\", outputCol=\"tokens\", minTokenLength=3, toLowercase=True)\n",
    "\n",
    "tokenData = tokenizer.transform(text_1)\n",
    "tokenData.show(truncate = False)"
   ]
  },
  {
   "cell_type": "markdown",
   "metadata": {},
   "source": [
    "### Shingling"
   ]
  },
  {
   "cell_type": "code",
   "execution_count": 8,
   "metadata": {},
   "outputs": [
    {
     "name": "stdout",
     "output_type": "stream",
     "text": [
      "+---------------------------------------------------------------------+------------------------------------------------------------------------------+-----------------------------------------------------------------------------------------------------------------------------------------------------------------------------------+\n",
      "|text                                                                 |tokens                                                                        |ngrams                                                                                                                                                                             |\n",
      "+---------------------------------------------------------------------+------------------------------------------------------------------------------+-----------------------------------------------------------------------------------------------------------------------------------------------------------------------------------+\n",
      "|the project gutenberg ebook of ulysses by james joyce                |[the, project, gutenberg, ebook, ulysses, james, joyce]                       |[the project gutenberg, project gutenberg ebook, gutenberg ebook ulysses, ebook ulysses james, ulysses james joyce]                                                                |\n",
      "|this ebook is for the use of anyone anywhere at no cost and with     |[this, ebook, for, the, use, anyone, anywhere, cost, and, with]               |[this ebook for, ebook for the, for the use, the use anyone, use anyone anywhere, anyone anywhere cost, anywhere cost and, cost and with]                                          |\n",
      "|almost no restrictions whatsoever you may copy it give it away or    |[almost, restrictions, whatsoever, you, may, copy, give, away]                |[almost restrictions whatsoever, restrictions whatsoever you, whatsoever you may, you may copy, may copy give, copy give away]                                                     |\n",
      "|reuse it under the terms of the project gutenberg license included   |[reuse, under, the, terms, the, project, gutenberg, license, included]        |[reuse under the, under the terms, the terms the, terms the project, the project gutenberg, project gutenberg license, gutenberg license included]                                 |\n",
      "|with this ebook or online at wwwgutenbergorg                         |[with, this, ebook, online, wwwgutenbergorg]                                  |[with this ebook, this ebook online, ebook online wwwgutenbergorg]                                                                                                                 |\n",
      "|author james joyce                                                   |[author, james, joyce]                                                        |[author james joyce]                                                                                                                                                               |\n",
      "|release date august 1 2008 ebook 4300                                |[release, date, august, 2008, ebook, 4300]                                    |[release date august, date august 2008, august 2008 ebook, 2008 ebook 4300]                                                                                                        |\n",
      "|last updated october 30 2018                                         |[last, updated, october, 2018]                                                |[last updated october, updated october 2018]                                                                                                                                       |\n",
      "|character set encoding utf8                                          |[character, set, encoding, utf8]                                              |[character set encoding, set encoding utf8]                                                                                                                                        |\n",
      "|start of this project gutenberg ebook ulysses                        |[start, this, project, gutenberg, ebook, ulysses]                             |[start this project, this project gutenberg, project gutenberg ebook, gutenberg ebook ulysses]                                                                                     |\n",
      "|produced by col choat and david widger                               |[produced, col, choat, and, david, widger]                                    |[produced col choat, col choat and, choat and david, and david widger]                                                                                                             |\n",
      "|stately plump buck mulligan came from the stairhead bearing a bowl of|[stately, plump, buck, mulligan, came, from, the, stairhead, bearing, bowl]   |[stately plump buck, plump buck mulligan, buck mulligan came, mulligan came from, came from the, from the stairhead, the stairhead bearing, stairhead bearing bowl]                |\n",
      "|lather on which a mirror and a razor lay crossed a yellow            |[lather, which, mirror, and, razor, lay, crossed, yellow]                     |[lather which mirror, which mirror and, mirror and razor, and razor lay, razor lay crossed, lay crossed yellow]                                                                    |\n",
      "|dressinggown ungirdled was sustained gently behind him on the mild   |[dressinggown, ungirdled, was, sustained, gently, behind, him, the, mild]     |[dressinggown ungirdled was, ungirdled was sustained, was sustained gently, sustained gently behind, gently behind him, behind him the, him the mild]                              |\n",
      "|morning air he held the bowl aloft and intoned                       |[morning, air, held, the, bowl, aloft, and, intoned]                          |[morning air held, air held the, held the bowl, the bowl aloft, bowl aloft and, aloft and intoned]                                                                                 |\n",
      "|introibo ad altare dei                                               |[introibo, altare, dei]                                                       |[introibo altare dei]                                                                                                                                                              |\n",
      "|halted he peered down the dark winding stairs and called out coarsely|[halted, peered, down, the, dark, winding, stairs, and, called, out, coarsely]|[halted peered down, peered down the, down the dark, the dark winding, dark winding stairs, winding stairs and, stairs and called, and called out, called out coarsely]            |\n",
      "|come up kinch come up you fearful jesuit                             |[come, kinch, come, you, fearful, jesuit]                                     |[come kinch come, kinch come you, come you fearful, you fearful jesuit]                                                                                                            |\n",
      "|solemnly he came forward and mounted the round gunrest he faced about|[solemnly, came, forward, and, mounted, the, round, gunrest, faced, about]    |[solemnly came forward, came forward and, forward and mounted, and mounted the, mounted the round, the round gunrest, round gunrest faced, gunrest faced about]                    |\n",
      "|and blessed gravely thrice the tower the surrounding land and the    |[and, blessed, gravely, thrice, the, tower, the, surrounding, land, and, the] |[and blessed gravely, blessed gravely thrice, gravely thrice the, thrice the tower, the tower the, tower the surrounding, the surrounding land, surrounding land and, land and the]|\n",
      "+---------------------------------------------------------------------+------------------------------------------------------------------------------+-----------------------------------------------------------------------------------------------------------------------------------------------------------------------------------+\n",
      "only showing top 20 rows\n",
      "\n"
     ]
    }
   ],
   "source": [
    "ngram = NGram(n=3, inputCol=\"tokens\", outputCol=\"ngrams\")\n",
    "ngramData = ngram.transform(tokenData)\n",
    "\n",
    "rememptylines = RemoveEmptyLines(column = \"ngrams\")\n",
    "ngramData = rememptylines.transform(ngramData)\n",
    "\n",
    "ngramData.show(truncate=False)"
   ]
  },
  {
   "cell_type": "markdown",
   "metadata": {},
   "source": [
    "### Counting Hash"
   ]
  },
  {
   "cell_type": "code",
   "execution_count": 9,
   "metadata": {},
   "outputs": [
    {
     "name": "stdout",
     "output_type": "stream",
     "text": [
      "+--------------------+--------------------+--------------------+--------------------+\n",
      "|                text|              tokens|              ngrams|             vectors|\n",
      "+--------------------+--------------------+--------------------+--------------------+\n",
      "|the project guten...|[the, project, gu...|[the project gute...|(262144,[57299,74...|\n",
      "|this ebook is for...|[this, ebook, for...|[this ebook for, ...|(262144,[17652,18...|\n",
      "|almost no restric...|[almost, restrict...|[almost restricti...|(262144,[37352,11...|\n",
      "|reuse it under th...|[reuse, under, th...|[reuse under the,...|(262144,[74024,89...|\n",
      "|with this ebook o...|[with, this, eboo...|[with this ebook,...|(262144,[61204,17...|\n",
      "|  author james joyce|[author, james, j...|[author james joyce]|(262144,[190411],...|\n",
      "|release date augu...|[release, date, a...|[release date aug...|(262144,[63333,72...|\n",
      "|last updated octo...|[last, updated, o...|[last updated oct...|(262144,[25383,13...|\n",
      "|character set enc...|[character, set, ...|[character set en...|(262144,[27720,43...|\n",
      "|start of this pro...|[start, this, pro...|[start this proje...|(262144,[43146,15...|\n",
      "|produced by col c...|[produced, col, c...|[produced col cho...|(262144,[14037,15...|\n",
      "|stately plump buc...|[stately, plump, ...|[stately plump bu...|(262144,[11023,15...|\n",
      "|lather on which a...|[lather, which, m...|[lather which mir...|(262144,[31830,55...|\n",
      "|dressinggown ungi...|[dressinggown, un...|[dressinggown ung...|(262144,[29578,31...|\n",
      "|morning air he he...|[morning, air, he...|[morning air held...|(262144,[2582,626...|\n",
      "|introibo ad altar...|[introibo, altare...|[introibo altare ...|(262144,[96828],[...|\n",
      "|halted he peered ...|[halted, peered, ...|[halted peered do...|(262144,[24684,37...|\n",
      "|come up kinch com...|[come, kinch, com...|[come kinch come,...|(262144,[43090,92...|\n",
      "|solemnly he came ...|[solemnly, came, ...|[solemnly came fo...|(262144,[106167,1...|\n",
      "|and blessed grave...|[and, blessed, gr...|[and blessed grav...|(262144,[64415,66...|\n",
      "+--------------------+--------------------+--------------------+--------------------+\n",
      "only showing top 20 rows\n",
      "\n"
     ]
    }
   ],
   "source": [
    "hash_tf = HashingTF(inputCol=\"ngrams\", outputCol=\"vectors\")\n",
    "\n",
    "hashtfData = hash_tf.transform(ngramData)\n",
    "hashtfData.show() "
   ]
  },
  {
   "cell_type": "markdown",
   "metadata": {},
   "source": [
    "### Min-Hashing"
   ]
  },
  {
   "cell_type": "code",
   "execution_count": 10,
   "metadata": {},
   "outputs": [
    {
     "name": "stdout",
     "output_type": "stream",
     "text": [
      "+--------------------+--------------------+--------------------+--------------------+--------------------+\n",
      "|                text|              tokens|              ngrams|             vectors|                 lsh|\n",
      "+--------------------+--------------------+--------------------+--------------------+--------------------+\n",
      "|the project guten...|[the, project, gu...|[the project gute...|(262144,[57299,74...|[[5.36229329E8], ...|\n",
      "|this ebook is for...|[this, ebook, for...|[this ebook for, ...|(262144,[17652,18...|[[5.4838929E7], [...|\n",
      "|almost no restric...|[almost, restrict...|[almost restricti...|(262144,[37352,11...|[[6.70133526E8], ...|\n",
      "|reuse it under th...|[reuse, under, th...|[reuse under the,...|(262144,[74024,89...|[[1.65155346E8], ...|\n",
      "|with this ebook o...|[with, this, eboo...|[with this ebook,...|(262144,[61204,17...|[[8.36705138E8], ...|\n",
      "|  author james joyce|[author, james, j...|[author james joyce]|(262144,[190411],...|[[3.09315538E8], ...|\n",
      "|release date augu...|[release, date, a...|[release date aug...|(262144,[63333,72...|[[1.1495171E8], [...|\n",
      "|last updated octo...|[last, updated, o...|[last updated oct...|(262144,[25383,13...|[[1.214294069E9],...|\n",
      "|character set enc...|[character, set, ...|[character set en...|(262144,[27720,43...|[[4.8182401E8], [...|\n",
      "|start of this pro...|[start, this, pro...|[start this proje...|(262144,[43146,15...|[[1.348759836E9],...|\n",
      "|produced by col c...|[produced, col, c...|[produced col cho...|(262144,[14037,15...|[[5.6609895E7], [...|\n",
      "|stately plump buc...|[stately, plump, ...|[stately plump bu...|(262144,[11023,15...|[[4.2205437E7], [...|\n",
      "|lather on which a...|[lather, which, m...|[lather which mir...|(262144,[31830,55...|[[5.76425639E8], ...|\n",
      "|dressinggown ungi...|[dressinggown, un...|[dressinggown ung...|(262144,[29578,31...|[[7.0941862E7], [...|\n",
      "|morning air he he...|[morning, air, he...|[morning air held...|(262144,[2582,626...|[[1.67471364E8], ...|\n",
      "|introibo ad altar...|[introibo, altare...|[introibo altare ...|(262144,[96828],[...|[[1.945814413E9],...|\n",
      "|halted he peered ...|[halted, peered, ...|[halted peered do...|(262144,[24684,37...|[[1.2332204E8], [...|\n",
      "|come up kinch com...|[come, kinch, com...|[come kinch come,...|(262144,[43090,92...|[[6.0308095E8], [...|\n",
      "|solemnly he came ...|[solemnly, came, ...|[solemnly came fo...|(262144,[106167,1...|[[9.9982929E7], [...|\n",
      "|and blessed grave...|[and, blessed, gr...|[and blessed grav...|(262144,[64415,66...|[[2.77324392E8], ...|\n",
      "+--------------------+--------------------+--------------------+--------------------+--------------------+\n",
      "only showing top 20 rows\n",
      "\n"
     ]
    }
   ],
   "source": [
    "minhash = MinHashLSH(inputCol=\"vectors\", outputCol=\"lsh\", numHashTables=3).fit(hashtfData)\n",
    "\n",
    "minhashData = minhash.transform(hashtfData)\n",
    "minhashData.show() #truncate=False)"
   ]
  },
  {
   "cell_type": "markdown",
   "metadata": {},
   "source": [
    "#### Using Pipeline"
   ]
  },
  {
   "cell_type": "code",
   "execution_count": 11,
   "metadata": {},
   "outputs": [
    {
     "name": "stdout",
     "output_type": "stream",
     "text": [
      "+--------------------+--------------------+--------------------+--------------------+--------------------+\n",
      "|                text|              tokens|              ngrams|             vectors|                 lsh|\n",
      "+--------------------+--------------------+--------------------+--------------------+--------------------+\n",
      "|the project guten...|[the, project, gu...|[the project gute...|(262144,[57299,74...|[[5.36229329E8], ...|\n",
      "|this ebook is for...|[this, ebook, for...|[this ebook for, ...|(262144,[17652,18...|[[5.4838929E7], [...|\n",
      "|almost no restric...|[almost, restrict...|[almost restricti...|(262144,[37352,11...|[[6.70133526E8], ...|\n",
      "|reuse it under th...|[reuse, under, th...|[reuse under the,...|(262144,[74024,89...|[[1.65155346E8], ...|\n",
      "|with this ebook o...|[with, this, eboo...|[with this ebook,...|(262144,[61204,17...|[[8.36705138E8], ...|\n",
      "|  author james joyce|[author, james, j...|[author james joyce]|(262144,[190411],...|[[3.09315538E8], ...|\n",
      "|release date augu...|[release, date, a...|[release date aug...|(262144,[63333,72...|[[1.1495171E8], [...|\n",
      "|last updated octo...|[last, updated, o...|[last updated oct...|(262144,[25383,13...|[[1.214294069E9],...|\n",
      "|character set enc...|[character, set, ...|[character set en...|(262144,[27720,43...|[[4.8182401E8], [...|\n",
      "|start of this pro...|[start, this, pro...|[start this proje...|(262144,[43146,15...|[[1.348759836E9],...|\n",
      "|produced by col c...|[produced, col, c...|[produced col cho...|(262144,[14037,15...|[[5.6609895E7], [...|\n",
      "|stately plump buc...|[stately, plump, ...|[stately plump bu...|(262144,[11023,15...|[[4.2205437E7], [...|\n",
      "|lather on which a...|[lather, which, m...|[lather which mir...|(262144,[31830,55...|[[5.76425639E8], ...|\n",
      "|dressinggown ungi...|[dressinggown, un...|[dressinggown ung...|(262144,[29578,31...|[[7.0941862E7], [...|\n",
      "|morning air he he...|[morning, air, he...|[morning air held...|(262144,[2582,626...|[[1.67471364E8], ...|\n",
      "|introibo ad altar...|[introibo, altare...|[introibo altare ...|(262144,[96828],[...|[[1.945814413E9],...|\n",
      "|halted he peered ...|[halted, peered, ...|[halted peered do...|(262144,[24684,37...|[[1.2332204E8], [...|\n",
      "|come up kinch com...|[come, kinch, com...|[come kinch come,...|(262144,[43090,92...|[[6.0308095E8], [...|\n",
      "|solemnly he came ...|[solemnly, came, ...|[solemnly came fo...|(262144,[106167,1...|[[9.9982929E7], [...|\n",
      "|and blessed grave...|[and, blessed, gr...|[and blessed grav...|(262144,[64415,66...|[[2.77324392E8], ...|\n",
      "+--------------------+--------------------+--------------------+--------------------+--------------------+\n",
      "only showing top 20 rows\n",
      "\n"
     ]
    }
   ],
   "source": [
    "pipeline = Pipeline(stages=[\n",
    "            tokenizer,\n",
    "            ngram,\n",
    "            rememptylines,\n",
    "            hash_tf,\n",
    "            minhash\n",
    "        ])\n",
    "\n",
    "model= pipeline.fit(text_1)\n",
    "\n",
    "text_A = model.transform(text_1)\n",
    "text_B = model.transform(text_2)\n",
    "\n",
    "text_A.show()"
   ]
  },
  {
   "cell_type": "code",
   "execution_count": 12,
   "metadata": {},
   "outputs": [
    {
     "name": "stdout",
     "output_type": "stream",
     "text": [
      "+--------------------+--------------------+--------------------+--------------------+--------------------+\n",
      "|                text|              tokens|              ngrams|             vectors|                 lsh|\n",
      "+--------------------+--------------------+--------------------+--------------------+--------------------+\n",
      "|the project guten...|[the, project, gu...|[the project gute...|(262144,[74024,11...|[[2.6934767E7], [...|\n",
      "|this ebook is for...|[this, ebook, for...|[this ebook for, ...|(262144,[17652,18...|[[5.4838929E7], [...|\n",
      "|almost no restric...|[almost, restrict...|[almost restricti...|(262144,[37352,11...|[[6.70133526E8], ...|\n",
      "|reuse it under th...|[reuse, under, th...|[reuse under the,...|(262144,[74024,89...|[[1.65155346E8], ...|\n",
      "|with this ebook o...|[with, this, eboo...|[with this ebook,...|(262144,[61204,17...|[[8.36705138E8], ...|\n",
      "|  author james joyce|[author, james, j...|[author james joyce]|(262144,[190411],...|[[3.09315538E8], ...|\n",
      "|release date sept...|[release, date, s...|[release date sep...|(262144,[15252,62...|[[5.54324367E8], ...|\n",
      "|last updated janu...|[last, updated, j...|[last updated jan...|(262144,[215486,2...|[[7.9272737E7], [...|\n",
      "|character set enc...|[character, set, ...|[character set en...|(262144,[27720,43...|[[4.8182401E8], [...|\n",
      "|start of this pro...|[start, this, pro...|[start this proje...|(262144,[43146,11...|[[8.10846301E8], ...|\n",
      "|produced by david...|[produced, david,...|[produced david r...|(262144,[53627,96...|[[5.02486488E8], ...|\n",
      "|      after the race|  [after, the, race]|    [after the race]|(262144,[247370],...|[[3.40306502E8], ...|\n",
      "|  the boarding house|[the, boarding, h...|[the boarding house]|(262144,[127657],...|[[1.950136301E9],...|\n",
      "|ivy day in the co...|[ivy, day, the, c...|[ivy day the, day...|(262144,[5239,139...|[[2.70750718E8], ...|\n",
      "|there was no hope...|[there, was, hope...|[there was hope, ...|(262144,[117795,1...|[[2.07410746E8], ...|\n",
      "|after night i had...|[after, night, ha...|[after night had,...|(262144,[29148,10...|[[1.24531436E8], ...|\n",
      "|the lighted squar...|[the, lighted, sq...|[the lighted squa...|(262144,[7161,399...|[[4.3957132E7], [...|\n",
      "|lighted in the sa...|[lighted, the, sa...|[lighted the same...|(262144,[60179,14...|[[1.84368018E8], ...|\n",
      "|i would see the r...|[would, see, the,...|[would see the, s...|(262144,[37355,61...|[[9.9287389E7], [...|\n",
      "|that two candles ...|[that, two, candl...|[that two candles...|(262144,[20545,30...|[[3.7196268E7], [...|\n",
      "+--------------------+--------------------+--------------------+--------------------+--------------------+\n",
      "only showing top 20 rows\n",
      "\n"
     ]
    }
   ],
   "source": [
    "text_B.show()"
   ]
  },
  {
   "cell_type": "markdown",
   "metadata": {},
   "source": [
    "### Locality-Sensitive Hashing (LSH)"
   ]
  },
  {
   "cell_type": "code",
   "execution_count": 13,
   "metadata": {},
   "outputs": [
    {
     "name": "stdout",
     "output_type": "stream",
     "text": [
      "+--------------------+--------------------+------------------+\n",
      "|            datasetA|            datasetB|   JaccardDistance|\n",
      "+--------------------+--------------------+------------------+\n",
      "|{who are you laug...|{who are you char...|             0.875|\n",
      "|{so he starts tel...|{come in said mr ...|0.8571428571428572|\n",
      "|{so as to evoke a...|{approach us with...|0.8333333333333334|\n",
      "|{goodwin in a bow...|{here takes three...|0.8888888888888888|\n",
      "|{blooms thoughts ...|{for the little s...|0.8888888888888888|\n",
      "|{1f3 limited righ...|{1f4 except for t...|0.8181818181818181|\n",
      "|{wobbled a while ...|{childish white t...|              0.75|\n",
      "|{murphys my name ...|{bottles of stout...|0.8888888888888888|\n",
      "|{gutenbergtm elec...|{things that you ...|             0.875|\n",
      "|{this work you we...|{singers today as...|0.8888888888888888|\n",
      "|{are you going yo...|{eh are you going...|0.8888888888888888|\n",
      "|{no mr bloom said...|{the religious st...|0.8888888888888888|\n",
      "|{archbishop was i...|{what other tinke...|0.8888888888888888|\n",
      "|{ben dollard when...|{its well for you...|0.8333333333333334|\n",
      "|{sticks out a fli...|{just a small sli...|0.8888888888888888|\n",
      "|{1e4 do not unlin...|{immediate access...|0.8333333333333334|\n",
      "|{mr deasy shook h...|{thin hair at the...|0.8888888888888888|\n",
      "|{night in the ant...|{when mrs kearney...|               0.8|\n",
      "|{shift drenched w...|{discussed the je...|             0.875|\n",
      "|{works in complia...|{you comply with ...|0.8571428571428572|\n",
      "+--------------------+--------------------+------------------+\n",
      "only showing top 20 rows\n",
      "\n",
      "Similarity Ulysses x Dubliners =  16.37745827136011  %\n"
     ]
    }
   ],
   "source": [
    "rows_text_A = text_A.count()\n",
    "rows_text_B = text_B.count()\n",
    "\n",
    "# Show similarity with Jaccard Distance below 0.9  minhashData\n",
    "result_A_B = model.stages[-1].approxSimilarityJoin(text_A, text_B, 0.9, distCol=\"JaccardDistance\")\n",
    "result_A_B.show()\n",
    "\n",
    "rows_result_A_B = result_A_B.count()\n",
    "simil_index_AB = rows_result_A_B / rows_text_B * 100\n",
    "print(\"Similarity Ulysses x Dubliners = \",simil_index_AB, \" %\")"
   ]
  },
  {
   "cell_type": "code",
   "execution_count": 14,
   "metadata": {},
   "outputs": [
    {
     "name": "stdout",
     "output_type": "stream",
     "text": [
      "+--------------------+--------------------+---------------+\n",
      "|            datasetA|            datasetB|JaccardDistance|\n",
      "+--------------------+--------------------+---------------+\n",
      "|{lead him not int...|{lead him not int...|            0.0|\n",
      "|{anxiety in his e...|{anxiety in his e...|            0.0|\n",
      "|{stephen laid the...|{stephen laid the...|            0.0|\n",
      "|{have you the key...|{have you the key...|            0.0|\n",
      "|{haines sat down ...|{haines sat down ...|            0.0|\n",
      "|{i blow him out a...|{i blow him out a...|            0.0|\n",
      "|{that i make when...|{that i make when...|            0.0|\n",
      "|{memory fabled it...|{memory fabled it...|            0.0|\n",
      "|{rouge a blue fre...|{rouge a blue fre...|            0.0|\n",
      "|{orangeblossoms d...|{orangeblossoms d...|            0.0|\n",
      "|{something he bur...|{something he bur...|            0.0|\n",
      "|{theres a smell o...|{theres a smell o...|            0.0|\n",
      "|{happened of cour...|{happened of cour...|            0.0|\n",
      "|{plumtrees potted...|{plumtrees potted...|            0.0|\n",
      "|{municipal funera...|{municipal funera...|            0.0|\n",
      "|{o that be damned...|{o that be damned...|            0.0|\n",
      "|{dunphys mr power...|{dunphys mr power...|            0.0|\n",
      "|{world condole wi...|{world condole wi...|            0.0|\n",
      "|{clay brown damp ...|{clay brown damp ...|            0.0|\n",
      "|{that other world...|{that other world...|            0.0|\n",
      "+--------------------+--------------------+---------------+\n",
      "only showing top 20 rows\n",
      "\n",
      "Similarity Ulysses x Ulysses =  100.15845217246269  %\n"
     ]
    }
   ],
   "source": [
    "# Show similarity with Jaccard Distance below 0.5\n",
    "result_A_A = model.stages[-1].approxSimilarityJoin(text_A, text_A, 0.5, distCol=\"JaccardDistance\")\n",
    "result_A_A .show()\n",
    "\n",
    "simil_index_AA = result_A_A.count() / rows_text_A * 100\n",
    "print(\"Similarity Ulysses x Ulysses = \",simil_index_AA, \" %\")"
   ]
  },
  {
   "cell_type": "markdown",
   "metadata": {},
   "source": [
    "## Finishing"
   ]
  },
  {
   "cell_type": "code",
   "execution_count": 15,
   "metadata": {},
   "outputs": [
    {
     "name": "stdout",
     "output_type": "stream",
     "text": [
      "--- Execution time: 41.434675216674805 seconds ---\n"
     ]
    }
   ],
   "source": [
    "print(\"--- Execution time: %s seconds ---\" % (time.time() - start_time))\n",
    "# Stop Spark\n",
    "sc.stop()"
   ]
  }
 ],
 "metadata": {
  "kernelspec": {
   "display_name": "Python 3 (ipykernel)",
   "language": "python",
   "name": "python3"
  },
  "language_info": {
   "codemirror_mode": {
    "name": "ipython",
    "version": 3
   },
   "file_extension": ".py",
   "mimetype": "text/x-python",
   "name": "python",
   "nbconvert_exporter": "python",
   "pygments_lexer": "ipython3",
   "version": "3.12.8"
  }
 },
 "nbformat": 4,
 "nbformat_minor": 4
}
