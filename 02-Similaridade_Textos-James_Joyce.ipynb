{
 "cells": [
  {
   "cell_type": "markdown",
   "metadata": {},
   "source": [
    "# Exemplo 02: Similaridade de Textos: LSH\n",
    "\n",
    "## Locality-Sensitive Hashing (LSH) Algorithms\n",
    "\n",
    "LSH for Euclidean distance metrics. The input is a dense or sparse vectors, each of which represents a point in the Euclidean distance space. The output will be vectors of configurable dimension. Hash values in the same dimension are calculated by the same hash function."
   ]
  },
  {
   "cell_type": "code",
   "execution_count": 1,
   "metadata": {},
   "outputs": [],
   "source": [
    "# Start Spark environment\n",
    "import findspark\n",
    "findspark.init()"
   ]
  },
  {
   "cell_type": "code",
   "execution_count": 2,
   "metadata": {},
   "outputs": [],
   "source": [
    "# Load Spark Library\n",
    "from pyspark import SparkContext\n",
    "from pyspark.sql import SparkSession\n",
    "from pyspark.sql import DataFrame\n",
    "from pyspark.sql.types import *\n",
    "\n",
    "import time, os, string\n",
    "\n",
    "from pyspark.ml import Pipeline, Transformer\n",
    "from pyspark.ml.feature import Tokenizer\n",
    "from pyspark.ml.feature import RegexTokenizer\n",
    "from pyspark.ml.feature import Word2Vec\n",
    "from pyspark.ml.feature import CountVectorizer\n",
    "from pyspark.ml.feature import NGram\n",
    "from pyspark.ml.feature import HashingTF\n",
    "from pyspark.ml.feature import MinHashLSH\n",
    "from pyspark.ml.feature import BucketedRandomProjectionLSH\n",
    "\n",
    "from pyspark.ml.linalg import Vectors\n",
    "from pyspark.sql.functions import regexp_replace, trim, col, lower, when, size, lit, avg"
   ]
  },
  {
   "cell_type": "code",
   "execution_count": 3,
   "metadata": {},
   "outputs": [],
   "source": [
    "# Configuration\n",
    "\n",
    "cwd = os.getcwd()\n",
    "book_folder = \"/data/\"\n",
    "dubliners = 'file://'+cwd+book_folder+\"Dubliners_James_Joyce.txt.gz\"\n",
    "ulysses= 'file://'+cwd+book_folder+\"Ulysses_James_Joyce.txt.gz\""
   ]
  },
  {
   "cell_type": "code",
   "execution_count": 4,
   "metadata": {},
   "outputs": [],
   "source": [
    "# Functions to remove ponctuation and empty lines\n",
    "\n",
    "def removePunctuation(column):\n",
    "    return trim(lower(regexp_replace(column,'[^\\sa-zA-Z0-9]',''))).alias('text')\n",
    "\n",
    "class RemoveEmptyLines(Transformer):\n",
    "    def __init__(self, column: StringType() ):\n",
    "        super(RemoveEmptyLines, self).__init__()\n",
    "        self.column = column\n",
    "\n",
    "    def _transform(self, df: DataFrame) -> DataFrame:\n",
    "        return df.withColumn(self.column, when(size(col(self.column)) == 0, lit(None)).otherwise(col(self.column))).na.drop()\n",
    "        #return df"
   ]
  },
  {
   "cell_type": "markdown",
   "metadata": {},
   "source": [
    "## Create Spark Session"
   ]
  },
  {
   "cell_type": "code",
   "execution_count": 5,
   "metadata": {},
   "outputs": [],
   "source": [
    "# Create local Spark session\n",
    "spark = SparkSession.builder\\\n",
    "        .appName(\"SparkSimilarityLSH\")\\\n",
    "        .master(\"local[*]\") \\\n",
    "        .getOrCreate()\n",
    "\n",
    "start_time = time.time()"
   ]
  },
  {
   "cell_type": "markdown",
   "metadata": {},
   "source": [
    "### Reading Data"
   ]
  },
  {
   "cell_type": "code",
   "execution_count": 6,
   "metadata": {},
   "outputs": [
    {
     "name": "stdout",
     "output_type": "stream",
     "text": [
      "+-------------------------------------------------------------------+\n",
      "|value                                                              |\n",
      "+-------------------------------------------------------------------+\n",
      "|                                                                   |\n",
      "|The Project Gutenberg EBook of Ulysses, by James Joyce             |\n",
      "|                                                                   |\n",
      "|This eBook is for the use of anyone anywhere at no cost and with   |\n",
      "|almost no restrictions whatsoever. You may copy it, give it away or|\n",
      "|re-use it under the terms of the Project Gutenberg License included|\n",
      "|with this eBook or online at www.gutenberg.org                     |\n",
      "|                                                                   |\n",
      "|                                                                   |\n",
      "|Title: Ulysses                                                     |\n",
      "+-------------------------------------------------------------------+\n",
      "only showing top 10 rows\n",
      "\n",
      "+-------------------------------------------------------------------+\n",
      "|value                                                              |\n",
      "+-------------------------------------------------------------------+\n",
      "|The Project Gutenberg EBook of Ulysses, by James Joyce             |\n",
      "|This eBook is for the use of anyone anywhere at no cost and with   |\n",
      "|almost no restrictions whatsoever. You may copy it, give it away or|\n",
      "|re-use it under the terms of the Project Gutenberg License included|\n",
      "|with this eBook or online at www.gutenberg.org                     |\n",
      "|Title: Ulysses                                                     |\n",
      "|Author: James Joyce                                                |\n",
      "|Release Date: August 1, 2008 [EBook #4300]                         |\n",
      "|Last Updated: October 30, 2018                                     |\n",
      "|Language: English                                                  |\n",
      "+-------------------------------------------------------------------+\n",
      "only showing top 10 rows\n",
      "\n",
      "+------------------------------------------------------------------+\n",
      "|text                                                              |\n",
      "+------------------------------------------------------------------+\n",
      "|the project gutenberg ebook of ulysses by james joyce             |\n",
      "|this ebook is for the use of anyone anywhere at no cost and with  |\n",
      "|almost no restrictions whatsoever you may copy it give it away or |\n",
      "|reuse it under the terms of the project gutenberg license included|\n",
      "|with this ebook or online at wwwgutenbergorg                      |\n",
      "|title ulysses                                                     |\n",
      "|author james joyce                                                |\n",
      "|release date august 1 2008 ebook 4300                             |\n",
      "|last updated october 30 2018                                      |\n",
      "|language english                                                  |\n",
      "+------------------------------------------------------------------+\n",
      "only showing top 10 rows\n",
      "\n"
     ]
    }
   ],
   "source": [
    "# Read de book file: Ulysses \n",
    "text_1 = spark.read.text(ulysses)\n",
    "text_1.show(10, truncate = False)\n",
    "text_1 = text_1.filter(\"value != ''\")\n",
    "text_1.show(10, truncate = False)\n",
    "text_1 = text_1.select(removePunctuation(col('value')))\n",
    "text_1 = text_1.withColumnRenamed('value', 'text')\n",
    "text_1.show(10, truncate = False)"
   ]
  },
  {
   "cell_type": "code",
   "execution_count": 7,
   "metadata": {},
   "outputs": [
    {
     "name": "stdout",
     "output_type": "stream",
     "text": [
      "+------------------------------------------------------------------+\n",
      "|text                                                              |\n",
      "+------------------------------------------------------------------+\n",
      "|the project gutenberg ebook of dubliners by james joyce           |\n",
      "|this ebook is for the use of anyone anywhere at no cost and with  |\n",
      "|almost no restrictions whatsoever you may copy it give it away or |\n",
      "|reuse it under the terms of the project gutenberg license included|\n",
      "|with this ebook or online at wwwgutenbergorg                      |\n",
      "|title dubliners                                                   |\n",
      "|author james joyce                                                |\n",
      "|release date september 2001 ebook 2814                            |\n",
      "|last updated january 20 2019                                      |\n",
      "|language english                                                  |\n",
      "+------------------------------------------------------------------+\n",
      "only showing top 10 rows\n",
      "\n"
     ]
    }
   ],
   "source": [
    "# Read de book file:  Dubliner\n",
    "text_2 = spark.read.text(dubliners)\n",
    "text_2 = text_2.filter(\"value != ''\")\n",
    "text_2 = text_2.select(removePunctuation(col('value')))\n",
    "text_2 = text_2.withColumnRenamed('value', 'text')\n",
    "text_2.show(10, truncate = False)"
   ]
  },
  {
   "cell_type": "markdown",
   "metadata": {},
   "source": [
    "## Calculate Similarity\n",
    "\n",
    "### Tokenizer"
   ]
  },
  {
   "cell_type": "code",
   "execution_count": 8,
   "metadata": {},
   "outputs": [
    {
     "name": "stdout",
     "output_type": "stream",
     "text": [
      "+------------------------------------------------------------------+----------------------------------------------------------------------+\n",
      "|text                                                              |tokens                                                                |\n",
      "+------------------------------------------------------------------+----------------------------------------------------------------------+\n",
      "|the project gutenberg ebook of ulysses by james joyce             |[the, project, gutenberg, ebook, ulysses, james, joyce]               |\n",
      "|this ebook is for the use of anyone anywhere at no cost and with  |[this, ebook, for, the, use, anyone, anywhere, cost, and, with]       |\n",
      "|almost no restrictions whatsoever you may copy it give it away or |[almost, restrictions, whatsoever, you, may, copy, give, away]        |\n",
      "|reuse it under the terms of the project gutenberg license included|[reuse, under, the, terms, the, project, gutenberg, license, included]|\n",
      "|with this ebook or online at wwwgutenbergorg                      |[with, this, ebook, online, wwwgutenbergorg]                          |\n",
      "|title ulysses                                                     |[title, ulysses]                                                      |\n",
      "|author james joyce                                                |[author, james, joyce]                                                |\n",
      "|release date august 1 2008 ebook 4300                             |[release, date, august, 2008, ebook, 4300]                            |\n",
      "|last updated october 30 2018                                      |[last, updated, october, 2018]                                        |\n",
      "|language english                                                  |[language, english]                                                   |\n",
      "|character set encoding utf8                                       |[character, set, encoding, utf8]                                      |\n",
      "|start of this project gutenberg ebook ulysses                     |[start, this, project, gutenberg, ebook, ulysses]                     |\n",
      "|produced by col choat and david widger                            |[produced, col, choat, and, david, widger]                            |\n",
      "|cover                                                             |[cover]                                                               |\n",
      "|ulysses                                                           |[ulysses]                                                             |\n",
      "|by james joyce                                                    |[james, joyce]                                                        |\n",
      "|contents                                                          |[contents]                                                            |\n",
      "|i                                                                 |[]                                                                    |\n",
      "|1                                                                 |[]                                                                    |\n",
      "|2                                                                 |[]                                                                    |\n",
      "+------------------------------------------------------------------+----------------------------------------------------------------------+\n",
      "only showing top 20 rows\n",
      "\n"
     ]
    }
   ],
   "source": [
    "tokenizer = RegexTokenizer(pattern='\\s+', inputCol=\"text\", outputCol=\"tokens\", minTokenLength=3, toLowercase=True)\n",
    "\n",
    "tokenData = tokenizer.transform(text_1)\n",
    "tokenData.show(truncate = False)"
   ]
  },
  {
   "cell_type": "markdown",
   "metadata": {},
   "source": [
    "### Shingling"
   ]
  },
  {
   "cell_type": "code",
   "execution_count": 9,
   "metadata": {},
   "outputs": [
    {
     "name": "stdout",
     "output_type": "stream",
     "text": [
      "+---------------------------------------------------------------------+------------------------------------------------------------------------------+-----------------------------------------------------------------------------------------------------------------------------------------------------------------------------------+\n",
      "|text                                                                 |tokens                                                                        |ngrams                                                                                                                                                                             |\n",
      "+---------------------------------------------------------------------+------------------------------------------------------------------------------+-----------------------------------------------------------------------------------------------------------------------------------------------------------------------------------+\n",
      "|the project gutenberg ebook of ulysses by james joyce                |[the, project, gutenberg, ebook, ulysses, james, joyce]                       |[the project gutenberg, project gutenberg ebook, gutenberg ebook ulysses, ebook ulysses james, ulysses james joyce]                                                                |\n",
      "|this ebook is for the use of anyone anywhere at no cost and with     |[this, ebook, for, the, use, anyone, anywhere, cost, and, with]               |[this ebook for, ebook for the, for the use, the use anyone, use anyone anywhere, anyone anywhere cost, anywhere cost and, cost and with]                                          |\n",
      "|almost no restrictions whatsoever you may copy it give it away or    |[almost, restrictions, whatsoever, you, may, copy, give, away]                |[almost restrictions whatsoever, restrictions whatsoever you, whatsoever you may, you may copy, may copy give, copy give away]                                                     |\n",
      "|reuse it under the terms of the project gutenberg license included   |[reuse, under, the, terms, the, project, gutenberg, license, included]        |[reuse under the, under the terms, the terms the, terms the project, the project gutenberg, project gutenberg license, gutenberg license included]                                 |\n",
      "|with this ebook or online at wwwgutenbergorg                         |[with, this, ebook, online, wwwgutenbergorg]                                  |[with this ebook, this ebook online, ebook online wwwgutenbergorg]                                                                                                                 |\n",
      "|author james joyce                                                   |[author, james, joyce]                                                        |[author james joyce]                                                                                                                                                               |\n",
      "|release date august 1 2008 ebook 4300                                |[release, date, august, 2008, ebook, 4300]                                    |[release date august, date august 2008, august 2008 ebook, 2008 ebook 4300]                                                                                                        |\n",
      "|last updated october 30 2018                                         |[last, updated, october, 2018]                                                |[last updated october, updated october 2018]                                                                                                                                       |\n",
      "|character set encoding utf8                                          |[character, set, encoding, utf8]                                              |[character set encoding, set encoding utf8]                                                                                                                                        |\n",
      "|start of this project gutenberg ebook ulysses                        |[start, this, project, gutenberg, ebook, ulysses]                             |[start this project, this project gutenberg, project gutenberg ebook, gutenberg ebook ulysses]                                                                                     |\n",
      "|produced by col choat and david widger                               |[produced, col, choat, and, david, widger]                                    |[produced col choat, col choat and, choat and david, and david widger]                                                                                                             |\n",
      "|stately plump buck mulligan came from the stairhead bearing a bowl of|[stately, plump, buck, mulligan, came, from, the, stairhead, bearing, bowl]   |[stately plump buck, plump buck mulligan, buck mulligan came, mulligan came from, came from the, from the stairhead, the stairhead bearing, stairhead bearing bowl]                |\n",
      "|lather on which a mirror and a razor lay crossed a yellow            |[lather, which, mirror, and, razor, lay, crossed, yellow]                     |[lather which mirror, which mirror and, mirror and razor, and razor lay, razor lay crossed, lay crossed yellow]                                                                    |\n",
      "|dressinggown ungirdled was sustained gently behind him on the mild   |[dressinggown, ungirdled, was, sustained, gently, behind, him, the, mild]     |[dressinggown ungirdled was, ungirdled was sustained, was sustained gently, sustained gently behind, gently behind him, behind him the, him the mild]                              |\n",
      "|morning air he held the bowl aloft and intoned                       |[morning, air, held, the, bowl, aloft, and, intoned]                          |[morning air held, air held the, held the bowl, the bowl aloft, bowl aloft and, aloft and intoned]                                                                                 |\n",
      "|introibo ad altare dei                                               |[introibo, altare, dei]                                                       |[introibo altare dei]                                                                                                                                                              |\n",
      "|halted he peered down the dark winding stairs and called out coarsely|[halted, peered, down, the, dark, winding, stairs, and, called, out, coarsely]|[halted peered down, peered down the, down the dark, the dark winding, dark winding stairs, winding stairs and, stairs and called, and called out, called out coarsely]            |\n",
      "|come up kinch come up you fearful jesuit                             |[come, kinch, come, you, fearful, jesuit]                                     |[come kinch come, kinch come you, come you fearful, you fearful jesuit]                                                                                                            |\n",
      "|solemnly he came forward and mounted the round gunrest he faced about|[solemnly, came, forward, and, mounted, the, round, gunrest, faced, about]    |[solemnly came forward, came forward and, forward and mounted, and mounted the, mounted the round, the round gunrest, round gunrest faced, gunrest faced about]                    |\n",
      "|and blessed gravely thrice the tower the surrounding land and the    |[and, blessed, gravely, thrice, the, tower, the, surrounding, land, and, the] |[and blessed gravely, blessed gravely thrice, gravely thrice the, thrice the tower, the tower the, tower the surrounding, the surrounding land, surrounding land and, land and the]|\n",
      "+---------------------------------------------------------------------+------------------------------------------------------------------------------+-----------------------------------------------------------------------------------------------------------------------------------------------------------------------------------+\n",
      "only showing top 20 rows\n",
      "\n"
     ]
    }
   ],
   "source": [
    "ngram = NGram(n=3, inputCol=\"tokens\", outputCol=\"ngrams\")\n",
    "ngramData = ngram.transform(tokenData)\n",
    "\n",
    "rememptylines = RemoveEmptyLines(column = \"ngrams\")\n",
    "ngramData = rememptylines.transform(ngramData)\n",
    "\n",
    "ngramData.show(truncate=False)"
   ]
  },
  {
   "cell_type": "markdown",
   "metadata": {},
   "source": [
    "### Counting Hash"
   ]
  },
  {
   "cell_type": "code",
   "execution_count": 10,
   "metadata": {},
   "outputs": [
    {
     "name": "stdout",
     "output_type": "stream",
     "text": [
      "+--------------------+--------------------+--------------------+--------------------+\n",
      "|                text|              tokens|              ngrams|             vectors|\n",
      "+--------------------+--------------------+--------------------+--------------------+\n",
      "|the project guten...|[the, project, gu...|[the project gute...|(262144,[57299,74...|\n",
      "|this ebook is for...|[this, ebook, for...|[this ebook for, ...|(262144,[17652,18...|\n",
      "|almost no restric...|[almost, restrict...|[almost restricti...|(262144,[37352,11...|\n",
      "|reuse it under th...|[reuse, under, th...|[reuse under the,...|(262144,[74024,89...|\n",
      "|with this ebook o...|[with, this, eboo...|[with this ebook,...|(262144,[61204,17...|\n",
      "|  author james joyce|[author, james, j...|[author james joyce]|(262144,[190411],...|\n",
      "|release date augu...|[release, date, a...|[release date aug...|(262144,[63333,72...|\n",
      "|last updated octo...|[last, updated, o...|[last updated oct...|(262144,[25383,13...|\n",
      "|character set enc...|[character, set, ...|[character set en...|(262144,[27720,43...|\n",
      "|start of this pro...|[start, this, pro...|[start this proje...|(262144,[43146,15...|\n",
      "|produced by col c...|[produced, col, c...|[produced col cho...|(262144,[14037,15...|\n",
      "|stately plump buc...|[stately, plump, ...|[stately plump bu...|(262144,[11023,15...|\n",
      "|lather on which a...|[lather, which, m...|[lather which mir...|(262144,[31830,55...|\n",
      "|dressinggown ungi...|[dressinggown, un...|[dressinggown ung...|(262144,[29578,31...|\n",
      "|morning air he he...|[morning, air, he...|[morning air held...|(262144,[2582,626...|\n",
      "|introibo ad altar...|[introibo, altare...|[introibo altare ...|(262144,[96828],[...|\n",
      "|halted he peered ...|[halted, peered, ...|[halted peered do...|(262144,[24684,37...|\n",
      "|come up kinch com...|[come, kinch, com...|[come kinch come,...|(262144,[43090,92...|\n",
      "|solemnly he came ...|[solemnly, came, ...|[solemnly came fo...|(262144,[106167,1...|\n",
      "|and blessed grave...|[and, blessed, gr...|[and blessed grav...|(262144,[64415,66...|\n",
      "+--------------------+--------------------+--------------------+--------------------+\n",
      "only showing top 20 rows\n",
      "\n"
     ]
    }
   ],
   "source": [
    "hash_tf = HashingTF(inputCol=\"ngrams\", outputCol=\"vectors\")\n",
    "\n",
    "hashtfData = hash_tf.transform(ngramData)\n",
    "hashtfData.show() "
   ]
  },
  {
   "cell_type": "markdown",
   "metadata": {},
   "source": [
    "### Min-Hashing"
   ]
  },
  {
   "cell_type": "code",
   "execution_count": 11,
   "metadata": {},
   "outputs": [
    {
     "name": "stdout",
     "output_type": "stream",
     "text": [
      "+--------------------+--------------------+--------------------+--------------------+--------------------+\n",
      "|                text|              tokens|              ngrams|             vectors|                 lsh|\n",
      "+--------------------+--------------------+--------------------+--------------------+--------------------+\n",
      "|the project guten...|[the, project, gu...|[the project gute...|(262144,[57299,74...|[[1.80943127E8], ...|\n",
      "|this ebook is for...|[this, ebook, for...|[this ebook for, ...|(262144,[17652,18...|[[2.99329989E8], ...|\n",
      "|almost no restric...|[almost, restrict...|[almost restricti...|(262144,[37352,11...|[[2.54070642E8], ...|\n",
      "|reuse it under th...|[reuse, under, th...|[reuse under the,...|(262144,[74024,89...|[[1.80943127E8], ...|\n",
      "|with this ebook o...|[with, this, eboo...|[with this ebook,...|(262144,[61204,17...|[[8.44159097E8], ...|\n",
      "|  author james joyce|[author, james, j...|[author james joyce]|(262144,[190411],...|[[1.26469144E8], ...|\n",
      "|release date augu...|[release, date, a...|[release date aug...|(262144,[63333,72...|[[2.6179093E7], [...|\n",
      "|last updated octo...|[last, updated, o...|[last updated oct...|(262144,[25383,13...|[[1.77912077E9], ...|\n",
      "|character set enc...|[character, set, ...|[character set en...|(262144,[27720,43...|[[8.59635143E8], ...|\n",
      "|start of this pro...|[start, this, pro...|[start this proje...|(262144,[43146,15...|[[8.00066399E8], ...|\n",
      "|produced by col c...|[produced, col, c...|[produced col cho...|(262144,[14037,15...|[[6.92221875E8], ...|\n",
      "|stately plump buc...|[stately, plump, ...|[stately plump bu...|(262144,[11023,15...|[[4.25057064E8], ...|\n",
      "|lather on which a...|[lather, which, m...|[lather which mir...|(262144,[31830,55...|[[2.0201221E7], [...|\n",
      "|dressinggown ungi...|[dressinggown, un...|[dressinggown ung...|(262144,[29578,31...|[[2.30956561E8], ...|\n",
      "|morning air he he...|[morning, air, he...|[morning air held...|(262144,[2582,626...|[[1.10817761E8], ...|\n",
      "|introibo ad altar...|[introibo, altare...|[introibo altare ...|(262144,[96828],[...|[[8.70664924E8], ...|\n",
      "|halted he peered ...|[halted, peered, ...|[halted peered do...|(262144,[24684,37...|[[4.9858108E7], [...|\n",
      "|come up kinch com...|[come, kinch, com...|[come kinch come,...|(262144,[43090,92...|[[5.86463892E8], ...|\n",
      "|solemnly he came ...|[solemnly, came, ...|[solemnly came fo...|(262144,[106167,1...|[[4.9299245E7], [...|\n",
      "|and blessed grave...|[and, blessed, gr...|[and blessed grav...|(262144,[64415,66...|[[1.8420715E7], [...|\n",
      "+--------------------+--------------------+--------------------+--------------------+--------------------+\n",
      "only showing top 20 rows\n",
      "\n"
     ]
    }
   ],
   "source": [
    "minhash = MinHashLSH(inputCol=\"vectors\", outputCol=\"lsh\", numHashTables=3).fit(hashtfData)\n",
    "\n",
    "minhashData = minhash.transform(hashtfData)\n",
    "minhashData.show() #truncate=False)"
   ]
  },
  {
   "cell_type": "markdown",
   "metadata": {},
   "source": [
    "#### Using Pipeline"
   ]
  },
  {
   "cell_type": "code",
   "execution_count": 12,
   "metadata": {},
   "outputs": [
    {
     "name": "stdout",
     "output_type": "stream",
     "text": [
      "+--------------------+--------------------+--------------------+--------------------+--------------------+\n",
      "|                text|              tokens|              ngrams|             vectors|                 lsh|\n",
      "+--------------------+--------------------+--------------------+--------------------+--------------------+\n",
      "|the project guten...|[the, project, gu...|[the project gute...|(262144,[57299,74...|[[1.80943127E8], ...|\n",
      "|this ebook is for...|[this, ebook, for...|[this ebook for, ...|(262144,[17652,18...|[[2.99329989E8], ...|\n",
      "|almost no restric...|[almost, restrict...|[almost restricti...|(262144,[37352,11...|[[2.54070642E8], ...|\n",
      "|reuse it under th...|[reuse, under, th...|[reuse under the,...|(262144,[74024,89...|[[1.80943127E8], ...|\n",
      "|with this ebook o...|[with, this, eboo...|[with this ebook,...|(262144,[61204,17...|[[8.44159097E8], ...|\n",
      "|  author james joyce|[author, james, j...|[author james joyce]|(262144,[190411],...|[[1.26469144E8], ...|\n",
      "|release date augu...|[release, date, a...|[release date aug...|(262144,[63333,72...|[[2.6179093E7], [...|\n",
      "|last updated octo...|[last, updated, o...|[last updated oct...|(262144,[25383,13...|[[1.77912077E9], ...|\n",
      "|character set enc...|[character, set, ...|[character set en...|(262144,[27720,43...|[[8.59635143E8], ...|\n",
      "|start of this pro...|[start, this, pro...|[start this proje...|(262144,[43146,15...|[[8.00066399E8], ...|\n",
      "|produced by col c...|[produced, col, c...|[produced col cho...|(262144,[14037,15...|[[6.92221875E8], ...|\n",
      "|stately plump buc...|[stately, plump, ...|[stately plump bu...|(262144,[11023,15...|[[4.25057064E8], ...|\n",
      "|lather on which a...|[lather, which, m...|[lather which mir...|(262144,[31830,55...|[[2.0201221E7], [...|\n",
      "|dressinggown ungi...|[dressinggown, un...|[dressinggown ung...|(262144,[29578,31...|[[2.30956561E8], ...|\n",
      "|morning air he he...|[morning, air, he...|[morning air held...|(262144,[2582,626...|[[1.10817761E8], ...|\n",
      "|introibo ad altar...|[introibo, altare...|[introibo altare ...|(262144,[96828],[...|[[8.70664924E8], ...|\n",
      "|halted he peered ...|[halted, peered, ...|[halted peered do...|(262144,[24684,37...|[[4.9858108E7], [...|\n",
      "|come up kinch com...|[come, kinch, com...|[come kinch come,...|(262144,[43090,92...|[[5.86463892E8], ...|\n",
      "|solemnly he came ...|[solemnly, came, ...|[solemnly came fo...|(262144,[106167,1...|[[4.9299245E7], [...|\n",
      "|and blessed grave...|[and, blessed, gr...|[and blessed grav...|(262144,[64415,66...|[[1.8420715E7], [...|\n",
      "+--------------------+--------------------+--------------------+--------------------+--------------------+\n",
      "only showing top 20 rows\n",
      "\n"
     ]
    }
   ],
   "source": [
    "pipeline = Pipeline(stages=[\n",
    "            tokenizer,\n",
    "            ngram,\n",
    "            rememptylines,\n",
    "            hash_tf,\n",
    "            minhash\n",
    "        ])\n",
    "\n",
    "model= pipeline.fit(text_1)\n",
    "\n",
    "text_A = model.transform(text_1)\n",
    "text_B = model.transform(text_2)\n",
    "\n",
    "text_A.show()"
   ]
  },
  {
   "cell_type": "code",
   "execution_count": 13,
   "metadata": {},
   "outputs": [
    {
     "name": "stdout",
     "output_type": "stream",
     "text": [
      "+--------------------+--------------------+--------------------+--------------------+--------------------+\n",
      "|                text|              tokens|              ngrams|             vectors|                 lsh|\n",
      "+--------------------+--------------------+--------------------+--------------------+--------------------+\n",
      "|the project guten...|[the, project, gu...|[the project gute...|(262144,[74024,11...|[[1.80943127E8], ...|\n",
      "|this ebook is for...|[this, ebook, for...|[this ebook for, ...|(262144,[17652,18...|[[2.99329989E8], ...|\n",
      "|almost no restric...|[almost, restrict...|[almost restricti...|(262144,[37352,11...|[[2.54070642E8], ...|\n",
      "|reuse it under th...|[reuse, under, th...|[reuse under the,...|(262144,[74024,89...|[[1.80943127E8], ...|\n",
      "|with this ebook o...|[with, this, eboo...|[with this ebook,...|(262144,[61204,17...|[[8.44159097E8], ...|\n",
      "|  author james joyce|[author, james, j...|[author james joyce]|(262144,[190411],...|[[1.26469144E8], ...|\n",
      "|release date sept...|[release, date, s...|[release date sep...|(262144,[15252,62...|[[1.29685553E8], ...|\n",
      "|last updated janu...|[last, updated, j...|[last updated jan...|(262144,[215486,2...|[[6.40405438E8], ...|\n",
      "|character set enc...|[character, set, ...|[character set en...|(262144,[27720,43...|[[8.59635143E8], ...|\n",
      "|start of this pro...|[start, this, pro...|[start this proje...|(262144,[43146,11...|[[2.76428026E8], ...|\n",
      "|produced by david...|[produced, david,...|[produced david r...|(262144,[53627,96...|[[9461049.0], [9....|\n",
      "|      after the race|  [after, the, race]|    [after the race]|(262144,[247370],...|[[1.351509733E9],...|\n",
      "|  the boarding house|[the, boarding, h...|[the boarding house]|(262144,[127657],...|[[3.36398509E8], ...|\n",
      "|ivy day in the co...|[ivy, day, the, c...|[ivy day the, day...|(262144,[5239,139...|[[4.25742341E8], ...|\n",
      "|there was no hope...|[there, was, hope...|[there was hope, ...|(262144,[117795,1...|[[9.748325E7], [4...|\n",
      "|after night i had...|[after, night, ha...|[after night had,...|(262144,[29148,10...|[[1.32016709E8], ...|\n",
      "|the lighted squar...|[the, lighted, sq...|[the lighted squa...|(262144,[7161,399...|[[1.08133789E8], ...|\n",
      "|lighted in the sa...|[lighted, the, sa...|[lighted the same...|(262144,[60179,14...|[[1.97463337E8], ...|\n",
      "|i would see the r...|[would, see, the,...|[would see the, s...|(262144,[37355,61...|[[1.81550913E8], ...|\n",
      "|that two candles ...|[that, two, candl...|[that two candles...|(262144,[20545,30...|[[5.7220818E7], [...|\n",
      "+--------------------+--------------------+--------------------+--------------------+--------------------+\n",
      "only showing top 20 rows\n",
      "\n"
     ]
    }
   ],
   "source": [
    "text_B.show()"
   ]
  },
  {
   "cell_type": "markdown",
   "metadata": {},
   "source": [
    "### Locality-Sensitive Hashing (LSH)"
   ]
  },
  {
   "cell_type": "code",
   "execution_count": 14,
   "metadata": {},
   "outputs": [
    {
     "name": "stdout",
     "output_type": "stream",
     "text": [
      "+--------------------+--------------------+------------------+\n",
      "|            datasetA|            datasetB|   JaccardDistance|\n",
      "+--------------------+--------------------+------------------+\n",
      "|[on the chair by ...|[military review ...|0.6666666666666667|\n",
      "|[mr chairman ladi...|[ladies and gentl...|               0.8|\n",
      "|[trial to resembl...|[no no i can see ...|             0.875|\n",
      "|[section 3 inform...|[section 4 inform...|               0.8|\n",
      "|[ways including c...|[ways including c...|               0.0|\n",
      "|[progressed the t...|[and did he go ho...|             0.875|\n",
      "|[the nymph during...|[and make me your...|0.8888888888888888|\n",
      "|[with this ebook ...|[ebook or online ...|             0.875|\n",
      "|[badge i was in m...|[im up to all the...|0.8888888888888888|\n",
      "|[which possibly a...|[nothing politica...|             0.875|\n",
      "|[and may not be u...|[and may not be u...|               0.0|\n",
      "|[author james joy...|[author james joy...|               0.0|\n",
      "|[language of our ...|[every morning in...|             0.875|\n",
      "|[rocky thumbnails...|[reunion had been...|0.8571428571428572|\n",
      "|[worse what eh wh...|[mr crofton sat d...|             0.875|\n",
      "|[displaying or cr...|[distributing or ...|               0.8|\n",
      "|[phrase project g...|[phrase project g...|               0.0|\n",
      "|[state visit wwwg...|[state visit wwwg...|               0.0|\n",
      "|[the weedgrown ro...|[or last but not ...|0.8666666666666667|\n",
      "|[by a periphrasti...|[then theyll make...|0.8888888888888888|\n",
      "+--------------------+--------------------+------------------+\n",
      "only showing top 20 rows\n",
      "\n",
      "Similarity Ulysses x Dubliners =  14.49347215336308  %\n"
     ]
    }
   ],
   "source": [
    "rows_text_A = text_A.count()\n",
    "rows_text_B = text_B.count()\n",
    "\n",
    "# Show similarity with Jaccard Distance below 0.9\n",
    "result_A_B = model.stages[-1].approxSimilarityJoin(text_A, text_B, 0.9, distCol=\"JaccardDistance\")\n",
    "result_A_B.show()\n",
    "\n",
    "rows_result_A_B = result_A_B.count()\n",
    "simil_index_AB = rows_result_A_B / rows_text_B * 100\n",
    "print(\"Similarity Ulysses x Dubliners = \",simil_index_AB, \" %\")"
   ]
  },
  {
   "cell_type": "code",
   "execution_count": 15,
   "metadata": {},
   "outputs": [
    {
     "name": "stdout",
     "output_type": "stream",
     "text": [
      "+--------------------+--------------------+---------------+\n",
      "|            datasetA|            datasetB|JaccardDistance|\n",
      "+--------------------+--------------------+---------------+\n",
      "|[you can almost t...|[you can almost t...|            0.0|\n",
      "|[cranlys arm his ...|[cranlys arm his ...|            0.0|\n",
      "|[their brazen bel...|[their brazen bel...|            0.0|\n",
      "|[between his fing...|[between his fing...|            0.0|\n",
      "|[toothache encore...|[toothache encore...|            0.0|\n",
      "|[what i look like...|[what i look like...|            0.0|\n",
      "|[in westland row ...|[in westland row ...|            0.0|\n",
      "|[morning under th...|[morning under th...|            0.0|\n",
      "|[sly their charac...|[sly their charac...|            0.0|\n",
      "|[ill take one of ...|[ill take one of ...|            0.0|\n",
      "|[plastos sir phil...|[plastos sir phil...|            0.0|\n",
      "|[knows there are ...|[knows there are ...|            0.0|\n",
      "|[we can do that h...|[we can do that h...|            0.0|\n",
      "|[excuse me j j om...|[excuse me j j om...|            0.0|\n",
      "|[at trafalgar and...|[at trafalgar and...|            0.0|\n",
      "|[that determined ...|[that determined ...|            0.0|\n",
      "|[sophist wallops ...|[sophist wallops ...|            0.0|\n",
      "|[bitterer against...|[bitterer against...|            0.0|\n",
      "|[aware of their g...|[aware of their g...|            0.0|\n",
      "|[dancing master s...|[dancing master s...|            0.0|\n",
      "+--------------------+--------------------+---------------+\n",
      "only showing top 20 rows\n",
      "\n",
      "Similarity Ulysses x Ulysses =  100.1751313485114  %\n"
     ]
    }
   ],
   "source": [
    "# Show similarity with Jaccard Distance below 0.5\n",
    "result_A_A = model.stages[-1].approxSimilarityJoin(text_A, text_A, 0.5, distCol=\"JaccardDistance\")\n",
    "result_A_A .show()\n",
    "\n",
    "simil_index_AA = result_A_A.count() / rows_text_A * 100\n",
    "print(\"Similarity Ulysses x Ulysses = \",simil_index_AA, \" %\")"
   ]
  },
  {
   "cell_type": "markdown",
   "metadata": {},
   "source": [
    "## Finishing"
   ]
  },
  {
   "cell_type": "code",
   "execution_count": 16,
   "metadata": {},
   "outputs": [
    {
     "name": "stdout",
     "output_type": "stream",
     "text": [
      "--- Execution time: 56.270848751068115 seconds ---\n"
     ]
    }
   ],
   "source": [
    "print(\"--- Execution time: %s seconds ---\" % (time.time() - start_time))\n",
    "# Stop Spark\n",
    "spark.stop()"
   ]
  },
  {
   "cell_type": "code",
   "execution_count": null,
   "metadata": {},
   "outputs": [],
   "source": []
  }
 ],
 "metadata": {
  "kernelspec": {
   "display_name": "Python 3",
   "language": "python",
   "name": "python3"
  },
  "language_info": {
   "codemirror_mode": {
    "name": "ipython",
    "version": 3
   },
   "file_extension": ".py",
   "mimetype": "text/x-python",
   "name": "python",
   "nbconvert_exporter": "python",
   "pygments_lexer": "ipython3",
   "version": "3.6.9"
  }
 },
 "nbformat": 4,
 "nbformat_minor": 4
}
