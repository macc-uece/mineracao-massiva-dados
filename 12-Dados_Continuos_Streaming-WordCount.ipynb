{
 "cells": [
  {
   "cell_type": "markdown",
   "metadata": {},
   "source": [
    "# Exemplo 12: Dados Contínuos (Streaming)\n",
    "## Contagem contínua de palavras\n",
    "\n",
    "Spark Streaming is an extension of the Spark API that enables stream processing of live data streams. A Stream is a continuous source of data generated in real time. Data can be ingested from many sources like filesystem, Kafka, Flume, Kinesis, or TCP sockets, and can be processed using complex algorithms like map, reduce, join and window, and apply Spark’s machine learning or graph processing algorithms on continuous data streams. Finally, processed data can be pushed out to filesystems, databases, and dashboards.\n",
    "\n",
    "This example counts words in text encoded with UTF8 received from the network every second.\n",
    "\n",
    "The script *streaming_server.py* reads a text file and send one line per second and create a TCP server that Spark Streaming would connect to receive data.\n",
    "\n",
    "Usage: **./streaming_server.py \\<filename> \\<port>**, where *filename* ia a UTF-8 text file and *port* is a port number between 9700 and 9800 that should be configured in the configuration parameters section.\n",
    "\n",
    "The notebook process the word count in each reading or during a slide windows."
   ]
  },
  {
   "cell_type": "code",
   "execution_count": 1,
   "metadata": {},
   "outputs": [],
   "source": [
    "# Start Spark environment\n",
    "import findspark\n",
    "findspark.init()"
   ]
  },
  {
   "cell_type": "code",
   "execution_count": 2,
   "metadata": {},
   "outputs": [],
   "source": [
    "# Load Spark Library\n",
    "from pyspark import SparkContext\n",
    "from pyspark.sql import SparkSession\n",
    "from pyspark.streaming import StreamingContext\n",
    "\n",
    "import time, os, re"
   ]
  },
  {
   "cell_type": "markdown",
   "metadata": {},
   "source": [
    "### Configuration parameters"
   ]
  },
  {
   "cell_type": "code",
   "execution_count": 3,
   "metadata": {},
   "outputs": [],
   "source": [
    "#Streaming server port\n",
    "\n",
    "port=9763"
   ]
  },
  {
   "cell_type": "markdown",
   "metadata": {},
   "source": [
    "## Create Spark Context and Streming Context"
   ]
  },
  {
   "cell_type": "code",
   "execution_count": 4,
   "metadata": {},
   "outputs": [],
   "source": [
    "# Create Spark Context\n",
    "sc = SparkContext(\"local[*]\",\"Stream_WordCount\") \\\n",
    "     .getOrCreate()\n",
    "\n",
    "# Create Streming Context reading server each 1 sec\n",
    "ssc = StreamingContext(sc, 1)\n",
    "\n",
    "#  Set checkpoint directory\n",
    "ssc.checkpoint(\"/tmp/spark-checkpoint\")"
   ]
  },
  {
   "cell_type": "markdown",
   "metadata": {},
   "source": [
    "## Read text received by Socket"
   ]
  },
  {
   "cell_type": "code",
   "execution_count": 5,
   "metadata": {},
   "outputs": [],
   "source": [
    "# Create a DStream that will connect to hostname:port\n",
    "lines = ssc.socketTextStream(\"localhost\", port)\n",
    "\n",
    "# Print line read\n",
    "lines.pprint()\n",
    "\n",
    "# Split each line into words\n",
    "words = lines.flatMap(lambda line: line.split())"
   ]
  },
  {
   "cell_type": "markdown",
   "metadata": {},
   "source": [
    "## Count words in each read"
   ]
  },
  {
   "cell_type": "code",
   "execution_count": 6,
   "metadata": {},
   "outputs": [],
   "source": [
    "# Count each word in each line\n",
    "pairs = words.map(lambda word: (word, 1))\n",
    "\n",
    "# Count the number of each word in lines\n",
    "wordCounts = pairs.reduceByKey(lambda x, y: x + y)\n",
    "\n",
    "# Print the first ten elements of each line\n",
    "#wordCounts.pprint()"
   ]
  },
  {
   "cell_type": "markdown",
   "metadata": {},
   "source": [
    "## Count words in each window"
   ]
  },
  {
   "cell_type": "code",
   "execution_count": 7,
   "metadata": {},
   "outputs": [],
   "source": [
    "# Count the total words last 30 seconds of data, every 10 seconds\n",
    "# reduceByKeyAndWindow(oper1, oper2,windows_time,result_time)\n",
    "# oper1: operation in sliding window\n",
    "# oper2: operation to remove last window\n",
    "# windows_time: window length (total time of window)\n",
    "#result_time: time when the result is evalutated\n",
    "\n",
    "# Count the number of each word in windows of 30 sec showing at 10 sec\n",
    "windowedWordCounts = wordCounts.reduceByKeyAndWindow(lambda x, y: x + y, lambda x, y: x - y, 30, 10)\n",
    "\n",
    "# Print the first ten elements of each window period\n",
    "windowedWordCounts.pprint()"
   ]
  },
  {
   "cell_type": "markdown",
   "metadata": {},
   "source": [
    "## Start Sreaming processing"
   ]
  },
  {
   "cell_type": "code",
   "execution_count": null,
   "metadata": {},
   "outputs": [
    {
     "name": "stdout",
     "output_type": "stream",
     "text": [
      "-------------------------------------------\n",
      "Time: 2020-04-12 16:54:36\n",
      "-------------------------------------------\n",
      "\n",
      "-------------------------------------------\n",
      "Time: 2020-04-12 16:54:37\n",
      "-------------------------------------------\n",
      "                                 apache license\n",
      "\n",
      "-------------------------------------------\n",
      "Time: 2020-04-12 16:54:38\n",
      "-------------------------------------------\n",
      "                           version 20 january 2004\n",
      "\n",
      "-------------------------------------------\n",
      "Time: 2020-04-12 16:54:39\n",
      "-------------------------------------------\n",
      "                        httpwwwapacheorglicenses\n",
      "\n",
      "-------------------------------------------\n",
      "Time: 2020-04-12 16:54:40\n",
      "-------------------------------------------\n",
      "\n",
      "\n",
      "-------------------------------------------\n",
      "Time: 2020-04-12 16:54:41\n",
      "-------------------------------------------\n",
      "   terms and conditions for use reproduction and distribution\n",
      "\n",
      "-------------------------------------------\n",
      "Time: 2020-04-12 16:54:42\n",
      "-------------------------------------------\n",
      "\n",
      "\n",
      "-------------------------------------------\n",
      "Time: 2020-04-12 16:54:43\n",
      "-------------------------------------------\n",
      "   1 definitions\n",
      "\n",
      "-------------------------------------------\n",
      "Time: 2020-04-12 16:54:44\n",
      "-------------------------------------------\n",
      "\n",
      "\n",
      "-------------------------------------------\n",
      "Time: 2020-04-12 16:54:45\n",
      "-------------------------------------------\n",
      "      license shall mean the terms and conditions for use reproduction\n",
      "\n",
      "-------------------------------------------\n",
      "Time: 2020-04-12 16:54:45\n",
      "-------------------------------------------\n",
      "('2004', 1)\n",
      "('httpwwwapacheorglicenses', 1)\n",
      "('conditions', 2)\n",
      "('reproduction', 2)\n",
      "('distribution', 1)\n",
      "('definitions', 1)\n",
      "('version', 1)\n",
      "('for', 2)\n",
      "('use', 2)\n",
      "('1', 1)\n",
      "...\n",
      "\n",
      "-------------------------------------------\n",
      "Time: 2020-04-12 16:54:46\n",
      "-------------------------------------------\n",
      "      and distribution as defined by sections 1 through 9 of this document\n",
      "\n",
      "-------------------------------------------\n",
      "Time: 2020-04-12 16:54:47\n",
      "-------------------------------------------\n",
      "\n",
      "\n",
      "-------------------------------------------\n",
      "Time: 2020-04-12 16:54:48\n",
      "-------------------------------------------\n",
      "      licensor shall mean the copyright owner or entity authorized by\n",
      "\n",
      "-------------------------------------------\n",
      "Time: 2020-04-12 16:54:49\n",
      "-------------------------------------------\n",
      "      the copyright owner that is granting the license\n",
      "\n",
      "-------------------------------------------\n",
      "Time: 2020-04-12 16:54:50\n",
      "-------------------------------------------\n",
      "\n",
      "\n",
      "-------------------------------------------\n",
      "Time: 2020-04-12 16:54:51\n",
      "-------------------------------------------\n",
      "      legal entity shall mean the union of the acting entity and all\n",
      "\n",
      "-------------------------------------------\n",
      "Time: 2020-04-12 16:54:52\n",
      "-------------------------------------------\n",
      "      other entities that control are controlled by or are under common\n",
      "\n",
      "-------------------------------------------\n",
      "Time: 2020-04-12 16:54:53\n",
      "-------------------------------------------\n",
      "      control with that entity for the purposes of this definition\n",
      "\n",
      "-------------------------------------------\n",
      "Time: 2020-04-12 16:54:54\n",
      "-------------------------------------------\n",
      "      control means i the power direct or indirect to cause the\n",
      "\n",
      "-------------------------------------------\n",
      "Time: 2020-04-12 16:54:55\n",
      "-------------------------------------------\n",
      "      direction or management of such entity whether by contract or\n",
      "\n",
      "-------------------------------------------\n",
      "Time: 2020-04-12 16:54:55\n",
      "-------------------------------------------\n",
      "('common', 1)\n",
      "('purposes', 1)\n",
      "('by', 4)\n",
      "('through', 1)\n",
      "('this', 2)\n",
      "('means', 1)\n",
      "('management', 1)\n",
      "('contract', 1)\n",
      "('2004', 1)\n",
      "('httpwwwapacheorglicenses', 1)\n",
      "...\n",
      "\n",
      "-------------------------------------------\n",
      "Time: 2020-04-12 16:54:56\n",
      "-------------------------------------------\n",
      "      otherwise or ii ownership of fifty percent 50 or more of the\n",
      "\n",
      "-------------------------------------------\n",
      "Time: 2020-04-12 16:54:57\n",
      "-------------------------------------------\n",
      "      outstanding shares or iii beneficial ownership of such entity\n",
      "\n",
      "-------------------------------------------\n",
      "Time: 2020-04-12 16:54:58\n",
      "-------------------------------------------\n",
      "\n",
      "\n",
      "-------------------------------------------\n",
      "Time: 2020-04-12 16:54:59\n",
      "-------------------------------------------\n",
      "      you or your shall mean an individual or legal entity\n",
      "\n",
      "-------------------------------------------\n",
      "Time: 2020-04-12 16:55:00\n",
      "-------------------------------------------\n",
      "      exercising permissions granted by this license\n",
      "\n",
      "-------------------------------------------\n",
      "Time: 2020-04-12 16:55:01\n",
      "-------------------------------------------\n",
      "\n",
      "\n",
      "-------------------------------------------\n",
      "Time: 2020-04-12 16:55:02\n",
      "-------------------------------------------\n",
      "      source form shall mean the preferred form for making modifications\n",
      "\n",
      "-------------------------------------------\n",
      "Time: 2020-04-12 16:55:03\n",
      "-------------------------------------------\n",
      "      including but not limited to software source code documentation\n",
      "\n",
      "-------------------------------------------\n",
      "Time: 2020-04-12 16:55:04\n",
      "-------------------------------------------\n",
      "      source and configuration files\n",
      "\n",
      "-------------------------------------------\n",
      "Time: 2020-04-12 16:55:05\n",
      "-------------------------------------------\n",
      "\n",
      "\n"
     ]
    }
   ],
   "source": [
    "ssc.start()             # Start the computation\n",
    "ssc.awaitTermination()  # Wait for the computation to terminate"
   ]
  },
  {
   "cell_type": "code",
   "execution_count": null,
   "metadata": {},
   "outputs": [],
   "source": []
  }
 ],
 "metadata": {
  "kernelspec": {
   "display_name": "Python 3",
   "language": "python",
   "name": "python3"
  },
  "language_info": {
   "codemirror_mode": {
    "name": "ipython",
    "version": 3
   },
   "file_extension": ".py",
   "mimetype": "text/x-python",
   "name": "python",
   "nbconvert_exporter": "python",
   "pygments_lexer": "ipython3",
   "version": "3.6.9"
  }
 },
 "nbformat": 4,
 "nbformat_minor": 4
}
