{
 "cells": [
  {
   "cell_type": "markdown",
   "metadata": {},
   "source": [
    "# Exemplo 05: Redução de Dimensionalidade\n",
    "## Elementos nutricionais mais importantes\n",
    "\n",
    "*Redução de dimensionalidade* ou *redução de dimensão* é uma técnica usada em mineração de dados e aprendizado de máquina que tem como objetivo a redução do número de variáveis de entrada para extrair um conjunto de variáveis principais. Apesar do risco de perda de acurácia na análise, a redução do tempo de processamento torna esta técnca importante para a análise de dados multivariáveis. \n",
    "\n",
    "Os algoritmos de seleção de atributos tentam encontrar um subconjunto das variáveis de entrada (também chamadas de atributos) mais importante para a análise. A análise de dados como regressão ou classificação pode ser feita no espaço reduzido com mais velocidade e precisão do que no espaço original.\n",
    "\n",
    "## Principal Component Analysis (PCA)\n",
    "\n",
    "A principal técnica linear para redução de dimensionalidade é a análise de componentes principais (PCA). PCA realiza um mapeamento linear dos dados de entrada para um espaço de menor dimensão, de forma que a variação dos dados na representação de dimensão menor seja maximizada. Na prática, a matriz de covariância (e às vezes a de correlação) dos dados é construída e são calculados os autovetores nessa matriz. Os vetores próprios que correspondem aos maiores valores próprios (os componentes principais) que agora podem ser usados para reconstruir uma grande parte da variação dos dados originais. Além disso, os primeiros autovetores podem ser interpretados como termos do comportamento físico do sistema, porque geralmente contribuem com a maior parte da energia do sistema. Uma redução usando o PCA deve ser comprovada caso a caso, pois nem todos os sistemas exibem esse comportamento de equivalencia. O espaço original foi reduzido com perda de dados, mas esperamos manter a variação mais importante para a análise do problema.\n",
    "\n",
    "## Exemplo\n",
    "\n",
    "Este exemplo apresenta a redução de dimensionalidade usando PCA sobre dados nutricionais de alimentos da USDA National Nutrient Database com 45 campos. O objetivo é obter relações dos alimentos através apenas dos principais componente. \n"
   ]
  },
  {
   "cell_type": "code",
   "execution_count": 1,
   "metadata": {},
   "outputs": [],
   "source": [
    "# Find Spark executable\n",
    "import findspark\n",
    "findspark.init()"
   ]
  },
  {
   "cell_type": "markdown",
   "metadata": {},
   "source": [
    "## Carregando de bibliotecas "
   ]
  },
  {
   "cell_type": "code",
   "execution_count": 2,
   "metadata": {},
   "outputs": [],
   "source": [
    "# Load libraries\n",
    "import pyspark\n",
    "from pyspark.sql import SparkSession\n",
    "from pyspark.sql.types import *\n",
    "from pyspark.sql import functions as F\n",
    "\n",
    "from pyspark.ml.feature import VectorSlicer\n",
    "from pyspark.ml.feature import StandardScaler\n",
    "from pyspark.ml.feature import VectorAssembler\n",
    "from pyspark.ml.feature import PCA\n",
    "\n",
    "from pyspark.ml.linalg import Vectors\n",
    "\n",
    "import pandas as pd\n",
    "import numpy as np\n",
    "import random as rd\n",
    "import matplotlib.pyplot as plt\n",
    "\n",
    "import time\n",
    "start_time = time.time()\n",
    "\n",
    "%matplotlib inline"
   ]
  },
  {
   "cell_type": "markdown",
   "metadata": {},
   "source": [
    "## Funções auxiliares"
   ]
  },
  {
   "cell_type": "code",
   "execution_count": 3,
   "metadata": {},
   "outputs": [],
   "source": [
    "def sliceFeatures(df, nValores, nomeSaidas, nomeEntrada):#dataframe / numero de colunas a serem criadas / nome das colunas de saida / ...coluna de entrada\n",
    "    for i in range(nValores):\n",
    "        slicer = VectorSlicer(inputCol = nomeEntrada, outputCol = nomeSaidas + str(i+1), indices=[i])\n",
    "        df = slicer.transform(df)\n",
    "    return df\n",
    "\n",
    "def returnVector(df, name):#dataframe / nome da coluna , retorna um vetor da coluna especificada\n",
    "    aux = np.array(df.select(name).collect())\n",
    "    aux2 = []\n",
    "    for i in range(df.count()):\n",
    "        aux2.append(float(aux[i]))\n",
    "    return aux2\n",
    "\n",
    "def returnDimesion(nAmostras, nTipos, rangeDaMedia):#retorna um vetor np com nAmostras, com nTipos com a mesma media, que varia de 1 a rangeDaMedia \n",
    "    d = []\n",
    "    for k in range(nTipo):\n",
    "        t = np.random.poisson(lam=rd.randrange(1, rangeDaMedia), size = nAmostras)\n",
    "        d = np.concatenate((d, t))\n",
    "    return d   "
   ]
  },
  {
   "cell_type": "markdown",
   "metadata": {},
   "source": [
    "## Parameters configuration"
   ]
  },
  {
   "cell_type": "code",
   "execution_count": 4,
   "metadata": {},
   "outputs": [],
   "source": [
    "# Path to dataset file\n",
    "data_path='./data/'\n",
    "\n",
    "# Number of principal components\n",
    "nComponentes=5"
   ]
  },
  {
   "cell_type": "markdown",
   "metadata": {},
   "source": [
    "## Creating Spark environment"
   ]
  },
  {
   "cell_type": "code",
   "execution_count": 5,
   "metadata": {},
   "outputs": [],
   "source": [
    "# Create Spark Session\n",
    "spark = SparkSession.builder \\\n",
    "        .master(\"local[*]\") \\\n",
    "        .appName(\"ReducaoDimensionalidadePCA\") \\\n",
    "        .getOrCreate()"
   ]
  },
  {
   "cell_type": "markdown",
   "metadata": {},
   "source": [
    "## Reading Data"
   ]
  },
  {
   "cell_type": "code",
   "execution_count": 6,
   "metadata": {},
   "outputs": [
    {
     "name": "stdout",
     "output_type": "stream",
     "text": [
      "+----+--------------------+--------------------+--------------------+----------+-------+--------------+-----------+---------+-----+------+-------+-------+--------+--------+----------+-------+-------+----------+---------+-------------+----------+----------+----------+-------+------------+------------+-------------+------------+-------+----------+------------+------------+----------+-----------+------------+------------+----------------+-------------+-------------+------------+---------------+----------------+--------------+------------+\n",
      "|  ID|           FoodGroup|        ShortDescrip|             Descrip|CommonName|MfgName|ScientificName|Energy_kcal|Protein_g|Fat_g|Carb_g|Sugar_g|Fiber_g|VitA_mcg|VitB6_mg|VitB12_mcg|VitC_mg|VitE_mg|Folate_mcg|Niacin_mg|Riboflavin_mg|Thiamin_mg|Calcium_mg|Copper_mcg|Iron_mg|Magnesium_mg|Manganese_mg|Phosphorus_mg|Selenium_mcg|Zinc_mg|VitA_USRDA| VitB6_USRDA|VitB12_USRDA|VitC_USRDA| VitE_USRDA|Folate_USRDA|Niacin_USRDA|Riboflavin_USRDA|Thiamin_USRDA|Calcium_USRDA|Copper_USRDA|Magnesium_USRDA|Phosphorus_USRDA|Selenium_USRDA|  Zinc_USRDA|\n",
      "+----+--------------------+--------------------+--------------------+----------+-------+--------------+-----------+---------+-----+------+-------+-------+--------+--------+----------+-------+-------+----------+---------+-------------+----------+----------+----------+-------+------------+------------+-------------+------------+-------+----------+------------+------------+----------+-----------+------------+------------+----------------+-------------+-------------+------------+---------------+----------------+--------------+------------+\n",
      "|1001|Dairy and Egg Pro...|    BUTTER,WITH SALT|      Butter, salted|      null|   null|          null|      717.0|     0.85|81.11|  0.06|   0.06|    0.0|   684.0|   0.003|      0.17|    0.0|   2.32|       3.0|    0.042|        0.034|     0.005|      24.0|       0.0|   0.02|         2.0|         0.0|         24.0|         1.0|   0.09|      0.76|0.0017647059|  0.07083333|       0.0| 0.15466666|      0.0075|    0.002625|     0.026153846|  0.004166667|         0.02|         0.0|    0.004761905|     0.034285713|   0.018181818| 0.008181818|\n",
      "|1002|Dairy and Egg Pro...|BUTTER,WHIPPED,WI...|Butter, whipped, ...|      null|   null|          null|      717.0|     0.85|81.11|  0.06|   0.06|    0.0|   684.0|   0.003|      0.13|    0.0|   2.32|       3.0|    0.042|        0.034|     0.005|      24.0|     0.016|   0.16|         2.0|       0.004|         23.0|         1.0|   0.05|      0.76|0.0017647059| 0.054166667|       0.0| 0.15466666|      0.0075|    0.002625|     0.026153846|  0.004166667|         0.02|1.7777778E-5|    0.004761905|     0.032857142|   0.018181818|0.0045454544|\n",
      "|1003|Dairy and Egg Pro...|BUTTER OIL,ANHYDROUS|Butter oil, anhyd...|      null|   null|          null|      876.0|     0.28|99.48|   0.0|    0.0|    0.0|   840.0|   0.001|      0.01|    0.0|    2.8|       0.0|    0.003|        0.005|     0.001|       4.0|     0.001|    0.0|         0.0|         0.0|          3.0|         0.0|   0.01|0.93333334|5.8823527E-4| 0.004166667|       0.0| 0.18666667|         0.0|    1.875E-4|    0.0038461538| 8.3333335E-4| 0.0033333334|1.1111111E-6|            0.0|     0.004285714|           0.0| 9.090909E-4|\n",
      "|1004|Dairy and Egg Pro...|         CHEESE,BLUE|        Cheese, blue|      null|   null|          null|      353.0|     21.4|28.74|  2.34|    0.5|    0.0|   198.0|   0.166|      1.22|    0.0|   0.25|      36.0|    1.016|        0.382|     0.029|     528.0|      0.04|   0.31|        23.0|       0.009|        387.0|        14.5|   2.66|      0.22| 0.097647056|   0.5083333|       0.0|0.016666668|        0.09|      0.0635|      0.29384616|  0.024166666|         0.44|4.4444445E-5|    0.054761905|      0.55285716|    0.26363635|  0.24181817|\n",
      "|1005|Dairy and Egg Pro...|        CHEESE,BRICK|       Cheese, brick|      null|   null|          null|      371.0|    23.24|29.68|  2.79|   0.51|    0.0|   292.0|   0.065|      1.26|    0.0|   0.26|      20.0|    0.118|        0.351|     0.014|     674.0|     0.024|   0.43|        24.0|       0.012|        451.0|        14.5|    2.6|0.32444444| 0.038235296|       0.525|       0.0|0.017333332|        0.05|    0.007375|            0.27|  0.011666667|   0.56166667|2.6666667E-5|    0.057142857|      0.64428574|    0.26363635|  0.23636363|\n",
      "+----+--------------------+--------------------+--------------------+----------+-------+--------------+-----------+---------+-----+------+-------+-------+--------+--------+----------+-------+-------+----------+---------+-------------+----------+----------+----------+-------+------------+------------+-------------+------------+-------+----------+------------+------------+----------+-----------+------------+------------+----------------+-------------+-------------+------------+---------------+----------------+--------------+------------+\n",
      "only showing top 5 rows\n",
      "\n"
     ]
    }
   ],
   "source": [
    "# Define Dataframe schema\n",
    "food_schema = StructType([\n",
    "    StructField('ID', IntegerType()),\n",
    "    StructField('FoodGroup', StringType(), True),\n",
    "    StructField('ShortDescrip', StringType(), True),\n",
    "    StructField('Descrip', StringType(), True),\n",
    "    StructField('CommonName', StringType(), True),\n",
    "    StructField('MfgName', StringType(), True),\n",
    "    StructField('ScientificName', StringType(), True),\n",
    "    StructField('Energy_kcal', FloatType(), True),\n",
    "    StructField('Protein_g', FloatType(), True),\n",
    "    StructField('Fat_g', FloatType(), True),\n",
    "    StructField('Carb_g', FloatType(), True),\n",
    "    StructField('Sugar_g', FloatType(), True),\n",
    "    StructField('Fiber_g', FloatType(), True),\n",
    "    StructField('VitA_mcg', FloatType(), True),\n",
    "    StructField('VitB6_mg', FloatType(), True),\n",
    "    StructField('VitB12_mcg', FloatType(), True),\n",
    "    StructField('VitC_mg', FloatType(), True),\n",
    "    StructField('VitE_mg', FloatType(), True),\n",
    "    StructField('Folate_mcg', FloatType(), True),\n",
    "    StructField('Niacin_mg', FloatType(), True),\n",
    "    StructField('Riboflavin_mg', FloatType(), True),\n",
    "    StructField('Thiamin_mg', FloatType(), True),\n",
    "    StructField('Calcium_mg', FloatType(), True),\n",
    "    StructField('Copper_mcg', FloatType(), True),\n",
    "    StructField('Iron_mg', FloatType(), True),\n",
    "    StructField('Magnesium_mg', FloatType(), True),\n",
    "    StructField('Manganese_mg', FloatType(), True),\n",
    "    StructField('Phosphorus_mg', FloatType(), True),\n",
    "    StructField('Selenium_mcg', FloatType(), True),\n",
    "    StructField('Zinc_mg', FloatType(), True),\n",
    "    StructField('VitA_USRDA', FloatType(), True),\n",
    "    StructField('VitB6_USRDA', FloatType(), True),\n",
    "    StructField('VitB12_USRDA', FloatType(), True),\n",
    "    StructField('VitC_USRDA', FloatType(), True),\n",
    "    StructField('VitE_USRDA', FloatType(), True),\n",
    "    StructField('Folate_USRDA', FloatType(), True),\n",
    "    StructField('Niacin_USRDA', FloatType(), True),\n",
    "    StructField('Riboflavin_USRDA', FloatType(), True),\n",
    "    StructField('Thiamin_USRDA', FloatType(), True),\n",
    "    StructField('Calcium_USRDA', FloatType(), True),\n",
    "    StructField('Copper_USRDA', FloatType(), True),\n",
    "    StructField('Magnesium_USRDA', FloatType(), True),\n",
    "    StructField('Phosphorus_USRDA', FloatType(), True),\n",
    "    StructField('Selenium_USRDA', FloatType(), True),\n",
    "    StructField('Zinc_USRDA', FloatType(), True),\n",
    "])\n",
    "\n",
    "#Extrai dados de dados dos alimentos CSV para Dataframe Spark\n",
    "food = spark.read.format(\"csv\").options(header='true'). \\\n",
    "         load(data_path+\"nndb_flat.csv.gz\",schema=food_schema)\n",
    "\n",
    "#food.dtypes\n",
    "food.show(5)"
   ]
  },
  {
   "cell_type": "code",
   "execution_count": 7,
   "metadata": {},
   "outputs": [
    {
     "name": "stdout",
     "output_type": "stream",
     "text": [
      "Final Dataframe\n",
      "root\n",
      " |-- ID: integer (nullable = true)\n",
      " |-- Descrip: string (nullable = true)\n",
      " |-- FoodGroup: string (nullable = true)\n",
      " |-- features: vector (nullable = true)\n",
      "\n"
     ]
    }
   ],
   "source": [
    "# The feature column should join all parameters as a Vector\n",
    "# Set the column names that is not part of features list\n",
    "ignore = ['ID', 'FoodGroup', 'ShortDescrip', 'Descrip', 'CommonName', 'MfgName', 'ScientificName']\n",
    "\n",
    "# list will be the value of all columns parts of features vector. Save it, it will be used to revert the vector\n",
    "list = [x for x in food.columns if x not in ignore]\n",
    "\n",
    "# VectorAssembler mount the vector of features\n",
    "assembler = VectorAssembler(\n",
    "            inputCols=list,\n",
    "            outputCol='features')\n",
    "\n",
    "# Create final dataframe composed by label and a column of features vector\n",
    "# To avoid errors invalid collumn fields shoud be skiped\n",
    "data = (assembler.setHandleInvalid(\"skip\").transform(food).select(\"ID\",\"Descrip\",\"FoodGroup\",\"features\"))\n",
    "\n",
    "print(\"Final Dataframe\")\n",
    "data.printSchema()"
   ]
  },
  {
   "cell_type": "code",
   "execution_count": 8,
   "metadata": {},
   "outputs": [
    {
     "name": "stdout",
     "output_type": "stream",
     "text": [
      "root\n",
      " |-- ID: integer (nullable = true)\n",
      " |-- Descrip: string (nullable = true)\n",
      " |-- FoodGroup: string (nullable = true)\n",
      " |-- scalled_features: vector (nullable = true)\n",
      "\n"
     ]
    }
   ],
   "source": [
    "# If feature vector use different scale, all collumn should be normalized \n",
    "standardScaler = StandardScaler(inputCol=\"features\", outputCol=\"scalled_features\", withStd=True, withMean=True)\n",
    "scalledmodel = standardScaler.fit(data)\n",
    "\n",
    "# Remove unscalled feature collumn\n",
    "scalled_data = scalledmodel.transform(data).drop('features')\n",
    "\n",
    "scalled_data.printSchema()"
   ]
  },
  {
   "cell_type": "code",
   "execution_count": 9,
   "metadata": {},
   "outputs": [
    {
     "name": "stdout",
     "output_type": "stream",
     "text": [
      "root\n",
      " |-- ID: integer (nullable = true)\n",
      " |-- Descrip: string (nullable = true)\n",
      " |-- FoodGroup: string (nullable = true)\n",
      " |-- scalled_features: vector (nullable = true)\n",
      " |-- pca_features: vector (nullable = true)\n",
      "\n"
     ]
    }
   ],
   "source": [
    "# Rum PCA algorithm\n",
    "# k= number of components to be reduced. PCA find the k most important components\n",
    "pca = PCA(k=nComponentes, inputCol=\"scalled_features\", outputCol=\"pca_features\")\n",
    "pcamodel = pca.fit(scalled_data)\n",
    "result = pcamodel.transform(scalled_data)\n",
    "\n",
    "result.printSchema()"
   ]
  },
  {
   "cell_type": "code",
   "execution_count": 10,
   "metadata": {},
   "outputs": [
    {
     "name": "stdout",
     "output_type": "stream",
     "text": [
      "Relevance of each component\n",
      "[26.62088 10.77726  9.14715  6.78869  6.22337]\n"
     ]
    }
   ],
   "source": [
    "# Show the importance of each component: explainedVariance\n",
    "\n",
    "pca_var= np.round(100.00*pcamodel.explainedVariance.toArray(),nComponentes)\n",
    "\n",
    "print(\"Relevance of each component\")\n",
    "print(pca_var)"
   ]
  },
  {
   "cell_type": "code",
   "execution_count": 11,
   "metadata": {},
   "outputs": [
    {
     "name": "stdout",
     "output_type": "stream",
     "text": [
      "                     PC1     PC2     PC3     PC4     PC5\n",
      "Energy_kcal      -0.0950  0.0971 -0.1430  0.2684 -0.2971\n",
      "Protein_g        -0.1136 -0.0845 -0.1682 -0.3024 -0.1210\n",
      "Fat_g            -0.0137  0.0168 -0.1343  0.2253 -0.3766\n",
      "Carb_g           -0.1080  0.1775 -0.0080  0.2643  0.0814\n",
      "Sugar_g          -0.0429  0.1129  0.0397  0.2547  0.0580\n",
      "Fiber_g          -0.1164  0.1168 -0.1385  0.1861  0.0795\n",
      "VitA_mcg         -0.1069 -0.3627  0.0678  0.1845  0.0942\n",
      "VitB6_mg         -0.2389  0.0947  0.1247 -0.0042  0.0095\n",
      "VitB12_mcg       -0.1437 -0.3618  0.0702  0.0029 -0.0170\n",
      "VitC_mg          -0.0699  0.0406  0.0866  0.1117  0.3092\n",
      "VitE_mg          -0.0997  0.0674 -0.0455  0.2718 -0.3437\n",
      "Folate_mcg       -0.2127  0.1207  0.1648 -0.0021 -0.0179\n",
      "Niacin_mg        -0.2569  0.0731  0.1460 -0.1217 -0.0322\n",
      "Riboflavin_mg    -0.2590 -0.0199  0.1611 -0.0508  0.0502\n",
      "Thiamin_mg       -0.2047  0.1314  0.1419 -0.0947 -0.0345\n",
      "Calcium_mg       -0.1201  0.0886 -0.2972  0.0138  0.2579\n",
      "Copper_mcg       -0.1393 -0.3284 -0.0989  0.1371  0.0185\n",
      "Iron_mg          -0.2062  0.0936 -0.0134  0.0267  0.0549\n",
      "Magnesium_mg     -0.1675  0.0739 -0.2820  0.0875  0.0348\n",
      "Manganese_mg     -0.0645 -0.1390 -0.0328  0.1294  0.0297\n",
      "Phosphorus_mg    -0.1452  0.0041 -0.3642 -0.1409  0.1032\n",
      "Selenium_mcg     -0.0719 -0.1103 -0.1230 -0.3148 -0.2172\n",
      "Zinc_mg          -0.1992 -0.0072 -0.0311 -0.0841 -0.1162\n",
      "VitA_USRDA       -0.1069 -0.3627  0.0678  0.1845  0.0942\n",
      "VitB6_USRDA      -0.2389  0.0947  0.1247 -0.0042  0.0095\n",
      "VitB12_USRDA     -0.1437 -0.3618  0.0702  0.0029 -0.0170\n",
      "VitC_USRDA       -0.0699  0.0406  0.0866  0.1117  0.3092\n",
      "VitE_USRDA       -0.0997  0.0674 -0.0455  0.2718 -0.3437\n",
      "Folate_USRDA     -0.2127  0.1207  0.1648 -0.0021 -0.0179\n",
      "Niacin_USRDA     -0.2569  0.0731  0.1460 -0.1217 -0.0322\n",
      "Riboflavin_USRDA -0.2590 -0.0199  0.1611 -0.0508  0.0502\n",
      "Thiamin_USRDA    -0.2047  0.1314  0.1419 -0.0947 -0.0345\n",
      "Calcium_USRDA    -0.1201  0.0886 -0.2972  0.0138  0.2579\n",
      "Copper_USRDA     -0.1393 -0.3284 -0.0989  0.1371  0.0185\n",
      "Magnesium_USRDA  -0.1675  0.0739 -0.2820  0.0875  0.0348\n",
      "Phosphorus_USRDA -0.1452  0.0041 -0.3642 -0.1409  0.1032\n",
      "Selenium_USRDA   -0.0719 -0.1103 -0.1230 -0.3148 -0.2172\n",
      "Zinc_USRDA       -0.1992 -0.0072 -0.0311 -0.0841 -0.1162\n"
     ]
    }
   ],
   "source": [
    "# List the relevance of each components by element\n",
    "pcs = np.round(pcamodel.pc.toArray(),4)\n",
    "pca_comp = pd.DataFrame(pcs, columns = ['PC1','PC2','PC3','PC4','PC5'], index = list)\n",
    "print(pca_comp)"
   ]
  },
  {
   "cell_type": "code",
   "execution_count": 12,
   "metadata": {},
   "outputs": [
    {
     "name": "stdout",
     "output_type": "stream",
     "text": [
      "+------------------------------------------------------------+------------------------------------------------------------------------------------------------------+\n",
      "|Descrip                                                     |pca_features                                                                                          |\n",
      "+------------------------------------------------------------+------------------------------------------------------------------------------------------------------+\n",
      "|Butter, salted                                              |[1.6961589673245903,-0.40130641575715076,-0.3119835907890767,2.443965041600696,-2.6857802271447206]   |\n",
      "|Butter, whipped, with salt                                  |[1.6925717792213761,-0.4106487760502162,-0.31478301514174356,2.4554947024364115,-2.6812701865908326]  |\n",
      "|Butter oil, anhydrous                                       |[1.673611549674143,-0.4089146295578469,-0.4426331554418034,3.136411283933793,-3.4605379106257987]     |\n",
      "|Cheese, blue                                                |[-0.4657018695431335,-0.17043382862306866,-2.5243831534720678,-0.7843335070616234,0.3774932621314682] |\n",
      "|Cheese, brick                                               |[-0.5055422817645974,-0.20242138169296756,-3.3486937413390976,-0.7612089580582837,0.7527324305004064] |\n",
      "|Cheese, brie                                                |[0.00878162208203604,-0.46061856859759925,-0.6381108073123452,-0.6387928291419583,-0.5532043917927224]|\n",
      "|Cheese, camembert                                           |[-0.33990114697030543,-0.3237713970277425,-1.716600443375418,-0.8545229670069755,0.25892704155409285] |\n",
      "|Cheese, caraway                                             |[-0.6691735666564496,-0.051360560974588736,-3.448482065460908,-0.9748940088637114,0.8058814759951107] |\n",
      "|Cheese, cheddar                                             |[-0.8377404186299808,-0.2338545161229485,-3.6392639374886517,-1.0005561981650961,0.27304404202205107] |\n",
      "|Cheese, cheshire                                            |[-0.4185464229210251,-0.11062643328243794,-3.3521325639477557,-0.80976019411548,0.6450309507133318]   |\n",
      "|Cheese, colby                                               |[-0.634437609051624,-0.10151034255165696,-3.4809400568898523,-0.7412741108733685,0.6571728980128269]  |\n",
      "|Cheese, cottage, creamed, large or small curd               |[1.6097196431848608,-0.40857725441682874,-0.04035168246896598,-0.7299068867366117,0.3679190901988652] |\n",
      "|Cheese, cottage, creamed, with fruit                        |[1.7049441360461892,-0.4232730498371324,0.2373397149355918,-0.6042328118406441,0.3241475171046892]    |\n",
      "|Cheese, cottage, nonfat, uncreamed, dry, large or small curd|[1.5281594963367493,-0.3902169395004142,-0.09898166130329342,-0.8494598781520669,0.575043391686584]   |\n",
      "|Cheese, cottage, lowfat, 2% milkfat                         |[1.461743050979699,-0.43504109084353043,-0.013762486429650524,-0.7604397654071112,0.5083108513902884] |\n",
      "|Cheese, cottage, lowfat, 1% milkfat                         |[1.6697691271311004,-0.46519317136583316,0.1818894761199404,-0.8412527409376109,0.4057653104271194]   |\n",
      "|Cheese, cream                                               |[1.5455077886875113,-0.3673829944940019,-0.18946404955555304,0.6221928484643864,-0.5290169850428367]  |\n",
      "|Cheese, edam                                                |[-0.9362713507858345,-0.17691781305399382,-3.8452535736180256,-1.0367919610647667,0.9396392239614294] |\n",
      "|Cheese, feta                                                |[-1.0948962814692336,-0.057624806158557945,-1.4600702722829335,-0.8817471471050043,0.7277087187240003]|\n",
      "|Cheese, fontina                                             |[-0.16156603152407967,-0.3848135727053559,-2.7301094782316597,-0.7183960146482218,0.13977800080057706]|\n",
      "+------------------------------------------------------------+------------------------------------------------------------------------------------------------------+\n",
      "only showing top 20 rows\n",
      "\n"
     ]
    }
   ],
   "source": [
    "# List PCA feature for each food \n",
    "result_pca = result.select('Descrip',\"pca_features\")\n",
    "\n",
    "result_pca.show(truncate=False)"
   ]
  },
  {
   "cell_type": "code",
   "execution_count": 13,
   "metadata": {},
   "outputs": [
    {
     "name": "stdout",
     "output_type": "stream",
     "text": [
      "--- Execution time: 14.05980110168457 seconds ---\n"
     ]
    }
   ],
   "source": [
    "spark.stop()\n",
    "print(\"--- Execution time: %s seconds ---\" % (time.time() - start_time))"
   ]
  },
  {
   "cell_type": "code",
   "execution_count": null,
   "metadata": {},
   "outputs": [],
   "source": []
  }
 ],
 "metadata": {
  "kernelspec": {
   "display_name": "Python 3",
   "language": "python",
   "name": "python3"
  },
  "language_info": {
   "codemirror_mode": {
    "name": "ipython",
    "version": 3
   },
   "file_extension": ".py",
   "mimetype": "text/x-python",
   "name": "python",
   "nbconvert_exporter": "python",
   "pygments_lexer": "ipython3",
   "version": "3.6.9"
  }
 },
 "nbformat": 4,
 "nbformat_minor": 4
}
