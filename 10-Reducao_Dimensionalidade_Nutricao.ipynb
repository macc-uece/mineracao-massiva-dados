{
 "cells": [
  {
   "cell_type": "markdown",
   "metadata": {},
   "source": [
    "# Exemplo 10: Redução de Dimensionalidade\n",
    "## Elementos nutricionais mais importantes\n",
    "\n",
    "*Redução de dimensionalidade* ou *redução de dimensão* é uma técnica usada em mineração de dados e aprendizado de máquina que tem como objetivo a redução do número de variáveis de entrada para extrair um conjunto de variáveis principais. Apesar do risco de perda de acurácia na análise, a redução do tempo de processamento torna esta técnca importante para a análise de dados multivariáveis. \n",
    "\n",
    "Os algoritmos de seleção de atributos tentam encontrar um subconjunto das variáveis de entrada (também chamadas de atributos) mais importante para a análise. A análise de dados como regressão ou classificação pode ser feita no espaço reduzido com mais velocidade e precisão do que no espaço original.\n",
    "\n",
    "## Singular Value Decomposition (SVD)\n",
    "\n",
    "A decomposição de valor singular, ou Singular Value Decomposition (SVD), é uma técnica de álgebra linear onde uma matriz A é transformada por fatoração em um produto de três matrizes A = UDV', onde as colunas de U e V' são ortonormais e a matriz D é diagonal com números reais positivas. O SVD é útil em várias tarefas, dentre elas, pode ser usada na redução de dimensionalidade. Diferentemente da decomposição espectral, comumente usada em Álgebra Linear, a decomposição de valor singular pode ser usada para todas as matrizes (retangulares ou quadradas), sendo uma ferramenta útil para análise de dados. A matriz diagonal D representa a relevância de cada atributo e através da seleção dos maiores valores podemos excluir linhas da matrz U e colunas da matriz V', reduzindo a dimensionalidade da matriz.\n",
    "\n",
    "## Principal Component Analysis (PCA)\n",
    "\n",
    "A principal técnica linear para redução de dimensionalidade é a análise de componentes principais (PCA). PCA realiza um mapeamento linear dos dados de entrada para um espaço de menor dimensão, de forma que a variação dos dados na representação de dimensão menor seja maximizada. Na prática, a matriz de covariância (e às vezes a de correlação) dos dados é construída e são calculados os autovetores nessa matriz. Os vetores próprios que correspondem aos maiores valores próprios (os componentes principais) que agora podem ser usados para reconstruir uma grande parte da variação dos dados originais. Além disso, os primeiros autovetores podem ser interpretados como termos do comportamento físico do sistema, porque geralmente contribuem com a maior parte da energia do sistema. Uma redução usando o PCA deve ser comprovada caso a caso, pois nem todos os sistemas exibem esse comportamento de equivalencia. O espaço original foi reduzido com perda de dados, mas esperamos manter a variação mais importante para a análise do problema.\n",
    "\n",
    "## Exemplo\n",
    "\n",
    "Este exemplo apresenta a redução de dimensionalidade usando SVD e PCA sobre dados nutricionais de alimentos da USDA National Nutrient Database com 45 campos. O objetivo é obter relações dos alimentos através apenas dos principais componente."
   ]
  },
  {
   "cell_type": "markdown",
   "metadata": {},
   "source": [
    "## Carregando de bibliotecas "
   ]
  },
  {
   "cell_type": "code",
   "execution_count": 1,
   "metadata": {},
   "outputs": [],
   "source": [
    "# Load libraries\n",
    "import pyspark\n",
    "from pyspark.sql import SparkSession\n",
    "from pyspark.sql.types import *\n",
    "from pyspark.sql import functions as F\n",
    "\n",
    "from pyspark.ml.feature import VectorSlicer\n",
    "from pyspark.ml.feature import StandardScaler\n",
    "from pyspark.ml.feature import VectorAssembler\n",
    "from pyspark.ml.feature import PCA\n",
    "\n",
    "from pyspark.mllib.linalg import Vectors\n",
    "from pyspark.mllib.linalg.distributed import RowMatrix\n",
    "from pyspark.mllib.linalg.distributed import SingularValueDecomposition\n",
    "\n",
    "import pandas as pd\n",
    "import numpy as np\n",
    "import random as rd\n",
    "import matplotlib.pyplot as plt\n",
    "\n",
    "import time\n",
    "start_time = time.time()\n",
    "\n",
    "# Show graphics inline\n",
    "%matplotlib inline"
   ]
  },
  {
   "cell_type": "markdown",
   "metadata": {},
   "source": [
    "## Funções auxiliares"
   ]
  },
  {
   "cell_type": "code",
   "execution_count": 2,
   "metadata": {},
   "outputs": [],
   "source": [
    "def sliceFeatures(df, nValores, nomeSaidas, nomeEntrada):#dataframe / numero de colunas a serem criadas / nome das colunas de saida / ...coluna de entrada\n",
    "    for i in range(nValores):\n",
    "        slicer = VectorSlicer(inputCol = nomeEntrada, outputCol = nomeSaidas + str(i+1), indices=[i])\n",
    "        df = slicer.transform(df)\n",
    "    return df\n",
    "\n",
    "def returnVector(df, name):#dataframe / nome da coluna , retorna um vetor da coluna especificada\n",
    "    aux = np.array(df.select(name).collect())\n",
    "    aux2 = []\n",
    "    for i in range(df.count()):\n",
    "        aux2.append(float(aux[i]))\n",
    "    return aux2\n",
    "\n",
    "def returnDimesion(nAmostras, nTipos, rangeDaMedia):#retorna um vetor np com nAmostras, com nTipos com a mesma media, que varia de 1 a rangeDaMedia \n",
    "    d = []\n",
    "    for k in range(nTipo):\n",
    "        t = np.random.poisson(lam=rd.randrange(1, rangeDaMedia), size = nAmostras)\n",
    "        d = np.concatenate((d, t))\n",
    "    return d   "
   ]
  },
  {
   "cell_type": "markdown",
   "metadata": {},
   "source": [
    "## Parameters configuration"
   ]
  },
  {
   "cell_type": "code",
   "execution_count": 3,
   "metadata": {},
   "outputs": [],
   "source": [
    "# Path to dataset file\n",
    "data_path = './data/'\n",
    "\n",
    "# Number of principal components\n",
    "kComp = 6\n",
    "\n",
    "# Number of components (collumn)\n",
    "TotalComp = 38\n",
    "\n",
    "# Set principal component column label\n",
    "colname = [] \n",
    "for i in range(1, kComp+1):\n",
    "    colname.append(\"PC\"+str(i))"
   ]
  },
  {
   "cell_type": "markdown",
   "metadata": {},
   "source": [
    "## Creating Spark environment"
   ]
  },
  {
   "cell_type": "code",
   "execution_count": 4,
   "metadata": {},
   "outputs": [],
   "source": [
    "# Create Spark Session\n",
    "sc = SparkSession.builder \\\n",
    "     .master(\"local[*]\") \\\n",
    "     .appName(\"ReducaoDimensionalidade\") \\\n",
    "     .getOrCreate()"
   ]
  },
  {
   "cell_type": "markdown",
   "metadata": {},
   "source": [
    "## Reading Data"
   ]
  },
  {
   "cell_type": "code",
   "execution_count": 5,
   "metadata": {},
   "outputs": [
    {
     "name": "stdout",
     "output_type": "stream",
     "text": [
      "+----+--------------------+--------------------+--------------------+----------+-------+--------------+-----------+---------+-----+------+-------+-------+--------+--------+----------+-------+-------+----------+---------+-------------+----------+----------+----------+-------+------------+------------+-------------+------------+-------+----------+------------+------------+----------+-----------+------------+------------+----------------+-------------+-------------+------------+---------------+----------------+--------------+------------+\n",
      "|  ID|           FoodGroup|        ShortDescrip|             Descrip|CommonName|MfgName|ScientificName|Energy_kcal|Protein_g|Fat_g|Carb_g|Sugar_g|Fiber_g|VitA_mcg|VitB6_mg|VitB12_mcg|VitC_mg|VitE_mg|Folate_mcg|Niacin_mg|Riboflavin_mg|Thiamin_mg|Calcium_mg|Copper_mcg|Iron_mg|Magnesium_mg|Manganese_mg|Phosphorus_mg|Selenium_mcg|Zinc_mg|VitA_USRDA| VitB6_USRDA|VitB12_USRDA|VitC_USRDA| VitE_USRDA|Folate_USRDA|Niacin_USRDA|Riboflavin_USRDA|Thiamin_USRDA|Calcium_USRDA|Copper_USRDA|Magnesium_USRDA|Phosphorus_USRDA|Selenium_USRDA|  Zinc_USRDA|\n",
      "+----+--------------------+--------------------+--------------------+----------+-------+--------------+-----------+---------+-----+------+-------+-------+--------+--------+----------+-------+-------+----------+---------+-------------+----------+----------+----------+-------+------------+------------+-------------+------------+-------+----------+------------+------------+----------+-----------+------------+------------+----------------+-------------+-------------+------------+---------------+----------------+--------------+------------+\n",
      "|1001|Dairy and Egg Pro...|    BUTTER,WITH SALT|      Butter, salted|      NULL|   NULL|          NULL|      717.0|     0.85|81.11|  0.06|   0.06|    0.0|   684.0|   0.003|      0.17|    0.0|   2.32|       3.0|    0.042|        0.034|     0.005|      24.0|       0.0|   0.02|         2.0|         0.0|         24.0|         1.0|   0.09|      0.76|0.0017647059|  0.07083333|       0.0| 0.15466666|      0.0075|    0.002625|     0.026153846|  0.004166667|         0.02|         0.0|    0.004761905|     0.034285713|   0.018181818| 0.008181818|\n",
      "|1002|Dairy and Egg Pro...|BUTTER,WHIPPED,WI...|Butter, whipped, ...|      NULL|   NULL|          NULL|      717.0|     0.85|81.11|  0.06|   0.06|    0.0|   684.0|   0.003|      0.13|    0.0|   2.32|       3.0|    0.042|        0.034|     0.005|      24.0|     0.016|   0.16|         2.0|       0.004|         23.0|         1.0|   0.05|      0.76|0.0017647059| 0.054166667|       0.0| 0.15466666|      0.0075|    0.002625|     0.026153846|  0.004166667|         0.02|1.7777778E-5|    0.004761905|     0.032857142|   0.018181818|0.0045454544|\n",
      "|1003|Dairy and Egg Pro...|BUTTER OIL,ANHYDROUS|Butter oil, anhyd...|      NULL|   NULL|          NULL|      876.0|     0.28|99.48|   0.0|    0.0|    0.0|   840.0|   0.001|      0.01|    0.0|    2.8|       0.0|    0.003|        0.005|     0.001|       4.0|     0.001|    0.0|         0.0|         0.0|          3.0|         0.0|   0.01|0.93333334|5.8823527E-4| 0.004166667|       0.0| 0.18666667|         0.0|    1.875E-4|    0.0038461538| 8.3333335E-4| 0.0033333334|1.1111111E-6|            0.0|     0.004285714|           0.0| 9.090909E-4|\n",
      "|1004|Dairy and Egg Pro...|         CHEESE,BLUE|        Cheese, blue|      NULL|   NULL|          NULL|      353.0|     21.4|28.74|  2.34|    0.5|    0.0|   198.0|   0.166|      1.22|    0.0|   0.25|      36.0|    1.016|        0.382|     0.029|     528.0|      0.04|   0.31|        23.0|       0.009|        387.0|        14.5|   2.66|      0.22| 0.097647056|   0.5083333|       0.0|0.016666668|        0.09|      0.0635|      0.29384616|  0.024166666|         0.44|4.4444445E-5|    0.054761905|      0.55285716|    0.26363635|  0.24181817|\n",
      "|1005|Dairy and Egg Pro...|        CHEESE,BRICK|       Cheese, brick|      NULL|   NULL|          NULL|      371.0|    23.24|29.68|  2.79|   0.51|    0.0|   292.0|   0.065|      1.26|    0.0|   0.26|      20.0|    0.118|        0.351|     0.014|     674.0|     0.024|   0.43|        24.0|       0.012|        451.0|        14.5|    2.6|0.32444444| 0.038235296|       0.525|       0.0|0.017333332|        0.05|    0.007375|            0.27|  0.011666667|   0.56166667|2.6666667E-5|    0.057142857|      0.64428574|    0.26363635|  0.23636363|\n",
      "+----+--------------------+--------------------+--------------------+----------+-------+--------------+-----------+---------+-----+------+-------+-------+--------+--------+----------+-------+-------+----------+---------+-------------+----------+----------+----------+-------+------------+------------+-------------+------------+-------+----------+------------+------------+----------+-----------+------------+------------+----------------+-------------+-------------+------------+---------------+----------------+--------------+------------+\n",
      "only showing top 5 rows\n",
      "\n"
     ]
    }
   ],
   "source": [
    "# Define Dataframe schema\n",
    "food_schema = StructType([\n",
    "    StructField('ID', IntegerType()),\n",
    "    StructField('FoodGroup', StringType(), True),\n",
    "    StructField('ShortDescrip', StringType(), True),\n",
    "    StructField('Descrip', StringType(), True),\n",
    "    StructField('CommonName', StringType(), True),\n",
    "    StructField('MfgName', StringType(), True),\n",
    "    StructField('ScientificName', StringType(), True),\n",
    "    StructField('Energy_kcal', FloatType(), True),\n",
    "    StructField('Protein_g', FloatType(), True),\n",
    "    StructField('Fat_g', FloatType(), True),\n",
    "    StructField('Carb_g', FloatType(), True),\n",
    "    StructField('Sugar_g', FloatType(), True),\n",
    "    StructField('Fiber_g', FloatType(), True),\n",
    "    StructField('VitA_mcg', FloatType(), True),\n",
    "    StructField('VitB6_mg', FloatType(), True),\n",
    "    StructField('VitB12_mcg', FloatType(), True),\n",
    "    StructField('VitC_mg', FloatType(), True),\n",
    "    StructField('VitE_mg', FloatType(), True),\n",
    "    StructField('Folate_mcg', FloatType(), True),\n",
    "    StructField('Niacin_mg', FloatType(), True),\n",
    "    StructField('Riboflavin_mg', FloatType(), True),\n",
    "    StructField('Thiamin_mg', FloatType(), True),\n",
    "    StructField('Calcium_mg', FloatType(), True),\n",
    "    StructField('Copper_mcg', FloatType(), True),\n",
    "    StructField('Iron_mg', FloatType(), True),\n",
    "    StructField('Magnesium_mg', FloatType(), True),\n",
    "    StructField('Manganese_mg', FloatType(), True),\n",
    "    StructField('Phosphorus_mg', FloatType(), True),\n",
    "    StructField('Selenium_mcg', FloatType(), True),\n",
    "    StructField('Zinc_mg', FloatType(), True),\n",
    "    StructField('VitA_USRDA', FloatType(), True),\n",
    "    StructField('VitB6_USRDA', FloatType(), True),\n",
    "    StructField('VitB12_USRDA', FloatType(), True),\n",
    "    StructField('VitC_USRDA', FloatType(), True),\n",
    "    StructField('VitE_USRDA', FloatType(), True),\n",
    "    StructField('Folate_USRDA', FloatType(), True),\n",
    "    StructField('Niacin_USRDA', FloatType(), True),\n",
    "    StructField('Riboflavin_USRDA', FloatType(), True),\n",
    "    StructField('Thiamin_USRDA', FloatType(), True),\n",
    "    StructField('Calcium_USRDA', FloatType(), True),\n",
    "    StructField('Copper_USRDA', FloatType(), True),\n",
    "    StructField('Magnesium_USRDA', FloatType(), True),\n",
    "    StructField('Phosphorus_USRDA', FloatType(), True),\n",
    "    StructField('Selenium_USRDA', FloatType(), True),\n",
    "    StructField('Zinc_USRDA', FloatType(), True),\n",
    "])\n",
    "\n",
    "#Extrai dados de dados dos alimentos CSV para Dataframe Spark\n",
    "food = sc.read.format(\"csv\").options(header='true'). \\\n",
    "       load(data_path+\"nndb_flat.csv.gz\",schema=food_schema)\n",
    "\n",
    "#food.dtypes\n",
    "food.show(5)"
   ]
  },
  {
   "cell_type": "code",
   "execution_count": 6,
   "metadata": {},
   "outputs": [
    {
     "name": "stdout",
     "output_type": "stream",
     "text": [
      "Final Dataframe\n",
      "root\n",
      " |-- ID: integer (nullable = true)\n",
      " |-- Descrip: string (nullable = true)\n",
      " |-- FoodGroup: string (nullable = true)\n",
      " |-- features: vector (nullable = true)\n",
      "\n"
     ]
    }
   ],
   "source": [
    "# The feature column should join all parameters as a Vector\n",
    "# Set the column names that is not part of features list\n",
    "ignore = ['ID', 'FoodGroup', 'ShortDescrip', 'Descrip', 'CommonName', 'MfgName', 'ScientificName']\n",
    "\n",
    "# list will be the value of all columns parts of features vector. Save it, it will be used to revert the vector\n",
    "list = [x for x in food.columns if x not in ignore]\n",
    "\n",
    "# VectorAssembler mount the vector of features\n",
    "assembler = VectorAssembler(\n",
    "            inputCols=list,\n",
    "            outputCol='features')\n",
    "\n",
    "# Create final dataframe composed by label and a column of features vector\n",
    "# To avoid errors invalid collumn fields shoud be skiped\n",
    "data = (assembler.setHandleInvalid(\"skip\").transform(food).select(\"ID\",\"Descrip\",\"FoodGroup\",\"features\"))\n",
    "\n",
    "print(\"Final Dataframe\")\n",
    "data.printSchema()"
   ]
  },
  {
   "cell_type": "markdown",
   "metadata": {},
   "source": [
    "## Normalize the feature vector"
   ]
  },
  {
   "cell_type": "code",
   "execution_count": 7,
   "metadata": {},
   "outputs": [
    {
     "name": "stdout",
     "output_type": "stream",
     "text": [
      "root\n",
      " |-- ID: integer (nullable = true)\n",
      " |-- Descrip: string (nullable = true)\n",
      " |-- FoodGroup: string (nullable = true)\n",
      " |-- scalled_features: vector (nullable = true)\n",
      "\n"
     ]
    }
   ],
   "source": [
    "# If feature vector use different scale, all collumn should be normalized \n",
    "standardScaler = StandardScaler(inputCol=\"features\", outputCol=\"scalled_features\", withStd=True, withMean=True)\n",
    "scalledmodel = standardScaler.fit(data)\n",
    "\n",
    "# Remove unscalled feature collumn\n",
    "scalled_data = scalledmodel.transform(data).drop('features')\n",
    "\n",
    "scalled_data.printSchema()"
   ]
  },
  {
   "cell_type": "markdown",
   "metadata": {},
   "source": [
    "## Singular Value Decomposition (SVD)\n",
    "\n",
    "Singular value decomposition (SVD) factorizes a matrix into three matrices: U, s, and V such that:\n",
    "\n",
    "A=UsV'\n",
    "\n",
    "where,\n",
    "\n",
    "U is an orthonormal matrix, whose columns are called left singular vectors,\n",
    "\n",
    "s is a diagonal matrix with non-negative diagonals in descending order, whose diagonals are called singular values,\n",
    "\n",
    "V is an orthonormal matrix, whose columns are called right singular vectors."
   ]
  },
  {
   "cell_type": "code",
   "execution_count": 8,
   "metadata": {},
   "outputs": [
    {
     "name": "stdout",
     "output_type": "stream",
     "text": [
      "U factor is:\n",
      "[-0.006092059127006718,0.0022653264938586274,0.0019116031746546098,0.017382448336450862,0.019951082400128328,0.005442171639039023]\n",
      "[-0.006079175097593518,0.0023180629950858116,0.001928755962935006,0.017464451855487437,0.01991757996020077,0.005374800879203093]\n",
      "[-0.006011076032772043,0.0023082739465205547,0.0027121264391177123,0.022307400546586097,0.02570630176880181,0.006405079735627463]\n",
      "[0.0016726517852801138,0.0009620784823515842,0.015467540578069282,-0.005578490867494757,-0.0028041755249217258,0.004642133252568634]\n",
      "[0.0018157457709106688,0.001142644375638475,0.020518302166788033,-0.005414019906776366,-0.005591606712410671,0.00466783260433399]\n",
      "[-3.154077063847744e-05,0.0026001364693825743,0.003909867957973387,-0.004543347863512276,0.004109430210715111,0.0035406411433852878]\n",
      "[0.0012208159285604554,0.0018276506301469228,0.010518049519432748,-0.0060777061346920114,-0.0019234167745581865,0.004192714231772679]\n",
      "[0.002403456876881834,0.00028992419494629044,0.02112973072526526,-0.006933832707971118,-0.005986419726311008,0.004534054524867143]\n",
      "[0.0030088949571909817,0.0013200806423248866,0.022298700001221018,-0.0071163523725892835,-0.002028283671980541,0.006126295706009486]\n",
      "[0.001503284541692433,0.0006244729224250411,0.020539372711553403,-0.005759335546758792,-0.004791555734251505,0.004223051188138037]\n",
      "\n",
      "Singular values are: [278.42129105499697,177.15168954457906,163.20520645998997,140.59958610524038,134.61827149425469,126.08338499414133]\n",
      "\n",
      "V factor is:\n",
      "DenseMatrix([[ 0.09495634, -0.09706828,  0.14299127,  0.26843233,  0.29714604,\n",
      "              -0.05470127],\n",
      "             [ 0.11357424,  0.0844897 ,  0.16815585, -0.30239321,  0.12100795,\n",
      "               0.07953068],\n",
      "             [ 0.01372002, -0.01678468,  0.13429656,  0.2253409 ,  0.37663036,\n",
      "               0.10531818],\n",
      "             [ 0.10798965, -0.17752443,  0.00801792,  0.26428281, -0.08141543,\n",
      "              -0.2591338 ],\n",
      "             [ 0.04290712, -0.11287316, -0.03972512,  0.25473132, -0.05803806,\n",
      "              -0.16861168],\n",
      "             [ 0.11640285, -0.11681391,  0.13845784,  0.18608835, -0.0794943 ,\n",
      "              -0.12752042],\n",
      "             [ 0.10693117,  0.36269139, -0.06777488,  0.18454223, -0.09415819,\n",
      "              -0.00812036],\n",
      "             [ 0.23888034, -0.09470782, -0.12467284, -0.00420292, -0.00950263,\n",
      "               0.1526477 ],\n",
      "             [ 0.14369216,  0.36181932, -0.07017605,  0.00289415,  0.01699715,\n",
      "              -0.01510665],\n",
      "             [ 0.06986178, -0.04058734, -0.0866288 ,  0.11173475, -0.30923198,\n",
      "               0.4901707 ],\n",
      "             [ 0.0997394 , -0.06740509,  0.04553667,  0.27180858,  0.34374828,\n",
      "               0.278738  ],\n",
      "             [ 0.2126795 , -0.12071858, -0.16475854, -0.00205802,  0.01787418,\n",
      "              -0.14882854],\n",
      "             [ 0.25694203, -0.07305954, -0.14599388, -0.12169685,  0.03218845,\n",
      "               0.06990551],\n",
      "             [ 0.25904551,  0.0199263 , -0.16113263, -0.05079296, -0.05020295,\n",
      "              -0.01215361],\n",
      "             [ 0.20474125, -0.13143583, -0.14193482, -0.09472741,  0.03453876,\n",
      "              -0.16762844],\n",
      "             [ 0.12012036, -0.08863804,  0.2972035 ,  0.01381012, -0.25794729,\n",
      "               0.0244467 ],\n",
      "             [ 0.13934681,  0.32835193,  0.09890679,  0.13708513, -0.01850207,\n",
      "              -0.11267882],\n",
      "             [ 0.20618638, -0.09357709,  0.01339382,  0.02673274, -0.05489085,\n",
      "              -0.1130569 ],\n",
      "             [ 0.16753246, -0.07393676,  0.28196989,  0.08746047, -0.03475601,\n",
      "              -0.04102467],\n",
      "             [ 0.06451987,  0.1390255 ,  0.03281178,  0.12936049, -0.02968235,\n",
      "              -0.01322998],\n",
      "             [ 0.14516146, -0.00412737,  0.36421246, -0.14086137, -0.10318215,\n",
      "               0.01416029],\n",
      "             [ 0.07187837,  0.11034647,  0.1230359 , -0.31479219,  0.21716122,\n",
      "               0.12386712],\n",
      "             [ 0.19920484,  0.00724978,  0.03114283, -0.08410691,  0.11621758,\n",
      "              -0.00582524],\n",
      "             [ 0.10693117,  0.36269139, -0.06777488,  0.18454223, -0.09415819,\n",
      "              -0.00812036],\n",
      "             [ 0.23888034, -0.09470782, -0.12467284, -0.00420292, -0.00950263,\n",
      "               0.15264771],\n",
      "             [ 0.14369216,  0.36181932, -0.07017605,  0.00289415,  0.01699715,\n",
      "              -0.01510665],\n",
      "             [ 0.06986178, -0.04058734, -0.0866288 ,  0.11173475, -0.30923198,\n",
      "               0.4901707 ],\n",
      "             [ 0.0997394 , -0.06740509,  0.04553667,  0.27180858,  0.34374828,\n",
      "               0.278738  ],\n",
      "             [ 0.2126795 , -0.12071858, -0.16475854, -0.00205802,  0.01787418,\n",
      "              -0.14882854],\n",
      "             [ 0.25694203, -0.07305954, -0.14599388, -0.12169685,  0.03218845,\n",
      "               0.06990551],\n",
      "             [ 0.25904551,  0.0199263 , -0.16113263, -0.05079296, -0.05020295,\n",
      "              -0.01215361],\n",
      "             [ 0.20474125, -0.13143583, -0.14193482, -0.09472741,  0.03453876,\n",
      "              -0.16762844],\n",
      "             [ 0.12012036, -0.08863804,  0.29720351,  0.01381012, -0.25794729,\n",
      "               0.0244467 ],\n",
      "             [ 0.13934681,  0.32835193,  0.09890679,  0.13708514, -0.01850207,\n",
      "              -0.11267882],\n",
      "             [ 0.16753246, -0.07393677,  0.28196989,  0.08746047, -0.03475601,\n",
      "              -0.04102467],\n",
      "             [ 0.14516146, -0.00412737,  0.36421246, -0.14086137, -0.10318215,\n",
      "               0.01416029],\n",
      "             [ 0.07187837,  0.11034646,  0.12303589, -0.31479219,  0.21716122,\n",
      "               0.12386712],\n",
      "             [ 0.19920483,  0.00724978,  0.03114284, -0.08410691,  0.11621758,\n",
      "              -0.00582525]])\n"
     ]
    }
   ],
   "source": [
    "# Run SVD\n",
    "\n",
    "start_time_svd =  time.time()\n",
    "\n",
    "mat = RowMatrix(scalled_data.rdd.map(lambda v: Vectors.fromML(v.scalled_features)))\n",
    "\n",
    "# Compute the top k singular values and corresponding singular vectors.\n",
    "svdmodel = mat.computeSVD(kComp, computeU=True)\n",
    "\n",
    "U = svdmodel.U       # The U factor is a RowMatrix.\n",
    "s = svdmodel.s       # The singular values are stored in a local dense vector.\n",
    "V = svdmodel.V       # The V factor is a local dense matrix.\n",
    "\n",
    "# $example off$\n",
    "collected = U.rows.take(10)\n",
    "\n",
    "print(\"U factor is:\")\n",
    "for vector in collected:\n",
    "    print(vector)\n",
    "\n",
    "print()\n",
    "print(\"Singular values are: %s\" % s)\n",
    "val_s = sum(s)\n",
    "\n",
    "print()\n",
    "print(\"V factor is:\\n%s\" % V)"
   ]
  },
  {
   "cell_type": "code",
   "execution_count": 9,
   "metadata": {},
   "outputs": [
    {
     "data": {
      "image/png": "[encoded data removed]",
      "text/plain": [
       "<Figure size 900x300 with 1 Axes>"
      ]
     },
     "metadata": {},
     "output_type": "display_data"
    }
   ],
   "source": [
    "names = colname\n",
    "values = s\n",
    "\n",
    "fig, ax = plt.subplots(figsize=(9, 3), sharey=True)\n",
    "ax.bar(names, values)\n",
    "fig.suptitle('Relevancia de cada componente')\n",
    "plt.show()"
   ]
  },
  {
   "cell_type": "code",
   "execution_count": 10,
   "metadata": {},
   "outputs": [
    {
     "name": "stdout",
     "output_type": "stream",
     "text": [
      "                       PC1       PC2       PC3       PC4       PC5       PC6\n",
      "Energy_kcal       0.094956 -0.097068  0.142991  0.268432  0.297146 -0.054701\n",
      "Protein_g         0.113574  0.084490  0.168156 -0.302393  0.121008  0.079531\n",
      "Fat_g             0.013720 -0.016785  0.134297  0.225341  0.376630  0.105318\n",
      "Carb_g            0.107990 -0.177524  0.008018  0.264283 -0.081415 -0.259134\n",
      "Sugar_g           0.042907 -0.112873 -0.039725  0.254731 -0.058038 -0.168612\n",
      "Fiber_g           0.116403 -0.116814  0.138458  0.186088 -0.079494 -0.127520\n",
      "VitA_mcg          0.106931  0.362691 -0.067775  0.184542 -0.094158 -0.008120\n",
      "VitB6_mg          0.238880 -0.094708 -0.124673 -0.004203 -0.009503  0.152648\n",
      "VitB12_mcg        0.143692  0.361819 -0.070176  0.002894  0.016997 -0.015107\n",
      "VitC_mg           0.069862 -0.040587 -0.086629  0.111735 -0.309232  0.490171\n",
      "VitE_mg           0.099739 -0.067405  0.045537  0.271809  0.343748  0.278738\n",
      "Folate_mcg        0.212679 -0.120719 -0.164759 -0.002058  0.017874 -0.148829\n",
      "Niacin_mg         0.256942 -0.073060 -0.145994 -0.121697  0.032188  0.069906\n",
      "Riboflavin_mg     0.259046  0.019926 -0.161133 -0.050793 -0.050203 -0.012154\n",
      "Thiamin_mg        0.204741 -0.131436 -0.141935 -0.094727  0.034539 -0.167628\n",
      "Calcium_mg        0.120120 -0.088638  0.297204  0.013810 -0.257947  0.024447\n",
      "Copper_mcg        0.139347  0.328352  0.098907  0.137085 -0.018502 -0.112679\n",
      "Iron_mg           0.206186 -0.093577  0.013394  0.026733 -0.054891 -0.113057\n",
      "Magnesium_mg      0.167532 -0.073937  0.281970  0.087460 -0.034756 -0.041025\n",
      "Manganese_mg      0.064520  0.139026  0.032812  0.129360 -0.029682 -0.013230\n",
      "Phosphorus_mg     0.145161 -0.004127  0.364212 -0.140861 -0.103182  0.014160\n",
      "Selenium_mcg      0.071878  0.110346  0.123036 -0.314792  0.217161  0.123867\n",
      "Zinc_mg           0.199205  0.007250  0.031143 -0.084107  0.116218 -0.005825\n",
      "VitA_USRDA        0.106931  0.362691 -0.067775  0.184542 -0.094158 -0.008120\n",
      "VitB6_USRDA       0.238880 -0.094708 -0.124673 -0.004203 -0.009503  0.152648\n",
      "VitB12_USRDA      0.143692  0.361819 -0.070176  0.002894  0.016997 -0.015107\n",
      "VitC_USRDA        0.069862 -0.040587 -0.086629  0.111735 -0.309232  0.490171\n",
      "VitE_USRDA        0.099739 -0.067405  0.045537  0.271809  0.343748  0.278738\n",
      "Folate_USRDA      0.212679 -0.120719 -0.164759 -0.002058  0.017874 -0.148829\n",
      "Niacin_USRDA      0.256942 -0.073060 -0.145994 -0.121697  0.032188  0.069906\n",
      "Riboflavin_USRDA  0.259046  0.019926 -0.161133 -0.050793 -0.050203 -0.012154\n",
      "Thiamin_USRDA     0.204741 -0.131436 -0.141935 -0.094727  0.034539 -0.167628\n",
      "Calcium_USRDA     0.120120 -0.088638  0.297204  0.013810 -0.257947  0.024447\n",
      "Copper_USRDA      0.139347  0.328352  0.098907  0.137085 -0.018502 -0.112679\n",
      "Magnesium_USRDA   0.167532 -0.073937  0.281970  0.087460 -0.034756 -0.041025\n",
      "Phosphorus_USRDA  0.145161 -0.004127  0.364212 -0.140861 -0.103182  0.014160\n",
      "Selenium_USRDA    0.071878  0.110346  0.123036 -0.314792  0.217161  0.123867\n",
      "Zinc_USRDA        0.199205  0.007250  0.031143 -0.084107  0.116218 -0.005825\n"
     ]
    }
   ],
   "source": [
    "rows = V.toArray().tolist()\n",
    "svd_comp = pd.DataFrame(rows, columns = colname, index = list)\n",
    "print(svd_comp)\n",
    "\n",
    "time_svd = time.time() - start_time_svd"
   ]
  },
  {
   "cell_type": "code",
   "execution_count": 11,
   "metadata": {},
   "outputs": [],
   "source": [
    "# Compute the total singular values sum to show importance.\n",
    "svdmodel = mat.computeSVD(TotalComp, computeU=True)\n",
    "total_s = sum(svdmodel.s)       \n",
    "exvar_svd = val_s / total_s"
   ]
  },
  {
   "cell_type": "markdown",
   "metadata": {},
   "source": [
    "## Principal Component Analysis (PCA)"
   ]
  },
  {
   "cell_type": "code",
   "execution_count": 12,
   "metadata": {},
   "outputs": [
    {
     "name": "stdout",
     "output_type": "stream",
     "text": [
      "root\n",
      " |-- ID: integer (nullable = true)\n",
      " |-- Descrip: string (nullable = true)\n",
      " |-- FoodGroup: string (nullable = true)\n",
      " |-- scalled_features: vector (nullable = true)\n",
      " |-- pca_features: vector (nullable = true)\n",
      "\n"
     ]
    }
   ],
   "source": [
    "# Rum PCA algorithm\n",
    "start_time_pca =  time.time()\n",
    "\n",
    "# k= number of components to be reduced. PCA find the k most important components\n",
    "pca = PCA(k=kComp, inputCol=\"scalled_features\", outputCol=\"pca_features\")\n",
    "pcamodel = pca.fit(scalled_data)\n",
    "result = pcamodel.transform(scalled_data)\n",
    "\n",
    "result.printSchema()"
   ]
  },
  {
   "cell_type": "code",
   "execution_count": 13,
   "metadata": {},
   "outputs": [
    {
     "name": "stdout",
     "output_type": "stream",
     "text": [
      "Relevance of each component\n",
      "[26.620883 10.777255  9.147146  6.788685  6.22337   5.459254]\n"
     ]
    },
    {
     "data": {
      "image/png": "[encoded data removed]",
      "text/plain": [
       "<Figure size 900x300 with 1 Axes>"
      ]
     },
     "metadata": {},
     "output_type": "display_data"
    }
   ],
   "source": [
    "# Show the importance of each component: explainedVariance\n",
    "pca_var= np.round(100.00*pcamodel.explainedVariance.toArray(),kComp)\n",
    "exvar_pca = sum(pcamodel.explainedVariance)\n",
    "\n",
    "print(\"Relevance of each component\")\n",
    "print(pca_var)\n",
    "\n",
    "names = colname\n",
    "values = pca_var\n",
    "\n",
    "fig, ax = plt.subplots(figsize=(9, 3), sharey=True)\n",
    "ax.bar(names, values)\n",
    "fig.suptitle('Relevancia de cada componente')\n",
    "plt.show()"
   ]
  },
  {
   "cell_type": "code",
   "execution_count": 14,
   "metadata": {},
   "outputs": [
    {
     "name": "stdout",
     "output_type": "stream",
     "text": [
      "                     PC1     PC2     PC3     PC4     PC5     PC6\n",
      "Energy_kcal      -0.0950  0.0971 -0.1430  0.2684 -0.2971  0.0547\n",
      "Protein_g        -0.1136 -0.0845 -0.1682 -0.3024 -0.1210 -0.0795\n",
      "Fat_g            -0.0137  0.0168 -0.1343  0.2253 -0.3766 -0.1053\n",
      "Carb_g           -0.1080  0.1775 -0.0080  0.2643  0.0814  0.2591\n",
      "Sugar_g          -0.0429  0.1129  0.0397  0.2547  0.0580  0.1686\n",
      "Fiber_g          -0.1164  0.1168 -0.1385  0.1861  0.0795  0.1275\n",
      "VitA_mcg         -0.1069 -0.3627  0.0678  0.1845  0.0942  0.0081\n",
      "VitB6_mg         -0.2389  0.0947  0.1247 -0.0042  0.0095 -0.1526\n",
      "VitB12_mcg       -0.1437 -0.3618  0.0702  0.0029 -0.0170  0.0151\n",
      "VitC_mg          -0.0699  0.0406  0.0866  0.1117  0.3092 -0.4902\n",
      "VitE_mg          -0.0997  0.0674 -0.0455  0.2718 -0.3437 -0.2787\n",
      "Folate_mcg       -0.2127  0.1207  0.1648 -0.0021 -0.0179  0.1488\n",
      "Niacin_mg        -0.2569  0.0731  0.1460 -0.1217 -0.0322 -0.0699\n",
      "Riboflavin_mg    -0.2590 -0.0199  0.1611 -0.0508  0.0502  0.0122\n",
      "Thiamin_mg       -0.2047  0.1314  0.1419 -0.0947 -0.0345  0.1676\n",
      "Calcium_mg       -0.1201  0.0886 -0.2972  0.0138  0.2579 -0.0244\n",
      "Copper_mcg       -0.1393 -0.3284 -0.0989  0.1371  0.0185  0.1127\n",
      "Iron_mg          -0.2062  0.0936 -0.0134  0.0267  0.0549  0.1131\n",
      "Magnesium_mg     -0.1675  0.0739 -0.2820  0.0875  0.0348  0.0410\n",
      "Manganese_mg     -0.0645 -0.1390 -0.0328  0.1294  0.0297  0.0132\n",
      "Phosphorus_mg    -0.1452  0.0041 -0.3642 -0.1409  0.1032 -0.0142\n",
      "Selenium_mcg     -0.0719 -0.1103 -0.1230 -0.3148 -0.2172 -0.1239\n",
      "Zinc_mg          -0.1992 -0.0072 -0.0311 -0.0841 -0.1162  0.0058\n",
      "VitA_USRDA       -0.1069 -0.3627  0.0678  0.1845  0.0942  0.0081\n",
      "VitB6_USRDA      -0.2389  0.0947  0.1247 -0.0042  0.0095 -0.1526\n",
      "VitB12_USRDA     -0.1437 -0.3618  0.0702  0.0029 -0.0170  0.0151\n",
      "VitC_USRDA       -0.0699  0.0406  0.0866  0.1117  0.3092 -0.4902\n",
      "VitE_USRDA       -0.0997  0.0674 -0.0455  0.2718 -0.3437 -0.2787\n",
      "Folate_USRDA     -0.2127  0.1207  0.1648 -0.0021 -0.0179  0.1488\n",
      "Niacin_USRDA     -0.2569  0.0731  0.1460 -0.1217 -0.0322 -0.0699\n",
      "Riboflavin_USRDA -0.2590 -0.0199  0.1611 -0.0508  0.0502  0.0122\n",
      "Thiamin_USRDA    -0.2047  0.1314  0.1419 -0.0947 -0.0345  0.1676\n",
      "Calcium_USRDA    -0.1201  0.0886 -0.2972  0.0138  0.2579 -0.0244\n",
      "Copper_USRDA     -0.1393 -0.3284 -0.0989  0.1371  0.0185  0.1127\n",
      "Magnesium_USRDA  -0.1675  0.0739 -0.2820  0.0875  0.0348  0.0410\n",
      "Phosphorus_USRDA -0.1452  0.0041 -0.3642 -0.1409  0.1032 -0.0142\n",
      "Selenium_USRDA   -0.0719 -0.1103 -0.1230 -0.3148 -0.2172 -0.1239\n",
      "Zinc_USRDA       -0.1992 -0.0072 -0.0311 -0.0841 -0.1162  0.0058\n"
     ]
    }
   ],
   "source": [
    "# List the relevance of each components by element\n",
    "pcs = np.round(pcamodel.pc.toArray(),4)\n",
    "pca_comp = pd.DataFrame(pcs, columns = colname, index = list)\n",
    "\n",
    "print(pca_comp)"
   ]
  },
  {
   "cell_type": "code",
   "execution_count": 15,
   "metadata": {},
   "outputs": [
    {
     "name": "stdout",
     "output_type": "stream",
     "text": [
      "+------------------------------------------------------------+---------------------------------------------------------------------------------------------------------------------------+\n",
      "|Descrip                                                     |pca_features                                                                                                               |\n",
      "+------------------------------------------------------------+---------------------------------------------------------------------------------------------------------------------------+\n",
      "|Butter, salted                                              |[1.6961589673245892,-0.4013064157571459,-0.3119835907890829,2.4439650416007224,-2.6857802271446976,-0.6861674219624501]    |\n",
      "|Butter, whipped, with salt                                  |[1.6925717792213755,-0.41064877605021133,-0.3147830151417492,2.455494702436437,-2.681270186590809,-0.6776730885127763]     |\n",
      "|Butter oil, anhydrous                                       |[1.6736115496741417,-0.40891462955784086,-0.4426331554418097,3.1364112839338274,-3.4605379106257734,-0.8075741342168687]   |\n",
      "|Cheese, blue                                                |[-0.46570186954313453,-0.17043382862305953,-2.5243831534720695,-0.7843335070616217,0.3774932621314676,-0.5852958740743373] |\n",
      "|Cheese, brick                                               |[-0.5055422817645986,-0.20242138169295618,-3.348693741339099,-0.7612089580582841,0.752732430500407,-0.5885361353377241]    |\n",
      "|Cheese, brie                                                |[0.008781622082035277,-0.4606185685975959,-0.638110807312348,-0.638792829141951,-0.5532043917927256,-0.446416020400777]    |\n",
      "|Cheese, camembert                                           |[-0.33990114697030627,-0.32377139702773616,-1.7166004433754207,-0.8545229670069738,0.25892704155408997,-0.5286316026494304]|\n",
      "|Cheese, caraway                                             |[-0.6691735666564509,-0.05136056097457722,-3.4484820654609085,-0.9748940088637126,0.8058814759951091,-0.5716689422394478]  |\n",
      "|Cheese, cheddar                                             |[-0.8377404186299819,-0.23385451612293578,-3.639263937488655,-1.000556198165093,0.27304404202204957,-0.7724241000864198]   |\n",
      "|Cheese, cheshire                                            |[-0.4185464229210262,-0.11062643328242634,-3.352132563947756,-0.8097601941154795,0.645030950713332,-0.5324565888015361]    |\n",
      "|Cheese, colby                                               |[-0.6344376090516252,-0.10151034255164496,-3.480940056889853,-0.7412741108733677,0.6571728980128275,-0.6039337165580932]   |\n",
      "|Cheese, cottage, creamed, large or small curd               |[1.6097196431848615,-0.4085772544168286,-0.0403516824689671,-0.7299068867366133,0.3679190901988608,-0.19112261413238327]   |\n",
      "|Cheese, cottage, creamed, with fruit                        |[1.7049441360461897,-0.42327304983713293,0.23733971493559064,-0.6042328118406453,0.32414751710468526,-0.16749704723269504] |\n",
      "|Cheese, cottage, nonfat, uncreamed, dry, large or small curd|[1.5281594963367495,-0.39021693950041414,-0.09898166130329425,-0.8494598781520697,0.5750433916865783,-0.1201297893228467]  |\n",
      "|Cheese, cottage, lowfat, 2% milkfat                         |[1.4617430509796996,-0.4350410908435305,-0.013762486429651707,-0.7604397654071138,0.508310851390283,-0.18056574911666531]  |\n",
      "|Cheese, cottage, lowfat, 1% milkfat                         |[1.6697691271311008,-0.4651931713658337,0.18188947611993916,-0.8412527409376133,0.4057653104271136,-0.19047180590616328]   |\n",
      "|Cheese, cream                                               |[1.5455077886875108,-0.3673829944940002,-0.1894640495555556,0.6221928484643933,-0.5290169850428309,-0.2088444013882623]    |\n",
      "|Cheese, edam                                                |[-0.9362713507858359,-0.17691781305398072,-3.8452535736180264,-1.036791961064768,0.9396392239614287,-0.5958706357872589]   |\n",
      "|Cheese, feta                                                |[-1.0948962814692345,-0.05762480615855277,-1.4600702722829348,-0.8817471471050049,0.7277087187239967,-0.4917397222696136]  |\n",
      "|Cheese, fontina                                             |[-0.1615660315240808,-0.3848135727053458,-2.730109478231663,-0.7183960146482182,0.13977800080057734,-0.6172084688012793]   |\n",
      "+------------------------------------------------------------+---------------------------------------------------------------------------------------------------------------------------+\n",
      "only showing top 20 rows\n",
      "\n"
     ]
    }
   ],
   "source": [
    "# List PCA feature for each food \n",
    "result_pca = result.select('Descrip',\"pca_features\")\n",
    "\n",
    "result_pca.show(truncate=False)\n",
    "time_pca = time.time() - start_time_pca"
   ]
  },
  {
   "cell_type": "markdown",
   "metadata": {},
   "source": [
    "## Results"
   ]
  },
  {
   "cell_type": "code",
   "execution_count": 16,
   "metadata": {},
   "outputs": [
    {
     "name": "stdout",
     "output_type": "stream",
     "text": [
      "===============================================================================\n",
      "====================  Compare Explain Variance and Time =======================\n",
      "\n",
      "Singular Value Decomposition (SVD):  Representation = 45.24 %   Time = 5.401 s\n",
      "Principal Component Analysis (PCA):  Representation = 65.02 %   Time = 1.564 s\n",
      "===============================================================================\n"
     ]
    }
   ],
   "source": [
    "print(\"===============================================================================\")\n",
    "print(\"====================  Compare Explain Variance and Time =======================\")\n",
    "print()\n",
    "print(\"Singular Value Decomposition (SVD):  Representation = %3.2f %%   Time = %3.3f s\" % (exvar_svd*100, time_svd))\n",
    "print(\"Principal Component Analysis (PCA):  Representation = %3.2f %%   Time = %3.3f s\" % (exvar_pca*100, time_pca))\n",
    "print(\"===============================================================================\")"
   ]
  },
  {
   "cell_type": "code",
   "execution_count": 17,
   "metadata": {},
   "outputs": [],
   "source": [
    "sc.stop()"
   ]
  }
 ],
 "metadata": {
  "kernelspec": {
   "display_name": "Python 3 (ipykernel)",
   "language": "python",
   "name": "python3"
  },
  "language_info": {
   "codemirror_mode": {
    "name": "ipython",
    "version": 3
   },
   "file_extension": ".py",
   "mimetype": "text/x-python",
   "name": "python",
   "nbconvert_exporter": "python",
   "pygments_lexer": "ipython3",
   "version": "3.12.8"
  }
 },
 "nbformat": 4,
 "nbformat_minor": 4
}
