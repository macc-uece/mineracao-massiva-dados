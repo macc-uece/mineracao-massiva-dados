{
 "cells": [
  {
   "cell_type": "markdown",
   "metadata": {},
   "source": [
    "# Exemplo 05: Regras de Associação\n",
    "## Regras de associação em compras em supermercado\n",
    "\n",
    "Regras de associação são usadas para descobrir elementos que ocorrem em comum dentro de um determinado conjunto de dados e suas possiveis associações.\n",
    " \n",
    "As regras de Associação têm como premissa básica encontrar elementos que implicam na ocorrencia de outros elementos em uma mesma transação, ou seja, encontrar relacionamentos ou padrões frequentes entre conjuntos de dados. O termo transação indica quais itens foram consultados em uma determinada operação de consulta.\n",
    "\n",
    "Um exemplo clássico é estabelecer associação de compra de produtos por um consumidor, isto é, se o cliente compra um determinado produto, quais outros produtos ele tende a comprar também. Essa técnica é largamente utilizada em supermercados e lojas de varejo.\n",
    "\n",
    "No Spark é implementado o algoritmo FP-Growth que é a implementação paralela do algoritmo *a priori*. \n",
    " \n",
    "### FP-Growth\n",
    "\n",
    "FP-Growth is a type of \"a priori\" algorithm to mine frequent itemsets. The Spark implementation use the parallel FP-growth algorithm described in *Li et al.*, **PFP: Parallel FP-Growth for Query Recommendation** [LI2008](http://dx.doi.org/10.1145/1454008.1454027). PFP distributes computation in such a way that each worker executes an independent group of mining tasks."
   ]
  },
  {
   "cell_type": "code",
   "execution_count": 1,
   "metadata": {},
   "outputs": [],
   "source": [
    "# Load libraries\n",
    "import pyspark\n",
    "from pyspark.sql import SparkSession\n",
    "from pyspark.sql.functions import split\n",
    "from pyspark.ml.fpm import FPGrowth\n",
    "\n",
    "import time\n",
    "start_time = time.time()"
   ]
  },
  {
   "cell_type": "markdown",
   "metadata": {},
   "source": [
    "## Parameters configuration"
   ]
  },
  {
   "cell_type": "code",
   "execution_count": 2,
   "metadata": {},
   "outputs": [],
   "source": [
    "# Path to dataset file\n",
    "data_path='./data/'"
   ]
  },
  {
   "cell_type": "markdown",
   "metadata": {},
   "source": [
    "## Creating Spark environment"
   ]
  },
  {
   "cell_type": "code",
   "execution_count": 3,
   "metadata": {},
   "outputs": [
    {
     "name": "stderr",
     "output_type": "stream",
     "text": [
      "Setting default log level to \"WARN\".\n",
      "To adjust logging level use sc.setLogLevel(newLevel). For SparkR, use setLogLevel(newLevel).\n",
      "24/01/16 08:05:12 WARN NativeCodeLoader: Unable to load native-hadoop library for your platform... using builtin-java classes where applicable\n"
     ]
    }
   ],
   "source": [
    "# Create Spark Session\n",
    "sc = SparkSession.builder \\\n",
    "     .master(\"local[*]\") \\\n",
    "     .appName(\"AssociationRule\") \\\n",
    "     .getOrCreate()"
   ]
  },
  {
   "cell_type": "markdown",
   "metadata": {},
   "source": [
    "## Reading Data"
   ]
  },
  {
   "cell_type": "code",
   "execution_count": 4,
   "metadata": {},
   "outputs": [
    {
     "name": "stdout",
     "output_type": "stream",
     "text": [
      "+----------------------------------------------------------------------------------------------+\n",
      "|items                                                                                         |\n",
      "+----------------------------------------------------------------------------------------------+\n",
      "|[citrus fruit, semi-finished bread, margarine, ready soups]                                   |\n",
      "|[tropical fruit, yogurt, coffee]                                                              |\n",
      "|[whole milk]                                                                                  |\n",
      "|[pip fruit, yogurt, cream cheese , meat spreads]                                              |\n",
      "|[other vegetables, whole milk, condensed milk, long life bakery product]                      |\n",
      "|[whole milk, butter, yogurt, rice, abrasive cleaner]                                          |\n",
      "|[rolls/buns]                                                                                  |\n",
      "|[other vegetables, UHT-milk, rolls/buns, bottled beer, liquor (appetizer)]                    |\n",
      "|[pot plants]                                                                                  |\n",
      "|[whole milk, cereals]                                                                         |\n",
      "|[tropical fruit, other vegetables, white bread, bottled water, chocolate]                     |\n",
      "|[citrus fruit, tropical fruit, whole milk, butter, curd, yogurt, flour, bottled water, dishes]|\n",
      "|[beef]                                                                                        |\n",
      "|[frankfurter, rolls/buns, soda]                                                               |\n",
      "|[chicken, tropical fruit]                                                                     |\n",
      "|[butter, sugar, fruit/vegetable juice, newspapers]                                            |\n",
      "|[fruit/vegetable juice]                                                                       |\n",
      "|[packaged fruit/vegetables]                                                                   |\n",
      "|[chocolate]                                                                                   |\n",
      "|[specialty bar]                                                                               |\n",
      "+----------------------------------------------------------------------------------------------+\n",
      "only showing top 20 rows\n",
      "\n"
     ]
    }
   ],
   "source": [
    "# Read the list of products by customer (csv) and transform to a list of vectors\n",
    "data = (sc.read\n",
    "       .text(data_path+\"groceries.csv.gz\")\n",
    "       .select(split(\"value\", \",\").alias(\"items\")))\n",
    "\n",
    "data.show(truncate=False)"
   ]
  },
  {
   "cell_type": "markdown",
   "metadata": {},
   "source": [
    "## Associative Rule: Frequent Pattern Mining\n",
    "\n",
    "Mining frequent items, itemsets, subsequences, or other substructures is usually among the first steps to analyze a large-scale dataset\n",
    "\n",
    "### Set FPGrowth algorithm:\n",
    "\n",
    "**itemsCol** = Name of items collumn. Not needed if it is only one.\n",
    "\n",
    "**minConfidence** = Minimal confidence for generating Association Rule. [0.0, 1.0]. minConfidence will not affect the mining for frequent itemsets, but will affect the association rules generation.\n",
    "               \n",
    "**minSupport** =  Support says how popular an itemset is, as measured by the proportion of transactions in which an itemset appears. Minimal support level of the frequent pattern. [0.0, 1.0]. Any pattern that appears more than (minSupport * size-of-the-dataset) times will be output in the frequent itemsets.\n",
    "\n",
    "**numPartitions** = Number of partitions (at least 1) used by parallel FP-growth. By default the param is not set, and partition number of the input dataset is used."
   ]
  },
  {
   "cell_type": "code",
   "execution_count": 5,
   "metadata": {},
   "outputs": [
    {
     "name": "stdout",
     "output_type": "stream",
     "text": [
      "+------------------------------+----+\n",
      "|items                         |freq|\n",
      "+------------------------------+----+\n",
      "|[whole milk]                  |2513|\n",
      "|[other vegetables]            |1903|\n",
      "|[rolls/buns]                  |1809|\n",
      "|[soda]                        |1715|\n",
      "|[yogurt]                      |1372|\n",
      "|[bottled water]               |1087|\n",
      "|[root vegetables]             |1072|\n",
      "|[tropical fruit]              |1032|\n",
      "|[shopping bags]               |969 |\n",
      "|[sausage]                     |924 |\n",
      "|[pastry]                      |875 |\n",
      "|[citrus fruit]                |814 |\n",
      "|[bottled beer]                |792 |\n",
      "|[newspapers]                  |785 |\n",
      "|[canned beer]                 |764 |\n",
      "|[pip fruit]                   |744 |\n",
      "|[other vegetables, whole milk]|736 |\n",
      "|[fruit/vegetable juice]       |711 |\n",
      "|[whipped/sour cream]          |705 |\n",
      "|[brown bread]                 |638 |\n",
      "+------------------------------+----+\n",
      "only showing top 20 rows\n",
      "\n"
     ]
    }
   ],
   "source": [
    "fpGrowth = FPGrowth(itemsCol=\"items\", minSupport=0.05, minConfidence=0.1)\n",
    "fi = fpGrowth.fit(data)\n",
    "\n",
    "# Display frequent itemsets.\n",
    "fi.freqItemsets.sort('freq', ascending=False).show(truncate=False)"
   ]
  },
  {
   "cell_type": "markdown",
   "metadata": {},
   "source": [
    "### Display generated association rules\n",
    "\n",
    "**Antecedent:** Antecedent itens.\n",
    "\n",
    "**Consequent:** Consequent itens.\n",
    "\n",
    "**Confidence:** This says how likely item Y is purchased when item X is purchased, expressed as {X -> Y}. This is measured by the proportion of transactions with item X, in which item Y also appears.\n",
    "\n",
    "**Lift:** This says how likely item Y is purchased when item X is purchased, while controlling for how popular item Y is. Lift avoid the item popularity which affects confidence. A lift value greater than 1 means that item Y is likely to be bought if item X is bought, while a value less than 1 means that item Y is unlikely to be bought if item X is bought."
   ]
  },
  {
   "cell_type": "code",
   "execution_count": 6,
   "metadata": {},
   "outputs": [
    {
     "name": "stdout",
     "output_type": "stream",
     "text": [
      "+------------------+------------------+-------------------+------------------+-------------------+\n",
      "|antecedent        |consequent        |confidence         |lift              |support            |\n",
      "+------------------+------------------+-------------------+------------------+-------------------+\n",
      "|[yogurt]          |[whole milk]      |0.40160349854227406|1.5717351405345266|0.05602440264361973|\n",
      "|[other vegetables]|[whole milk]      |0.38675775091960063|1.5136340948246207|0.07483477376715811|\n",
      "|[rolls/buns]      |[whole milk]      |0.30790491984521834|1.2050317893663836|0.05663446873411286|\n",
      "|[whole milk]      |[other vegetables]|0.29287703939514526|1.513634094824621 |0.07483477376715811|\n",
      "|[whole milk]      |[rolls/buns]      |0.2216474333465977 |1.2050317893663838|0.05663446873411286|\n",
      "|[whole milk]      |[yogurt]          |0.2192598487863112 |1.5717351405345266|0.05602440264361973|\n",
      "+------------------+------------------+-------------------+------------------+-------------------+\n",
      "\n"
     ]
    }
   ],
   "source": [
    "fi.associationRules.sort('confidence', ascending=False).show(truncate=False)"
   ]
  },
  {
   "cell_type": "markdown",
   "metadata": {},
   "source": [
    "### Verify the rules against dataset\n",
    "\n",
    "Transform examines the input items against all the association rules and summarize the consequents as prediction."
   ]
  },
  {
   "cell_type": "code",
   "execution_count": 7,
   "metadata": {},
   "outputs": [
    {
     "name": "stdout",
     "output_type": "stream",
     "text": [
      "+----------------------------------------------------------------------------------------------+--------------------------------------+\n",
      "|items                                                                                         |prediction                            |\n",
      "+----------------------------------------------------------------------------------------------+--------------------------------------+\n",
      "|[citrus fruit, semi-finished bread, margarine, ready soups]                                   |[]                                    |\n",
      "|[tropical fruit, yogurt, coffee]                                                              |[whole milk]                          |\n",
      "|[whole milk]                                                                                  |[rolls/buns, yogurt, other vegetables]|\n",
      "|[pip fruit, yogurt, cream cheese , meat spreads]                                              |[whole milk]                          |\n",
      "|[other vegetables, whole milk, condensed milk, long life bakery product]                      |[rolls/buns, yogurt]                  |\n",
      "|[whole milk, butter, yogurt, rice, abrasive cleaner]                                          |[rolls/buns, other vegetables]        |\n",
      "|[rolls/buns]                                                                                  |[whole milk]                          |\n",
      "|[other vegetables, UHT-milk, rolls/buns, bottled beer, liquor (appetizer)]                    |[whole milk]                          |\n",
      "|[pot plants]                                                                                  |[]                                    |\n",
      "|[whole milk, cereals]                                                                         |[rolls/buns, yogurt, other vegetables]|\n",
      "|[tropical fruit, other vegetables, white bread, bottled water, chocolate]                     |[whole milk]                          |\n",
      "|[citrus fruit, tropical fruit, whole milk, butter, curd, yogurt, flour, bottled water, dishes]|[rolls/buns, other vegetables]        |\n",
      "|[beef]                                                                                        |[]                                    |\n",
      "|[frankfurter, rolls/buns, soda]                                                               |[whole milk]                          |\n",
      "|[chicken, tropical fruit]                                                                     |[]                                    |\n",
      "|[butter, sugar, fruit/vegetable juice, newspapers]                                            |[]                                    |\n",
      "|[fruit/vegetable juice]                                                                       |[]                                    |\n",
      "|[packaged fruit/vegetables]                                                                   |[]                                    |\n",
      "|[chocolate]                                                                                   |[]                                    |\n",
      "|[specialty bar]                                                                               |[]                                    |\n",
      "+----------------------------------------------------------------------------------------------+--------------------------------------+\n",
      "only showing top 20 rows\n",
      "\n"
     ]
    }
   ],
   "source": [
    "fi.transform(data).show(truncate=False)"
   ]
  },
  {
   "cell_type": "code",
   "execution_count": 8,
   "metadata": {
    "tags": []
   },
   "outputs": [
    {
     "name": "stdout",
     "output_type": "stream",
     "text": [
      "--- Execution time: 10.1537024974823 seconds ---\n"
     ]
    }
   ],
   "source": [
    "sc.stop()\n",
    "print(\"--- Execution time: %s seconds ---\" % (time.time() - start_time))"
   ]
  }
 ],
 "metadata": {
  "kernelspec": {
   "display_name": "Python 3 (ipykernel)",
   "language": "python",
   "name": "python3"
  },
  "language_info": {
   "codemirror_mode": {
    "name": "ipython",
    "version": 3
   },
   "file_extension": ".py",
   "mimetype": "text/x-python",
   "name": "python",
   "nbconvert_exporter": "python",
   "pygments_lexer": "ipython3",
   "version": "3.10.12"
  }
 },
 "nbformat": 4,
 "nbformat_minor": 4
}
