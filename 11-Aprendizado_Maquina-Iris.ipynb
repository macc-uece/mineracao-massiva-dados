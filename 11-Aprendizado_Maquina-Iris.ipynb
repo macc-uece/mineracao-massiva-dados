{
 "cells": [
  {
   "cell_type": "markdown",
   "metadata": {},
   "source": [
    "# Exemplo 11: Aprendizagem de Máquina Serial\n",
    "## Identificação espécie de flores com Iris Dataset\n",
    "---\n",
    "\n",
    "## Iris Plants Database\n",
    "----\n",
    "\n",
    "This is perhaps the best known database to be found in the pattern recognition literature. Fisher's paper is a classic in the field and is referenced frequently to this day. The data set contains 3 classes of 50 instances each, where each class refers to a type of iris plant.  One class is linearly separable from the other 2; the latter are NOT linearly separable from each other.\n",
    "\n",
    "### Predicted attribute:\n",
    "Class of iris plant.\n",
    "\n",
    "### Number of Instances:\n",
    "150 (50 in each of three classes)\n",
    "\n",
    "### Number of Attributes:\n",
    "4 numeric, predictive attributes and the class\n",
    "\n",
    "### Attribute Information:\n",
    "\n",
    "1. sepal length in cm\n",
    "2. sepal width in cm\n",
    "3. petal length in cm\n",
    "4. petal width in cm\n",
    "5. class: \n",
    " + Iris Setosa\n",
    "  + Iris Versicolour\n",
    "   + Iris Virginica\n",
    "\n",
    "### Missing Attribute Values: \n",
    "None\n",
    "\n",
    "### Class Distribution: \n",
    "33.3% for each of 3 classes.\n",
    "\n",
    "## Summary Statistics\n",
    "-----\n",
    "\n",
    "Attributes | Min | Max | Mean | SD | Class Correlation\n",
    "-----------|-----|-----|------|----|------------\n",
    "sepal length | 4.3 | 7.9 | 5.84 | 0.83 | 0.7826   \n",
    "sepal width | 2.0 | 4.4 | 3.05 | 0.43 | -0.4194\n",
    "petal length | 1.0 | 6.9 | 3.76 | 1.76 | 0.9490  \n",
    "petal width | 0.1 | 2.5 | 1.20 | 0.76 | 0.9565 \n",
    "\n",
    "## References:\n",
    "\n",
    "1. Fisher,R.A. \"The use of multiple measurements in taxonomic problems\" Annual Eugenics, 7, Part II, 179-188 (1936); also in \"Contributions to Mathematical Statistics\" (John Wiley, NY, 1950).\n",
    "      \n",
    "2. Duda,R.O., & Hart,P.E. (1973) Pattern Classification and Scene Analysis. John Wiley & Sons. ISBN 0-471-22361-1. "
   ]
  },
  {
   "cell_type": "code",
   "execution_count": 1,
   "metadata": {},
   "outputs": [],
   "source": [
    "# Spark Lib\n",
    "import findspark\n",
    "findspark.init()"
   ]
  },
  {
   "cell_type": "code",
   "execution_count": 2,
   "metadata": {},
   "outputs": [],
   "source": [
    "# Load libraries\n",
    "import pyspark\n",
    "from pyspark.sql import SparkSession\n",
    "from pyspark.ml import Pipeline\n",
    "from pyspark.ml.classification import DecisionTreeClassifier\n",
    "from pyspark.ml.feature import StringIndexer, VectorIndexer\n",
    "from pyspark.ml.evaluation import MulticlassClassificationEvaluator\n",
    "from pyspark.mllib.util import MLUtils\n",
    "\n",
    "from pyspark.ml.feature import StringIndexer, IndexToString\n",
    "from pyspark.ml.feature import VectorAssembler, VectorIndexer\n",
    "from pyspark.ml.classification import MultilayerPerceptronClassifier\n",
    "from pyspark.ml.classification import NaiveBayes\n",
    "from pyspark.ml.classification import LogisticRegression\n",
    "from pyspark.ml.classification import LinearSVC, OneVsRest\n",
    "from pyspark.ml.classification import RandomForestClassifier\n",
    "from pyspark.ml.classification import DecisionTreeClassifier\n",
    "from pyspark.ml.evaluation import MulticlassClassificationEvaluator\n",
    "\n",
    "from pyspark.ml.linalg import Vectors\n",
    "from pyspark.mllib.util import MLUtils\n",
    "\n",
    "## SKLearn Lib\n",
    "import numpy as np\n",
    "import pandas as pd\n",
    "import matplotlib.pyplot as plt\n",
    "import seaborn as sns\n",
    "from sklearn.preprocessing import LabelEncoder\n",
    "from sklearn.model_selection import train_test_split\n",
    "from sklearn.neighbors import KNeighborsClassifier\n",
    "from sklearn.metrics import confusion_matrix, accuracy_score\n",
    "from sklearn.model_selection import cross_val_score\n",
    "\n",
    "import time\n",
    "start_time = time.time()\n",
    "%matplotlib inline"
   ]
  },
  {
   "cell_type": "markdown",
   "metadata": {},
   "source": [
    "## Configure parameters"
   ]
  },
  {
   "cell_type": "code",
   "execution_count": 3,
   "metadata": {},
   "outputs": [],
   "source": [
    "# Path to dataset file\n",
    "data_path='./data/'\n",
    "\n",
    "# Sample of train and test dataset\n",
    "train_sample = 0.7\n",
    "test_sample = 0.3"
   ]
  },
  {
   "cell_type": "markdown",
   "metadata": {},
   "source": [
    "## KNN using Scikit-learn"
   ]
  },
  {
   "cell_type": "code",
   "execution_count": 4,
   "metadata": {},
   "outputs": [
    {
     "data": {
      "text/html": [
       "<div>\n",
       "<style scoped>\n",
       "    .dataframe tbody tr th:only-of-type {\n",
       "        vertical-align: middle;\n",
       "    }\n",
       "\n",
       "    .dataframe tbody tr th {\n",
       "        vertical-align: top;\n",
       "    }\n",
       "\n",
       "    .dataframe thead th {\n",
       "        text-align: right;\n",
       "    }\n",
       "</style>\n",
       "<table border=\"1\" class=\"dataframe\">\n",
       "  <thead>\n",
       "    <tr style=\"text-align: right;\">\n",
       "      <th></th>\n",
       "      <th>sepal length</th>\n",
       "      <th>sepal width</th>\n",
       "      <th>petal length</th>\n",
       "      <th>petal width</th>\n",
       "      <th>class</th>\n",
       "    </tr>\n",
       "  </thead>\n",
       "  <tbody>\n",
       "    <tr>\n",
       "      <th>0</th>\n",
       "      <td>5.1</td>\n",
       "      <td>3.5</td>\n",
       "      <td>1.4</td>\n",
       "      <td>0.2</td>\n",
       "      <td>Iris-setosa</td>\n",
       "    </tr>\n",
       "    <tr>\n",
       "      <th>1</th>\n",
       "      <td>4.9</td>\n",
       "      <td>3.0</td>\n",
       "      <td>1.4</td>\n",
       "      <td>0.2</td>\n",
       "      <td>Iris-setosa</td>\n",
       "    </tr>\n",
       "    <tr>\n",
       "      <th>2</th>\n",
       "      <td>4.7</td>\n",
       "      <td>3.2</td>\n",
       "      <td>1.3</td>\n",
       "      <td>0.2</td>\n",
       "      <td>Iris-setosa</td>\n",
       "    </tr>\n",
       "    <tr>\n",
       "      <th>3</th>\n",
       "      <td>4.6</td>\n",
       "      <td>3.1</td>\n",
       "      <td>1.5</td>\n",
       "      <td>0.2</td>\n",
       "      <td>Iris-setosa</td>\n",
       "    </tr>\n",
       "    <tr>\n",
       "      <th>4</th>\n",
       "      <td>5.0</td>\n",
       "      <td>3.6</td>\n",
       "      <td>1.4</td>\n",
       "      <td>0.2</td>\n",
       "      <td>Iris-setosa</td>\n",
       "    </tr>\n",
       "  </tbody>\n",
       "</table>\n",
       "</div>"
      ],
      "text/plain": [
       "   sepal length  sepal width  petal length  petal width        class\n",
       "0           5.1          3.5           1.4          0.2  Iris-setosa\n",
       "1           4.9          3.0           1.4          0.2  Iris-setosa\n",
       "2           4.7          3.2           1.3          0.2  Iris-setosa\n",
       "3           4.6          3.1           1.5          0.2  Iris-setosa\n",
       "4           5.0          3.6           1.4          0.2  Iris-setosa"
      ]
     },
     "execution_count": 4,
     "metadata": {},
     "output_type": "execute_result"
    }
   ],
   "source": [
    "# Importing the dataset\n",
    "dataset = pd.read_csv(data_path+\"iris.data\")\n",
    "\n",
    "# Print dataset\n",
    "dataset.head(5)"
   ]
  },
  {
   "cell_type": "code",
   "execution_count": 5,
   "metadata": {},
   "outputs": [
    {
     "name": "stdout",
     "output_type": "stream",
     "text": [
      "Number of itens per class\n"
     ]
    },
    {
     "data": {
      "text/plain": [
       "class\n",
       "Iris-setosa        50\n",
       "Iris-versicolor    50\n",
       "Iris-virginica     50\n",
       "dtype: int64"
      ]
     },
     "execution_count": 5,
     "metadata": {},
     "output_type": "execute_result"
    }
   ],
   "source": [
    "print(\"Number of itens per class\")\n",
    "dataset.groupby('class').size()"
   ]
  },
  {
   "cell_type": "code",
   "execution_count": 6,
   "metadata": {},
   "outputs": [],
   "source": [
    "# Read features and calass\n",
    "feature_columns = ['sepal length', 'sepal width', 'petal length','petal width']\n",
    "X = dataset[feature_columns].values\n",
    "y = dataset['class'].values\n",
    "\n",
    "# SKLearn need all column as numbers. Tranform \"class\" column in number\n",
    "le = LabelEncoder()\n",
    "y = le.fit_transform(y)\n",
    "\n",
    "# Split ramdomly the dataset into train and test group\n",
    "X_train, X_test, y_train, y_test = train_test_split(X, y, test_size = test_sample, random_state = 0)"
   ]
  },
  {
   "cell_type": "code",
   "execution_count": 7,
   "metadata": {},
   "outputs": [
    {
     "data": {
      "text/plain": [
       "<Figure size 432x288 with 0 Axes>"
      ]
     },
     "metadata": {},
     "output_type": "display_data"
    },
    {
     "data": {
      "image/png": "[encoded data removed]",
      "text/plain": [
       "<Figure size 967.5x864 with 20 Axes>"
      ]
     },
     "metadata": {
      "needs_background": "light"
     },
     "output_type": "display_data"
    }
   ],
   "source": [
    "plt.figure()\n",
    "sns.pairplot(dataset, hue = \"class\", height=3, markers=[\"o\", \"s\", \"D\"])\n",
    "plt.show()"
   ]
  },
  {
   "cell_type": "code",
   "execution_count": 8,
   "metadata": {},
   "outputs": [],
   "source": [
    "start_time_knn =  time.time()\n",
    "# Instantiate learning model (k = 3)\n",
    "classifier = KNeighborsClassifier(n_neighbors=3)\n",
    "\n",
    "# Fitting the model\n",
    "classifier.fit(X_train, y_train)\n",
    "\n",
    "# Predicting the Test set results\n",
    "y_pred = classifier.predict(X_test)"
   ]
  },
  {
   "cell_type": "code",
   "execution_count": 9,
   "metadata": {},
   "outputs": [
    {
     "name": "stdout",
     "output_type": "stream",
     "text": [
      "KNN accuracy = 97.8 %.\n",
      "K-Nearest Neighbors (KNN): accuracy = 97.8 %\n",
      "K-Nearest Neighbors (KNN): time = 0.016 s\n"
     ]
    }
   ],
   "source": [
    "accuracy_knn = accuracy_score(y_test, y_pred)*100\n",
    "time_knn = time.time() - start_time_knn\n",
    "print('KNN accuracy = ' + str(round(accuracy_knn, 1)) + ' %.')\n",
    "print(\"K-Nearest Neighbors (KNN): accuracy = %3.1f %%\" % accuracy_knn)\n",
    "print(\"K-Nearest Neighbors (KNN): time = %3.3f s\" % time_knn)"
   ]
  },
  {
   "cell_type": "markdown",
   "metadata": {},
   "source": [
    "## Neural network and SVM using Spark"
   ]
  },
  {
   "cell_type": "code",
   "execution_count": 10,
   "metadata": {},
   "outputs": [],
   "source": [
    "# Create Spark Session\n",
    "spark = SparkSession.builder \\\n",
    "        .master(\"local[*]\") \\\n",
    "        .appName(\"MachineLearningIris\") \\\n",
    "        .getOrCreate()"
   ]
  },
  {
   "cell_type": "markdown",
   "metadata": {},
   "source": [
    "## Reading Data"
   ]
  },
  {
   "cell_type": "code",
   "execution_count": 11,
   "metadata": {},
   "outputs": [
    {
     "name": "stdout",
     "output_type": "stream",
     "text": [
      "Original Dataframe read from CSV file\n",
      "+------------+-----------+------------+-----------+-----------+\n",
      "|sepal length|sepal width|petal length|petal width|      class|\n",
      "+------------+-----------+------------+-----------+-----------+\n",
      "|         5.1|        3.5|         1.4|        0.2|Iris-setosa|\n",
      "|         4.9|        3.0|         1.4|        0.2|Iris-setosa|\n",
      "|         4.7|        3.2|         1.3|        0.2|Iris-setosa|\n",
      "|         4.6|        3.1|         1.5|        0.2|Iris-setosa|\n",
      "|         5.0|        3.6|         1.4|        0.2|Iris-setosa|\n",
      "+------------+-----------+------------+-----------+-----------+\n",
      "only showing top 5 rows\n",
      "\n"
     ]
    }
   ],
   "source": [
    "# Load Iris CSV dataset to Spark Dataframe\n",
    "orig_data = spark.read.format(\"csv\").options(sep=',',header='true',inferschema='true').\\\n",
    "            load(data_path+\"iris.data\")\n",
    "\n",
    "print(\"Original Dataframe read from CSV file\")\n",
    "#orig_data.dtypes\n",
    "orig_data.show(5)"
   ]
  },
  {
   "cell_type": "markdown",
   "metadata": {},
   "source": [
    "### Create Classifier Matrix"
   ]
  },
  {
   "cell_type": "code",
   "execution_count": 12,
   "metadata": {},
   "outputs": [
    {
     "name": "stdout",
     "output_type": "stream",
     "text": [
      "Dataframe with numeric lable\n",
      "+------------+-----------+------------+-----------+-----------+-----+\n",
      "|sepal length|sepal width|petal length|petal width|      class|label|\n",
      "+------------+-----------+------------+-----------+-----------+-----+\n",
      "|         5.1|        3.5|         1.4|        0.2|Iris-setosa|  0.0|\n",
      "|         4.9|        3.0|         1.4|        0.2|Iris-setosa|  0.0|\n",
      "|         4.7|        3.2|         1.3|        0.2|Iris-setosa|  0.0|\n",
      "|         4.6|        3.1|         1.5|        0.2|Iris-setosa|  0.0|\n",
      "|         5.0|        3.6|         1.4|        0.2|Iris-setosa|  0.0|\n",
      "+------------+-----------+------------+-----------+-----------+-----+\n",
      "only showing top 5 rows\n",
      "\n"
     ]
    }
   ],
   "source": [
    "# ML libraries doesn't accept string column => everything should be numeric! \n",
    "# create a numeric column \"label\" based on string column \"class\" \n",
    "\n",
    "indexer = StringIndexer(inputCol=\"class\", outputCol=\"label\").fit(orig_data)\n",
    "label_data = indexer.transform(orig_data)\n",
    "\n",
    "# Save the inverse map from numeric \"label\" to string \"class\" to be used further in response\n",
    "labelReverse = IndexToString().setInputCol(\"label\")\n",
    "\n",
    "# Show labeled dataframe with numeric lable\n",
    "print(\"Dataframe with numeric lable\")\n",
    "label_data.show(5)"
   ]
  },
  {
   "cell_type": "code",
   "execution_count": 13,
   "metadata": {},
   "outputs": [
    {
     "name": "stdout",
     "output_type": "stream",
     "text": [
      "Final Dataframe suitable to classifier input format\n",
      "+-----+-----------------+\n",
      "|label|         features|\n",
      "+-----+-----------------+\n",
      "|  0.0|[5.1,3.5,1.4,0.2]|\n",
      "|  0.0|[4.9,3.0,1.4,0.2]|\n",
      "|  0.0|[4.7,3.2,1.3,0.2]|\n",
      "|  0.0|[4.6,3.1,1.5,0.2]|\n",
      "|  0.0|[5.0,3.6,1.4,0.2]|\n",
      "+-----+-----------------+\n",
      "only showing top 5 rows\n",
      "\n"
     ]
    }
   ],
   "source": [
    "# Drop string column \"class\", no string column\n",
    "label_data = label_data.drop(\"class\")\n",
    "\n",
    "# Most Machine Learning Lib inpute 2 columns: label (output) and feature (input)\n",
    "# The label column is the result to train ML algorithm \n",
    "# The feature column should join all parameters as a Vector\n",
    "\n",
    "# Set the column names that is not part of features list\n",
    "ignore = ['label']\n",
    "# list will be all columns parts of features\n",
    "list = [x for x in label_data.columns if x not in ignore]\n",
    "\n",
    "# VectorAssembler mount the vector of features\n",
    "assembler = VectorAssembler(\n",
    "            inputCols=list,\n",
    "            outputCol='features')\n",
    "\n",
    "# Create final dataframe composed by label and a column of features vector\n",
    "data = (assembler.transform(label_data).select(\"label\",\"features\"))\n",
    "\n",
    "print(\"Final Dataframe suitable to classifier input format\")\n",
    "#data.printSchema()\n",
    "data.show(5)"
   ]
  },
  {
   "cell_type": "markdown",
   "metadata": {},
   "source": [
    "### Create Train and Test Dataset"
   ]
  },
  {
   "cell_type": "code",
   "execution_count": 14,
   "metadata": {},
   "outputs": [],
   "source": [
    "# Split ramdomly the dataset into train and test group\n",
    "# [0.7,0.3] => 70% for train and 30% for test\n",
    "# [1.0,0.2] => 100% for train and 20% for test, not good, acuracy always 100%\n",
    "# [0.1,0.02] => 10% for train and 2% for test, if big datasets\n",
    "# 1234 is the random seed\n",
    "\n",
    "(train, test) = data.randomSplit([train_sample, test_sample], 1234)"
   ]
  },
  {
   "cell_type": "markdown",
   "metadata": {},
   "source": [
    "## Run Perceptron"
   ]
  },
  {
   "cell_type": "code",
   "execution_count": 15,
   "metadata": {},
   "outputs": [
    {
     "name": "stdout",
     "output_type": "stream",
     "text": [
      "Perceptron Final Result\n",
      "+-----+-----------------+--------------------+--------------------+----------+\n",
      "|label|         features|       rawPrediction|         probability|prediction|\n",
      "+-----+-----------------+--------------------+--------------------+----------+\n",
      "|  0.0|[4.3,3.0,1.1,0.1]|[125.163773163649...|[1.0,7.0597849525...|       0.0|\n",
      "|  0.0|[4.4,2.9,1.4,0.2]|[125.156306784322...|[1.0,7.1231710288...|       0.0|\n",
      "|  0.0|[4.4,3.0,1.3,0.2]|[125.163112010735...|[1.0,7.0653749965...|       0.0|\n",
      "|  0.0|[4.8,3.1,1.6,0.2]|[125.153911586500...|[1.0,7.1436254650...|       0.0|\n",
      "|  0.0|[5.0,3.5,1.6,0.6]|[125.164148267820...|[1.0,7.0566154156...|       0.0|\n",
      "+-----+-----------------+--------------------+--------------------+----------+\n",
      "only showing top 5 rows\n",
      "\n"
     ]
    }
   ],
   "source": [
    "start_time_pr =  time.time()\n",
    "# specify layers for the neural network\n",
    "# parameter 1: input layer, should be the number of features\n",
    "# parameter 2 and 3: the number os perceptron in two intermediate layers\n",
    "# parameter 4: output layer should be the number os categories (labels)\n",
    "layers = [4, 5, 5, 3]\n",
    "\n",
    "# Create the trainer and set its parameters\n",
    "# featuresCol=name_feature_column, labelCol=name_label_column\n",
    "# maxIter=max_interaction, layers=list_number_perceptron \n",
    "\n",
    "trainer = MultilayerPerceptronClassifier(featuresCol='features', labelCol='label',\\\n",
    "          maxIter=100, layers=layers, blockSize=128, seed=1234)\n",
    "\n",
    "# train the model and get the result\n",
    "model = trainer.fit(train)\n",
    "result_pr = model.transform(test)\n",
    "\n",
    "print(\"Perceptron Final Result\")\n",
    "result_pr.show(5)"
   ]
  },
  {
   "cell_type": "code",
   "execution_count": 16,
   "metadata": {},
   "outputs": [
    {
     "name": "stdout",
     "output_type": "stream",
     "text": [
      "Multilayer Perceptron: accuracy = 97.5 %\n",
      "Multilayer Perceptron: time = 6.443 s\n"
     ]
    }
   ],
   "source": [
    "# compute accuracy on the test set against model\n",
    "evaluator = MulticlassClassificationEvaluator(labelCol=\"label\", predictionCol=\"prediction\",\\\n",
    "            metricName=\"accuracy\")\n",
    "\n",
    "accuracy_pr = evaluator.evaluate(result_pr) * 100\n",
    "time_pr = time.time() - start_time_pr\n",
    "\n",
    "print(\"Multilayer Perceptron: accuracy = %3.1f %%\" % accuracy_pr)\n",
    "print(\"Multilayer Perceptron: time = %3.3f s\" % time_pr)"
   ]
  },
  {
   "cell_type": "code",
   "execution_count": 17,
   "metadata": {},
   "outputs": [
    {
     "name": "stdout",
     "output_type": "stream",
     "text": [
      "Perceptron final result with name of class\n",
      "+-----+-----------------+--------------------+--------------------+----------+----------------------------------+\n",
      "|label|         features|       rawPrediction|         probability|prediction|IndexToString_04b0d1307f4f__output|\n",
      "+-----+-----------------+--------------------+--------------------+----------+----------------------------------+\n",
      "|  0.0|[4.3,3.0,1.1,0.1]|[125.163773163649...|[1.0,7.0597849525...|       0.0|                       Iris-setosa|\n",
      "|  0.0|[4.4,2.9,1.4,0.2]|[125.156306784322...|[1.0,7.1231710288...|       0.0|                       Iris-setosa|\n",
      "|  0.0|[4.4,3.0,1.3,0.2]|[125.163112010735...|[1.0,7.0653749965...|       0.0|                       Iris-setosa|\n",
      "|  0.0|[4.8,3.1,1.6,0.2]|[125.153911586500...|[1.0,7.1436254650...|       0.0|                       Iris-setosa|\n",
      "|  0.0|[5.0,3.5,1.6,0.6]|[125.164148267820...|[1.0,7.0566154156...|       0.0|                       Iris-setosa|\n",
      "|  0.0|[5.0,3.6,1.4,0.2]|[125.164150423534...|[1.0,7.0565972045...|       0.0|                       Iris-setosa|\n",
      "|  0.0|[5.1,3.5,1.4,0.3]|[125.164127051884...|[1.0,7.0567946470...|       0.0|                       Iris-setosa|\n",
      "|  0.0|[5.1,3.8,1.6,0.2]|[125.164155045067...|[1.0,7.0565581627...|       0.0|                       Iris-setosa|\n",
      "|  0.0|[5.2,4.1,1.5,0.1]|[125.164156275570...|[1.0,7.0565477677...|       0.0|                       Iris-setosa|\n",
      "|  0.0|[5.4,3.4,1.7,0.2]|[125.158208844617...|[1.0,7.1069696029...|       0.0|                       Iris-setosa|\n",
      "|  0.0|[5.4,3.9,1.7,0.4]|[125.164155416783...|[1.0,7.0565550225...|       0.0|                       Iris-setosa|\n",
      "|  0.0|[5.5,3.5,1.3,0.2]|[125.163804789322...|[1.0,7.0595176685...|       0.0|                       Iris-setosa|\n",
      "|  0.0|[5.7,3.8,1.7,0.3]|[125.164112690862...|[1.0,7.0569159710...|       0.0|                       Iris-setosa|\n",
      "|  1.0|[5.0,2.3,3.3,1.0]|[-4.4844053136379...|[9.62819208320372...|       1.0|                   Iris-versicolor|\n",
      "|  1.0|[5.6,2.7,4.2,1.3]|[-4.4844053199281...|[9.62819197503780...|       1.0|                   Iris-versicolor|\n",
      "|  1.0|[5.6,3.0,4.5,1.5]|[-4.4843160900634...|[9.62975819388208...|       1.0|                   Iris-versicolor|\n",
      "|  1.0|[5.9,3.0,4.2,1.5]|[-4.4843797521913...|[9.62863892547216...|       1.0|                   Iris-versicolor|\n",
      "|  1.0|[6.0,2.9,4.5,1.5]|[-4.4844052696211...|[9.62819284025216...|       1.0|                   Iris-versicolor|\n",
      "|  1.0|[6.0,3.4,4.5,1.6]|[89.7328577171872...|[1.0,1.8618174832...|       0.0|                   Iris-versicolor|\n",
      "|  1.0|[6.1,2.8,4.7,1.2]|[-4.4844054342235...|[9.62819001052218...|       1.0|                   Iris-versicolor|\n",
      "+-----+-----------------+--------------------+--------------------+----------+----------------------------------+\n",
      "only showing top 20 rows\n",
      "\n"
     ]
    }
   ],
   "source": [
    "print(\"Perceptron final result with name of class\")\n",
    "labelReverse.transform(result_pr).show()"
   ]
  },
  {
   "cell_type": "markdown",
   "metadata": {},
   "source": [
    "## Run Naive Bayes"
   ]
  },
  {
   "cell_type": "code",
   "execution_count": 18,
   "metadata": {},
   "outputs": [],
   "source": [
    "start_time_nb =  time.time()\n",
    "# create the trainer and set its parameters\n",
    "trainer = NaiveBayes(smoothing=1.0, modelType=\"multinomial\")\n",
    "\n",
    "#trainer = LogisticRegression(maxIter=10, tol=1E-6, fitIntercept=True)\n",
    "#trainer = RandomForestClassifier(labelCol=\"indexedLabel\", featuresCol=\"indexedFeatures\", numTrees=10)\n",
    "\n",
    "# train the model and get the result\n",
    "model = trainer.fit(train)\n",
    "result_nb = model.transform(test)"
   ]
  },
  {
   "cell_type": "code",
   "execution_count": 19,
   "metadata": {},
   "outputs": [
    {
     "name": "stdout",
     "output_type": "stream",
     "text": [
      "Naive Bayes: accuracy = 80.0 %\n",
      "Naive Bayes: time = 0.794 s\n"
     ]
    }
   ],
   "source": [
    "# compute accuracy on the test set against model\n",
    "evaluator = MulticlassClassificationEvaluator(labelCol=\"label\", predictionCol=\"prediction\",\\\n",
    "            metricName=\"accuracy\")\n",
    "\n",
    "accuracy_nb = evaluator.evaluate(result_nb) * 100\n",
    "time_nb = time.time() - start_time_nb\n",
    "\n",
    "print(\"Naive Bayes: accuracy = %3.1f %%\" % accuracy_nb)\n",
    "print(\"Naive Bayes: time = %3.3f s\" % time_nb)"
   ]
  },
  {
   "cell_type": "code",
   "execution_count": 20,
   "metadata": {},
   "outputs": [
    {
     "name": "stdout",
     "output_type": "stream",
     "text": [
      "Naive Bayes Final Result\n",
      "+-----+-----------------+--------------------+--------------------+----------+\n",
      "|label|         features|       rawPrediction|         probability|prediction|\n",
      "+-----+-----------------+--------------------+--------------------+----------+\n",
      "|  0.0|[4.3,3.0,1.1,0.1]|[-9.8947865959498...|[0.73694376226986...|       0.0|\n",
      "|  0.0|[4.4,2.9,1.4,0.2]|[-10.798200610812...|[0.65275740620864...|       0.0|\n",
      "|  0.0|[4.4,3.0,1.3,0.2]|[-10.714490841463...|[0.68253047838642...|       0.0|\n",
      "|  0.0|[4.8,3.1,1.6,0.2]|[-11.685557246997...|[0.66369141823549...|       0.0|\n",
      "|  0.0|[5.0,3.5,1.6,0.6]|[-13.716429687974...|[0.60272102805515...|       0.0|\n",
      "|  0.0|[5.0,3.6,1.4,0.2]|[-11.987255175816...|[0.76219778414681...|       0.0|\n",
      "|  0.0|[5.1,3.5,1.4,0.3]|[-12.312093126317...|[0.72926613894761...|       0.0|\n",
      "|  0.0|[5.1,3.8,1.6,0.2]|[-12.662105745200...|[0.76010893715039...|       0.0|\n",
      "|  0.0|[5.2,4.1,1.5,0.1]|[-12.504377655322...|[0.82613285980057...|       0.0|\n",
      "|  0.0|[5.4,3.4,1.7,0.2]|[-12.630874825035...|[0.71126384790354...|       0.0|\n",
      "|  0.0|[5.4,3.9,1.7,0.4]|[-13.902922446238...|[0.71666568825454...|       0.0|\n",
      "|  0.0|[5.5,3.5,1.3,0.2]|[-12.039424346926...|[0.78225190519700...|       0.0|\n",
      "|  0.0|[5.7,3.8,1.7,0.3]|[-13.643128080596...|[0.74316048759122...|       0.0|\n",
      "|  1.0|[5.0,2.3,3.3,1.0]|[-17.137846415451...|[0.10654637832061...|       1.0|\n",
      "|  1.0|[5.6,2.7,4.2,1.3]|[-20.824636958240...|[0.05445042513792...|       2.0|\n",
      "|  1.0|[5.6,3.0,4.5,1.5]|[-22.456962806260...|[0.04008614818886...|       2.0|\n",
      "|  1.0|[5.9,3.0,4.2,1.5]|[-22.090892808701...|[0.05285548905425...|       2.0|\n",
      "|  1.0|[6.0,2.9,4.5,1.5]|[-22.631155309891...|[0.04097034885036...|       2.0|\n",
      "|  1.0|[6.0,3.4,4.5,1.6]|[-23.540051417421...|[0.04796887929763...|       2.0|\n",
      "|  1.0|[6.1,2.8,4.7,1.2]|[-21.889104581943...|[0.05061896205461...|       1.0|\n",
      "+-----+-----------------+--------------------+--------------------+----------+\n",
      "only showing top 20 rows\n",
      "\n"
     ]
    }
   ],
   "source": [
    "print(\"Naive Bayes Final Result\")\n",
    "result_nb.show()"
   ]
  },
  {
   "cell_type": "code",
   "execution_count": 21,
   "metadata": {},
   "outputs": [
    {
     "name": "stdout",
     "output_type": "stream",
     "text": [
      "Naive Bayes final result with name of class\n",
      "+-----+-----------------+--------------------+--------------------+----------+----------------------------------+\n",
      "|label|         features|       rawPrediction|         probability|prediction|IndexToString_04b0d1307f4f__output|\n",
      "+-----+-----------------+--------------------+--------------------+----------+----------------------------------+\n",
      "|  0.0|[4.3,3.0,1.1,0.1]|[-9.8947865959498...|[0.73694376226986...|       0.0|                       Iris-setosa|\n",
      "|  0.0|[4.4,2.9,1.4,0.2]|[-10.798200610812...|[0.65275740620864...|       0.0|                       Iris-setosa|\n",
      "|  0.0|[4.4,3.0,1.3,0.2]|[-10.714490841463...|[0.68253047838642...|       0.0|                       Iris-setosa|\n",
      "|  0.0|[4.8,3.1,1.6,0.2]|[-11.685557246997...|[0.66369141823549...|       0.0|                       Iris-setosa|\n",
      "|  0.0|[5.0,3.5,1.6,0.6]|[-13.716429687974...|[0.60272102805515...|       0.0|                       Iris-setosa|\n",
      "|  0.0|[5.0,3.6,1.4,0.2]|[-11.987255175816...|[0.76219778414681...|       0.0|                       Iris-setosa|\n",
      "|  0.0|[5.1,3.5,1.4,0.3]|[-12.312093126317...|[0.72926613894761...|       0.0|                       Iris-setosa|\n",
      "|  0.0|[5.1,3.8,1.6,0.2]|[-12.662105745200...|[0.76010893715039...|       0.0|                       Iris-setosa|\n",
      "|  0.0|[5.2,4.1,1.5,0.1]|[-12.504377655322...|[0.82613285980057...|       0.0|                       Iris-setosa|\n",
      "|  0.0|[5.4,3.4,1.7,0.2]|[-12.630874825035...|[0.71126384790354...|       0.0|                       Iris-setosa|\n",
      "|  0.0|[5.4,3.9,1.7,0.4]|[-13.902922446238...|[0.71666568825454...|       0.0|                       Iris-setosa|\n",
      "|  0.0|[5.5,3.5,1.3,0.2]|[-12.039424346926...|[0.78225190519700...|       0.0|                       Iris-setosa|\n",
      "|  0.0|[5.7,3.8,1.7,0.3]|[-13.643128080596...|[0.74316048759122...|       0.0|                       Iris-setosa|\n",
      "|  1.0|[5.0,2.3,3.3,1.0]|[-17.137846415451...|[0.10654637832061...|       1.0|                   Iris-versicolor|\n",
      "|  1.0|[5.6,2.7,4.2,1.3]|[-20.824636958240...|[0.05445042513792...|       2.0|                   Iris-versicolor|\n",
      "|  1.0|[5.6,3.0,4.5,1.5]|[-22.456962806260...|[0.04008614818886...|       2.0|                   Iris-versicolor|\n",
      "|  1.0|[5.9,3.0,4.2,1.5]|[-22.090892808701...|[0.05285548905425...|       2.0|                   Iris-versicolor|\n",
      "|  1.0|[6.0,2.9,4.5,1.5]|[-22.631155309891...|[0.04097034885036...|       2.0|                   Iris-versicolor|\n",
      "|  1.0|[6.0,3.4,4.5,1.6]|[-23.540051417421...|[0.04796887929763...|       2.0|                   Iris-versicolor|\n",
      "|  1.0|[6.1,2.8,4.7,1.2]|[-21.889104581943...|[0.05061896205461...|       1.0|                   Iris-versicolor|\n",
      "+-----+-----------------+--------------------+--------------------+----------+----------------------------------+\n",
      "only showing top 20 rows\n",
      "\n"
     ]
    }
   ],
   "source": [
    "print(\"Naive Bayes final result with name of class\")\n",
    "labelReverse.transform(result_nb).show()"
   ]
  },
  {
   "cell_type": "markdown",
   "metadata": {},
   "source": [
    "## Run Suport Vector Machines (SVM)"
   ]
  },
  {
   "cell_type": "code",
   "execution_count": 22,
   "metadata": {},
   "outputs": [],
   "source": [
    "start_time_svm =  time.time()\n",
    "\n",
    "# create the trainer and set its parameters\n",
    "trainer = LinearSVC(featuresCol='features', labelCol='label',\\\n",
    "                    maxIter=100, regParam=0.1)\n",
    "\n",
    "# LinearSVC classify ONLY in two classes\n",
    "# To classify in more than 2 classes, the OneVsrest should be used\n",
    "# Cloud use any kind of classifies\n",
    "\n",
    "# instantiate the One Vs Rest Classifier.\n",
    "ovr_trainer = OneVsRest(classifier=trainer)\n",
    "\n",
    "# train the multiclass model.\n",
    "model = ovr_trainer.fit(train)\n",
    "\n",
    "# score the model on test data.\n",
    "result_svm = model.transform(test)"
   ]
  },
  {
   "cell_type": "code",
   "execution_count": 23,
   "metadata": {},
   "outputs": [
    {
     "name": "stdout",
     "output_type": "stream",
     "text": [
      "Suport Vector Machines (SVM): accuracy = 65.0 %\n",
      "Suport Vector Machines (SVM): time = 41.571 s\n"
     ]
    }
   ],
   "source": [
    "# compute accuracy on the test set against model\n",
    "evaluator = MulticlassClassificationEvaluator(labelCol=\"label\", predictionCol=\"prediction\",\\\n",
    "            metricName=\"accuracy\")\n",
    "\n",
    "accuracy_svm = evaluator.evaluate(result_svm) * 100\n",
    "time_svm = time.time() - start_time_svm\n",
    "\n",
    "print(\"Suport Vector Machines (SVM): accuracy = %3.1f %%\" % accuracy_svm)\n",
    "print(\"Suport Vector Machines (SVM): time = %3.3f s\" % time_svm)"
   ]
  },
  {
   "cell_type": "code",
   "execution_count": 24,
   "metadata": {},
   "outputs": [
    {
     "name": "stdout",
     "output_type": "stream",
     "text": [
      "Suport Vector Machines (SVM) Final Result\n",
      "+-----+-----------------+----------+\n",
      "|label|         features|prediction|\n",
      "+-----+-----------------+----------+\n",
      "|  0.0|[4.3,3.0,1.1,0.1]|       0.0|\n",
      "|  0.0|[4.4,2.9,1.4,0.2]|       0.0|\n",
      "|  0.0|[4.4,3.0,1.3,0.2]|       0.0|\n",
      "|  0.0|[4.8,3.1,1.6,0.2]|       0.0|\n",
      "|  0.0|[5.0,3.5,1.6,0.6]|       0.0|\n",
      "|  0.0|[5.0,3.6,1.4,0.2]|       0.0|\n",
      "|  0.0|[5.1,3.5,1.4,0.3]|       0.0|\n",
      "|  0.0|[5.1,3.8,1.6,0.2]|       0.0|\n",
      "|  0.0|[5.2,4.1,1.5,0.1]|       0.0|\n",
      "|  0.0|[5.4,3.4,1.7,0.2]|       0.0|\n",
      "|  0.0|[5.4,3.9,1.7,0.4]|       0.0|\n",
      "|  0.0|[5.5,3.5,1.3,0.2]|       0.0|\n",
      "|  0.0|[5.7,3.8,1.7,0.3]|       0.0|\n",
      "|  1.0|[5.0,2.3,3.3,1.0]|       1.0|\n",
      "|  1.0|[5.6,2.7,4.2,1.3]|       2.0|\n",
      "|  1.0|[5.6,3.0,4.5,1.5]|       2.0|\n",
      "|  1.0|[5.9,3.0,4.2,1.5]|       2.0|\n",
      "|  1.0|[6.0,2.9,4.5,1.5]|       2.0|\n",
      "|  1.0|[6.0,3.4,4.5,1.6]|       2.0|\n",
      "|  1.0|[6.1,2.8,4.7,1.2]|       2.0|\n",
      "+-----+-----------------+----------+\n",
      "only showing top 20 rows\n",
      "\n"
     ]
    }
   ],
   "source": [
    "print(\"Suport Vector Machines (SVM) Final Result\")\n",
    "result_svm.show()"
   ]
  },
  {
   "cell_type": "markdown",
   "metadata": {},
   "source": [
    "## Run Decision Tree"
   ]
  },
  {
   "cell_type": "code",
   "execution_count": 25,
   "metadata": {},
   "outputs": [],
   "source": [
    "start_time_dt =  time.time()\n",
    "\n",
    "#trainer = LogisticRegression(maxIter=10, tol=1E-6, fitIntercept=True)\n",
    "                                 \n",
    "trainer = DecisionTreeClassifier(featuresCol='features', labelCol='label', predictionCol='prediction', probabilityCol='probability',\\\n",
    "                                 rawPredictionCol='rawPrediction', maxDepth=5, maxBins=32, minInstancesPerNode=1, minInfoGain=0.0,\\\n",
    "                                 maxMemoryInMB=256, cacheNodeIds=False, checkpointInterval=10, impurity='gini', seed=None)\n",
    "\n",
    "#trainer = RandomForestClassifier(featuresCol='features', labelCol='label', predictionCol='prediction', probabilityCol='probability',\\\n",
    "#                                 rawPredictionCol='rawPrediction', maxDepth=5, maxBins=32, minInstancesPerNode=1, minInfoGain=0.0,\\\n",
    "#                                 numTrees=20, featureSubsetStrategy='auto', seed=None, subsamplingRate=1.0,\\\n",
    "#                                 maxMemoryInMB=256, cacheNodeIds=False, checkpointInterval=10, impurity='gini')\n",
    "\n",
    "# train the model and get the result\n",
    "model = trainer.fit(train)\n",
    "result_dt = model.transform(test)"
   ]
  },
  {
   "cell_type": "code",
   "execution_count": 26,
   "metadata": {},
   "outputs": [
    {
     "name": "stdout",
     "output_type": "stream",
     "text": [
      "Decision Tree: accuracy = 95.0 %\n",
      "Decision Tree: time = 0.800 s\n"
     ]
    }
   ],
   "source": [
    "# compute accuracy on the test set against model\n",
    "evaluator = MulticlassClassificationEvaluator(labelCol=\"label\", predictionCol=\"prediction\",\\\n",
    "            metricName=\"accuracy\")\n",
    "\n",
    "accuracy_dt = evaluator.evaluate(result_dt) * 100\n",
    "time_dt = time.time() - start_time_dt\n",
    "\n",
    "print(\"Decision Tree: accuracy = %3.1f %%\" % accuracy_dt)\n",
    "print(\"Decision Tree: time = %3.3f s\" % time_dt)"
   ]
  },
  {
   "cell_type": "code",
   "execution_count": 27,
   "metadata": {},
   "outputs": [
    {
     "name": "stdout",
     "output_type": "stream",
     "text": [
      "Decision Tree Final Result\n",
      "+-----+-----------------+--------------+-------------+----------+\n",
      "|label|         features| rawPrediction|  probability|prediction|\n",
      "+-----+-----------------+--------------+-------------+----------+\n",
      "|  0.0|[4.3,3.0,1.1,0.1]|[37.0,0.0,0.0]|[1.0,0.0,0.0]|       0.0|\n",
      "|  0.0|[4.4,2.9,1.4,0.2]|[37.0,0.0,0.0]|[1.0,0.0,0.0]|       0.0|\n",
      "|  0.0|[4.4,3.0,1.3,0.2]|[37.0,0.0,0.0]|[1.0,0.0,0.0]|       0.0|\n",
      "|  0.0|[4.8,3.1,1.6,0.2]|[37.0,0.0,0.0]|[1.0,0.0,0.0]|       0.0|\n",
      "|  0.0|[5.0,3.5,1.6,0.6]|[37.0,0.0,0.0]|[1.0,0.0,0.0]|       0.0|\n",
      "+-----+-----------------+--------------+-------------+----------+\n",
      "only showing top 5 rows\n",
      "\n"
     ]
    }
   ],
   "source": [
    "print(\"Decision Tree Final Result\")\n",
    "result_dt.show(5)"
   ]
  },
  {
   "cell_type": "markdown",
   "metadata": {},
   "source": [
    "## Sumary"
   ]
  },
  {
   "cell_type": "code",
   "execution_count": 28,
   "metadata": {},
   "outputs": [
    {
     "name": "stdout",
     "output_type": "stream",
     "text": [
      "==================================================================\n",
      "=============  Compare Algorithm Acurancy and Time ===============\n",
      "\n",
      "      Train sample =  70.0 %     Test sample =  30.0 %\n",
      "\n",
      "K-Nearest Neighbors (KNN):    accuracy = 97.8 %   time = 0.016 s\n",
      "Multilayer Perceptron:        accuracy = 97.5 %   time = 6.443 s\n",
      "Naive Bayes:                  accuracy = 80.0 %   time = 0.794 s\n",
      "Suport Vector Machines (SVM): accuracy = 65.0 %   time = 41.571 s\n",
      "Decision Tree:                accuracy = 95.0 %   time = 0.800 s\n",
      "===================================================================\n"
     ]
    }
   ],
   "source": [
    "print(\"==================================================================\")\n",
    "print(\"=============  Compare Algorithm Acurancy and Time ===============\")\n",
    "print()\n",
    "print(\"      Train sample = \",train_sample*100,\"%     Test sample = \",test_sample*100,\"%\")\n",
    "print()\n",
    "print(\"K-Nearest Neighbors (KNN):    accuracy = %3.1f %%   time = %3.3f s\" % (accuracy_knn, time_knn))\n",
    "print(\"Multilayer Perceptron:        accuracy = %3.1f %%   time = %3.3f s\" % (accuracy_pr, time_pr))\n",
    "print(\"Naive Bayes:                  accuracy = %3.1f %%   time = %3.3f s\" % (accuracy_nb, time_nb))\n",
    "print(\"Suport Vector Machines (SVM): accuracy = %3.1f %%   time = %3.3f s\" % (accuracy_svm, time_svm))\n",
    "print(\"Decision Tree:                accuracy = %3.1f %%   time = %3.3f s\" % (accuracy_dt, time_dt))\n",
    "print(\"===================================================================\")"
   ]
  },
  {
   "cell_type": "code",
   "execution_count": 29,
   "metadata": {},
   "outputs": [
    {
     "name": "stdout",
     "output_type": "stream",
     "text": [
      "--- Execution time: 70.89591073989868 seconds ---\n"
     ]
    }
   ],
   "source": [
    "spark.stop()\n",
    "print(\"--- Execution time: %s seconds ---\" % (time.time() - start_time))"
   ]
  },
  {
   "cell_type": "code",
   "execution_count": null,
   "metadata": {},
   "outputs": [],
   "source": []
  }
 ],
 "metadata": {
  "kernelspec": {
   "display_name": "Python 3",
   "language": "python",
   "name": "python3"
  },
  "language_info": {
   "codemirror_mode": {
    "name": "ipython",
    "version": 3
   },
   "file_extension": ".py",
   "mimetype": "text/x-python",
   "name": "python",
   "nbconvert_exporter": "python",
   "pygments_lexer": "ipython3",
   "version": "3.6.9"
  }
 },
 "nbformat": 4,
 "nbformat_minor": 4
}
