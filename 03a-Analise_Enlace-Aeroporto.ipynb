{
 "cells": [
  {
   "cell_type": "markdown",
   "metadata": {},
   "source": [
    "# Exemplo 03a: Análise de Enlace usando NetworkX\n",
    "## Identificação de Aeroportos com mais conectividade\n",
    "\n",
    "Muitos problemas em ciência de dados podem ser modelados com um grafo. Um exemplo é a análise da rede aérea em uma região, onde os vertices são os aeroportos e as areastas são as linhas aéreas. Usando algoritmos de análise de enlace podemos extrair informações como aeroportos mais movimentados e menor caminho entre duas localidades.\n",
    "\n",
    "Porém essa análise não é tão trivial. A maneira mais simples de determinar o aeroporto mais movimentado é contar o número de voos realizados de e para esta cidade. No entanto, como a maioria das companhias aéreas utiliza um sistema de *hub-and-spoke*, a simples contagem dos voos de entrada e saída não transmite a importância do aeroporto para o tráfego aéreo geral. Isso ocorre porque determinados aeroportos centrais podem ser pontos de passagem para os vôos em outros aeroportos e, como resultado, esses aeroportos centrais podem ser considerados mais importantes, mesmo que tenham contagens total de voos seja igual ou até menores.\n",
    "\n",
    "O algoritmo Pagerank foi originalmente criado para medir a importância relativa das páginas da web, avaliando os links de ligação da página. Qualquer página da web é considerada mais importante se outras páginas importantes tiverem links para essa página. Podemos aplicar esse mesmo conceito de importância aos aeroportos. Se você substituir “página da web” por “aeroporto” e substituir “link da web” por “voo da companhia aérea”, poderá ver que o PageRank pode ser usado para avaliar a importância de um aeroporto. O PageRank acaba sendo uma boa maneira de medir a importância do aeroporto, dado o uso do molelo *hub-and-spoke* usado pelas companhias hub e spoke das companhias aéreas. Um aeroporto importante acabaria sendo um aeroporto que por si só é um *hub* no qual outros aeroportos possuem muitos vôos ou um “hub de hubs”.\n",
    "\n",
    "Para este exemplo vamos usar uma base de dados de aeroportos e voos nos Estados Unidos e Canada. Então, para identificar os aeroportos mais importantes da região, considerando como um determinado aeroporto influencia os vôos para outros aeroportos, podemos usar o algoritmo Pagerank. Este exemplo mostra os aeroportos com mais voos e os aeroportos mais conectados calculados pelo Pagerank."
   ]
  },
  {
   "cell_type": "code",
   "execution_count": 1,
   "metadata": {},
   "outputs": [],
   "source": [
    "import pyspark\n",
    "from pyspark.sql import SparkSession\n",
    "\n",
    "import networkx as nx\n",
    "\n",
    "import time\n",
    "start_time = time.time()\n",
    "\n",
    "data_path='./data/'"
   ]
  },
  {
   "cell_type": "code",
   "execution_count": 2,
   "metadata": {},
   "outputs": [],
   "source": [
    "# Cria Spark Session\n",
    "sc = SparkSession.builder \\\n",
    "     .master(\"local[*]\") \\\n",
    "     .appName(\"LinkAnalisysAirlines\") \\\n",
    "     .getOrCreate()"
   ]
  },
  {
   "cell_type": "markdown",
   "metadata": {},
   "source": [
    "## Reading datasets\n",
    "### Airports\n",
    "\n",
    "| Field | Description |\n",
    "| --------- | :-------------: |\n",
    "| node_id | Unique identifier for the airport. |\n",
    "| name | Name of airport or city and state.|\n",
    "| metro_pop | City/region population.|\n",
    "| latitude | Airport latitude |\n",
    "| longitude | Airport longitude |\n"
   ]
  },
  {
   "cell_type": "code",
   "execution_count": 3,
   "metadata": {},
   "outputs": [
    {
     "name": "stdout",
     "output_type": "stream",
     "text": [
      "+-------+--------------------+---------+---------+-----------+\n",
      "|node_id|                name|metro_pop| latitude|  longitude|\n",
      "+-------+--------------------+---------+---------+-----------+\n",
      "|      0|      Abbotsford, BC| 133497.0|49.051575|-122.328849|\n",
      "|      1|        Aberdeen, SD|  40878.0| 45.45909| -98.487324|\n",
      "|      2|         Abilene, TX| 166416.0|32.449175| -99.741424|\n",
      "|      3|    Akron/Canton, OH| 701456.0| 40.79781| -81.371567|\n",
      "|      4|         Alamosa, CO|   9433.0| 37.46818|-105.873599|\n",
      "|      5|          Albany, GA| 157688.0| 31.58076| -84.155989|\n",
      "|      6|          Albany, NY| 871478.0|42.651455| -73.755274|\n",
      "|      7|     Albuquerque, NM| 898642.0| 35.08418|-106.648639|\n",
      "|      8|      Alexandria, LA| 154505.0|31.312685| -92.445649|\n",
      "|      9|Allentown/Bethleh...| 824916.0|40.651428| -75.434219|\n",
      "|     10|        Alliance, NE|   8499.0| 42.09712|-102.871454|\n",
      "|     11|          Alpena, MI|  29386.0|45.061565| -83.445154|\n",
      "|     12|         Altoona, PA| 127099.0| 40.50719| -78.398904|\n",
      "|     13|        Amarillo, TX| 253823.0|35.207255|-101.833894|\n",
      "|     14|       Anchorage, AK| 387516.0| 61.21756|-149.857749|\n",
      "|     15|        Appleton, WI| 227403.0| 44.26178| -88.416564|\n",
      "|     16|       Asheville, NC| 429017.0| 35.59846| -82.553144|\n",
      "|     17|           Aspen, CO|   6680.0| 39.19003|-106.818184|\n",
      "|     18|          Athens, GA| 193317.0|33.958132| -83.373255|\n",
      "|     19|         Atlanta, GA|5359000.0|33.748315| -84.391109|\n",
      "+-------+--------------------+---------+---------+-----------+\n",
      "only showing top 20 rows\n",
      "\n"
     ]
    }
   ],
   "source": [
    "# Le arquivo de dados Airport para Dataframe Spark\n",
    "\n",
    "airport = sc.read.format(\"csv\").options(sep=',',header='true',inferschema='true').\\\n",
    "          load(data_path+\"reachability-meta.csv.gz\")\n",
    "\n",
    "#Exibe campos da tabela e os tipos de dados\n",
    "#airport.dtypes\n",
    "airport.show()"
   ]
  },
  {
   "cell_type": "markdown",
   "metadata": {},
   "source": [
    "### Flights\n",
    "\n",
    "| Field | Description |\n",
    "| --------- | :-------------: |\n",
    "| FromNodeId | Origin airport (node_id).|\n",
    "| ToNodeId | Destination airport (node_id).|\n",
    "| Weight | Distance |\n"
   ]
  },
  {
   "cell_type": "code",
   "execution_count": 4,
   "metadata": {},
   "outputs": [
    {
     "name": "stdout",
     "output_type": "stream",
     "text": [
      "+----------+--------+------+\n",
      "|FromNodeId|ToNodeId|Weight|\n",
      "+----------+--------+------+\n",
      "|        27|       0|  -757|\n",
      "|        57|       0|   -84|\n",
      "|        70|       0| -1290|\n",
      "|        74|       0|  -465|\n",
      "|        86|       0|  -700|\n",
      "|        94|       0|  -526|\n",
      "|       100|       0|  -448|\n",
      "|       113|       0|   -90|\n",
      "|       138|       0|  -256|\n",
      "|       154|       0|  -270|\n",
      "|       166|       0|  -515|\n",
      "|       178|       0|  -400|\n",
      "|       230|       0|  -486|\n",
      "|       235|       0|  -170|\n",
      "|       242|       0|  -469|\n",
      "|       246|       0|  -325|\n",
      "|       262|       0|  -200|\n",
      "|       269|       0|  -525|\n",
      "|       275|       0|  -585|\n",
      "|       280|       0|  -405|\n",
      "+----------+--------+------+\n",
      "only showing top 20 rows\n",
      "\n"
     ]
    }
   ],
   "source": [
    "# Le arquivo de dados Linhas Aereas para Dataframe Spark\n",
    "\n",
    "routes = sc.read.format(\"csv\").options(sep=' ',header='true',inferschema='true').\\\n",
    "         load(data_path+\"reachability.txt.gz\")\n",
    "\n",
    "#routes.dtypes\n",
    "routes.show()"
   ]
  },
  {
   "cell_type": "markdown",
   "metadata": {},
   "source": [
    "## Building Graph"
   ]
  },
  {
   "cell_type": "code",
   "execution_count": 5,
   "metadata": {},
   "outputs": [
    {
     "name": "stdout",
     "output_type": "stream",
     "text": [
      "+---+----------------+\n",
      "| id|            name|\n",
      "+---+----------------+\n",
      "|  0|  Abbotsford, BC|\n",
      "|  1|    Aberdeen, SD|\n",
      "|  2|     Abilene, TX|\n",
      "|  3|Akron/Canton, OH|\n",
      "|  4|     Alamosa, CO|\n",
      "+---+----------------+\n",
      "only showing top 5 rows\n",
      "\n"
     ]
    }
   ],
   "source": [
    "# Extrair campos relevantes para definir os vertices do grafo\n",
    "vertice = airport.select(\"node_id\",\"name\")\n",
    "\n",
    "# Troca nome \"node_id\" por \"id\"\n",
    "vertice = vertice.withColumnRenamed(\"node_id\", \"id\")\n",
    "\n",
    "#caso precise converter algum campo\n",
    "#vertice = vertice.withColumn(\"id\", vertice[\"id\"].cast(\"string\"))\n",
    "\n",
    "# Converte Spark Dataframe para Pandas Dataframe\n",
    "vertice_pd = vertice.toPandas()\n",
    "\n",
    "# Salva lista com nomes das cidades ccom aeroportos\n",
    "airport_name = airport.select(\"node_id\", \"name\").withColumnRenamed(\"node_id\", \"id\")\n",
    "\n",
    "#vertice.dtypes\n",
    "vertice.show(5)"
   ]
  },
  {
   "cell_type": "code",
   "execution_count": 6,
   "metadata": {},
   "outputs": [
    {
     "name": "stdout",
     "output_type": "stream",
     "text": [
      "+---+---+------+\n",
      "|src|dst|weight|\n",
      "+---+---+------+\n",
      "| 27|  0|  -757|\n",
      "| 57|  0|   -84|\n",
      "| 70|  0| -1290|\n",
      "| 74|  0|  -465|\n",
      "| 86|  0|  -700|\n",
      "+---+---+------+\n",
      "only showing top 5 rows\n",
      "\n"
     ]
    }
   ],
   "source": [
    "# Extrair campos relevantes para definir os arestas do grafo\n",
    "edge = routes.select(\"FromNodeId\",\"ToNodeId\",\"Weight\")\n",
    "\n",
    "# Graphframe exige que colunas com identificação das arestas possua nome 'src' para origem e 'dst' para destino\n",
    "# Troca nome \"FromNodeId\" por \"src\" e \"ToNodeId\" por \"dst\"\n",
    "edge = edge.withColumnRenamed(\"FromNodeId\", \"src\") \\\n",
    "           .withColumnRenamed(\"ToNodeId\", \"dst\") \\\n",
    "           .withColumnRenamed(\"Weight\", \"weight\")\n",
    "\n",
    "# Converte Spark Dataframe para Pandas Dataframe\n",
    "edge_pd = edge.toPandas()\n",
    "\n",
    "edge.show(5)"
   ]
  },
  {
   "cell_type": "code",
   "execution_count": 7,
   "metadata": {},
   "outputs": [
    {
     "name": "stdout",
     "output_type": "stream",
     "text": [
      "DiGraph with 456 nodes and 71959 edges\n"
     ]
    }
   ],
   "source": [
    "# Cria um Digraph com as rotas das linhas aéreas \n",
    "# edge_pd é o gdataframe com as linhas aereas  no formato Pandas\n",
    "# sorce e target ao aeroportos de origem e destino das linhas aereas\n",
    "# edge_attr é o atributo da aresta do grafo, neste caso o valor negativo da distância (quanto mais distante pior) \n",
    "\n",
    "G = nx.from_pandas_edgelist(edge_pd, source='src', target='dst', edge_attr=['weight'], create_using=nx.DiGraph())\n",
    "\n",
    "print(G)"
   ]
  },
  {
   "cell_type": "code",
   "execution_count": 8,
   "metadata": {},
   "outputs": [
    {
     "name": "stdout",
     "output_type": "stream",
     "text": [
      "Airports =  456       Flights =  71959\n"
     ]
    }
   ],
   "source": [
    "# imprime caracteristica do grafo\n",
    "\n",
    "G_nodes = G.number_of_nodes()\n",
    "G_edges = G.number_of_edges()\n",
    "\n",
    "print(\"Airports = \", G_nodes, \"      Flights = \",G_edges)"
   ]
  },
  {
   "cell_type": "markdown",
   "metadata": {},
   "source": [
    "## In-degree of each vertex in the graph"
   ]
  },
  {
   "cell_type": "code",
   "execution_count": 9,
   "metadata": {},
   "outputs": [
    {
     "name": "stdout",
     "output_type": "stream",
     "text": [
      "+--------------------+------+\n",
      "|                name|degree|\n",
      "+--------------------+------+\n",
      "|     Los Angeles, CA|   886|\n",
      "|   San Francisco, CA|   871|\n",
      "|       Las Vegas, NV|   861|\n",
      "|         Chicago, IL|   859|\n",
      "|Dallas/Fort Worth...|   859|\n",
      "|        New York, NY|   856|\n",
      "|          Denver, CO|   856|\n",
      "|      Washington, DC|   852|\n",
      "|         Phoenix, AZ|   847|\n",
      "|  Seattle/Tacoma, WA|   824|\n",
      "|Minneapolis/St Pa...|   817|\n",
      "|         Toronto, ON|   813|\n",
      "|         Orlando, FL|   805|\n",
      "|    Philadelphia, PA|   805|\n",
      "|          Boston, MA|   803|\n",
      "|  Ft. Lauderdale, FL|   801|\n",
      "|         Houston, TX|   800|\n",
      "|       San Diego, CA|   799|\n",
      "|         Detroit, MI|   786|\n",
      "|           Miami, FL|   786|\n",
      "+--------------------+------+\n",
      "only showing top 20 rows\n",
      "\n"
     ]
    }
   ],
   "source": [
    "# grau de entrada: Identifica aeroportos com mais chegadas\n",
    "airport_degree = nx.degree(G)\n",
    "\n",
    "# Define columns name\n",
    "label = [\"id\", \"degree\"] \n",
    "  \n",
    "# creating a Spark dataframe from result degree\n",
    "airport_degree_df = sc.createDataFrame(airport_degree, label)\n",
    "\n",
    "airport_degree_df.select(\"id\", \"degree\").join(airport_name, on=['id'], how='inner').select(\"name\", \"degree\").orderBy(\"degree\",ascending=False).show()"
   ]
  },
  {
   "cell_type": "markdown",
   "metadata": {},
   "source": [
    "## Triangle Count for each vertice"
   ]
  },
  {
   "cell_type": "code",
   "execution_count": 10,
   "metadata": {},
   "outputs": [
    {
     "name": "stdout",
     "output_type": "stream",
     "text": [
      "+--------------------+-----+\n",
      "|                name|count|\n",
      "+--------------------+-----+\n",
      "|     Los Angeles, CA|  443|\n",
      "|   San Francisco, CA|  441|\n",
      "|Dallas/Fort Worth...|  432|\n",
      "|         Chicago, IL|  429|\n",
      "|       Las Vegas, NV|  429|\n",
      "|        New York, NY|  428|\n",
      "|          Denver, CO|  427|\n",
      "|      Washington, DC|  425|\n",
      "|         Phoenix, AZ|  423|\n",
      "|  Seattle/Tacoma, WA|  418|\n",
      "|Minneapolis/St Pa...|  411|\n",
      "|         Orlando, FL|  407|\n",
      "|         Toronto, ON|  404|\n",
      "|    Philadelphia, PA|  403|\n",
      "|       St. Louis, MO|  401|\n",
      "|         Houston, TX|  400|\n",
      "|  Ft. Lauderdale, FL|  400|\n",
      "|          Boston, MA|  399|\n",
      "|       San Diego, CA|  397|\n",
      "|         Detroit, MI|  393|\n",
      "+--------------------+-----+\n",
      "only showing top 20 rows\n",
      "\n"
     ]
    }
   ],
   "source": [
    "# Count the number of triagles in each vertice: aeroportos com mais chegadas incluindo uma escala\n",
    "triang = G.in_degree\n",
    "\n",
    "# Define columns name\n",
    "label = [\"id\", \"count\"] \n",
    "  \n",
    "# creating a Spark dataframe\n",
    "triang_df = sc.createDataFrame(triang, label)\n",
    "\n",
    "triang_df.select(\"id\", \"count\").join(airport_name, on=['id'], how='inner').select(\"name\", \"count\").orderBy(\"count\",ascending=False).show()"
   ]
  },
  {
   "cell_type": "markdown",
   "metadata": {},
   "source": [
    "## Page Rank"
   ]
  },
  {
   "cell_type": "code",
   "execution_count": 11,
   "metadata": {},
   "outputs": [
    {
     "name": "stdout",
     "output_type": "stream",
     "text": [
      "+--------------------+--------------------+\n",
      "|                name|            pagerank|\n",
      "+--------------------+--------------------+\n",
      "|        Honolulu, HI| 0.00818388309618344|\n",
      "|         Kahului, HI|0.007168021529069031|\n",
      "|   San Francisco, CA|0.006595916928486906|\n",
      "|       Anchorage, AK|0.006504644905028423|\n",
      "|     Los Angeles, CA|0.006186437087956...|\n",
      "|  Ft. Lauderdale, FL|0.005834928842374449|\n",
      "|       Las Vegas, NV|0.005764698625665773|\n",
      "|  Seattle/Tacoma, WA|0.005762596900681118|\n",
      "|        Portland, OR|0.005736525079205345|\n",
      "|       San Diego, CA|0.005717626667160882|\n",
      "|            Kona, HI|0.005649699077920976|\n",
      "|         Orlando, FL|0.005412397245067099|\n",
      "|        New York, NY|0.005392278484662518|\n",
      "|           Miami, FL|0.005383153438456302|\n",
      "|         Phoenix, AZ|0.005341121969895439|\n",
      "|       Vancouver, BC|0.005124175450836...|\n",
      "|Dallas/Fort Worth...|0.005106744140501227|\n",
      "|      Washington, DC|0.005018072381580718|\n",
      "|        Hartford, CT|0.004995100897124851|\n",
      "|     New Orleans, LA|0.004949615099552859|\n",
      "+--------------------+--------------------+\n",
      "only showing top 20 rows\n",
      "\n"
     ]
    }
   ],
   "source": [
    "# Run PageRank algorithm, and show results: aeroportos mais conectados\n",
    "\n",
    "result_pr = nx.pagerank(G, max_iter=20, weight='weight')\n",
    "#result_pr = nx.pagerank(G, tol=0.001, weight='weight')\n",
    "\n",
    "# Convert dict to list\n",
    "result_pr_l = list(result_pr.items())\n",
    "\n",
    "# Define columns name\n",
    "label = [\"id\", \"pagerank\"] \n",
    "  \n",
    "# creating a Spark dataframe\n",
    "result_pr_df = sc.createDataFrame(result_pr_l, label)\n",
    "                      \n",
    "#result_pr_df.printSchema()\n",
    "#result_pr_df.show(truncate=False)\n",
    "\n",
    "result_pr_df.select(\"id\", \"pagerank\").join(airport_name, on=['id'], how='inner').select(\"name\", \"pagerank\").orderBy(\"pagerank\",ascending=False).show()"
   ]
  },
  {
   "cell_type": "markdown",
   "metadata": {},
   "source": [
    "## HITS"
   ]
  },
  {
   "cell_type": "code",
   "execution_count": 12,
   "metadata": {},
   "outputs": [
    {
     "name": "stdout",
     "output_type": "stream",
     "text": [
      "+--------------------+--------------------+\n",
      "|                name|                 hub|\n",
      "+--------------------+--------------------+\n",
      "|        Honolulu, HI|0.007384033086297942|\n",
      "|       Anchorage, AK|0.006088494735881721|\n",
      "|            Kona, HI|0.005916491000365931|\n",
      "|         Kahului, HI|0.005838290030427...|\n",
      "|  Ft. Lauderdale, FL|0.005155219326702114|\n",
      "|           Miami, FL|0.004792663104053244|\n",
      "|         Halifax, NS|0.004704886799526...|\n",
      "|       Vancouver, BC|0.004645868643909...|\n",
      "|   Orange County, CA| 0.00464360273079791|\n",
      "|Tampa/St. Petersb...|0.004512377162523707|\n",
      "|   San Francisco, CA|0.004509636808009571|\n",
      "|        San Jose, CA|0.004475402340925312|\n",
      "|        Portland, OR|0.004434156495931232|\n",
      "|       San Diego, CA|0.004371634458802095|\n",
      "|         Orlando, FL|0.004369440036767276|\n",
      "|          Boston, MA|0.004356415019147119|\n",
      "|     Los Angeles, CA|0.004289385081402662|\n",
      "|    Jacksonville, FL|0.004271544383068075|\n",
      "|           Boise, ID|0.004245247370999...|\n",
      "|      Providence, RI|0.004233788742226492|\n",
      "+--------------------+--------------------+\n",
      "only showing top 20 rows\n",
      "\n"
     ]
    }
   ],
   "source": [
    "# Run HITS algorithm, and show results.\n",
    "\n",
    "result_h, result_a = nx.hits(G, max_iter=20, normalized=True)\n",
    "#result_h, result_a = nx.hits(G, tol=0.001, normalized=True)\n",
    "\n",
    "# Show Hub Vector\n",
    "\n",
    "# Convert dict to list\n",
    "result_h_l = list(result_h.items())\n",
    "\n",
    "# Define columns name\n",
    "label = [\"id\", \"hub\"] \n",
    "\n",
    "# creating a Spark dataframe\n",
    "result_h_df = sc.createDataFrame(result_h_l, label)\n",
    "\n",
    "#result_h_df.printSchema()\n",
    "#result_h_df.show(truncate=False)\n",
    "\n",
    "result_h_df.select(\"id\", \"hub\").join(airport_name, on=['id'], how='inner').select(\"name\", \"hub\").orderBy(\"hub\",ascending=False).show()"
   ]
  },
  {
   "cell_type": "code",
   "execution_count": 13,
   "metadata": {},
   "outputs": [
    {
     "name": "stdout",
     "output_type": "stream",
     "text": [
      "+------------------+--------------------+\n",
      "|              name|           authority|\n",
      "+------------------+--------------------+\n",
      "|      Honolulu, HI|0.007761193463890724|\n",
      "|       Kahului, HI|0.007217679977156241|\n",
      "|     Anchorage, AK|0.006502391625816071|\n",
      "|          Kona, HI|0.006212735692198184|\n",
      "|     Fairbanks, AK|0.005921170245835963|\n",
      "| San Francisco, CA|0.004710982632961002|\n",
      "|      Portland, OR|0.004587041039913923|\n",
      "|     Vancouver, BC|0.004543316093029993|\n",
      "|   Los Angeles, CA|0.004475430805002405|\n",
      "|Ft. Lauderdale, FL|0.004459072523804407|\n",
      "|Seattle/Tacoma, WA|0.004441640263958...|\n",
      "|      Edmonton, AB| 0.00441896506493055|\n",
      "|     San Diego, CA|0.004398726551017628|\n",
      "|    Sacramento, CA|0.004380877699646041|\n",
      "|       Ontario, CA|0.004331599754886468|\n",
      "|      San Jose, CA|0.004327541966068726|\n",
      "|       Burbank, CA|0.004294573571350849|\n",
      "|         Lihue, HI|0.004263380862235175|\n",
      "|         Miami, FL|0.004256567335794641|\n",
      "|       Calgary, AB| 0.00418276070908016|\n",
      "+------------------+--------------------+\n",
      "only showing top 20 rows\n",
      "\n"
     ]
    }
   ],
   "source": [
    "# Show Authority Vector\n",
    "\n",
    "# Convert dict to list\n",
    "result_a_l = list(result_a.items())\n",
    "\n",
    "# Define columns name\n",
    "label = [\"id\", \"authority\"] \n",
    "\n",
    "# creating a Spark dataframe\n",
    "result_a_df = sc.createDataFrame(result_a_l, label)\n",
    "\n",
    "result_a_df.select(\"id\", \"authority\").join(airport_name, on=['id'], how='inner').select(\"name\", \"authority\").orderBy(\"authority\",ascending=False).show()\n"
   ]
  },
  {
   "cell_type": "code",
   "execution_count": 14,
   "metadata": {
    "tags": []
   },
   "outputs": [
    {
     "name": "stdout",
     "output_type": "stream",
     "text": [
      "--- Execution time: 17.529409885406494 seconds ---\n"
     ]
    }
   ],
   "source": [
    "sc.stop()\n",
    "print(\"--- Execution time: %s seconds ---\" % (time.time() - start_time))"
   ]
  }
 ],
 "metadata": {
  "kernelspec": {
   "display_name": "Python 3 (ipykernel)",
   "language": "python",
   "name": "python3"
  },
  "language_info": {
   "codemirror_mode": {
    "name": "ipython",
    "version": 3
   },
   "file_extension": ".py",
   "mimetype": "text/x-python",
   "name": "python",
   "nbconvert_exporter": "python",
   "pygments_lexer": "ipython3",
   "version": "3.12.9"
  }
 },
 "nbformat": 4,
 "nbformat_minor": 4
}
