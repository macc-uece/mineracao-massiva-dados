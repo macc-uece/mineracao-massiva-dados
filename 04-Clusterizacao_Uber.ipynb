{
 "cells": [
  {
   "cell_type": "markdown",
   "metadata": {},
   "source": [
    "# Exemplo 04: Clusterização\n",
    "## Identificação de base para grupo de veículos Uber\n",
    "---\n",
    "\n",
    "K-Means é um dos algoritmos de agrupamento não supervisionados mais simples e populares [1]. O objetivo é encontrar grupos nos dados, com o número de grupos/clusters representados pela variável K. O algoritmo K-Means aloca iterativamente todos os pontos de dados para o cluster mais próximo. Em cada iteração do algoritmo, cada ponto de dado é atribuído ao cluster mais próximo com base em alguma métrica, que geralmente é a distância euclidiana. As saídas do algoritmo de agrupamento K-means são os centróides dos clusters K e os rótulos dos dados. Depois que o algoritmo executa e identifica todos os grupos de um conjunto de dados, qualquer novo dado pode ser facilmente atribuído a um grupo existente. O algoritmo K-Means pode ser usado para identificar grupos desconhecidos em conjuntos de dados complexos e não rotulados.\n",
    "\n",
    "Para efeito de comparação são também mostradoso agrupamento usando os algoritmos Bisecting k-means[2], um K-means hierárquico, e o Gaussian Mixture Model (GMM)[3], que distribui os pontos a partir de uma distribuição gaussiana.\n",
    "\n",
    "Este exemplo usa uma base de dados de localização de chamados do Uber em Nova York. O algoritmo de clusterização agrupa os usuários e identifica os pontos ideais para o estabelecimento de uma base, de onde os carros ficarão aguardando os chamados. \n",
    "\n",
    "## Referências:\n",
    "\n",
    "1. Huang, Zhexue. \"Extensions to the k-means algorithm for clustering large data sets with categorical values\". Data mining and knowledge discovery, Vol 2, Issue 3. pp 283-304. Springer. 1998.\n",
    "\n",
    "2. Savaresi, Sergio M; Boley, Daniel L. \"On the performance of bisecting K-means and PDDP\". Proceedings of the 2001 SIAM International Conference on Data Mining. 2001\n",
    "\n",
    "3. Reynolds, D.A.; Rose, R.C. \"Robust text-independent speaker identification using Gaussian mixture speaker models\". IEEE Transactions on Speech and Audio Processing. 3 (1): 72–83. January 1995.  \n",
    "\n"
   ]
  },
  {
   "cell_type": "code",
   "execution_count": 1,
   "metadata": {},
   "outputs": [],
   "source": [
    "# Load libraries\n",
    "import pyspark\n",
    "from pyspark.sql import SparkSession\n",
    "from pyspark.ml.feature import VectorAssembler\n",
    "\n",
    "from pyspark.ml.clustering import KMeans, KMeansModel\n",
    "from pyspark.ml.clustering import BisectingKMeans\n",
    "from pyspark.ml.clustering import GaussianMixture\n",
    "from pyspark.ml.evaluation import ClusteringEvaluator\n",
    "\n",
    "import numpy as np\n",
    "import pandas as pd\n",
    "import matplotlib.pyplot as plt\n",
    "\n",
    "import time\n",
    "start_time = time.time()\n",
    "\n",
    "%matplotlib inline"
   ]
  },
  {
   "cell_type": "markdown",
   "metadata": {},
   "source": [
    "## Configure parameters"
   ]
  },
  {
   "cell_type": "code",
   "execution_count": 2,
   "metadata": {},
   "outputs": [],
   "source": [
    "# Path to dataset file\n",
    "data_path='./data/'"
   ]
  },
  {
   "cell_type": "markdown",
   "metadata": {},
   "source": [
    "## Start Spark Session"
   ]
  },
  {
   "cell_type": "code",
   "execution_count": 3,
   "metadata": {},
   "outputs": [],
   "source": [
    "# Create Spark Session\n",
    "sc = SparkSession.builder \\\n",
    "     .master(\"local[*]\") \\\n",
    "     .appName(\"Clustering\") \\\n",
    "     .getOrCreate()\n",
    "\n",
    "# Set evaluator\n",
    "evaluator = ClusteringEvaluator()"
   ]
  },
  {
   "cell_type": "markdown",
   "metadata": {},
   "source": [
    "## Reading Data"
   ]
  },
  {
   "cell_type": "code",
   "execution_count": 4,
   "metadata": {},
   "outputs": [
    {
     "name": "stdout",
     "output_type": "stream",
     "text": [
      "Original Uber Dataframe read from CSV file\n",
      "+----------------+-------+--------+------+\n",
      "|       Date/Time|    Lat|     Lon|  Base|\n",
      "+----------------+-------+--------+------+\n",
      "|5/1/2014 0:02:00|40.7521|-73.9914|B02512|\n",
      "|5/1/2014 0:06:00|40.6965|-73.9715|B02512|\n",
      "|5/1/2014 0:15:00|40.7464|-73.9838|B02512|\n",
      "|5/1/2014 0:17:00|40.7463|-74.0011|B02512|\n",
      "|5/1/2014 0:17:00|40.7594|-73.9734|B02512|\n",
      "|5/1/2014 0:20:00|40.7685|-73.8625|B02512|\n",
      "|5/1/2014 0:21:00|40.7637|-73.9962|B02512|\n",
      "|5/1/2014 0:21:00|40.7252|-74.0023|B02512|\n",
      "|5/1/2014 0:25:00|40.7607|-73.9625|B02512|\n",
      "|5/1/2014 0:25:00|40.7212|-73.9879|B02512|\n",
      "|5/1/2014 0:29:00|40.7255|-73.9986|B02512|\n",
      "|5/1/2014 0:32:00|40.6467|-73.7901|B02512|\n",
      "|5/1/2014 0:40:00|40.7613|-73.9788|B02512|\n",
      "|5/1/2014 0:56:00|40.7807|-73.9497|B02512|\n",
      "|5/1/2014 1:00:00|40.7585|-73.9708|B02512|\n",
      "|5/1/2014 1:02:00|40.7163|-73.9895|B02512|\n",
      "|5/1/2014 1:06:00|40.7265|-73.9958|B02512|\n",
      "|5/1/2014 1:13:00|40.7559|-73.9867|B02512|\n",
      "|5/1/2014 1:13:00|40.7671|-73.9956|B02512|\n",
      "|5/1/2014 1:20:00|40.7707|-73.9944|B02512|\n",
      "+----------------+-------+--------+------+\n",
      "only showing top 20 rows\n",
      "\n"
     ]
    }
   ],
   "source": [
    "# Load Iris CSV dataset to Spark Dataframe\n",
    "orig_data = sc.read.format(\"csv\").options(sep=',',header='true',inferschema='true').\\\n",
    "            load(data_path+\"uber.csv.gz\")\n",
    "\n",
    "print(\"Original Uber Dataframe read from CSV file\")\n",
    "#orig_data.dtypes\n",
    "orig_data.show()"
   ]
  },
  {
   "cell_type": "markdown",
   "metadata": {},
   "source": [
    "### Create Clustering Matrix"
   ]
  },
  {
   "cell_type": "code",
   "execution_count": 5,
   "metadata": {},
   "outputs": [
    {
     "name": "stdout",
     "output_type": "stream",
     "text": [
      "Final Dataframe to K-Means\n",
      "+------+------------------+\n",
      "|  Base|          features|\n",
      "+------+------------------+\n",
      "|B02512|[40.7521,-73.9914]|\n",
      "|B02512|[40.6965,-73.9715]|\n",
      "|B02512|[40.7464,-73.9838]|\n",
      "|B02512|[40.7463,-74.0011]|\n",
      "|B02512|[40.7594,-73.9734]|\n",
      "|B02512|[40.7685,-73.8625]|\n",
      "|B02512|[40.7637,-73.9962]|\n",
      "|B02512|[40.7252,-74.0023]|\n",
      "|B02512|[40.7607,-73.9625]|\n",
      "|B02512|[40.7212,-73.9879]|\n",
      "|B02512|[40.7255,-73.9986]|\n",
      "|B02512|[40.6467,-73.7901]|\n",
      "|B02512|[40.7613,-73.9788]|\n",
      "|B02512|[40.7807,-73.9497]|\n",
      "|B02512|[40.7585,-73.9708]|\n",
      "|B02512|[40.7163,-73.9895]|\n",
      "|B02512|[40.7265,-73.9958]|\n",
      "|B02512|[40.7559,-73.9867]|\n",
      "|B02512|[40.7671,-73.9956]|\n",
      "|B02512|[40.7707,-73.9944]|\n",
      "+------+------------------+\n",
      "only showing top 20 rows\n",
      "\n"
     ]
    }
   ],
   "source": [
    "# The feature column should join all parameters as a Vector\n",
    "# Set the column names that is not part of features list\n",
    "ignore = ['Date/Time', 'Base']\n",
    "\n",
    "# list will be the value of all columns parts of features vector\n",
    "list = [x for x in orig_data.columns if x not in ignore]\n",
    "\n",
    "# VectorAssembler mount the vector of features\n",
    "assembler = VectorAssembler(\n",
    "            inputCols=list,\n",
    "            outputCol='features')\n",
    "\n",
    "# Create final dataframe composed by label and a column of features vector\n",
    "data = (assembler.transform(orig_data).select(\"Base\",\"features\"))\n",
    "\n",
    "print(\"Final Dataframe to K-Means\")\n",
    "data.show()"
   ]
  },
  {
   "cell_type": "code",
   "execution_count": 6,
   "metadata": {},
   "outputs": [
    {
     "data": {
      "text/plain": [
       "652435"
      ]
     },
     "execution_count": 6,
     "metadata": {},
     "output_type": "execute_result"
    }
   ],
   "source": [
    "#data.printSchema()\n",
    "data.count()"
   ]
  },
  {
   "cell_type": "markdown",
   "metadata": {},
   "source": [
    "## Evaluate the number of clusters: **K**\n",
    "\n",
    "Finding the number of cluster in clustering algorithms is crucial. One method is calculate the Silhouette \n",
    "\n",
    "### Clustering Silhouette\n",
    "\n",
    "Silhouette is methodology of interpretation and validation of consistency within clusters of data. The technique provides a succinct representation of how well each object has been classified. The silhouette value is a measure of how similar an object is to its own cluster (cohesion) compared to other clusters (separation). The silhouette ranges from −1 to +1, where a high value indicates that the object is well matched to its own cluster and poorly matched to neighboring clusters. If most objects have a high value, near to +1, then the clustering configuration is appropriate. If many points have a low or negative value, then the clustering configuration may have too many or too few clusters."
   ]
  },
  {
   "cell_type": "code",
   "execution_count": 7,
   "metadata": {},
   "outputs": [
    {
     "data": {
      "text/plain": [
       "32716"
      ]
     },
     "execution_count": 7,
     "metadata": {},
     "output_type": "execute_result"
    }
   ],
   "source": [
    "# Calculate the silhouette of KMeans from 2 to N clusters\n",
    "# Set the max K\n",
    "max_k = 10\n",
    "\n",
    "# Initiate silhouette array with zero\n",
    "silhouette = np.zeros(max_k)\n",
    "\n",
    "# If the dataset is big, get only a sample to find the k\n",
    "# geting sample 5% \n",
    "k_eval = data.sample(False, 0.05)\n",
    "k_eval.count()\n",
    "#k_eval.show()"
   ]
  },
  {
   "cell_type": "code",
   "execution_count": 8,
   "metadata": {},
   "outputs": [],
   "source": [
    "# Calculate silhouette for each k (it may be take a long time...)\n",
    "for k in range(2,max_k):\n",
    "    kmeans = KMeans(featuresCol='features', k=k, maxIter=5, seed=1)\n",
    "    model = kmeans.fit(k_eval)\n",
    "    predictions = model.transform(k_eval)\n",
    "    silhouette[k] = evaluator.evaluate(predictions)"
   ]
  },
  {
   "cell_type": "code",
   "execution_count": 9,
   "metadata": {},
   "outputs": [
    {
     "data": {
      "text/plain": [
       "Text(0, 0.5, 'silhouette')"
      ]
     },
     "execution_count": 9,
     "metadata": {},
     "output_type": "execute_result"
    },
    {
     "data": {
      "image/png": "[encoded data removed]",
      "text/plain": [
       "<Figure size 800x600 with 1 Axes>"
      ]
     },
     "metadata": {},
     "output_type": "display_data"
    }
   ],
   "source": [
    "# Plot graph cluster number x cost\n",
    "fig, ax = plt.subplots(1,1, figsize =(8,6))\n",
    "ax.plot(range(2,max_k),silhouette[2:max_k])\n",
    "ax.set_xlabel('k')\n",
    "ax.set_ylabel('silhouette')"
   ]
  },
  {
   "cell_type": "code",
   "execution_count": 10,
   "metadata": {},
   "outputs": [],
   "source": [
    "# Set a good number os clusters (silhouette near 1 is better)\n",
    "k = 4"
   ]
  },
  {
   "cell_type": "markdown",
   "metadata": {},
   "source": [
    "## K-Means Clustering\n",
    "\n",
    "k-means is one of the most commonly used clustering algorithms that clusters the data points into a predefined number of clusters. The ML implementation includes a parallelized variant of the k-means++ method."
   ]
  },
  {
   "cell_type": "code",
   "execution_count": 11,
   "metadata": {},
   "outputs": [
    {
     "name": "stdout",
     "output_type": "stream",
     "text": [
      "Silhouette with squared euclidean distance = 0.41797035358580603\n",
      "\n",
      "Cluster Centers: \n",
      "[ 40.76228668 -73.9759785 ]\n",
      "[ 40.79592454 -73.87400752]\n",
      "[ 40.66129902 -73.77311793]\n",
      "[ 40.71764587 -73.99646476]\n",
      "\n",
      "Processing time (s) = 17.165 s\n"
     ]
    }
   ],
   "source": [
    "start_time_km =  time.time()\n",
    "\n",
    "# Trains a bisecting k-means model.\n",
    "kmeans = KMeans().setK(k).setSeed(1)\n",
    "model = kmeans.fit(data)\n",
    "\n",
    "# Get centroids\n",
    "centers = model.clusterCenters()\n",
    "\n",
    "# Make predictions\n",
    "predictions = model.transform(data)\n",
    "\n",
    "# Evaluate clustering by computing Silhouette score\n",
    "silhouette_km = evaluator.evaluate(predictions)\n",
    "\n",
    "time_km = time.time() - start_time_km\n",
    "\n",
    "print(\"Silhouette with squared euclidean distance = \" + str(silhouette_km))\n",
    "print()\n",
    "print(\"Cluster Centers: \")\n",
    "for center in centers:\n",
    "    print(center)\n",
    "print()    \n",
    "print(\"Processing time (s) = %3.3f s\" % (time_km))"
   ]
  },
  {
   "cell_type": "markdown",
   "metadata": {},
   "source": [
    "## Bisecting k-means\n",
    "\n",
    "*Bisecting k-means* is a kind of hierarchical clustering using a divisive (or “top-down”) approach: all observations start in one cluster, and splits are performed recursively as one moves down the hierarchy. *Bisecting K-means* can often be much faster than regular K-means, but it will generally produce a different clustering."
   ]
  },
  {
   "cell_type": "code",
   "execution_count": 12,
   "metadata": {},
   "outputs": [
    {
     "name": "stdout",
     "output_type": "stream",
     "text": [
      "Silhouette with squared euclidean distance = 0.430723066749752\n",
      "\n",
      "Cluster Centers: \n",
      "[ 40.71933059 -73.99636809]\n",
      "[ 40.76494649 -73.97347354]\n",
      "[ 40.71202449 -73.82637419]\n",
      "[ 40.90643231 -73.63304998]\n",
      "\n",
      "Processing time (s) = 33.066 s\n"
     ]
    }
   ],
   "source": [
    "start_time_bk =  time.time()\n",
    "\n",
    "# Trains a bisecting k-means model.\n",
    "bkm = BisectingKMeans().setK(k).setSeed(1)\n",
    "model = bkm.fit(data)\n",
    "\n",
    "# Get centroids\n",
    "centers = model.clusterCenters()\n",
    "\n",
    "# Make predictions\n",
    "predictions = model.transform(data)\n",
    "\n",
    "# Evaluate clustering by computing Silhouette score\n",
    "silhouette_bk = evaluator.evaluate(predictions)\n",
    "\n",
    "time_bk = time.time() - start_time_bk\n",
    "\n",
    "print(\"Silhouette with squared euclidean distance = \" + str(silhouette_bk))\n",
    "print()\n",
    "\n",
    "# Shows the result.\n",
    "print(\"Cluster Centers: \")\n",
    "for center in centers:\n",
    "    print(center)\n",
    "\n",
    "print()    \n",
    "print(\"Processing time (s) = %3.3f s\" % (time_bk))"
   ]
  },
  {
   "cell_type": "markdown",
   "metadata": {},
   "source": [
    "## Gaussian Mixture Model (GMM)\n",
    "\n",
    "A Gaussian Mixture Model represents a composite distribution whereby points are drawn from one of k Gaussian sub-distributions, each with its own probability. The spark.ml implementation uses the expectation-maximization algorithm to induce the maximum-likelihood model given a set of samples."
   ]
  },
  {
   "cell_type": "code",
   "execution_count": 13,
   "metadata": {},
   "outputs": [
    {
     "name": "stdout",
     "output_type": "stream",
     "text": [
      "Silhouette with squared euclidean distance = 0.5957677526264982\n",
      "\n",
      "Gaussians shown as a DataFrame: \n",
      "+--------------------+--------------------+\n",
      "|                mean|                 cov|\n",
      "+--------------------+--------------------+\n",
      "|[40.6586771425515...|3.519638137496068...|\n",
      "|[40.7474739304729...|4.71572477309566E...|\n",
      "|[40.7544855286932...|0.010724378533319...|\n",
      "|[40.7128912270126...|0.001323394897610...|\n",
      "+--------------------+--------------------+\n",
      "\n",
      "\n",
      "Processing time (s) = 33.066 s\n",
      "\n"
     ]
    }
   ],
   "source": [
    "start_time_gm =  time.time()\n",
    "\n",
    "# Trains a GMM model.\n",
    "gmm = GaussianMixture().setK(k).setSeed(1)\n",
    "model = gmm.fit(data)\n",
    "\n",
    "# Make predictions\n",
    "predictions = model.transform(data)\n",
    "\n",
    "# Evaluate clustering by computing Silhouette score\n",
    "silhouette_gm = evaluator.evaluate(predictions)\n",
    "\n",
    "time_gm = time.time() - start_time_gm\n",
    "\n",
    "print(\"Silhouette with squared euclidean distance = \" + str(silhouette_gm))\n",
    "print()\n",
    "\n",
    "print(\"Gaussians shown as a DataFrame: \")\n",
    "model.gaussiansDF.show()\n",
    "print()    \n",
    "\n",
    "print(\"Processing time (s) = %3.3f s\" % (time_bk))\n",
    "print()"
   ]
  },
  {
   "cell_type": "markdown",
   "metadata": {},
   "source": [
    "## Sumary"
   ]
  },
  {
   "cell_type": "code",
   "execution_count": 14,
   "metadata": {},
   "outputs": [
    {
     "name": "stdout",
     "output_type": "stream",
     "text": [
      "====================================================================\n",
      "=============  Compare Algorithm Silhouette and Time ===============\n",
      "\n",
      "K-Means:                        silhouette = 0.42    time = 17.165 s\n",
      "Bisecting k-means:              silhouette = 0.43    time = 33.066 s\n",
      "Gaussian Mixture Model (GMM):   silhouette = 0.60    time = 145.402 s\n",
      "====================================================================\n"
     ]
    }
   ],
   "source": [
    "print(\"====================================================================\")\n",
    "print(\"=============  Compare Algorithm Silhouette and Time ===============\")\n",
    "print()\n",
    "print(\"K-Means:                        silhouette = %3.2f    time = %3.3f s\" % (silhouette_km, time_km))\n",
    "print(\"Bisecting k-means:              silhouette = %3.2f    time = %3.3f s\" % (silhouette_bk, time_bk))\n",
    "print(\"Gaussian Mixture Model (GMM):   silhouette = %3.2f    time = %3.3f s\" % (silhouette_gm, time_gm))\n",
    "print(\"====================================================================\")"
   ]
  },
  {
   "cell_type": "code",
   "execution_count": 15,
   "metadata": {
    "tags": []
   },
   "outputs": [
    {
     "name": "stdout",
     "output_type": "stream",
     "text": [
      "--- Execution time: 295.015588760376 seconds ---\n"
     ]
    }
   ],
   "source": [
    "sc.stop()\n",
    "print(\"--- Execution time: %s seconds ---\" % (time.time() - start_time))"
   ]
  }
 ],
 "metadata": {
  "kernelspec": {
   "display_name": "Python 3 (ipykernel)",
   "language": "python",
   "name": "python3"
  },
  "language_info": {
   "codemirror_mode": {
    "name": "ipython",
    "version": 3
   },
   "file_extension": ".py",
   "mimetype": "text/x-python",
   "name": "python",
   "nbconvert_exporter": "python",
   "pygments_lexer": "ipython3",
   "version": "3.12.8"
  }
 },
 "nbformat": 4,
 "nbformat_minor": 4
}
