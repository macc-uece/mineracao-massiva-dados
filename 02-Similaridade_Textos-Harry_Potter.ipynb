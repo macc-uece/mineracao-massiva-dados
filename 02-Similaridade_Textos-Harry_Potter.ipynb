{
 "cells": [
  {
   "cell_type": "markdown",
   "metadata": {},
   "source": [
    "# Exemplo 02: Similaridade de Textos: LSH\n",
    "\n",
    "## Locality-Sensitive Hashing (LSH) Algorithms\n",
    "\n",
    "LSH for Euclidean distance metrics. The input is a dense or sparse vectors, each of which represents a point in the Euclidean distance space. The output will be vectors of configurable dimension. Hash values in the same dimension are calculated by the same hash function."
   ]
  },
  {
   "cell_type": "code",
   "execution_count": 1,
   "metadata": {},
   "outputs": [],
   "source": [
    "# Load Spark Library\n",
    "#from pyspark import SparkContext\n",
    "from pyspark.sql import SparkSession\n",
    "from pyspark.sql import DataFrame\n",
    "from pyspark.sql.types import *\n",
    "\n",
    "import time, os, string\n",
    "\n",
    "from pyspark.ml import Pipeline, Transformer\n",
    "from pyspark.ml.feature import Tokenizer\n",
    "from pyspark.ml.feature import RegexTokenizer\n",
    "from pyspark.ml.feature import Word2Vec\n",
    "from pyspark.ml.feature import CountVectorizer\n",
    "from pyspark.ml.feature import NGram\n",
    "from pyspark.ml.feature import HashingTF\n",
    "from pyspark.ml.feature import MinHashLSH\n",
    "from pyspark.ml.feature import BucketedRandomProjectionLSH\n",
    "\n",
    "from pyspark.ml.linalg import Vectors\n",
    "from pyspark.sql.functions import regexp_replace, trim, ltrim, rtrim, col, lower, when, size, lit, avg"
   ]
  },
  {
   "cell_type": "code",
   "execution_count": 2,
   "metadata": {},
   "outputs": [],
   "source": [
    "# Configuration\n",
    "\n",
    "cwd = os.getcwd()\n",
    "book_folder = \"/data/\"\n",
    "book1 = 'file://'+cwd+book_folder+\"01-Harry_Potter_and_the_Sorcerers_Stone.txt.gz\"\n",
    "book2 = 'file://'+cwd+book_folder+\"02-Harry_Potter_and_the_Chamber_of_Secrets.txt.gz\""
   ]
  },
  {
   "cell_type": "code",
   "execution_count": 3,
   "metadata": {},
   "outputs": [],
   "source": [
    "# Functions to converte to lower case, remove ponctuation and empty lines\n",
    "\n",
    "def removePunctuation(column):\n",
    "    return trim(lower(regexp_replace(column,'[!,*)@#%|“”(&$_?.^—]', ''))).alias('text')\n",
    "\n",
    "class RemoveEmptyLines(Transformer):\n",
    "    def __init__(self, column: StringType() ):\n",
    "        super(RemoveEmptyLines, self).__init__()\n",
    "        self.column = column\n",
    "\n",
    "    def _transform(self, df: DataFrame) -> DataFrame:\n",
    "        return df.withColumn(self.column, when(size(col(self.column)) == 0, lit(None)).otherwise(col(self.column))).na.drop()"
   ]
  },
  {
   "cell_type": "markdown",
   "metadata": {},
   "source": [
    "## Create Spark Session"
   ]
  },
  {
   "cell_type": "code",
   "execution_count": 4,
   "metadata": {},
   "outputs": [],
   "source": [
    "# Create local Spark session\n",
    "sc = SparkSession.builder\\\n",
    "     .appName(\"SparkSimilarityLSH\")\\\n",
    "     .master(\"local[*]\") \\\n",
    "     .getOrCreate()\n",
    "\n",
    "start_time = time.time()"
   ]
  },
  {
   "cell_type": "markdown",
   "metadata": {},
   "source": [
    "### Reading Data"
   ]
  },
  {
   "cell_type": "code",
   "execution_count": 5,
   "metadata": {},
   "outputs": [
    {
     "name": "stdout",
     "output_type": "stream",
     "text": [
      "Original text ===>\n",
      "+----------------------------------------------------------------------------------------------------+\n",
      "|                                                                                               value|\n",
      "+----------------------------------------------------------------------------------------------------+\n",
      "|M r. and Mrs. Dursley, of number four, Privet Drive, were proud to say that they were perfectly n...|\n",
      "|                                                                                                    |\n",
      "|Mr. Dursley was the director of a firm called Grunnings, which made drills. He was a big, beefy m...|\n",
      "|                                                                                                    |\n",
      "|The Dursleys had everything they wanted, but they also had a secret, and their greatest fear was ...|\n",
      "|                                                                                                    |\n",
      "|When Mr. and Mrs. Dursley woke up on the dull, gray Tuesday our story starts, there was nothing a...|\n",
      "|                                                                                                    |\n",
      "+----------------------------------------------------------------------------------------------------+\n",
      "only showing top 8 rows\n",
      "\n",
      "Remove empty lines ===>\n",
      "+----------------------------------------------------------------------------------------------------+\n",
      "|                                                                                               value|\n",
      "+----------------------------------------------------------------------------------------------------+\n",
      "|M r. and Mrs. Dursley, of number four, Privet Drive, were proud to say that they were perfectly n...|\n",
      "|Mr. Dursley was the director of a firm called Grunnings, which made drills. He was a big, beefy m...|\n",
      "|The Dursleys had everything they wanted, but they also had a secret, and their greatest fear was ...|\n",
      "|When Mr. and Mrs. Dursley woke up on the dull, gray Tuesday our story starts, there was nothing a...|\n",
      "+----------------------------------------------------------------------------------------------------+\n",
      "only showing top 4 rows\n",
      "\n",
      "Remove punctuation, convert to lowercase, rename column  ===>\n",
      "+----------------------------------------------------------------------------------------------------+\n",
      "|                                                                                                text|\n",
      "+----------------------------------------------------------------------------------------------------+\n",
      "|m r and mrs dursley of number four privet drive were proud to say that they were perfectly normal...|\n",
      "|mr dursley was the director of a firm called grunnings which made drills he was a big beefy man w...|\n",
      "|the dursleys had everything they wanted but they also had a secret and their greatest fear was th...|\n",
      "|when mr and mrs dursley woke up on the dull gray tuesday our story starts there was nothing about...|\n",
      "+----------------------------------------------------------------------------------------------------+\n",
      "only showing top 4 rows\n",
      "\n"
     ]
    }
   ],
   "source": [
    "# Read de file Book 1\n",
    "text_1 = sc.read.text(book1)\n",
    "print(\"Original text ===>\")\n",
    "text_1.show(8,truncate=100)\n",
    "# Remove empty lines\n",
    "text_1 = text_1.filter(\"value != ''\")\n",
    "print(\"Remove empty lines ===>\")\n",
    "text_1.show(4,truncate=100)\n",
    "# Remove punctuation and convert to lowercase\n",
    "text_1 = text_1.select(removePunctuation(col('value')))\n",
    "# Rename column\n",
    "text_1 = text_1.withColumnRenamed('value', 'text')\n",
    "print(\"Remove punctuation, convert to lowercase, rename column  ===>\")\n",
    "text_1.show(4,truncate=100)"
   ]
  },
  {
   "cell_type": "code",
   "execution_count": 6,
   "metadata": {},
   "outputs": [],
   "source": [
    "# Read de book file:  Book 2\n",
    "text_2 = sc.read.text(book2)\n",
    "# Remove blank lines\n",
    "text_2 = text_2.filter(\"value != ''\")\n",
    "# Remove punctuation and rename column\n",
    "text_2 = text_2.select(removePunctuation(col('value')))\n",
    "text_2 = text_2.withColumnRenamed('value', 'text')"
   ]
  },
  {
   "cell_type": "markdown",
   "metadata": {},
   "source": [
    "## Calculate Similarity\n",
    "\n",
    "### Tokenizer"
   ]
  },
  {
   "cell_type": "code",
   "execution_count": 7,
   "metadata": {},
   "outputs": [
    {
     "name": "stdout",
     "output_type": "stream",
     "text": [
      "+--------------------------------------------------+--------------------------------------------------+\n",
      "|                                              text|                                            tokens|\n",
      "+--------------------------------------------------+--------------------------------------------------+\n",
      "|m r and mrs dursley of number four privet drive...|[and, mrs, dursley, of, number, four, privet, d...|\n",
      "|mr dursley was the director of a firm called gr...|[mr, dursley, was, the, director, of, firm, cal...|\n",
      "|the dursleys had everything they wanted but the...|[the, dursleys, had, everything, they, wanted, ...|\n",
      "|when mr and mrs dursley woke up on the dull gra...|[when, mr, and, mrs, dursley, woke, up, on, the...|\n",
      "+--------------------------------------------------+--------------------------------------------------+\n",
      "only showing top 4 rows\n",
      "\n"
     ]
    }
   ],
   "source": [
    "tokenizer = RegexTokenizer(inputCol=\"text\", outputCol=\"tokens\", minTokenLength=2, toLowercase=True)\n",
    "tokenData = tokenizer.transform(text_1)\n",
    "tokenData.show(4,truncate=50)"
   ]
  },
  {
   "cell_type": "markdown",
   "metadata": {},
   "source": [
    "### Shingling"
   ]
  },
  {
   "cell_type": "code",
   "execution_count": 8,
   "metadata": {},
   "outputs": [
    {
     "name": "stdout",
     "output_type": "stream",
     "text": [
      "+----------------------------------------+----------------------------------------+----------------------------------------+\n",
      "|                                    text|                                  tokens|                                  ngrams|\n",
      "+----------------------------------------+----------------------------------------+----------------------------------------+\n",
      "|m r and mrs dursley of number four pr...|[and, mrs, dursley, of, number, four,...|[and mrs dursley, mrs dursley of, dur...|\n",
      "|mr dursley was the director of a firm...|[mr, dursley, was, the, director, of,...|[mr dursley was, dursley was the, was...|\n",
      "|the dursleys had everything they want...|[the, dursleys, had, everything, they...|[the dursleys had, dursleys had every...|\n",
      "|when mr and mrs dursley woke up on th...|[when, mr, and, mrs, dursley, woke, u...|[when mr and, mr and mrs, and mrs dur...|\n",
      "+----------------------------------------+----------------------------------------+----------------------------------------+\n",
      "only showing top 4 rows\n",
      "\n"
     ]
    }
   ],
   "source": [
    "ngram = NGram(n=3, inputCol=\"tokens\", outputCol=\"ngrams\")\n",
    "ngramData = ngram.transform(tokenData)\n",
    "\n",
    "rememptylines = RemoveEmptyLines(column = \"ngrams\")\n",
    "ngramData = rememptylines.transform(ngramData)\n",
    "\n",
    "ngramData.show(4,truncate=40)"
   ]
  },
  {
   "cell_type": "markdown",
   "metadata": {},
   "source": [
    "### Counting Hash"
   ]
  },
  {
   "cell_type": "code",
   "execution_count": 9,
   "metadata": {},
   "outputs": [
    {
     "name": "stdout",
     "output_type": "stream",
     "text": [
      "+------------------------------+------------------------------+------------------------------+------------------------------+\n",
      "|                          text|                        tokens|                        ngrams|                       vectors|\n",
      "+------------------------------+------------------------------+------------------------------+------------------------------+\n",
      "|m r and mrs dursley of numb...|[and, mrs, dursley, of, num...|[and mrs dursley, mrs dursl...|(262144,[11709,13571,14226,...|\n",
      "|mr dursley was the director...|[mr, dursley, was, the, dir...|[mr dursley was, dursley wa...|(262144,[11297,13362,26388,...|\n",
      "|the dursleys had everything...|[the, dursleys, had, everyt...|[the dursleys had, dursleys...|(262144,[3002,3464,4923,531...|\n",
      "|when mr and mrs dursley wok...|[when, mr, and, mrs, dursle...|[when mr and, mr and mrs, a...|(262144,[5287,6590,13929,24...|\n",
      "|none of them noticed a larg...|[none, of, them, noticed, l...|[none of them, of them noti...|(262144,[2188,2984,21644,37...|\n",
      "+------------------------------+------------------------------+------------------------------+------------------------------+\n",
      "only showing top 5 rows\n",
      "\n"
     ]
    }
   ],
   "source": [
    "hash_tf = HashingTF(inputCol=\"ngrams\", outputCol=\"vectors\")\n",
    "\n",
    "hashtfData = hash_tf.transform(ngramData)\n",
    "hashtfData.show(5,truncate=30) "
   ]
  },
  {
   "cell_type": "markdown",
   "metadata": {},
   "source": [
    "### Min-Hashing"
   ]
  },
  {
   "cell_type": "code",
   "execution_count": 10,
   "metadata": {},
   "outputs": [
    {
     "name": "stdout",
     "output_type": "stream",
     "text": [
      "+-------------------------+-------------------------+-------------------------+-------------------------+-------------------------+\n",
      "|                     text|                   tokens|                   ngrams|                  vectors|                      lsh|\n",
      "+-------------------------+-------------------------+-------------------------+-------------------------+-------------------------+\n",
      "|m r and mrs dursley of...|[and, mrs, dursley, of...|[and mrs dursley, mrs ...|(262144,[11709,13571,1...|[[7.0281551E7], [47864...|\n",
      "|mr dursley was the dir...|[mr, dursley, was, the...|[mr dursley was, dursl...|(262144,[11297,13362,2...|[[1.3450292E7], [1.459...|\n",
      "|the dursleys had every...|[the, dursleys, had, e...|[the dursleys had, dur...|(262144,[3002,3464,492...|[[3.1730732E7], [3.226...|\n",
      "|when mr and mrs dursle...|[when, mr, and, mrs, d...|[when mr and, mr and m...|(262144,[5287,6590,139...|[[5.7933269E7], [3.445...|\n",
      "+-------------------------+-------------------------+-------------------------+-------------------------+-------------------------+\n",
      "only showing top 4 rows\n",
      "\n"
     ]
    }
   ],
   "source": [
    "minhash = MinHashLSH(inputCol=\"vectors\", outputCol=\"lsh\", numHashTables=3).fit(hashtfData)\n",
    "\n",
    "minhashData = minhash.transform(hashtfData)\n",
    "minhashData.show(4,truncate=25)"
   ]
  },
  {
   "cell_type": "markdown",
   "metadata": {},
   "source": [
    "#### Using Pipeline"
   ]
  },
  {
   "cell_type": "code",
   "execution_count": 11,
   "metadata": {},
   "outputs": [
    {
     "name": "stdout",
     "output_type": "stream",
     "text": [
      "+-------------------------+-------------------------+-------------------------+-------------------------+-------------------------+\n",
      "|                     text|                   tokens|                   ngrams|                  vectors|                      lsh|\n",
      "+-------------------------+-------------------------+-------------------------+-------------------------+-------------------------+\n",
      "|m r and mrs dursley of...|[and, mrs, dursley, of...|[and mrs dursley, mrs ...|(262144,[11709,13571,1...|[[7.0281551E7], [47864...|\n",
      "|mr dursley was the dir...|[mr, dursley, was, the...|[mr dursley was, dursl...|(262144,[11297,13362,2...|[[1.3450292E7], [1.459...|\n",
      "|the dursleys had every...|[the, dursleys, had, e...|[the dursleys had, dur...|(262144,[3002,3464,492...|[[3.1730732E7], [3.226...|\n",
      "|when mr and mrs dursle...|[when, mr, and, mrs, d...|[when mr and, mr and m...|(262144,[5287,6590,139...|[[5.7933269E7], [3.445...|\n",
      "+-------------------------+-------------------------+-------------------------+-------------------------+-------------------------+\n",
      "only showing top 4 rows\n",
      "\n"
     ]
    }
   ],
   "source": [
    "pipeline = Pipeline(stages=[\n",
    "            tokenizer,\n",
    "            ngram,\n",
    "            rememptylines,\n",
    "            hash_tf,\n",
    "            minhash\n",
    "        ])\n",
    "\n",
    "model= pipeline.fit(text_1)\n",
    "\n",
    "text_A = model.transform(text_1)\n",
    "text_B = model.transform(text_2)\n",
    "\n",
    "text_A.show(4,truncate=25)"
   ]
  },
  {
   "cell_type": "code",
   "execution_count": 12,
   "metadata": {},
   "outputs": [
    {
     "name": "stdout",
     "output_type": "stream",
     "text": [
      "+-------------------------+-------------------------+-------------------------+-------------------------+-------------------------+\n",
      "|                     text|                   tokens|                   ngrams|                  vectors|                      lsh|\n",
      "+-------------------------+-------------------------+-------------------------+-------------------------+-------------------------+\n",
      "|not for the first time...|[not, for, the, first,...|[not for the, for the ...|(262144,[2157,11458,29...|[[2.1736297E7], [1.102...|\n",
      "|third time this week h...|[third, time, this, we...|[third time this, time...|(262144,[45337,50380,6...|[[1419311.0], [9469319...|\n",
      "|harry tried yet again ...|[harry, tried, yet, ag...|[harry tried yet, trie...|(262144,[43840,47565,9...|[[3.74485618E8], [1.40...|\n",
      "|she’s bored he said sh...|[she’s, bored, he, sai...|[she’s bored he, bored...|(262144,[2579,28737,37...|[[4.70882235E8], [6.28...|\n",
      "+-------------------------+-------------------------+-------------------------+-------------------------+-------------------------+\n",
      "only showing top 4 rows\n",
      "\n"
     ]
    }
   ],
   "source": [
    "text_B.show(4,truncate=25)"
   ]
  },
  {
   "cell_type": "markdown",
   "metadata": {},
   "source": [
    "### Locality-Sensitive Hashing (LSH)"
   ]
  },
  {
   "cell_type": "code",
   "execution_count": 13,
   "metadata": {},
   "outputs": [
    {
     "name": "stdout",
     "output_type": "stream",
     "text": [
      "+--------------------------------------------------+--------------------------------------------------+------------------+\n",
      "|                                          datasetA|                                          datasetB|   JaccardDistance|\n",
      "+--------------------------------------------------+--------------------------------------------------+------------------+\n",
      "|{shut up said ron, [shut, up, said, ron], [shut...|{shut up said harry frantically it’ll hear you,...|0.8571428571428572|\n",
      "|{dear mr potter, [dear, mr, potter], [dear mr p...|{dear mr potter, [dear, mr, potter], [dear mr p...|               0.0|\n",
      "|{bye said harry and ron the twins slid the comp...|{yes said harry and ron together instantly, [ye...|0.8666666666666667|\n",
      "|{the what said harry and ron, [the, what, said,...|{yes said harry and ron together instantly, [ye...|0.7142857142857143|\n",
      "|{detention she shouted and twenty points from s...|{there’s something else said harry watching her...|0.8974358974358975|\n",
      "+--------------------------------------------------+--------------------------------------------------+------------------+\n",
      "only showing top 5 rows\n",
      "\n",
      "Similarity Text 1 x Text 2 =  3.417438518045353  %\n"
     ]
    }
   ],
   "source": [
    "rows_text_A = text_A.count()\n",
    "rows_text_B = text_B.count()\n",
    "\n",
    "# Show similarity with Jaccard Distance below 0.9 \n",
    "result_A_B = model.stages[-1].approxSimilarityJoin(text_A, text_B, 0.9, distCol=\"JaccardDistance\")\n",
    "result_A_B.show(5,truncate=50)\n",
    "\n",
    "rows_result_A_B = result_A_B.count()\n",
    "simil_index_AB = rows_result_A_B / rows_text_B * 100\n",
    "print(\"Similarity Text 1 x Text 2 = \",simil_index_AB, \" %\")"
   ]
  },
  {
   "cell_type": "code",
   "execution_count": 14,
   "metadata": {},
   "outputs": [
    {
     "name": "stdout",
     "output_type": "stream",
     "text": [
      "+--------------------------------------------------+--------------------------------------------------+------------------+\n",
      "|                                          datasetA|                                          datasetB|   JaccardDistance|\n",
      "+--------------------------------------------------+--------------------------------------------------+------------------+\n",
      "|{uncle vernon ripped open the bill snorted in d...|{uncle vernon ripped open the bill snorted in d...|               0.0|\n",
      "|{if yeh know where to go said hagrid, [if, yeh,...|{if yeh know where to go said hagrid, [if, yeh,...|               0.0|\n",
      "|{twenty minutes later they left eeylops owl emp...|{twenty minutes later they left eeylops owl emp...|               0.0|\n",
      "|{whispers followed harry from the moment he lef...|{whispers followed harry from the moment he lef...|               0.0|\n",
      "|{did you see his face the great lump, [did, you...|{did you see his scar, [did, you, see, his, sca...|0.7142857142857143|\n",
      "+--------------------------------------------------+--------------------------------------------------+------------------+\n",
      "only showing top 5 rows\n",
      "\n",
      "Similarity Text 1 x Text 1 =  103.70496261046907  %\n"
     ]
    }
   ],
   "source": [
    "# Show similarity with Jaccard Distance below 0.9\n",
    "result_A_A = model.stages[-1].approxSimilarityJoin(text_A, text_A, 0.9, distCol=\"JaccardDistance\")\n",
    "result_A_A .show(5,truncate=50)\n",
    "\n",
    "simil_index_AA = result_A_A.count() / rows_text_A * 100\n",
    "print(\"Similarity Text 1 x Text 1 = \",simil_index_AA, \" %\")"
   ]
  },
  {
   "cell_type": "markdown",
   "metadata": {},
   "source": [
    "## Finishing"
   ]
  },
  {
   "cell_type": "code",
   "execution_count": 15,
   "metadata": {},
   "outputs": [
    {
     "name": "stdout",
     "output_type": "stream",
     "text": [
      "--- Execution time: 23.980924129486084 seconds ---\n"
     ]
    }
   ],
   "source": [
    "print(\"--- Execution time: %s seconds ---\" % (time.time() - start_time))\n",
    "# Stop Spark\n",
    "sc.stop()"
   ]
  }
 ],
 "metadata": {
  "kernelspec": {
   "display_name": "Python 3 (ipykernel)",
   "language": "python",
   "name": "python3"
  },
  "language_info": {
   "codemirror_mode": {
    "name": "ipython",
    "version": 3
   },
   "file_extension": ".py",
   "mimetype": "text/x-python",
   "name": "python",
   "nbconvert_exporter": "python",
   "pygments_lexer": "ipython3",
   "version": "3.12.9"
  }
 },
 "nbformat": 4,
 "nbformat_minor": 4
}
