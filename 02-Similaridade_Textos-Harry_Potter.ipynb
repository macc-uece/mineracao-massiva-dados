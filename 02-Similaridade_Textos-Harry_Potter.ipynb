{
 "cells": [
  {
   "cell_type": "markdown",
   "metadata": {},
   "source": [
    "# Exemplo 02: Similaridade de Textos: LSH\n",
    "\n",
    "## Locality-Sensitive Hashing (LSH) Algorithms\n",
    "\n",
    "LSH for Euclidean distance metrics. The input is a dense or sparse vectors, each of which represents a point in the Euclidean distance space. The output will be vectors of configurable dimension. Hash values in the same dimension are calculated by the same hash function."
   ]
  },
  {
   "cell_type": "code",
   "execution_count": 1,
   "metadata": {},
   "outputs": [],
   "source": [
    "# Load Spark Library\n",
    "#from pyspark import SparkContext\n",
    "from pyspark.sql import SparkSession\n",
    "from pyspark.sql import DataFrame\n",
    "from pyspark.sql.types import *\n",
    "\n",
    "import time, os, string\n",
    "\n",
    "from pyspark.ml import Pipeline, Transformer\n",
    "from pyspark.ml.feature import Tokenizer\n",
    "from pyspark.ml.feature import RegexTokenizer\n",
    "from pyspark.ml.feature import Word2Vec\n",
    "from pyspark.ml.feature import CountVectorizer\n",
    "from pyspark.ml.feature import NGram\n",
    "from pyspark.ml.feature import HashingTF\n",
    "from pyspark.ml.feature import MinHashLSH\n",
    "from pyspark.ml.feature import BucketedRandomProjectionLSH\n",
    "\n",
    "from pyspark.ml.linalg import Vectors\n",
    "from pyspark.sql.functions import regexp_replace, trim, ltrim, rtrim, col, lower, when, size, lit, avg"
   ]
  },
  {
   "cell_type": "code",
   "execution_count": 2,
   "metadata": {},
   "outputs": [],
   "source": [
    "# Configuration\n",
    "\n",
    "cwd = os.getcwd()\n",
    "book_folder = \"/data/\"\n",
    "book1 = 'file://'+cwd+book_folder+\"01-Harry_Potter_and_the_Sorcerers_Stone.txt.gz\"\n",
    "book2 = 'file://'+cwd+book_folder+\"02-Harry_Potter_and_the_Chamber_of_Secrets.txt.gz\""
   ]
  },
  {
   "cell_type": "code",
   "execution_count": 3,
   "metadata": {},
   "outputs": [],
   "source": [
    "# Functions to converte to lower case, remove ponctuation and empty lines\n",
    "\n",
    "def removePunctuation(column):\n",
    "    return trim(lower(regexp_replace(column,'[!,*)@#%|“”(&$_?.^—]', ''))).alias('text')\n",
    "\n",
    "class RemoveEmptyLines(Transformer):\n",
    "    def __init__(self, column: StringType() ):\n",
    "        super(RemoveEmptyLines, self).__init__()\n",
    "        self.column = column\n",
    "\n",
    "    def _transform(self, df: DataFrame) -> DataFrame:\n",
    "        return df.withColumn(self.column, when(size(col(self.column)) == 0, lit(None)).otherwise(col(self.column))).na.drop()"
   ]
  },
  {
   "cell_type": "markdown",
   "metadata": {},
   "source": [
    "## Create Spark Session"
   ]
  },
  {
   "cell_type": "code",
   "execution_count": 4,
   "metadata": {},
   "outputs": [],
   "source": [
    "# Create local Spark session\n",
    "sc = SparkSession.builder\\\n",
    "     .appName(\"SparkSimilarityLSH\")\\\n",
    "     .master(\"local[*]\") \\\n",
    "     .getOrCreate()\n",
    "\n",
    "start_time = time.time()"
   ]
  },
  {
   "cell_type": "markdown",
   "metadata": {},
   "source": [
    "### Reading Data"
   ]
  },
  {
   "cell_type": "code",
   "execution_count": 5,
   "metadata": {},
   "outputs": [
    {
     "name": "stdout",
     "output_type": "stream",
     "text": [
      "Original text ===>\n",
      "+----------------------------------------------------------------------------------------------------+\n",
      "|                                                                                               value|\n",
      "+----------------------------------------------------------------------------------------------------+\n",
      "|M r. and Mrs. Dursley, of number four, Privet Drive, were proud to say that they were perfectly n...|\n",
      "|                                                                                                    |\n",
      "|Mr. Dursley was the director of a firm called Grunnings, which made drills. He was a big, beefy m...|\n",
      "|                                                                                                    |\n",
      "|The Dursleys had everything they wanted, but they also had a secret, and their greatest fear was ...|\n",
      "|                                                                                                    |\n",
      "|When Mr. and Mrs. Dursley woke up on the dull, gray Tuesday our story starts, there was nothing a...|\n",
      "|                                                                                                    |\n",
      "+----------------------------------------------------------------------------------------------------+\n",
      "only showing top 8 rows\n",
      "\n",
      "Remove empty lines ===>\n",
      "+----------------------------------------------------------------------------------------------------+\n",
      "|                                                                                               value|\n",
      "+----------------------------------------------------------------------------------------------------+\n",
      "|M r. and Mrs. Dursley, of number four, Privet Drive, were proud to say that they were perfectly n...|\n",
      "|Mr. Dursley was the director of a firm called Grunnings, which made drills. He was a big, beefy m...|\n",
      "|The Dursleys had everything they wanted, but they also had a secret, and their greatest fear was ...|\n",
      "|When Mr. and Mrs. Dursley woke up on the dull, gray Tuesday our story starts, there was nothing a...|\n",
      "+----------------------------------------------------------------------------------------------------+\n",
      "only showing top 4 rows\n",
      "\n",
      "Remove punctuation, convert to lowercase, rename column  ===>\n",
      "+----------------------------------------------------------------------------------------------------+\n",
      "|                                                                                                text|\n",
      "+----------------------------------------------------------------------------------------------------+\n",
      "|m r and mrs dursley of number four privet drive were proud to say that they were perfectly normal...|\n",
      "|mr dursley was the director of a firm called grunnings which made drills he was a big beefy man w...|\n",
      "|the dursleys had everything they wanted but they also had a secret and their greatest fear was th...|\n",
      "|when mr and mrs dursley woke up on the dull gray tuesday our story starts there was nothing about...|\n",
      "+----------------------------------------------------------------------------------------------------+\n",
      "only showing top 4 rows\n",
      "\n"
     ]
    }
   ],
   "source": [
    "# Read de file Book 1\n",
    "text_1 = sc.read.text(book1)\n",
    "print(\"Original text ===>\")\n",
    "text_1.show(8,truncate=100)\n",
    "# Remove empty lines\n",
    "text_1 = text_1.filter(\"value != ''\")\n",
    "print(\"Remove empty lines ===>\")\n",
    "text_1.show(4,truncate=100)\n",
    "# Remove punctuation and convert to lowercase\n",
    "text_1 = text_1.select(removePunctuation(col('value')))\n",
    "# Rename column\n",
    "text_1 = text_1.withColumnRenamed('value', 'text')\n",
    "print(\"Remove punctuation, convert to lowercase, rename column  ===>\")\n",
    "text_1.show(4,truncate=100)"
   ]
  },
  {
   "cell_type": "code",
   "execution_count": 6,
   "metadata": {},
   "outputs": [],
   "source": [
    "# Read de book file:  Book 2\n",
    "text_2 = sc.read.text(book2)\n",
    "# Remove blank lines\n",
    "text_2 = text_2.filter(\"value != ''\")\n",
    "# Remove punctuation and rename column\n",
    "text_2 = text_2.select(removePunctuation(col('value')))\n",
    "text_2 = text_2.withColumnRenamed('value', 'text')"
   ]
  },
  {
   "cell_type": "markdown",
   "metadata": {},
   "source": [
    "## Calculate Similarity\n",
    "\n",
    "### Tokenizer"
   ]
  },
  {
   "cell_type": "code",
   "execution_count": 7,
   "metadata": {},
   "outputs": [
    {
     "name": "stdout",
     "output_type": "stream",
     "text": [
      "+--------------------------------------------------+--------------------------------------------------+\n",
      "|                                              text|                                            tokens|\n",
      "+--------------------------------------------------+--------------------------------------------------+\n",
      "|m r and mrs dursley of number four privet drive...|[and, mrs, dursley, number, four, privet, drive...|\n",
      "|mr dursley was the director of a firm called gr...|[dursley, was, the, director, firm, called, gru...|\n",
      "|the dursleys had everything they wanted but the...|[the, dursleys, had, everything, they, wanted, ...|\n",
      "|when mr and mrs dursley woke up on the dull gra...|[when, and, mrs, dursley, woke, the, dull, gray...|\n",
      "+--------------------------------------------------+--------------------------------------------------+\n",
      "only showing top 4 rows\n",
      "\n"
     ]
    }
   ],
   "source": [
    "tokenizer = RegexTokenizer(inputCol=\"text\", outputCol=\"tokens\", minTokenLength=3, toLowercase=True)\n",
    "tokenData = tokenizer.transform(text_1)\n",
    "tokenData.show(4,truncate=50)"
   ]
  },
  {
   "cell_type": "markdown",
   "metadata": {},
   "source": [
    "### Shingling"
   ]
  },
  {
   "cell_type": "code",
   "execution_count": 8,
   "metadata": {},
   "outputs": [
    {
     "name": "stdout",
     "output_type": "stream",
     "text": [
      "+----------------------------------------+----------------------------------------+----------------------------------------+\n",
      "|                                    text|                                  tokens|                                  ngrams|\n",
      "+----------------------------------------+----------------------------------------+----------------------------------------+\n",
      "|m r and mrs dursley of number four pr...|[and, mrs, dursley, number, four, pri...|[and mrs dursley, mrs dursley number,...|\n",
      "|mr dursley was the director of a firm...|[dursley, was, the, director, firm, c...|[dursley was the, was the director, t...|\n",
      "|the dursleys had everything they want...|[the, dursleys, had, everything, they...|[the dursleys had, dursleys had every...|\n",
      "|when mr and mrs dursley woke up on th...|[when, and, mrs, dursley, woke, the, ...|[when and mrs, and mrs dursley, mrs d...|\n",
      "+----------------------------------------+----------------------------------------+----------------------------------------+\n",
      "only showing top 4 rows\n",
      "\n"
     ]
    }
   ],
   "source": [
    "ngram = NGram(n=3, inputCol=\"tokens\", outputCol=\"ngrams\")\n",
    "ngramData = ngram.transform(tokenData)\n",
    "\n",
    "rememptylines = RemoveEmptyLines(column = \"ngrams\")\n",
    "ngramData = rememptylines.transform(ngramData)\n",
    "\n",
    "ngramData.show(4,truncate=40)"
   ]
  },
  {
   "cell_type": "markdown",
   "metadata": {},
   "source": [
    "### Counting Hash"
   ]
  },
  {
   "cell_type": "code",
   "execution_count": 9,
   "metadata": {},
   "outputs": [
    {
     "name": "stdout",
     "output_type": "stream",
     "text": [
      "+------------------------------+------------------------------+------------------------------+------------------------------+\n",
      "|                          text|                        tokens|                        ngrams|                       vectors|\n",
      "+------------------------------+------------------------------+------------------------------+------------------------------+\n",
      "|m r and mrs dursley of numb...|[and, mrs, dursley, number,...|[and mrs dursley, mrs dursl...|(262144,[11709,13204,13571,...|\n",
      "|mr dursley was the director...|[dursley, was, the, directo...|[dursley was the, was the d...|(262144,[11297,17551,26388,...|\n",
      "|the dursleys had everything...|[the, dursleys, had, everyt...|[the dursleys had, dursleys...|(262144,[3002,3464,4923,724...|\n",
      "|when mr and mrs dursley wok...|[when, and, mrs, dursley, w...|[when and mrs, and mrs durs...|(262144,[5116,13929,28098,2...|\n",
      "|none of them noticed a larg...|[none, them, noticed, large...|[none them noticed, them no...|(262144,[2188,2984,21644,77...|\n",
      "+------------------------------+------------------------------+------------------------------+------------------------------+\n",
      "only showing top 5 rows\n",
      "\n"
     ]
    }
   ],
   "source": [
    "hash_tf = HashingTF(inputCol=\"ngrams\", outputCol=\"vectors\")\n",
    "\n",
    "hashtfData = hash_tf.transform(ngramData)\n",
    "hashtfData.show(5,truncate=30) "
   ]
  },
  {
   "cell_type": "markdown",
   "metadata": {},
   "source": [
    "### Min-Hashing"
   ]
  },
  {
   "cell_type": "code",
   "execution_count": 10,
   "metadata": {},
   "outputs": [
    {
     "name": "stdout",
     "output_type": "stream",
     "text": [
      "+-------------------------+-------------------------+-------------------------+-------------------------+-------------------------+\n",
      "|                     text|                   tokens|                   ngrams|                  vectors|                      lsh|\n",
      "+-------------------------+-------------------------+-------------------------+-------------------------+-------------------------+\n",
      "|m r and mrs dursley of...|[and, mrs, dursley, nu...|[and mrs dursley, mrs ...|(262144,[11709,13204,1...|[[4.7491425E7], [4.100...|\n",
      "|mr dursley was the dir...|[dursley, was, the, di...|[dursley was the, was ...|(262144,[11297,17551,2...|[[5271366.0], [3.16989...|\n",
      "|the dursleys had every...|[the, dursleys, had, e...|[the dursleys had, dur...|(262144,[3002,3464,492...|[[3719168.0], [6035960...|\n",
      "|when mr and mrs dursle...|[when, and, mrs, dursl...|[when and mrs, and mrs...|(262144,[5116,13929,28...|[[8758590.0], [1.31321...|\n",
      "+-------------------------+-------------------------+-------------------------+-------------------------+-------------------------+\n",
      "only showing top 4 rows\n",
      "\n"
     ]
    }
   ],
   "source": [
    "minhash = MinHashLSH(inputCol=\"vectors\", outputCol=\"lsh\", numHashTables=3).fit(hashtfData)\n",
    "\n",
    "minhashData = minhash.transform(hashtfData)\n",
    "minhashData.show(4,truncate=25)"
   ]
  },
  {
   "cell_type": "markdown",
   "metadata": {},
   "source": [
    "#### Using Pipeline"
   ]
  },
  {
   "cell_type": "code",
   "execution_count": 11,
   "metadata": {},
   "outputs": [
    {
     "name": "stdout",
     "output_type": "stream",
     "text": [
      "+-------------------------+-------------------------+-------------------------+-------------------------+-------------------------+\n",
      "|                     text|                   tokens|                   ngrams|                  vectors|                      lsh|\n",
      "+-------------------------+-------------------------+-------------------------+-------------------------+-------------------------+\n",
      "|m r and mrs dursley of...|[and, mrs, dursley, nu...|[and mrs dursley, mrs ...|(262144,[11709,13204,1...|[[4.7491425E7], [4.100...|\n",
      "|mr dursley was the dir...|[dursley, was, the, di...|[dursley was the, was ...|(262144,[11297,17551,2...|[[5271366.0], [3.16989...|\n",
      "|the dursleys had every...|[the, dursleys, had, e...|[the dursleys had, dur...|(262144,[3002,3464,492...|[[3719168.0], [6035960...|\n",
      "|when mr and mrs dursle...|[when, and, mrs, dursl...|[when and mrs, and mrs...|(262144,[5116,13929,28...|[[8758590.0], [1.31321...|\n",
      "+-------------------------+-------------------------+-------------------------+-------------------------+-------------------------+\n",
      "only showing top 4 rows\n",
      "\n"
     ]
    }
   ],
   "source": [
    "pipeline = Pipeline(stages=[\n",
    "            tokenizer,\n",
    "            ngram,\n",
    "            rememptylines,\n",
    "            hash_tf,\n",
    "            minhash\n",
    "        ])\n",
    "\n",
    "model= pipeline.fit(text_1)\n",
    "\n",
    "text_A = model.transform(text_1)\n",
    "text_B = model.transform(text_2)\n",
    "\n",
    "text_A.show(4,truncate=25)"
   ]
  },
  {
   "cell_type": "code",
   "execution_count": 12,
   "metadata": {},
   "outputs": [
    {
     "name": "stdout",
     "output_type": "stream",
     "text": [
      "+-------------------------+-------------------------+-------------------------+-------------------------+-------------------------+\n",
      "|                     text|                   tokens|                   ngrams|                  vectors|                      lsh|\n",
      "+-------------------------+-------------------------+-------------------------+-------------------------+-------------------------+\n",
      "|not for the first time...|[not, for, the, first,...|[not for the, for the ...|(262144,[1213,11458,29...|[[784863.0], [4.134775...|\n",
      "|third time this week h...|[third, time, this, we...|[third time this, time...|(262144,[45337,76244,9...|[[3.8268504E7], [1.754...|\n",
      "|harry tried yet again ...|[harry, tried, yet, ag...|[harry tried yet, trie...|(262144,[21682,47565,9...|[[1.43990793E8], [1.15...|\n",
      "|she’s bored he said sh...|[she’s, bored, said, s...|[she’s bored said, bor...|(262144,[12595,16946,8...|[[2.08581202E8], [8.10...|\n",
      "+-------------------------+-------------------------+-------------------------+-------------------------+-------------------------+\n",
      "only showing top 4 rows\n",
      "\n"
     ]
    }
   ],
   "source": [
    "text_B.show(4,truncate=25)"
   ]
  },
  {
   "cell_type": "markdown",
   "metadata": {},
   "source": [
    "### Locality-Sensitive Hashing (LSH)"
   ]
  },
  {
   "cell_type": "code",
   "execution_count": 13,
   "metadata": {},
   "outputs": [
    {
     "name": "stdout",
     "output_type": "stream",
     "text": [
      "+--------------------------------------------------+--------------------------------------------------+------------------+\n",
      "|                                          datasetA|                                          datasetB|   JaccardDistance|\n",
      "+--------------------------------------------------+--------------------------------------------------+------------------+\n",
      "|{yes said harry eagerly, [yes, said, harry, eag...|{yes said harry and ron together instantly, [ye...|0.8333333333333334|\n",
      "|{now what am i going to do she asked shrilly, [...|{dobby smiled weakly, [dobby, smiled, weakly], ...|              0.75|\n",
      "|{nothing said harry, [nothing, said, harry], [n...|{nothing said harry gloomily, [nothing, said, h...|               0.5|\n",
      "|{what are you talking about dean said ron, [wha...|{potter weasley what are you doing, [potter, we...|0.8888888888888888|\n",
      "|{harry harry are you all right, [harry, harry, ...|{ron ron are you all right squealed hermione, [...|              0.75|\n",
      "+--------------------------------------------------+--------------------------------------------------+------------------+\n",
      "only showing top 5 rows\n",
      "\n",
      "Similarity Text 1 x Text 2 =  2.968699580509842  %\n"
     ]
    }
   ],
   "source": [
    "rows_text_A = text_A.count()\n",
    "rows_text_B = text_B.count()\n",
    "\n",
    "# Show similarity with Jaccard Distance below 0.9 \n",
    "result_A_B = model.stages[-1].approxSimilarityJoin(text_A, text_B, 0.9, distCol=\"JaccardDistance\")\n",
    "result_A_B.show(5,truncate=50)\n",
    "\n",
    "rows_result_A_B = result_A_B.count()\n",
    "simil_index_AB = rows_result_A_B / rows_text_B * 100\n",
    "print(\"Similarity Text 1 x Text 2 = \",simil_index_AB, \" %\")"
   ]
  },
  {
   "cell_type": "code",
   "execution_count": 14,
   "metadata": {},
   "outputs": [
    {
     "name": "stdout",
     "output_type": "stream",
     "text": [
      "+--------------------------------------------------+--------------------------------------------------+---------------+\n",
      "|                                          datasetA|                                          datasetB|JaccardDistance|\n",
      "+--------------------------------------------------+--------------------------------------------------+---------------+\n",
      "|{i want to read it said harry furiously as it’s...|{i want to read it said harry furiously as it’s...|            0.0|\n",
      "|{uncle vernon’s rations turned out to be a bag ...|{uncle vernon’s rations turned out to be a bag ...|            0.0|\n",
      "|{mr ollivander fixed harry with his pale stare,...|{mr ollivander fixed harry with his pale stare,...|            0.0|\n",
      "|{you want to watch out for peeves said percy as...|{you want to watch out for peeves said percy as...|            0.0|\n",
      "|{what have we got today harry asked ron as he p...|{what have we got today harry asked ron as he p...|            0.0|\n",
      "+--------------------------------------------------+--------------------------------------------------+---------------+\n",
      "only showing top 5 rows\n",
      "\n",
      "Similarity Text 1 x Text 1 =  103.71134020618558  %\n"
     ]
    }
   ],
   "source": [
    "# Show similarity with Jaccard Distance below 0.9\n",
    "result_A_A = model.stages[-1].approxSimilarityJoin(text_A, text_A, 0.9, distCol=\"JaccardDistance\")\n",
    "result_A_A .show(5,truncate=50)\n",
    "\n",
    "simil_index_AA = result_A_A.count() / rows_text_A * 100\n",
    "print(\"Similarity Text 1 x Text 1 = \",simil_index_AA, \" %\")"
   ]
  },
  {
   "cell_type": "markdown",
   "metadata": {},
   "source": [
    "## Finishing"
   ]
  },
  {
   "cell_type": "code",
   "execution_count": 15,
   "metadata": {},
   "outputs": [
    {
     "name": "stdout",
     "output_type": "stream",
     "text": [
      "--- Execution time: 21.78130030632019 seconds ---\n"
     ]
    }
   ],
   "source": [
    "print(\"--- Execution time: %s seconds ---\" % (time.time() - start_time))\n",
    "# Stop Spark\n",
    "sc.stop()"
   ]
  }
 ],
 "metadata": {
  "kernelspec": {
   "display_name": "Python 3 (ipykernel)",
   "language": "python",
   "name": "python3"
  },
  "language_info": {
   "codemirror_mode": {
    "name": "ipython",
    "version": 3
   },
   "file_extension": ".py",
   "mimetype": "text/x-python",
   "name": "python",
   "nbconvert_exporter": "python",
   "pygments_lexer": "ipython3",
   "version": "3.12.9"
  }
 },
 "nbformat": 4,
 "nbformat_minor": 4
}
