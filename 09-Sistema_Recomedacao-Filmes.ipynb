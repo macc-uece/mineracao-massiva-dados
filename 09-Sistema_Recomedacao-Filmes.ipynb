{
 "cells": [
  {
   "cell_type": "markdown",
   "metadata": {},
   "source": [
    "# Exemplo 09: Sistema de Recomendação\n",
    "## Recomendação de Filmes MovieLens\n",
    "\n",
    "Sistema de Recomendação tem como objetivo selecionar itens personalizados para um usuário (cliente) com base nos interesses dele e dos interesses de usuários semelhantes conforme o contexto no qual estão inseridos. Esta técnica pode recomendar itens variados como, por exemplo, livros, filmes, notícias, música, vídeos, páginas de internet e produtos de uma loja virtual. Este exemplo faz a recomendação de filmes para um determinado usuário baseado nos seus gostos e de gostos de outros usuários semelhantes. O dataset utilizado é do site de recomendação de filmes MovieLens."
   ]
  },
  {
   "cell_type": "code",
   "execution_count": 1,
   "metadata": {},
   "outputs": [],
   "source": [
    "import findspark\n",
    "findspark.init()"
   ]
  },
  {
   "cell_type": "code",
   "execution_count": 2,
   "metadata": {},
   "outputs": [],
   "source": [
    "import pyspark\n",
    "from pyspark.sql import SparkSession, Row\n",
    "\n",
    "from pyspark.ml.recommendation import ALS\n",
    "from pyspark.ml.evaluation import RegressionEvaluator\n",
    "\n",
    "import time\n",
    "start_time = time.time()\n",
    "\n",
    "data_path='./data/'\n",
    "\n",
    "# Experimente uma base de dados maior\n",
    "#data_path='/data/dataset/MovieLens/ml-20m/'"
   ]
  },
  {
   "cell_type": "code",
   "execution_count": 3,
   "metadata": {},
   "outputs": [],
   "source": [
    "# Create Spark Session\n",
    "spark = SparkSession.builder \\\n",
    "       .master(\"local[*]\") \\\n",
    "       .appName(\"Movies_Recommendation\") \\\n",
    "       .getOrCreate()"
   ]
  },
  {
   "cell_type": "markdown",
   "metadata": {},
   "source": [
    "## Ratings Data File Structure (ratings.csv)\n",
    "-----------------------------------------\n",
    "\n",
    "All ratings are contained in the file `ratings.csv`. Each line of this file after the header row represents one rating of one movie by one user, and has the following format:\n",
    "\n",
    "    userId,movieId,rating,timestamp\n",
    "\n",
    "The lines within this file are ordered first by userId, then, within user, by movieId.\n",
    "\n",
    "Ratings are made on a 5-star scale, with half-star increments (0.5 stars - 5.0 stars).\n",
    "\n",
    "Timestamps represent seconds since midnight Coordinated Universal Time (UTC) of January 1, 1970."
   ]
  },
  {
   "cell_type": "code",
   "execution_count": 4,
   "metadata": {},
   "outputs": [
    {
     "name": "stdout",
     "output_type": "stream",
     "text": [
      "root\n",
      " |-- userId: integer (nullable = true)\n",
      " |-- movieId: integer (nullable = true)\n",
      " |-- rating: double (nullable = true)\n",
      " |-- timestamp: integer (nullable = true)\n",
      "\n"
     ]
    }
   ],
   "source": [
    "df = spark.read.format(\"csv\").options(sep=',',header='true',inferschema='true').\\\n",
    "     load(data_path+\"ratings.csv.gz\")\n",
    "\n",
    "df.printSchema()"
   ]
  },
  {
   "cell_type": "code",
   "execution_count": 5,
   "metadata": {},
   "outputs": [
    {
     "data": {
      "text/plain": [
       "[Row(userId=1, movieId=1, rating=4.0),\n",
       " Row(userId=1, movieId=3, rating=4.0),\n",
       " Row(userId=1, movieId=6, rating=4.0),\n",
       " Row(userId=1, movieId=47, rating=5.0),\n",
       " Row(userId=1, movieId=50, rating=5.0)]"
      ]
     },
     "execution_count": 5,
     "metadata": {},
     "output_type": "execute_result"
    }
   ],
   "source": [
    "ratedf = df.select(['userId', 'movieId', 'rating'])\n",
    "ratedf.head(5)"
   ]
  },
  {
   "cell_type": "code",
   "execution_count": 6,
   "metadata": {},
   "outputs": [
    {
     "name": "stdout",
     "output_type": "stream",
     "text": [
      "+------+-------+------+\n",
      "|userId|movieId|rating|\n",
      "+------+-------+------+\n",
      "|     1|      1|   4.0|\n",
      "|     1|      3|   4.0|\n",
      "|     1|      6|   4.0|\n",
      "|     1|     47|   5.0|\n",
      "|     1|     50|   5.0|\n",
      "|     1|     70|   3.0|\n",
      "|     1|    101|   5.0|\n",
      "|     1|    110|   4.0|\n",
      "|     1|    151|   5.0|\n",
      "|     1|    157|   5.0|\n",
      "|     1|    163|   5.0|\n",
      "|     1|    216|   5.0|\n",
      "|     1|    223|   3.0|\n",
      "|     1|    231|   5.0|\n",
      "|     1|    235|   4.0|\n",
      "|     1|    260|   5.0|\n",
      "|     1|    296|   3.0|\n",
      "|     1|    316|   3.0|\n",
      "|     1|    333|   5.0|\n",
      "|     1|    349|   4.0|\n",
      "+------+-------+------+\n",
      "only showing top 20 rows\n",
      "\n"
     ]
    }
   ],
   "source": [
    "ratedf.show()"
   ]
  },
  {
   "cell_type": "markdown",
   "metadata": {},
   "source": [
    "## Movies Data File Structure (movies.csv)\n",
    "---------------------------------------\n",
    "\n",
    "Movie information is contained in the file `movies.csv`. Each line of this file after the header row represents one movie, and has the following format:\n",
    "\n",
    "    movieId,title,genres\n",
    "\n",
    "Movie titles are entered manually or imported from <https://www.themoviedb.org/>, and include the year of release in parentheses.\n",
    "\n",
    "Genres are a pipe-separated list, and are selected from the following:\n",
    "\n",
    "* Action\n",
    "* Adventure\n",
    "* Animation\n",
    "* Children's\n",
    "* Comedy\n",
    "* Crime\n",
    "* Documentary\n",
    "* Drama\n",
    "* Fantasy\n",
    "* Film-Noir\n",
    "* Horror\n",
    "* Musical\n",
    "* Mystery\n",
    "* Romance\n",
    "* Sci-Fi\n",
    "* Thriller\n",
    "* War\n",
    "* Western\n",
    "* (no genres listed)"
   ]
  },
  {
   "cell_type": "code",
   "execution_count": 7,
   "metadata": {},
   "outputs": [
    {
     "name": "stdout",
     "output_type": "stream",
     "text": [
      "root\n",
      " |-- movieId: integer (nullable = true)\n",
      " |-- title: string (nullable = true)\n",
      " |-- genres: string (nullable = true)\n",
      "\n"
     ]
    }
   ],
   "source": [
    "df = spark.read.format(\"csv\").options(sep=',',header='true',inferschema='true').\\\n",
    "           load(data_path+\"movies.csv.gz\")\n",
    "\n",
    "df.printSchema()"
   ]
  },
  {
   "cell_type": "code",
   "execution_count": 8,
   "metadata": {},
   "outputs": [
    {
     "data": {
      "text/plain": [
       "[Row(movieId=1, title='Toy Story (1995)', genres='Adventure|Animation|Children|Comedy|Fantasy'),\n",
       " Row(movieId=2, title='Jumanji (1995)', genres='Adventure|Children|Fantasy'),\n",
       " Row(movieId=3, title='Grumpier Old Men (1995)', genres='Comedy|Romance'),\n",
       " Row(movieId=4, title='Waiting to Exhale (1995)', genres='Comedy|Drama|Romance'),\n",
       " Row(movieId=5, title='Father of the Bride Part II (1995)', genres='Comedy')]"
      ]
     },
     "execution_count": 8,
     "metadata": {},
     "output_type": "execute_result"
    }
   ],
   "source": [
    "moviedf = df.select(['movieId', 'title', 'genres'])\n",
    "moviedf.head(5)"
   ]
  },
  {
   "cell_type": "markdown",
   "metadata": {},
   "source": [
    "## Rating Statistics"
   ]
  },
  {
   "cell_type": "code",
   "execution_count": 9,
   "metadata": {},
   "outputs": [
    {
     "name": "stdout",
     "output_type": "stream",
     "text": [
      "+-------+------------------+----------------+------------------+\n",
      "|summary|            userId|         movieId|            rating|\n",
      "+-------+------------------+----------------+------------------+\n",
      "|  count|            100836|          100836|            100836|\n",
      "|   mean|326.12756356856676|19435.2957177992| 3.501556983616962|\n",
      "| stddev| 182.6184914635004|35530.9871987003|1.0425292390606342|\n",
      "|    min|                 1|               1|               0.5|\n",
      "|    max|               610|          193609|               5.0|\n",
      "+-------+------------------+----------------+------------------+\n",
      "\n"
     ]
    }
   ],
   "source": [
    "ratedf.describe().show()"
   ]
  },
  {
   "cell_type": "code",
   "execution_count": 10,
   "metadata": {},
   "outputs": [
    {
     "name": "stdout",
     "output_type": "stream",
     "text": [
      "Root-mean-square error (RMSE) = 1.0865871535586957\n"
     ]
    }
   ],
   "source": [
    "# Configure ALS\n",
    "als = ALS(maxIter=5, regParam=0.01, userCol='userId', itemCol='movieId', ratingCol='rating', \\\n",
    "          coldStartStrategy='drop')\n",
    "\n",
    "# Train dataset: 80% to ttrain and 20% to test \n",
    "training, test = ratedf.randomSplit([0.8,0.2])\n",
    "\n",
    "model = als.fit(training)\n",
    "\n",
    "# Evaluate the model by computing the RMSE on the test data\n",
    "predictions = model.transform(test)\n",
    "evaluator = RegressionEvaluator(metricName=\"rmse\", labelCol=\"rating\", predictionCol=\"prediction\")\n",
    "rmse = evaluator.evaluate(predictions)\n",
    "print(\"Root-mean-square error (RMSE) = \" + str(rmse))"
   ]
  },
  {
   "cell_type": "code",
   "execution_count": 11,
   "metadata": {},
   "outputs": [
    {
     "name": "stdout",
     "output_type": "stream",
     "text": [
      "+------+---------------------------------------------------------------------------------------------------+\n",
      "|userId|recommendations                                                                                    |\n",
      "+------+---------------------------------------------------------------------------------------------------+\n",
      "|471   |[[3676, 9.503193], [85, 9.185207], [71899, 8.886112], [134170, 8.2760315], [26865, 7.57923]]       |\n",
      "|463   |[[53127, 7.8692055], [3272, 7.8565254], [119141, 7.5148816], [1974, 7.204374], [158872, 7.133631]] |\n",
      "|496   |[[89904, 11.066743], [213, 9.602147], [53127, 8.465222], [1866, 8.436421], [79428, 8.102955]]      |\n",
      "|148   |[[2427, 7.0396204], [3441, 6.965892], [5292, 6.7121906], [3030, 6.3832707], [3089, 6.328024]]      |\n",
      "|540   |[[599, 7.5825143], [4678, 6.8466644], [7360, 6.6380506], [59900, 6.6304708], [1956, 6.629635]]     |\n",
      "|392   |[[1974, 10.596278], [5419, 10.529247], [215, 10.111864], [2084, 9.823917], [4062, 9.7230215]]      |\n",
      "|243   |[[179819, 12.482025], [40148, 9.822518], [1237, 9.362544], [53974, 8.939985], [851, 8.693933]]     |\n",
      "|31    |[[45668, 9.147789], [157296, 8.92463], [5419, 8.798706], [4678, 8.355075], [60766, 8.240403]]      |\n",
      "|516   |[[3503, 9.165688], [5419, 8.889217], [4649, 8.877987], [6659, 8.21237], [48322, 8.143038]]         |\n",
      "|580   |[[4649, 6.7630806], [58301, 6.3633733], [176371, 6.3216333], [1237, 6.2913547], [54256, 6.258812]] |\n",
      "|251   |[[47997, 8.268608], [3566, 7.3926253], [3061, 7.308007], [2926, 7.278178], [4006, 7.122278]]       |\n",
      "|451   |[[53127, 10.327033], [89904, 10.246934], [166534, 8.82632], [1966, 8.4369335], [3272, 8.416584]]   |\n",
      "|85    |[[179819, 7.938524], [89753, 7.673868], [80693, 7.618995], [3089, 7.555462], [4721, 7.4354506]]    |\n",
      "|137   |[[215, 5.830009], [106766, 5.7626457], [1283, 5.7452865], [1243, 5.4885426], [6659, 5.4362197]]    |\n",
      "|65    |[[48322, 7.156802], [3943, 7.116579], [1256, 6.608889], [89904, 6.476761], [213, 6.398193]]        |\n",
      "|458   |[[135861, 8.120255], [95441, 7.573101], [80693, 7.570587], [158872, 7.180554], [72, 7.1476045]]    |\n",
      "|481   |[[800, 8.9698305], [48783, 8.042246], [62155, 7.8881135], [72, 7.846975], [2171, 7.457871]]        |\n",
      "|53    |[[39444, 7.5681195], [1237, 7.4577866], [5047, 7.3815203], [128520, 7.3197503], [27611, 7.2798214]]|\n",
      "|255   |[[40148, 10.839169], [1999, 10.828525], [2411, 10.433088], [2953, 9.877656], [5247, 9.020379]]     |\n",
      "|588   |[[1209, 7.799106], [158872, 7.36001], [7247, 7.2866397], [5540, 7.247009], [6639, 7.047697]]       |\n",
      "+------+---------------------------------------------------------------------------------------------------+\n",
      "only showing top 20 rows\n",
      "\n"
     ]
    }
   ],
   "source": [
    "# Generate top 5 movie recommendations for each user\n",
    "userRecs = model.recommendForAllUsers(5)\n",
    "\n",
    "userRecs.show(truncate=False)"
   ]
  },
  {
   "cell_type": "code",
   "execution_count": 12,
   "metadata": {},
   "outputs": [
    {
     "name": "stdout",
     "output_type": "stream",
     "text": [
      "Row(userId=471, recommendations=[Row(movieId=3676, rating=9.503192901611328), Row(movieId=85, rating=9.18520736694336), Row(movieId=71899, rating=8.886112213134766), Row(movieId=134170, rating=8.276031494140625), Row(movieId=26865, rating=7.579229831695557)])\n",
      "Row(userId=463, recommendations=[Row(movieId=53127, rating=7.869205474853516), Row(movieId=3272, rating=7.856525421142578), Row(movieId=119141, rating=7.514881610870361), Row(movieId=1974, rating=7.204373836517334), Row(movieId=158872, rating=7.133631229400635)])\n",
      "Row(userId=496, recommendations=[Row(movieId=89904, rating=11.066742897033691), Row(movieId=213, rating=9.602147102355957), Row(movieId=53127, rating=8.465222358703613), Row(movieId=1866, rating=8.436421394348145), Row(movieId=79428, rating=8.102954864501953)])\n"
     ]
    }
   ],
   "source": [
    "for line in userRecs.take(3):\n",
    "    print(line)"
   ]
  },
  {
   "cell_type": "code",
   "execution_count": 13,
   "metadata": {},
   "outputs": [
    {
     "name": "stdout",
     "output_type": "stream",
     "text": [
      "+-------+------------------------------------------------------------------------------------------+\n",
      "|movieId|recommendations                                                                           |\n",
      "+-------+------------------------------------------------------------------------------------------+\n",
      "|1580   |[[147, 6.2455316], [344, 5.7582912], [77, 5.737737], [543, 5.7029176], [71, 5.443395]]    |\n",
      "|4900   |[[147, 7.459399], [197, 6.453449], [549, 6.0067153], [130, 5.7156615], [176, 5.6444206]]  |\n",
      "|6620   |[[399, 10.76585], [468, 9.644726], [259, 8.955781], [218, 8.326175], [289, 8.121714]]     |\n",
      "|7340   |[[329, 6.8539414], [392, 6.6830053], [557, 6.2859898], [399, 5.99953], [197, 5.8264093]]  |\n",
      "|32460  |[[535, 8.6159525], [296, 7.7539415], [494, 7.31887], [120, 7.047518], [55, 6.8850083]]    |\n",
      "|54190  |[[147, 8.324658], [13, 7.7683086], [423, 7.618715], [535, 7.5837674], [518, 7.543573]]    |\n",
      "|471    |[[37, 8.984481], [224, 7.840829], [399, 7.65471], [557, 7.3898625], [497, 7.0555816]]     |\n",
      "|1591   |[[35, 7.4975934], [258, 6.473121], [71, 6.4130797], [461, 6.2122474], [557, 6.166905]]    |\n",
      "|140541 |[[399, 7.618034], [406, 6.2656], [485, 6.1618967], [46, 5.554604], [71, 5.334556]]        |\n",
      "|1342   |[[549, 8.652775], [598, 8.0773], [335, 6.434531], [375, 6.413645], [494, 6.0771127]]      |\n",
      "|2122   |[[259, 7.546673], [598, 7.448583], [502, 7.3170643], [537, 6.4373636], [112, 6.418003]]   |\n",
      "|2142   |[[257, 7.090505], [258, 6.2451687], [197, 5.9219437], [37, 5.872066], [542, 5.7445364]]   |\n",
      "|7982   |[[259, 13.531438], [549, 10.20752], [197, 10.17757], [598, 10.160445], [138, 9.703247]]   |\n",
      "|44022  |[[147, 7.1638765], [535, 6.6323156], [138, 5.5898786], [112, 5.4643087], [311, 5.2509675]]|\n",
      "|141422 |[[130, 4.5060077], [176, 3.9045086], [81, 3.4402916], [127, 3.4042387], [231, 3.3803637]] |\n",
      "|144522 |[[71, 4.620199], [127, 4.360979], [549, 4.0524154], [197, 3.7469378], [542, 3.3850665]]   |\n",
      "|833    |[[399, 5.6762257], [147, 5.1352754], [468, 5.084697], [31, 4.9983563], [197, 4.879708]]   |\n",
      "|5803   |[[535, 7.148522], [344, 6.886895], [15, 5.5451775], [120, 5.227972], [543, 5.19701]]      |\n",
      "|7833   |[[329, 5.8231335], [127, 5.7993126], [399, 5.701909], [37, 5.205377], [557, 4.906621]]    |\n",
      "|7993   |[[598, 4.4876623], [296, 4.2977033], [535, 4.278991], [138, 3.9207397], [494, 3.914746]]  |\n",
      "+-------+------------------------------------------------------------------------------------------+\n",
      "only showing top 20 rows\n",
      "\n"
     ]
    }
   ],
   "source": [
    "# Generate top 5 user recommendations for each movie\n",
    "movieRecs = model.recommendForAllItems(5)\n",
    "movieRecs.show(truncate=False)"
   ]
  },
  {
   "cell_type": "code",
   "execution_count": 14,
   "metadata": {},
   "outputs": [
    {
     "name": "stdout",
     "output_type": "stream",
     "text": [
      "Row(movieId=1580, recommendations=[Row(userId=147, rating=6.2455315589904785), Row(userId=344, rating=5.758291244506836), Row(userId=77, rating=5.73773717880249), Row(userId=543, rating=5.702917575836182), Row(userId=71, rating=5.443395137786865)])\n",
      "Row(movieId=4900, recommendations=[Row(userId=147, rating=7.459399223327637), Row(userId=197, rating=6.45344877243042), Row(userId=549, rating=6.006715297698975), Row(userId=130, rating=5.715661525726318), Row(userId=176, rating=5.644420623779297)])\n",
      "Row(movieId=6620, recommendations=[Row(userId=399, rating=10.765850067138672), Row(userId=468, rating=9.644725799560547), Row(userId=259, rating=8.955780982971191), Row(userId=218, rating=8.32617473602295), Row(userId=289, rating=8.121713638305664)])\n",
      "Row(movieId=7340, recommendations=[Row(userId=329, rating=6.853941440582275), Row(userId=392, rating=6.683005332946777), Row(userId=557, rating=6.285989761352539), Row(userId=399, rating=5.999529838562012), Row(userId=197, rating=5.826409339904785)])\n"
     ]
    }
   ],
   "source": [
    "for line in movieRecs.take(4):\n",
    "   print(line)"
   ]
  },
  {
   "cell_type": "code",
   "execution_count": 15,
   "metadata": {},
   "outputs": [
    {
     "name": "stdout",
     "output_type": "stream",
     "text": [
      "--- Execution time: 25.465017795562744 seconds ---\n"
     ]
    }
   ],
   "source": [
    "print(\"--- Execution time: %s seconds ---\" % (time.time() - start_time))"
   ]
  },
  {
   "cell_type": "code",
   "execution_count": null,
   "metadata": {},
   "outputs": [],
   "source": [
    "enter_user=input(\"Digite o número do usuário que deseja a recomendação:\")\n",
    "userRecs.where(userRecs.userId == enter_user).select(\"recommendations.movieId\",\\\n",
    "              \"recommendations.rating\").collect()"
   ]
  },
  {
   "cell_type": "code",
   "execution_count": null,
   "metadata": {},
   "outputs": [],
   "source": [
    "enter_movie=input(\"Digite o número do filme que deseja recomendar:\")\n",
    "movieRecs.where(movieRecs.movieId == enter_movie).select(\"recommendations.userId\",\\\n",
    "                \"recommendations.rating\").collect()"
   ]
  },
  {
   "cell_type": "code",
   "execution_count": null,
   "metadata": {},
   "outputs": [],
   "source": [
    "spark.stop()"
   ]
  },
  {
   "cell_type": "code",
   "execution_count": null,
   "metadata": {},
   "outputs": [],
   "source": []
  }
 ],
 "metadata": {
  "kernelspec": {
   "display_name": "Python 3",
   "language": "python",
   "name": "python3"
  },
  "language_info": {
   "codemirror_mode": {
    "name": "ipython",
    "version": 3
   },
   "file_extension": ".py",
   "mimetype": "text/x-python",
   "name": "python",
   "nbconvert_exporter": "python",
   "pygments_lexer": "ipython3",
   "version": "3.6.9"
  }
 },
 "nbformat": 4,
 "nbformat_minor": 4
}
