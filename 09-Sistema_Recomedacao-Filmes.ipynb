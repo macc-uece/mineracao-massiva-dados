{
 "cells": [
  {
   "cell_type": "markdown",
   "metadata": {},
   "source": [
    "# Exemplo 09: Sistema de Recomendação\n",
    "## Recomendação de Filmes MovieLens\n",
    "\n",
    "Sistema de Recomendação tem como objetivo selecionar itens personalizados para um usuário (cliente) com base nos interesses dele e dos interesses de usuários semelhantes conforme o contexto no qual estão inseridos. Esta técnica pode recomendar itens variados como, por exemplo, livros, filmes, notícias, música, vídeos, páginas de internet e produtos de uma loja virtual. Este exemplo faz a recomendação de filmes para um determinado usuário baseado nos seus gostos e de gostos de outros usuários semelhantes. O dataset utilizado é do site de recomendação de filmes MovieLens."
   ]
  },
  {
   "cell_type": "code",
   "execution_count": 1,
   "metadata": {},
   "outputs": [],
   "source": [
    "import pyspark\n",
    "from pyspark.sql import SparkSession, Row\n",
    "\n",
    "from pyspark.ml.recommendation import ALS\n",
    "from pyspark.ml.evaluation import RegressionEvaluator\n",
    "\n",
    "import time\n",
    "start_time = time.time()\n",
    "\n",
    "data_path='./data/'\n",
    "\n",
    "# Experimente uma base de dados maior\n",
    "#data_path='/data/dataset/MovieLens/ml-20m/'"
   ]
  },
  {
   "cell_type": "code",
   "execution_count": 2,
   "metadata": {},
   "outputs": [
    {
     "name": "stderr",
     "output_type": "stream",
     "text": [
      "Setting default log level to \"WARN\".\n",
      "To adjust logging level use sc.setLogLevel(newLevel). For SparkR, use setLogLevel(newLevel).\n",
      "24/01/17 08:51:23 WARN NativeCodeLoader: Unable to load native-hadoop library for your platform... using builtin-java classes where applicable\n"
     ]
    }
   ],
   "source": [
    "# Create Spark Session\n",
    "sc = SparkSession.builder \\\n",
    "     .master(\"local[*]\") \\\n",
    "     .appName(\"Movies_Recommendation\") \\\n",
    "     .getOrCreate()"
   ]
  },
  {
   "cell_type": "markdown",
   "metadata": {},
   "source": [
    "## Ratings Data File Structure (ratings.csv)\n",
    "-----------------------------------------\n",
    "\n",
    "All ratings are contained in the file `ratings.csv`. Each line of this file after the header row represents one rating of one movie by one user, and has the following format:\n",
    "\n",
    "    userId,movieId,rating,timestamp\n",
    "\n",
    "The lines within this file are ordered first by userId, then, within user, by movieId.\n",
    "\n",
    "Ratings are made on a 5-star scale, with half-star increments (0.5 stars - 5.0 stars).\n",
    "\n",
    "Timestamps represent seconds since midnight Coordinated Universal Time (UTC) of January 1, 1970."
   ]
  },
  {
   "cell_type": "code",
   "execution_count": 3,
   "metadata": {},
   "outputs": [
    {
     "name": "stdout",
     "output_type": "stream",
     "text": [
      "root\n",
      " |-- userId: integer (nullable = true)\n",
      " |-- movieId: integer (nullable = true)\n",
      " |-- rating: double (nullable = true)\n",
      " |-- timestamp: integer (nullable = true)\n",
      "\n"
     ]
    }
   ],
   "source": [
    "df = sc.read.format(\"csv\").options(sep=',',header='true',inferschema='true').\\\n",
    "     load(data_path+\"ratings.csv.gz\")\n",
    "\n",
    "df.printSchema()"
   ]
  },
  {
   "cell_type": "code",
   "execution_count": 4,
   "metadata": {},
   "outputs": [
    {
     "data": {
      "text/plain": [
       "[Row(userId=1, movieId=1, rating=4.0),\n",
       " Row(userId=1, movieId=3, rating=4.0),\n",
       " Row(userId=1, movieId=6, rating=4.0),\n",
       " Row(userId=1, movieId=47, rating=5.0),\n",
       " Row(userId=1, movieId=50, rating=5.0)]"
      ]
     },
     "execution_count": 4,
     "metadata": {},
     "output_type": "execute_result"
    }
   ],
   "source": [
    "ratedf = df.select(['userId', 'movieId', 'rating'])\n",
    "ratedf.head(5)"
   ]
  },
  {
   "cell_type": "code",
   "execution_count": 5,
   "metadata": {},
   "outputs": [
    {
     "name": "stdout",
     "output_type": "stream",
     "text": [
      "+------+-------+------+\n",
      "|userId|movieId|rating|\n",
      "+------+-------+------+\n",
      "|     1|      1|   4.0|\n",
      "|     1|      3|   4.0|\n",
      "|     1|      6|   4.0|\n",
      "|     1|     47|   5.0|\n",
      "|     1|     50|   5.0|\n",
      "|     1|     70|   3.0|\n",
      "|     1|    101|   5.0|\n",
      "|     1|    110|   4.0|\n",
      "|     1|    151|   5.0|\n",
      "|     1|    157|   5.0|\n",
      "|     1|    163|   5.0|\n",
      "|     1|    216|   5.0|\n",
      "|     1|    223|   3.0|\n",
      "|     1|    231|   5.0|\n",
      "|     1|    235|   4.0|\n",
      "|     1|    260|   5.0|\n",
      "|     1|    296|   3.0|\n",
      "|     1|    316|   3.0|\n",
      "|     1|    333|   5.0|\n",
      "|     1|    349|   4.0|\n",
      "+------+-------+------+\n",
      "only showing top 20 rows\n",
      "\n"
     ]
    }
   ],
   "source": [
    "ratedf.show()"
   ]
  },
  {
   "cell_type": "markdown",
   "metadata": {},
   "source": [
    "## Movies Data File Structure (movies.csv)\n",
    "---------------------------------------\n",
    "\n",
    "Movie information is contained in the file `movies.csv`. Each line of this file after the header row represents one movie, and has the following format:\n",
    "\n",
    "    movieId,title,genres\n",
    "\n",
    "Movie titles are entered manually or imported from <https://www.themoviedb.org/>, and include the year of release in parentheses.\n",
    "\n",
    "Genres are a pipe-separated list, and are selected from the following:\n",
    "\n",
    "* Action\n",
    "* Adventure\n",
    "* Animation\n",
    "* Children's\n",
    "* Comedy\n",
    "* Crime\n",
    "* Documentary\n",
    "* Drama\n",
    "* Fantasy\n",
    "* Film-Noir\n",
    "* Horror\n",
    "* Musical\n",
    "* Mystery\n",
    "* Romance\n",
    "* Sci-Fi\n",
    "* Thriller\n",
    "* War\n",
    "* Western\n",
    "* (no genres listed)"
   ]
  },
  {
   "cell_type": "code",
   "execution_count": 6,
   "metadata": {},
   "outputs": [
    {
     "name": "stdout",
     "output_type": "stream",
     "text": [
      "root\n",
      " |-- movieId: integer (nullable = true)\n",
      " |-- title: string (nullable = true)\n",
      " |-- genres: string (nullable = true)\n",
      "\n"
     ]
    }
   ],
   "source": [
    "df = sc.read.format(\"csv\").options(sep=',',header='true',inferschema='true').\\\n",
    "     load(data_path+\"movies.csv.gz\")\n",
    "\n",
    "df.printSchema()"
   ]
  },
  {
   "cell_type": "code",
   "execution_count": 7,
   "metadata": {},
   "outputs": [
    {
     "data": {
      "text/plain": [
       "[Row(movieId=1, title='Toy Story (1995)', genres='Adventure|Animation|Children|Comedy|Fantasy'),\n",
       " Row(movieId=2, title='Jumanji (1995)', genres='Adventure|Children|Fantasy'),\n",
       " Row(movieId=3, title='Grumpier Old Men (1995)', genres='Comedy|Romance'),\n",
       " Row(movieId=4, title='Waiting to Exhale (1995)', genres='Comedy|Drama|Romance'),\n",
       " Row(movieId=5, title='Father of the Bride Part II (1995)', genres='Comedy')]"
      ]
     },
     "execution_count": 7,
     "metadata": {},
     "output_type": "execute_result"
    }
   ],
   "source": [
    "moviedf = df.select(['movieId', 'title', 'genres'])\n",
    "moviedf.head(5)"
   ]
  },
  {
   "cell_type": "markdown",
   "metadata": {},
   "source": [
    "## Rating Statistics"
   ]
  },
  {
   "cell_type": "code",
   "execution_count": 8,
   "metadata": {},
   "outputs": [
    {
     "name": "stdout",
     "output_type": "stream",
     "text": [
      "+-------+------------------+----------------+------------------+\n",
      "|summary|            userId|         movieId|            rating|\n",
      "+-------+------------------+----------------+------------------+\n",
      "|  count|            100836|          100836|            100836|\n",
      "|   mean|326.12756356856676|19435.2957177992| 3.501556983616962|\n",
      "| stddev| 182.6184914635004|35530.9871987003|1.0425292390606342|\n",
      "|    min|                 1|               1|               0.5|\n",
      "|    max|               610|          193609|               5.0|\n",
      "+-------+------------------+----------------+------------------+\n",
      "\n"
     ]
    }
   ],
   "source": [
    "ratedf.describe().show()"
   ]
  },
  {
   "cell_type": "code",
   "execution_count": 9,
   "metadata": {},
   "outputs": [
    {
     "name": "stderr",
     "output_type": "stream",
     "text": [
      "24/01/17 08:51:33 WARN InstanceBuilder: Failed to load implementation from:dev.ludovic.netlib.blas.VectorBLAS\n"
     ]
    },
    {
     "name": "stdout",
     "output_type": "stream",
     "text": [
      "Root-mean-square error (RMSE) = 1.0577009728715718\n"
     ]
    }
   ],
   "source": [
    "# Configure ALS\n",
    "als = ALS(maxIter=5, regParam=0.01, userCol='userId', itemCol='movieId', ratingCol='rating', \\\n",
    "          coldStartStrategy='drop')\n",
    "\n",
    "# Train dataset: 80% to ttrain and 20% to test \n",
    "training, test = ratedf.randomSplit([0.8,0.2])\n",
    "\n",
    "model = als.fit(training)\n",
    "\n",
    "# Evaluate the model by computing the RMSE on the test data\n",
    "predictions = model.transform(test)\n",
    "evaluator = RegressionEvaluator(metricName=\"rmse\", labelCol=\"rating\", predictionCol=\"prediction\")\n",
    "rmse = evaluator.evaluate(predictions)\n",
    "print(\"Root-mean-square error (RMSE) = \" + str(rmse))"
   ]
  },
  {
   "cell_type": "code",
   "execution_count": 10,
   "metadata": {},
   "outputs": [
    {
     "name": "stderr",
     "output_type": "stream",
     "text": [
      "[Stage 92:=================================>                    (62 + 38) / 100]\r"
     ]
    },
    {
     "name": "stdout",
     "output_type": "stream",
     "text": [
      "+------+--------------------------------------------------------------------------------------------------+\n",
      "|userId|recommendations                                                                                   |\n",
      "+------+--------------------------------------------------------------------------------------------------+\n",
      "|1     |[{3676, 7.308286}, {89904, 7.224451}, {2568, 7.069147}, {102123, 7.0021195}, {119141, 6.728187}]  |\n",
      "|2     |[{142422, 7.3629603}, {3791, 7.3262672}, {33880, 7.1006045}, {95720, 6.999377}, {3061, 6.8449497}]|\n",
      "|3     |[{6380, 6.5234504}, {158872, 6.146253}, {166534, 5.626844}, {46948, 5.4502206}, {1965, 5.430073}] |\n",
      "|4     |[{3272, 8.050189}, {3030, 7.4631953}, {2730, 7.4063616}, {1256, 7.284992}, {8154, 7.10944}]       |\n",
      "|5     |[{4102, 6.661257}, {3266, 6.587204}, {2137, 6.2627063}, {3040, 6.23706}, {6461, 6.2127013}]       |\n",
      "|6     |[{97304, 6.163364}, {1916, 6.0844436}, {89904, 5.848202}, {84847, 5.7961025}, {4041, 5.795106}]   |\n",
      "|7     |[{3525, 7.865737}, {3328, 7.6042204}, {522, 7.575931}, {7247, 7.353523}, {7318, 7.262559}]        |\n",
      "|8     |[{89087, 8.4826145}, {103341, 7.7552667}, {89904, 7.278351}, {2822, 7.1784205}, {194, 7.126997}]  |\n",
      "|9     |[{89904, 7.341665}, {25771, 7.182371}, {33880, 7.1221247}, {1411, 6.967229}, {128520, 6.858931}]  |\n",
      "|10    |[{2822, 7.0724387}, {89087, 6.889955}, {80860, 6.792104}, {45880, 6.697955}, {132046, 6.5702815}] |\n",
      "|11    |[{103341, 8.742406}, {3444, 8.070013}, {86347, 8.000908}, {103984, 7.794361}, {4821, 7.698503}]   |\n",
      "|12    |[{1916, 8.195085}, {86911, 7.9001884}, {2772, 7.870122}, {84847, 7.4431853}, {7318, 7.1436434}]   |\n",
      "|13    |[{70946, 7.78344}, {1483, 7.620284}, {417, 7.424025}, {3296, 7.278383}, {1299, 7.141676}]         |\n",
      "|14    |[{3837, 12.048925}, {2867, 11.562568}, {1711, 11.458045}, {112818, 11.440758}, {37727, 10.960621}]|\n",
      "|15    |[{56145, 7.483166}, {1078, 7.2982802}, {3521, 7.123595}, {1211, 7.0154}, {7247, 7.003024}]        |\n",
      "|16    |[{1211, 5.0756993}, {89904, 5.0267267}, {3341, 4.745271}, {2810, 4.7119684}, {2568, 4.6497407}]   |\n",
      "|17    |[{6461, 6.0242815}, {52885, 5.656979}, {1272, 5.6256557}, {48783, 5.6204286}, {8973, 5.6109905}]  |\n",
      "|18    |[{1542, 5.0824933}, {1211, 4.981732}, {3265, 4.9339714}, {906, 4.924204}, {80906, 4.876326}]      |\n",
      "|19    |[{3266, 5.179123}, {6818, 5.054069}, {167746, 4.9271016}, {955, 4.920771}, {1303, 4.9057674}]     |\n",
      "|20    |[{106100, 7.5916142}, {2459, 7.2951694}, {663, 6.9592843}, {3272, 6.8467226}, {3435, 6.766551}]   |\n",
      "+------+--------------------------------------------------------------------------------------------------+\n",
      "only showing top 20 rows\n",
      "\n"
     ]
    },
    {
     "name": "stderr",
     "output_type": "stream",
     "text": [
      "                                                                                \r"
     ]
    }
   ],
   "source": [
    "# Generate top 5 movie recommendations for each user\n",
    "userRecs = model.recommendForAllUsers(5)\n",
    "\n",
    "userRecs.show(truncate=False)"
   ]
  },
  {
   "cell_type": "code",
   "execution_count": 11,
   "metadata": {},
   "outputs": [
    {
     "name": "stdout",
     "output_type": "stream",
     "text": [
      "Row(userId=1, recommendations=[Row(movieId=3676, rating=7.308286190032959), Row(movieId=89904, rating=7.224451065063477), Row(movieId=2568, rating=7.069147109985352), Row(movieId=102123, rating=7.002119541168213), Row(movieId=119141, rating=6.728187084197998)])\n",
      "Row(userId=2, recommendations=[Row(movieId=142422, rating=7.362960338592529), Row(movieId=3791, rating=7.326267242431641), Row(movieId=33880, rating=7.10060453414917), Row(movieId=95720, rating=6.9993767738342285), Row(movieId=3061, rating=6.844949722290039)])\n",
      "Row(userId=3, recommendations=[Row(movieId=6380, rating=6.5234503746032715), Row(movieId=158872, rating=6.1462531089782715), Row(movieId=166534, rating=5.6268439292907715), Row(movieId=46948, rating=5.450220584869385), Row(movieId=1965, rating=5.430072784423828)])\n"
     ]
    }
   ],
   "source": [
    "for line in userRecs.take(3):\n",
    "    print(line)"
   ]
  },
  {
   "cell_type": "code",
   "execution_count": 12,
   "metadata": {},
   "outputs": [
    {
     "name": "stderr",
     "output_type": "stream",
     "text": [
      "[Stage 150:==================================================>   (93 + 7) / 100]\r"
     ]
    },
    {
     "name": "stdout",
     "output_type": "stream",
     "text": [
      "+-------+-----------------------------------------------------------------------------------------+\n",
      "|movieId|recommendations                                                                          |\n",
      "+-------+-----------------------------------------------------------------------------------------+\n",
      "|12     |[{423, 13.603161}, {468, 11.867344}, {243, 9.948024}, {340, 9.324197}, {396, 8.880301}]  |\n",
      "|26     |[{413, 8.366593}, {531, 7.087544}, {197, 6.893214}, {498, 6.8756533}, {536, 6.7145615}]  |\n",
      "|27     |[{208, 7.948241}, {598, 7.8396993}, {569, 7.204832}, {505, 6.919182}, {544, 6.8781276}]  |\n",
      "|28     |[{399, 9.210004}, {443, 8.201692}, {278, 7.092686}, {421, 6.9759607}, {566, 6.9277353}]  |\n",
      "|31     |[{283, 7.9452305}, {485, 6.8117495}, {413, 6.778816}, {569, 6.6152673}, {505, 6.5838885}]|\n",
      "|34     |[{413, 7.4244547}, {461, 6.837977}, {22, 6.625615}, {536, 6.4195004}, {502, 6.2688913}]  |\n",
      "|44     |[{498, 5.3707647}, {31, 5.096789}, {319, 5.0943384}, {147, 5.0853972}, {576, 4.8676753}] |\n",
      "|53     |[{461, 8.363484}, {14, 7.485973}, {413, 7.348771}, {295, 7.032337}, {544, 6.871401}]     |\n",
      "|65     |[{598, 8.162444}, {557, 7.560708}, {531, 6.5116363}, {126, 6.0566297}, {257, 5.8301973}] |\n",
      "|76     |[{598, 12.622642}, {31, 9.020741}, {576, 8.402519}, {37, 8.238518}, {196, 7.9959946}]    |\n",
      "|78     |[{413, 5.0159993}, {197, 4.6690044}, {531, 4.510158}, {96, 4.4357486}, {147, 4.4246078}] |\n",
      "|81     |[{147, 7.019228}, {31, 6.2920427}, {196, 6.099897}, {324, 6.082787}, {319, 5.940354}]    |\n",
      "|85     |[{149, 10.438991}, {502, 9.44431}, {516, 9.245164}, {303, 8.5231285}, {541, 8.213443}]   |\n",
      "|101    |[{147, 11.124305}, {549, 7.7766147}, {530, 7.5163183}, {392, 7.0763354}, {329, 7.028097}]|\n",
      "|103    |[{544, 4.7683215}, {461, 4.610632}, {243, 3.8419168}, {429, 3.8106384}, {396, 3.7393296}]|\n",
      "|108    |[{147, 7.3239765}, {285, 5.540522}, {544, 5.020342}, {77, 4.9032454}, {418, 4.7881756}]  |\n",
      "|126    |[{461, 9.479138}, {278, 5.35346}, {243, 5.2829094}, {423, 5.249961}, {598, 5.2057853}]   |\n",
      "|137    |[{549, 4.78922}, {379, 3.9923089}, {399, 3.8708715}, {364, 3.6824534}, {413, 3.656165}]  |\n",
      "|148    |[{399, 7.4531593}, {379, 6.4910793}, {413, 6.267245}, {281, 5.818834}, {502, 5.6439934}] |\n",
      "|155    |[{243, 7.53572}, {295, 7.1607504}, {173, 6.9891696}, {399, 6.860309}, {423, 6.8293824}]  |\n",
      "+-------+-----------------------------------------------------------------------------------------+\n",
      "only showing top 20 rows\n",
      "\n"
     ]
    },
    {
     "name": "stderr",
     "output_type": "stream",
     "text": [
      "                                                                                \r"
     ]
    }
   ],
   "source": [
    "# Generate top 5 user recommendations for each movie\n",
    "movieRecs = model.recommendForAllItems(5)\n",
    "movieRecs.show(truncate=False)"
   ]
  },
  {
   "cell_type": "code",
   "execution_count": 13,
   "metadata": {},
   "outputs": [
    {
     "name": "stderr",
     "output_type": "stream",
     "text": [
      "[Stage 179:==========================================>          (81 + 19) / 100]\r"
     ]
    },
    {
     "name": "stdout",
     "output_type": "stream",
     "text": [
      "Row(movieId=12, recommendations=[Row(userId=423, rating=13.603160858154297), Row(userId=468, rating=11.86734390258789), Row(userId=243, rating=9.948023796081543), Row(userId=340, rating=9.324196815490723), Row(userId=396, rating=8.880301475524902)])\n",
      "Row(movieId=26, recommendations=[Row(userId=413, rating=8.366593360900879), Row(userId=531, rating=7.087543964385986), Row(userId=197, rating=6.893214225769043), Row(userId=498, rating=6.875653266906738), Row(userId=536, rating=6.714561462402344)])\n",
      "Row(movieId=27, recommendations=[Row(userId=208, rating=7.948241233825684), Row(userId=598, rating=7.8396992683410645), Row(userId=569, rating=7.204832077026367), Row(userId=505, rating=6.919181823730469), Row(userId=544, rating=6.878127574920654)])\n",
      "Row(movieId=28, recommendations=[Row(userId=399, rating=9.210003852844238), Row(userId=443, rating=8.201691627502441), Row(userId=278, rating=7.092686176300049), Row(userId=421, rating=6.975960731506348), Row(userId=566, rating=6.927735328674316)])\n"
     ]
    },
    {
     "name": "stderr",
     "output_type": "stream",
     "text": [
      "                                                                                \r"
     ]
    }
   ],
   "source": [
    "for line in movieRecs.take(4):\n",
    "   print(line)"
   ]
  },
  {
   "cell_type": "code",
   "execution_count": 14,
   "metadata": {},
   "outputs": [
    {
     "name": "stdout",
     "output_type": "stream",
     "text": [
      "--- Execution time: 20.994229316711426 seconds ---\n"
     ]
    }
   ],
   "source": [
    "print(\"--- Execution time: %s seconds ---\" % (time.time() - start_time))"
   ]
  },
  {
   "cell_type": "code",
   "execution_count": 15,
   "metadata": {},
   "outputs": [
    {
     "name": "stdin",
     "output_type": "stream",
     "text": [
      "Digite o número do usuário que deseja a recomendação: 1\n"
     ]
    },
    {
     "data": {
      "text/plain": [
       "[Row(movieId=[3676, 89904, 2568, 102123, 119141], rating=[7.308286190032959, 7.224451065063477, 7.069147109985352, 7.002119541168213, 6.728187084197998])]"
      ]
     },
     "execution_count": 15,
     "metadata": {},
     "output_type": "execute_result"
    }
   ],
   "source": [
    "enter_user=input(\"Digite o número do usuário que deseja a recomendação:\")\n",
    "userRecs.where(userRecs.userId == enter_user).select(\"recommendations.movieId\",\\\n",
    "              \"recommendations.rating\").collect()"
   ]
  },
  {
   "cell_type": "code",
   "execution_count": 16,
   "metadata": {},
   "outputs": [
    {
     "name": "stdin",
     "output_type": "stream",
     "text": [
      "Digite o número do filme que deseja recomendar: 1\n"
     ]
    },
    {
     "name": "stderr",
     "output_type": "stream",
     "text": [
      "                                                                                \r"
     ]
    },
    {
     "data": {
      "text/plain": [
       "[Row(userId=[99, 147, 486, 192, 340], rating=[5.723738670349121, 5.477389335632324, 5.250665187835693, 5.110465049743652, 5.078319072723389])]"
      ]
     },
     "execution_count": 16,
     "metadata": {},
     "output_type": "execute_result"
    }
   ],
   "source": [
    "enter_movie=input(\"Digite o número do filme que deseja recomendar:\")\n",
    "movieRecs.where(movieRecs.movieId == enter_movie).select(\"recommendations.userId\",\\\n",
    "                \"recommendations.rating\").collect()"
   ]
  },
  {
   "cell_type": "code",
   "execution_count": 17,
   "metadata": {},
   "outputs": [],
   "source": [
    "sc.stop()"
   ]
  }
 ],
 "metadata": {
  "kernelspec": {
   "display_name": "Python 3 (ipykernel)",
   "language": "python",
   "name": "python3"
  },
  "language_info": {
   "codemirror_mode": {
    "name": "ipython",
    "version": 3
   },
   "file_extension": ".py",
   "mimetype": "text/x-python",
   "name": "python",
   "nbconvert_exporter": "python",
   "pygments_lexer": "ipython3",
   "version": "3.10.12"
  }
 },
 "nbformat": 4,
 "nbformat_minor": 4
}
