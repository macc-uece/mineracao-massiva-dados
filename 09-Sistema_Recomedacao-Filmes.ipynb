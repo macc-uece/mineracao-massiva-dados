{
 "cells": [
  {
   "cell_type": "markdown",
   "metadata": {},
   "source": [
    "# Exemplo 09: Sistema de Recomendação\n",
    "## Recomendação de Filmes MovieLens\n",
    "\n",
    "Sistema de Recomendação tem como objetivo selecionar itens personalizados para um usuário (cliente) com base nos interesses dele e dos interesses de usuários semelhantes conforme o contexto no qual estão inseridos. Esta técnica pode recomendar itens variados como, por exemplo, livros, filmes, notícias, música, vídeos, páginas de internet e produtos de uma loja virtual. Este exemplo faz a recomendação de filmes para um determinado usuário baseado nos seus gostos e de gostos de outros usuários semelhantes. O dataset utilizado é do site de recomendação de filmes MovieLens."
   ]
  },
  {
   "cell_type": "code",
   "execution_count": 1,
   "metadata": {},
   "outputs": [],
   "source": [
    "import pyspark\n",
    "from pyspark.sql import SparkSession, Row\n",
    "\n",
    "from pyspark.ml.recommendation import ALS\n",
    "from pyspark.ml.evaluation import RegressionEvaluator\n",
    "\n",
    "import time\n",
    "start_time = time.time()\n",
    "\n",
    "data_path='./data/'\n",
    "\n",
    "# Experimente uma base de dados maior\n",
    "#data_path='/data/dataset/MovieLens/ml-20m/'"
   ]
  },
  {
   "cell_type": "code",
   "execution_count": 2,
   "metadata": {},
   "outputs": [],
   "source": [
    "# Create Spark Session\n",
    "sc = SparkSession.builder \\\n",
    "     .master(\"local[*]\") \\\n",
    "     .appName(\"Movies_Recommendation\") \\\n",
    "     .getOrCreate()"
   ]
  },
  {
   "cell_type": "markdown",
   "metadata": {},
   "source": [
    "## Ratings Data File Structure (ratings.csv)\n",
    "-----------------------------------------\n",
    "\n",
    "All ratings are contained in the file `ratings.csv`. Each line of this file after the header row represents one rating of one movie by one user, and has the following format:\n",
    "\n",
    "    userId,movieId,rating,timestamp\n",
    "\n",
    "The lines within this file are ordered first by userId, then, within user, by movieId.\n",
    "\n",
    "Ratings are made on a 5-star scale, with half-star increments (0.5 stars - 5.0 stars).\n",
    "\n",
    "Timestamps represent seconds since midnight Coordinated Universal Time (UTC) of January 1, 1970."
   ]
  },
  {
   "cell_type": "code",
   "execution_count": 3,
   "metadata": {},
   "outputs": [
    {
     "name": "stdout",
     "output_type": "stream",
     "text": [
      "root\n",
      " |-- userId: integer (nullable = true)\n",
      " |-- movieId: integer (nullable = true)\n",
      " |-- rating: double (nullable = true)\n",
      " |-- timestamp: integer (nullable = true)\n",
      "\n"
     ]
    }
   ],
   "source": [
    "df = sc.read.format(\"csv\").options(sep=',',header='true',inferschema='true').\\\n",
    "     load(data_path+\"ratings.csv.gz\")\n",
    "\n",
    "df.printSchema()"
   ]
  },
  {
   "cell_type": "code",
   "execution_count": 4,
   "metadata": {},
   "outputs": [
    {
     "data": {
      "text/plain": [
       "[Row(userId=1, movieId=1, rating=4.0),\n",
       " Row(userId=1, movieId=3, rating=4.0),\n",
       " Row(userId=1, movieId=6, rating=4.0),\n",
       " Row(userId=1, movieId=47, rating=5.0),\n",
       " Row(userId=1, movieId=50, rating=5.0)]"
      ]
     },
     "execution_count": 4,
     "metadata": {},
     "output_type": "execute_result"
    }
   ],
   "source": [
    "ratedf = df.select(['userId', 'movieId', 'rating'])\n",
    "ratedf.head(5)"
   ]
  },
  {
   "cell_type": "code",
   "execution_count": 5,
   "metadata": {},
   "outputs": [
    {
     "name": "stdout",
     "output_type": "stream",
     "text": [
      "+------+-------+------+\n",
      "|userId|movieId|rating|\n",
      "+------+-------+------+\n",
      "|     1|      1|   4.0|\n",
      "|     1|      3|   4.0|\n",
      "|     1|      6|   4.0|\n",
      "|     1|     47|   5.0|\n",
      "|     1|     50|   5.0|\n",
      "|     1|     70|   3.0|\n",
      "|     1|    101|   5.0|\n",
      "|     1|    110|   4.0|\n",
      "|     1|    151|   5.0|\n",
      "|     1|    157|   5.0|\n",
      "|     1|    163|   5.0|\n",
      "|     1|    216|   5.0|\n",
      "|     1|    223|   3.0|\n",
      "|     1|    231|   5.0|\n",
      "|     1|    235|   4.0|\n",
      "|     1|    260|   5.0|\n",
      "|     1|    296|   3.0|\n",
      "|     1|    316|   3.0|\n",
      "|     1|    333|   5.0|\n",
      "|     1|    349|   4.0|\n",
      "+------+-------+------+\n",
      "only showing top 20 rows\n",
      "\n"
     ]
    }
   ],
   "source": [
    "ratedf.show()"
   ]
  },
  {
   "cell_type": "markdown",
   "metadata": {},
   "source": [
    "## Movies Data File Structure (movies.csv)\n",
    "---------------------------------------\n",
    "\n",
    "Movie information is contained in the file `movies.csv`. Each line of this file after the header row represents one movie, and has the following format:\n",
    "\n",
    "    movieId,title,genres\n",
    "\n",
    "Movie titles are entered manually or imported from <https://www.themoviedb.org/>, and include the year of release in parentheses.\n",
    "\n",
    "Genres are a pipe-separated list, and are selected from the following:\n",
    "\n",
    "* Action\n",
    "* Adventure\n",
    "* Animation\n",
    "* Children's\n",
    "* Comedy\n",
    "* Crime\n",
    "* Documentary\n",
    "* Drama\n",
    "* Fantasy\n",
    "* Film-Noir\n",
    "* Horror\n",
    "* Musical\n",
    "* Mystery\n",
    "* Romance\n",
    "* Sci-Fi\n",
    "* Thriller\n",
    "* War\n",
    "* Western\n",
    "* (no genres listed)"
   ]
  },
  {
   "cell_type": "code",
   "execution_count": 6,
   "metadata": {},
   "outputs": [
    {
     "name": "stdout",
     "output_type": "stream",
     "text": [
      "root\n",
      " |-- movieId: integer (nullable = true)\n",
      " |-- title: string (nullable = true)\n",
      " |-- genres: string (nullable = true)\n",
      "\n"
     ]
    }
   ],
   "source": [
    "df = sc.read.format(\"csv\").options(sep=',',header='true',inferschema='true').\\\n",
    "     load(data_path+\"movies.csv.gz\")\n",
    "\n",
    "df.printSchema()"
   ]
  },
  {
   "cell_type": "code",
   "execution_count": 7,
   "metadata": {},
   "outputs": [
    {
     "data": {
      "text/plain": [
       "[Row(movieId=1, title='Toy Story (1995)', genres='Adventure|Animation|Children|Comedy|Fantasy'),\n",
       " Row(movieId=2, title='Jumanji (1995)', genres='Adventure|Children|Fantasy'),\n",
       " Row(movieId=3, title='Grumpier Old Men (1995)', genres='Comedy|Romance'),\n",
       " Row(movieId=4, title='Waiting to Exhale (1995)', genres='Comedy|Drama|Romance'),\n",
       " Row(movieId=5, title='Father of the Bride Part II (1995)', genres='Comedy')]"
      ]
     },
     "execution_count": 7,
     "metadata": {},
     "output_type": "execute_result"
    }
   ],
   "source": [
    "moviedf = df.select(['movieId', 'title', 'genres'])\n",
    "moviedf.head(5)"
   ]
  },
  {
   "cell_type": "markdown",
   "metadata": {},
   "source": [
    "## Rating Statistics"
   ]
  },
  {
   "cell_type": "code",
   "execution_count": 8,
   "metadata": {},
   "outputs": [
    {
     "name": "stdout",
     "output_type": "stream",
     "text": [
      "+-------+------------------+----------------+------------------+\n",
      "|summary|            userId|         movieId|            rating|\n",
      "+-------+------------------+----------------+------------------+\n",
      "|  count|            100836|          100836|            100836|\n",
      "|   mean|326.12756356856676|19435.2957177992| 3.501556983616962|\n",
      "| stddev| 182.6184914635004|35530.9871987003|1.0425292390606342|\n",
      "|    min|                 1|               1|               0.5|\n",
      "|    max|               610|          193609|               5.0|\n",
      "+-------+------------------+----------------+------------------+\n",
      "\n"
     ]
    }
   ],
   "source": [
    "ratedf.describe().show()"
   ]
  },
  {
   "cell_type": "code",
   "execution_count": 9,
   "metadata": {},
   "outputs": [
    {
     "name": "stdout",
     "output_type": "stream",
     "text": [
      "Root-mean-square error (RMSE) = 1.0750506567550213\n"
     ]
    }
   ],
   "source": [
    "# Configure ALS\n",
    "als = ALS(maxIter=5, regParam=0.01, userCol='userId', itemCol='movieId', ratingCol='rating', \\\n",
    "          coldStartStrategy='drop')\n",
    "\n",
    "# Train dataset: 80% to ttrain and 20% to test \n",
    "training, test = ratedf.randomSplit([0.8,0.2])\n",
    "\n",
    "model = als.fit(training)\n",
    "\n",
    "# Evaluate the model by computing the RMSE on the test data\n",
    "predictions = model.transform(test)\n",
    "evaluator = RegressionEvaluator(metricName=\"rmse\", labelCol=\"rating\", predictionCol=\"prediction\")\n",
    "rmse = evaluator.evaluate(predictions)\n",
    "print(\"Root-mean-square error (RMSE) = \" + str(rmse))"
   ]
  },
  {
   "cell_type": "code",
   "execution_count": 10,
   "metadata": {},
   "outputs": [
    {
     "name": "stdout",
     "output_type": "stream",
     "text": [
      "+------+-------------------------------------------------------------------------------------------------+\n",
      "|userId|recommendations                                                                                  |\n",
      "+------+-------------------------------------------------------------------------------------------------+\n",
      "|1     |[{85, 6.4950376}, {247, 6.0013113}, {28, 5.986198}, {44761, 5.885227}, {51931, 5.8429537}]       |\n",
      "|2     |[{1726, 8.964352}, {85, 8.619324}, {6731, 7.3211703}, {28, 6.9898663}, {2261, 6.8948894}]        |\n",
      "|3     |[{7991, 5.151084}, {37830, 5.1316137}, {2851, 5.117914}, {6835, 5.103821}, {5746, 5.103821}]     |\n",
      "|4     |[{1620, 6.739647}, {2275, 6.5970106}, {2901, 6.554268}, {446, 6.438507}, {1173, 6.3667836}]      |\n",
      "|5     |[{85, 7.7918}, {41716, 7.1699595}, {2530, 6.657156}, {1334, 6.6378627}, {2387, 6.5986567}]       |\n",
      "|6     |[{1411, 6.277818}, {3618, 6.103948}, {1223, 6.039419}, {85, 5.994721}, {2384, 5.9404774}]        |\n",
      "|7     |[{52435, 8.398609}, {3754, 8.014135}, {56145, 7.67675}, {47997, 7.6135893}, {901, 7.3488946}]    |\n",
      "|8     |[{2387, 9.689884}, {3786, 9.440834}, {85, 9.300459}, {3441, 9.274473}, {1726, 8.924386}]         |\n",
      "|9     |[{1260, 7.9201193}, {2524, 7.5511894}, {2936, 7.527235}, {74946, 7.27826}, {1280, 7.2384844}]    |\n",
      "|10    |[{56145, 9.055522}, {4233, 8.489535}, {94677, 6.738884}, {134368, 6.7319818}, {74946, 6.5544276}]|\n",
      "|11    |[{8973, 7.1338024}, {106766, 6.9229236}, {1298, 6.775226}, {2275, 6.7359324}, {2261, 6.6822066}] |\n",
      "|12    |[{56145, 11.868096}, {7669, 9.237644}, {133419, 8.721461}, {4002, 8.488305}, {5313, 8.285927}]   |\n",
      "|13    |[{7748, 7.318578}, {1468, 7.305711}, {112623, 7.2537513}, {2648, 7.0722365}, {60943, 7.0009522}] |\n",
      "|14    |[{53127, 10.933804}, {2772, 9.507594}, {41716, 9.399178}, {5466, 9.335743}, {2387, 9.29362}]     |\n",
      "|15    |[{5222, 7.7208548}, {3272, 7.7130494}, {986, 7.596018}, {2184, 7.5690193}, {3594, 7.4987116}]    |\n",
      "|16    |[{1916, 5.616584}, {1956, 5.3027024}, {1411, 5.270566}, {71899, 5.2034197}, {3035, 5.1960826}]   |\n",
      "|17    |[{167746, 6.0411882}, {945, 5.9463325}, {898, 5.6702466}, {3347, 5.4798727}, {3022, 5.458192}]   |\n",
      "|18    |[{945, 5.7098446}, {1211, 5.3273273}, {58301, 5.15252}, {3435, 5.12185}, {27156, 5.0872045}]     |\n",
      "|19    |[{1211, 5.326024}, {4678, 4.9719377}, {7748, 4.908386}, {3358, 4.848963}, {3396, 4.8236594}]     |\n",
      "|20    |[{446, 7.293507}, {3742, 7.011362}, {2843, 6.8597374}, {5291, 6.706835}, {158872, 6.683637}]     |\n",
      "+------+-------------------------------------------------------------------------------------------------+\n",
      "only showing top 20 rows\n",
      "\n"
     ]
    }
   ],
   "source": [
    "# Generate top 5 movie recommendations for each user\n",
    "userRecs = model.recommendForAllUsers(5)\n",
    "\n",
    "userRecs.show(truncate=False)"
   ]
  },
  {
   "cell_type": "code",
   "execution_count": 11,
   "metadata": {},
   "outputs": [
    {
     "name": "stdout",
     "output_type": "stream",
     "text": [
      "Row(userId=1, recommendations=[Row(movieId=85, rating=6.49503755569458), Row(movieId=247, rating=6.001311302185059), Row(movieId=28, rating=5.9861979484558105), Row(movieId=44761, rating=5.885227203369141), Row(movieId=51931, rating=5.842953681945801)])\n",
      "Row(userId=2, recommendations=[Row(movieId=1726, rating=8.964351654052734), Row(movieId=85, rating=8.61932373046875), Row(movieId=6731, rating=7.321170330047607), Row(movieId=28, rating=6.989866256713867), Row(movieId=2261, rating=6.8948893547058105)])\n",
      "Row(userId=3, recommendations=[Row(movieId=7991, rating=5.151083946228027), Row(movieId=37830, rating=5.131613731384277), Row(movieId=2851, rating=5.117914199829102), Row(movieId=6835, rating=5.10382080078125), Row(movieId=5746, rating=5.10382080078125)])\n"
     ]
    }
   ],
   "source": [
    "for line in userRecs.take(3):\n",
    "    print(line)"
   ]
  },
  {
   "cell_type": "code",
   "execution_count": 12,
   "metadata": {},
   "outputs": [
    {
     "name": "stdout",
     "output_type": "stream",
     "text": [
      "+-------+-----------------------------------------------------------------------------------------+\n",
      "|movieId|recommendations                                                                          |\n",
      "+-------+-----------------------------------------------------------------------------------------+\n",
      "|1      |[{423, 5.47678}, {543, 5.4741597}, {569, 5.4077687}, {574, 5.4033713}, {106, 5.383932}]  |\n",
      "|12     |[{295, 8.182247}, {472, 8.027278}, {257, 7.9246087}, {77, 7.6918116}, {459, 7.509772}]   |\n",
      "|13     |[{423, 7.3308654}, {399, 7.042202}, {485, 6.979488}, {407, 6.676213}, {196, 5.9709945}]  |\n",
      "|22     |[{130, 6.118208}, {192, 6.0991898}, {375, 5.9425855}, {37, 5.922715}, {531, 5.89345}]    |\n",
      "|26     |[{485, 8.167679}, {461, 7.369815}, {498, 7.1125364}, {468, 6.854341}, {458, 6.8336816}]  |\n",
      "|27     |[{485, 10.336701}, {468, 8.800411}, {548, 8.262348}, {502, 8.033107}, {107, 7.5116234}]  |\n",
      "|28     |[{536, 12.047627}, {472, 9.742122}, {251, 9.548626}, {548, 8.825282}, {557, 8.541237}]   |\n",
      "|31     |[{485, 7.986738}, {413, 7.3301544}, {196, 6.8390594}, {126, 6.1979604}, {138, 6.005633}] |\n",
      "|34     |[{548, 7.459666}, {196, 6.877537}, {485, 6.420583}, {423, 6.361207}, {106, 6.3472147}]   |\n",
      "|44     |[{472, 8.230007}, {196, 7.9189734}, {128, 7.8334618}, {501, 7.327649}, {548, 6.7149897}] |\n",
      "|47     |[{549, 7.7856092}, {278, 6.2133436}, {106, 6.074429}, {375, 5.962888}, {472, 5.761238}]  |\n",
      "|52     |[{485, 9.647259}, {502, 9.072797}, {574, 8.07087}, {569, 7.7206964}, {548, 7.4206533}]   |\n",
      "|53     |[{536, 8.933376}, {364, 8.360946}, {355, 8.00399}, {231, 7.5832357}, {128, 7.5553203}]   |\n",
      "|65     |[{126, 7.071313}, {224, 6.360302}, {426, 6.3376102}, {192, 5.8665442}, {85, 5.726657}]   |\n",
      "|76     |[{423, 10.282238}, {126, 9.962909}, {196, 9.623629}, {485, 8.89477}, {116, 8.630674}]    |\n",
      "|78     |[{243, 7.320773}, {77, 7.217608}, {413, 6.4536514}, {37, 6.0888658}, {393, 5.735276}]    |\n",
      "|81     |[{423, 8.630716}, {106, 7.2896614}, {485, 7.0934305}, {569, 6.5559034}, {548, 6.4882436}]|\n",
      "|85     |[{329, 12.242413}, {468, 11.827438}, {77, 11.223641}, {549, 11.202942}, {472, 11.033846}]|\n",
      "|93     |[{468, 6.5648694}, {548, 5.9204097}, {174, 5.5791492}, {128, 5.393594}, {461, 5.30819}]  |\n",
      "|101    |[{549, 8.840654}, {255, 8.289095}, {278, 7.7193174}, {120, 7.536359}, {468, 6.692197}]   |\n",
      "+-------+-----------------------------------------------------------------------------------------+\n",
      "only showing top 20 rows\n",
      "\n"
     ]
    }
   ],
   "source": [
    "# Generate top 5 user recommendations for each movie\n",
    "movieRecs = model.recommendForAllItems(5)\n",
    "movieRecs.show(truncate=False)"
   ]
  },
  {
   "cell_type": "code",
   "execution_count": 13,
   "metadata": {},
   "outputs": [
    {
     "name": "stdout",
     "output_type": "stream",
     "text": [
      "Row(movieId=1, recommendations=[Row(userId=423, rating=5.476779937744141), Row(userId=543, rating=5.4741597175598145), Row(userId=569, rating=5.407768726348877), Row(userId=574, rating=5.403371334075928), Row(userId=106, rating=5.383932113647461)])\n",
      "Row(movieId=12, recommendations=[Row(userId=295, rating=8.182247161865234), Row(userId=472, rating=8.027277946472168), Row(userId=257, rating=7.9246087074279785), Row(userId=77, rating=7.691811561584473), Row(userId=459, rating=7.509771823883057)])\n",
      "Row(movieId=13, recommendations=[Row(userId=423, rating=7.330865383148193), Row(userId=399, rating=7.042201995849609), Row(userId=485, rating=6.979487895965576), Row(userId=407, rating=6.676212787628174), Row(userId=196, rating=5.970994472503662)])\n",
      "Row(movieId=22, recommendations=[Row(userId=130, rating=6.118207931518555), Row(userId=192, rating=6.099189758300781), Row(userId=375, rating=5.942585468292236), Row(userId=37, rating=5.922715187072754), Row(userId=531, rating=5.893449783325195)])\n"
     ]
    }
   ],
   "source": [
    "for line in movieRecs.take(4):\n",
    "   print(line)"
   ]
  },
  {
   "cell_type": "code",
   "execution_count": 14,
   "metadata": {},
   "outputs": [
    {
     "name": "stdout",
     "output_type": "stream",
     "text": [
      "--- Execution time: 32.386048793792725 seconds ---\n"
     ]
    }
   ],
   "source": [
    "print(\"--- Execution time: %s seconds ---\" % (time.time() - start_time))"
   ]
  },
  {
   "cell_type": "code",
   "execution_count": 15,
   "metadata": {},
   "outputs": [
    {
     "name": "stdin",
     "output_type": "stream",
     "text": [
      "Digite o número do usuário que deseja a recomendação: 1\n"
     ]
    },
    {
     "data": {
      "text/plain": [
       "[Row(movieId=[85, 247, 28, 44761, 51931], rating=[6.49503755569458, 6.001311302185059, 5.9861979484558105, 5.885227203369141, 5.842953681945801])]"
      ]
     },
     "execution_count": 15,
     "metadata": {},
     "output_type": "execute_result"
    }
   ],
   "source": [
    "enter_user=input(\"Digite o número do usuário que deseja a recomendação:\")\n",
    "userRecs.where(userRecs.userId == enter_user).select(\"recommendations.movieId\",\\\n",
    "              \"recommendations.rating\").collect()"
   ]
  },
  {
   "cell_type": "code",
   "execution_count": 16,
   "metadata": {},
   "outputs": [
    {
     "name": "stdin",
     "output_type": "stream",
     "text": [
      "Digite o número do filme que deseja recomendar: 12\n"
     ]
    },
    {
     "data": {
      "text/plain": [
       "[Row(userId=[295, 472, 257, 77, 459], rating=[8.182247161865234, 8.027277946472168, 7.9246087074279785, 7.691811561584473, 7.509771823883057])]"
      ]
     },
     "execution_count": 16,
     "metadata": {},
     "output_type": "execute_result"
    }
   ],
   "source": [
    "enter_movie=input(\"Digite o número do filme que deseja recomendar:\")\n",
    "movieRecs.where(movieRecs.movieId == enter_movie).select(\"recommendations.userId\",\\\n",
    "                \"recommendations.rating\").collect()"
   ]
  },
  {
   "cell_type": "code",
   "execution_count": 17,
   "metadata": {},
   "outputs": [],
   "source": [
    "sc.stop()"
   ]
  }
 ],
 "metadata": {
  "kernelspec": {
   "display_name": "Python 3 (ipykernel)",
   "language": "python",
   "name": "python3"
  },
  "language_info": {
   "codemirror_mode": {
    "name": "ipython",
    "version": 3
   },
   "file_extension": ".py",
   "mimetype": "text/x-python",
   "name": "python",
   "nbconvert_exporter": "python",
   "pygments_lexer": "ipython3",
   "version": "3.12.8"
  }
 },
 "nbformat": 4,
 "nbformat_minor": 4
}
