{
 "cells": [
  {
   "cell_type": "markdown",
   "metadata": {},
   "source": [
    "# Exemplo 09: Sistema de Recomendação\n",
    "## Recomendação de Filmes MovieLens\n",
    "\n",
    "Sistema de Recomendação tem como objetivo selecionar itens personalizados para um usuário (cliente) com base nos interesses dele e dos interesses de usuários semelhantes conforme o contexto no qual estão inseridos. Esta técnica pode recomendar itens variados como, por exemplo, livros, filmes, notícias, música, vídeos, páginas de internet e produtos de uma loja virtual. Este exemplo faz a recomendação de filmes para um determinado usuário baseado nos seus gostos e de gostos de outros usuários semelhantes. O dataset utilizado é do site de recomendação de filmes MovieLens."
   ]
  },
  {
   "cell_type": "code",
   "execution_count": 1,
   "metadata": {},
   "outputs": [],
   "source": [
    "import findspark\n",
    "findspark.init()"
   ]
  },
  {
   "cell_type": "code",
   "execution_count": 2,
   "metadata": {},
   "outputs": [],
   "source": [
    "import pyspark\n",
    "from pyspark.sql import SparkSession, Row\n",
    "\n",
    "from pyspark.ml.recommendation import ALS\n",
    "from pyspark.ml.evaluation import RegressionEvaluator\n",
    "\n",
    "import time\n",
    "start_time = time.time()\n",
    "\n",
    "data_path='./data/'\n",
    "\n",
    "# Experimente uma base de dados maior\n",
    "#data_path='/data/textdata/MovieLens/ml-20m/'"
   ]
  },
  {
   "cell_type": "code",
   "execution_count": 3,
   "metadata": {},
   "outputs": [],
   "source": [
    "# Create Spark Session\n",
    "spark = SparkSession.builder \\\n",
    "       .master(\"local[*]\") \\\n",
    "       .appName(\"Movies_Recommendation\") \\\n",
    "       .getOrCreate()"
   ]
  },
  {
   "cell_type": "markdown",
   "metadata": {},
   "source": [
    "## Ratings Data File Structure (ratings.csv)\n",
    "-----------------------------------------\n",
    "\n",
    "All ratings are contained in the file `ratings.csv`. Each line of this file after the header row represents one rating of one movie by one user, and has the following format:\n",
    "\n",
    "    userId,movieId,rating,timestamp\n",
    "\n",
    "The lines within this file are ordered first by userId, then, within user, by movieId.\n",
    "\n",
    "Ratings are made on a 5-star scale, with half-star increments (0.5 stars - 5.0 stars).\n",
    "\n",
    "Timestamps represent seconds since midnight Coordinated Universal Time (UTC) of January 1, 1970."
   ]
  },
  {
   "cell_type": "code",
   "execution_count": 4,
   "metadata": {},
   "outputs": [
    {
     "name": "stdout",
     "output_type": "stream",
     "text": [
      "root\n",
      " |-- userId: integer (nullable = true)\n",
      " |-- movieId: integer (nullable = true)\n",
      " |-- rating: double (nullable = true)\n",
      " |-- timestamp: integer (nullable = true)\n",
      "\n"
     ]
    }
   ],
   "source": [
    "df = spark.read.format(\"csv\").options(sep=',',header='true',inferschema='true').\\\n",
    "     load(data_path+\"ratings.csv.gz\")\n",
    "\n",
    "df.printSchema()"
   ]
  },
  {
   "cell_type": "code",
   "execution_count": 5,
   "metadata": {},
   "outputs": [
    {
     "data": {
      "text/plain": [
       "[Row(userId=1, movieId=1, rating=4.0),\n",
       " Row(userId=1, movieId=3, rating=4.0),\n",
       " Row(userId=1, movieId=6, rating=4.0),\n",
       " Row(userId=1, movieId=47, rating=5.0),\n",
       " Row(userId=1, movieId=50, rating=5.0)]"
      ]
     },
     "execution_count": 5,
     "metadata": {},
     "output_type": "execute_result"
    }
   ],
   "source": [
    "ratedf = df.select(['userId', 'movieId', 'rating'])\n",
    "ratedf.head(5)"
   ]
  },
  {
   "cell_type": "code",
   "execution_count": 6,
   "metadata": {},
   "outputs": [
    {
     "name": "stdout",
     "output_type": "stream",
     "text": [
      "+------+-------+------+\n",
      "|userId|movieId|rating|\n",
      "+------+-------+------+\n",
      "|     1|      1|   4.0|\n",
      "|     1|      3|   4.0|\n",
      "|     1|      6|   4.0|\n",
      "|     1|     47|   5.0|\n",
      "|     1|     50|   5.0|\n",
      "|     1|     70|   3.0|\n",
      "|     1|    101|   5.0|\n",
      "|     1|    110|   4.0|\n",
      "|     1|    151|   5.0|\n",
      "|     1|    157|   5.0|\n",
      "|     1|    163|   5.0|\n",
      "|     1|    216|   5.0|\n",
      "|     1|    223|   3.0|\n",
      "|     1|    231|   5.0|\n",
      "|     1|    235|   4.0|\n",
      "|     1|    260|   5.0|\n",
      "|     1|    296|   3.0|\n",
      "|     1|    316|   3.0|\n",
      "|     1|    333|   5.0|\n",
      "|     1|    349|   4.0|\n",
      "+------+-------+------+\n",
      "only showing top 20 rows\n",
      "\n"
     ]
    }
   ],
   "source": [
    "ratedf.show()"
   ]
  },
  {
   "cell_type": "markdown",
   "metadata": {},
   "source": [
    "## Movies Data File Structure (movies.csv)\n",
    "---------------------------------------\n",
    "\n",
    "Movie information is contained in the file `movies.csv`. Each line of this file after the header row represents one movie, and has the following format:\n",
    "\n",
    "    movieId,title,genres\n",
    "\n",
    "Movie titles are entered manually or imported from <https://www.themoviedb.org/>, and include the year of release in parentheses.\n",
    "\n",
    "Genres are a pipe-separated list, and are selected from the following:\n",
    "\n",
    "* Action\n",
    "* Adventure\n",
    "* Animation\n",
    "* Children's\n",
    "* Comedy\n",
    "* Crime\n",
    "* Documentary\n",
    "* Drama\n",
    "* Fantasy\n",
    "* Film-Noir\n",
    "* Horror\n",
    "* Musical\n",
    "* Mystery\n",
    "* Romance\n",
    "* Sci-Fi\n",
    "* Thriller\n",
    "* War\n",
    "* Western\n",
    "* (no genres listed)"
   ]
  },
  {
   "cell_type": "code",
   "execution_count": 7,
   "metadata": {},
   "outputs": [
    {
     "name": "stdout",
     "output_type": "stream",
     "text": [
      "root\n",
      " |-- movieId: integer (nullable = true)\n",
      " |-- title: string (nullable = true)\n",
      " |-- genres: string (nullable = true)\n",
      "\n"
     ]
    }
   ],
   "source": [
    "df = spark.read.format(\"csv\").options(sep=',',header='true',inferschema='true').\\\n",
    "           load(data_path+\"movies.csv.gz\")\n",
    "\n",
    "df.printSchema()"
   ]
  },
  {
   "cell_type": "code",
   "execution_count": 8,
   "metadata": {},
   "outputs": [
    {
     "data": {
      "text/plain": [
       "[Row(movieId=1, title='Toy Story (1995)', genres='Adventure|Animation|Children|Comedy|Fantasy'),\n",
       " Row(movieId=2, title='Jumanji (1995)', genres='Adventure|Children|Fantasy'),\n",
       " Row(movieId=3, title='Grumpier Old Men (1995)', genres='Comedy|Romance'),\n",
       " Row(movieId=4, title='Waiting to Exhale (1995)', genres='Comedy|Drama|Romance'),\n",
       " Row(movieId=5, title='Father of the Bride Part II (1995)', genres='Comedy')]"
      ]
     },
     "execution_count": 8,
     "metadata": {},
     "output_type": "execute_result"
    }
   ],
   "source": [
    "moviedf = df.select(['movieId', 'title', 'genres'])\n",
    "moviedf.head(5)"
   ]
  },
  {
   "cell_type": "markdown",
   "metadata": {},
   "source": [
    "## Rating Statistics"
   ]
  },
  {
   "cell_type": "code",
   "execution_count": 9,
   "metadata": {},
   "outputs": [
    {
     "name": "stdout",
     "output_type": "stream",
     "text": [
      "+-------+------------------+----------------+------------------+\n",
      "|summary|            userId|         movieId|            rating|\n",
      "+-------+------------------+----------------+------------------+\n",
      "|  count|            100836|          100836|            100836|\n",
      "|   mean|326.12756356856676|19435.2957177992| 3.501556983616962|\n",
      "| stddev| 182.6184914635004|35530.9871987003|1.0425292390606342|\n",
      "|    min|                 1|               1|               0.5|\n",
      "|    max|               610|          193609|               5.0|\n",
      "+-------+------------------+----------------+------------------+\n",
      "\n"
     ]
    }
   ],
   "source": [
    "ratedf.describe().show()"
   ]
  },
  {
   "cell_type": "code",
   "execution_count": 10,
   "metadata": {},
   "outputs": [
    {
     "name": "stdout",
     "output_type": "stream",
     "text": [
      "Root-mean-square error (RMSE) = 1.0856305391170333\n"
     ]
    }
   ],
   "source": [
    "# Configure ALS\n",
    "als = ALS(maxIter=5, regParam=0.01, userCol='userId', itemCol='movieId', ratingCol='rating', \\\n",
    "          coldStartStrategy='drop')\n",
    "\n",
    "# Train dataset: 80% to ttrain and 20% to test \n",
    "training, test = ratedf.randomSplit([0.8,0.2])\n",
    "\n",
    "model = als.fit(training)\n",
    "\n",
    "# Evaluate the model by computing the RMSE on the test data\n",
    "predictions = model.transform(test)\n",
    "evaluator = RegressionEvaluator(metricName=\"rmse\", labelCol=\"rating\", predictionCol=\"prediction\")\n",
    "rmse = evaluator.evaluate(predictions)\n",
    "print(\"Root-mean-square error (RMSE) = \" + str(rmse))"
   ]
  },
  {
   "cell_type": "code",
   "execution_count": 11,
   "metadata": {},
   "outputs": [
    {
     "name": "stdout",
     "output_type": "stream",
     "text": [
      "+------+--------------------+\n",
      "|userId|     recommendations|\n",
      "+------+--------------------+\n",
      "|   471|[[55280, 7.869307...|\n",
      "|   463|[[1734, 6.552576]...|\n",
      "|   496|[[7318, 11.441045...|\n",
      "|   148|[[89904, 7.353350...|\n",
      "|   540|[[2301, 6.7797527...|\n",
      "|   392|[[674, 10.768398]...|\n",
      "|   243|[[102, 12.640464]...|\n",
      "|    31|[[89118, 10.17698...|\n",
      "|   516|[[89118, 8.239606...|\n",
      "|   580|[[89904, 6.405048...|\n",
      "|   251|[[104218, 6.61549...|\n",
      "|   451|[[3089, 9.183769]...|\n",
      "|    85|[[3030, 7.1850796...|\n",
      "|   137|[[1701, 5.909634]...|\n",
      "|    65|[[7346, 7.217666]...|\n",
      "|   458|[[53127, 8.946671...|\n",
      "|   481|[[7099, 7.798819]...|\n",
      "|    53|[[89904, 9.787351...|\n",
      "|   255|[[33834, 10.12877...|\n",
      "|   588|[[945, 6.5845184]...|\n",
      "+------+--------------------+\n",
      "only showing top 20 rows\n",
      "\n"
     ]
    }
   ],
   "source": [
    "# Generate top 10 movie recommendations for each user\n",
    "userRecs = model.recommendForAllUsers(10)\n",
    "userRecs.show()\n",
    "#userRecs.printSchema()"
   ]
  },
  {
   "cell_type": "code",
   "execution_count": 12,
   "metadata": {},
   "outputs": [
    {
     "name": "stdout",
     "output_type": "stream",
     "text": [
      "Row(userId=471, recommendations=[Row(movieId=55280, rating=7.869307518005371), Row(movieId=49274, rating=7.541896343231201), Row(movieId=7748, rating=7.420228004455566), Row(movieId=674, rating=7.395407676696777), Row(movieId=6669, rating=7.349298000335693), Row(movieId=7160, rating=7.036937236785889), Row(movieId=68945, rating=6.739740371704102), Row(movieId=27815, rating=6.735745429992676), Row(movieId=170355, rating=6.711194038391113), Row(movieId=3379, rating=6.711194038391113)])\n",
      "Row(userId=463, recommendations=[Row(movieId=1734, rating=6.552576065063477), Row(movieId=86347, rating=6.404196739196777), Row(movieId=5650, rating=6.116823196411133), Row(movieId=4144, rating=5.990962982177734), Row(movieId=106100, rating=5.971987724304199), Row(movieId=56145, rating=5.871619701385498), Row(movieId=185029, rating=5.868698596954346), Row(movieId=6548, rating=5.847761154174805), Row(movieId=2469, rating=5.808485984802246), Row(movieId=2467, rating=5.710673809051514)])\n",
      "Row(userId=496, recommendations=[Row(movieId=7318, rating=11.441044807434082), Row(movieId=4248, rating=11.416821479797363), Row(movieId=104218, rating=10.847779273986816), Row(movieId=390, rating=10.116798400878906), Row(movieId=319, rating=9.647662162780762), Row(movieId=136598, rating=9.52537727355957), Row(movieId=2613, rating=9.394304275512695), Row(movieId=5075, rating=9.185478210449219), Row(movieId=56145, rating=9.182174682617188), Row(movieId=6433, rating=8.843633651733398)])\n"
     ]
    }
   ],
   "source": [
    "for line in userRecs.take(3):\n",
    "    print(line)"
   ]
  },
  {
   "cell_type": "code",
   "execution_count": 13,
   "metadata": {},
   "outputs": [
    {
     "name": "stdout",
     "output_type": "stream",
     "text": [
      "+-------+--------------------+\n",
      "|movieId|     recommendations|\n",
      "+-------+--------------------+\n",
      "|   1580|[[433, 6.2147884]...|\n",
      "|   4900|[[126, 5.2460976]...|\n",
      "|   5300|[[505, 5.9176984]...|\n",
      "|   6620|[[340, 12.005905]...|\n",
      "|   7340|[[498, 7.5222373]...|\n",
      "|  32460|[[549, 9.503585],...|\n",
      "|  54190|[[498, 8.526159],...|\n",
      "|    471|[[461, 8.524869],...|\n",
      "|   1591|[[173, 9.514005],...|\n",
      "| 140541|[[394, 7.001133],...|\n",
      "|   1342|[[55, 12.601469],...|\n",
      "|   2122|[[557, 8.52813], ...|\n",
      "|   2142|[[340, 5.877474],...|\n",
      "|   7982|[[55, 7.262258], ...|\n",
      "|  44022|[[399, 7.9155116]...|\n",
      "| 141422|[[231, 4.1886244]...|\n",
      "| 144522|[[295, 3.9284961]...|\n",
      "|    833|[[231, 7.4209723]...|\n",
      "|   5803|[[413, 7.527453],...|\n",
      "|   7833|[[173, 8.176621],...|\n",
      "+-------+--------------------+\n",
      "only showing top 20 rows\n",
      "\n"
     ]
    }
   ],
   "source": [
    "# Generate top 10 user recommendations for each movie\n",
    "movieRecs = model.recommendForAllItems(10)\n",
    "movieRecs.show()"
   ]
  },
  {
   "cell_type": "code",
   "execution_count": 14,
   "metadata": {},
   "outputs": [
    {
     "name": "stdout",
     "output_type": "stream",
     "text": [
      "Row(movieId=1580, recommendations=[Row(userId=433, rating=6.214788436889648), Row(userId=231, rating=5.942447662353516), Row(userId=267, rating=5.916658401489258), Row(userId=548, rating=5.666942596435547), Row(userId=53, rating=5.636122226715088), Row(userId=544, rating=5.485495090484619), Row(userId=77, rating=5.291179656982422), Row(userId=259, rating=5.275787353515625), Row(userId=228, rating=5.237707614898682), Row(userId=276, rating=5.007348537445068)])\n",
      "Row(movieId=4900, recommendations=[Row(userId=126, rating=5.246097564697266), Row(userId=48, rating=4.946140289306641), Row(userId=502, rating=4.741703510284424), Row(userId=138, rating=4.68482780456543), Row(userId=31, rating=4.613824367523193), Row(userId=243, rating=4.544923305511475), Row(userId=529, rating=4.477650165557861), Row(userId=591, rating=4.460307598114014), Row(userId=43, rating=4.390514373779297), Row(userId=337, rating=4.367153644561768)])\n",
      "Row(movieId=5300, recommendations=[Row(userId=505, rating=5.917698383331299), Row(userId=55, rating=5.6272969245910645), Row(userId=589, rating=5.354638576507568), Row(userId=537, rating=5.277253150939941), Row(userId=258, rating=5.2599639892578125), Row(userId=295, rating=5.177928924560547), Row(userId=209, rating=5.095948696136475), Row(userId=333, rating=5.09009313583374), Row(userId=364, rating=4.935408592224121), Row(userId=393, rating=4.905584812164307)])\n",
      "Row(movieId=6620, recommendations=[Row(userId=340, rating=12.005905151367188), Row(userId=173, rating=9.145058631896973), Row(userId=147, rating=9.041801452636719), Row(userId=531, rating=8.623456001281738), Row(userId=443, rating=8.580093383789062), Row(userId=130, rating=8.521699905395508), Row(userId=333, rating=7.658302307128906), Row(userId=494, rating=7.55839729309082), Row(userId=498, rating=7.466013431549072), Row(userId=114, rating=7.356080532073975)])\n"
     ]
    }
   ],
   "source": [
    "for line in movieRecs.take(4):\n",
    "   print(line)"
   ]
  },
  {
   "cell_type": "code",
   "execution_count": 15,
   "metadata": {},
   "outputs": [
    {
     "name": "stdout",
     "output_type": "stream",
     "text": [
      "--- Execution time: 25.55022931098938 seconds ---\n"
     ]
    }
   ],
   "source": [
    "print(\"--- Execution time: %s seconds ---\" % (time.time() - start_time))"
   ]
  },
  {
   "cell_type": "code",
   "execution_count": 16,
   "metadata": {},
   "outputs": [
    {
     "name": "stdin",
     "output_type": "stream",
     "text": [
      "Digite o número do usuário que deseja a recomendação: 65\n"
     ]
    },
    {
     "data": {
      "text/plain": [
       "[Row(movieId=[7346, 89904, 1218, 390, 5075, 501, 158783, 65642, 1966, 3858], rating=[7.217666149139404, 7.165190696716309, 7.008078575134277, 6.583594799041748, 6.545704364776611, 6.475786209106445, 6.4643425941467285, 6.444797039031982, 6.4007368087768555, 6.3879618644714355])]"
      ]
     },
     "execution_count": 16,
     "metadata": {},
     "output_type": "execute_result"
    }
   ],
   "source": [
    "enter_user=input(\"Digite o número do usuário que deseja a recomendação:\")\n",
    "userRecs.where(userRecs.userId == enter_user).select(\"recommendations.movieId\",\\\n",
    "              \"recommendations.rating\").collect()"
   ]
  },
  {
   "cell_type": "code",
   "execution_count": 17,
   "metadata": {},
   "outputs": [
    {
     "name": "stdin",
     "output_type": "stream",
     "text": [
      "Digite o número do filme que deseja recomendar: 5300\n"
     ]
    },
    {
     "data": {
      "text/plain": [
       "[Row(userId=[505, 55, 589, 537, 258, 295, 209, 333, 364, 393], rating=[5.917698383331299, 5.6272969245910645, 5.354638576507568, 5.277253150939941, 5.2599639892578125, 5.177928924560547, 5.095948696136475, 5.09009313583374, 4.935408592224121, 4.905584812164307])]"
      ]
     },
     "execution_count": 17,
     "metadata": {},
     "output_type": "execute_result"
    }
   ],
   "source": [
    "enter_movie=input(\"Digite o número do filme que deseja recomendar:\")\n",
    "movieRecs.where(movieRecs.movieId == enter_movie).select(\"recommendations.userId\",\\\n",
    "                \"recommendations.rating\").collect()"
   ]
  },
  {
   "cell_type": "code",
   "execution_count": 18,
   "metadata": {},
   "outputs": [],
   "source": [
    "spark.stop()"
   ]
  },
  {
   "cell_type": "code",
   "execution_count": null,
   "metadata": {},
   "outputs": [],
   "source": []
  }
 ],
 "metadata": {
  "kernelspec": {
   "display_name": "Python 3",
   "language": "python",
   "name": "python3"
  },
  "language_info": {
   "codemirror_mode": {
    "name": "ipython",
    "version": 3
   },
   "file_extension": ".py",
   "mimetype": "text/x-python",
   "name": "python",
   "nbconvert_exporter": "python",
   "pygments_lexer": "ipython3",
   "version": "3.6.9"
  }
 },
 "nbformat": 4,
 "nbformat_minor": 4
}
