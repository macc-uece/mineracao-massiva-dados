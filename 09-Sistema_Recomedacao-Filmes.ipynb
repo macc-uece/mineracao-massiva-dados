{
 "cells": [
  {
   "cell_type": "markdown",
   "metadata": {},
   "source": [
    "# Exemplo 09: Sistema de Recomendação\n",
    "## Recomendação de Filmes MovieLens\n",
    "\n",
    "Sistema de Recomendação tem como objetivo selecionar itens personalizados para um usuário (cliente) com base nos interesses dele e dos interesses de usuários semelhantes conforme o contexto no qual estão inseridos. Esta técnica pode recomendar itens variados como, por exemplo, livros, filmes, notícias, música, vídeos, páginas de internet e produtos de uma loja virtual. Este exemplo faz a recomendação de filmes para um determinado usuário baseado nos seus gostos e de gostos de outros usuários semelhantes. O dataset utilizado é do site de recomendação de filmes MovieLens."
   ]
  },
  {
   "cell_type": "code",
   "execution_count": 1,
   "metadata": {},
   "outputs": [],
   "source": [
    "import findspark\n",
    "findspark.init()"
   ]
  },
  {
   "cell_type": "code",
   "execution_count": 2,
   "metadata": {},
   "outputs": [],
   "source": [
    "import pyspark\n",
    "from pyspark.sql import SparkSession, Row\n",
    "\n",
    "from pyspark.ml.recommendation import ALS\n",
    "from pyspark.ml.evaluation import RegressionEvaluator\n",
    "\n",
    "import time\n",
    "start_time = time.time()\n",
    "\n",
    "data_path='./data/'\n",
    "\n",
    "# Experimente uma base de dados maior\n",
    "#data_path='/data/textdata/MovieLens/ml-20m/'"
   ]
  },
  {
   "cell_type": "code",
   "execution_count": 3,
   "metadata": {},
   "outputs": [],
   "source": [
    "# Create Spark Session\n",
    "spark = SparkSession.builder \\\n",
    "       .master(\"local[*]\") \\\n",
    "       .appName(\"Movies_Recommendation\") \\\n",
    "       .getOrCreate()"
   ]
  },
  {
   "cell_type": "markdown",
   "metadata": {},
   "source": [
    "## Ratings Data File Structure (ratings.csv)\n",
    "-----------------------------------------\n",
    "\n",
    "All ratings are contained in the file `ratings.csv`. Each line of this file after the header row represents one rating of one movie by one user, and has the following format:\n",
    "\n",
    "    userId,movieId,rating,timestamp\n",
    "\n",
    "The lines within this file are ordered first by userId, then, within user, by movieId.\n",
    "\n",
    "Ratings are made on a 5-star scale, with half-star increments (0.5 stars - 5.0 stars).\n",
    "\n",
    "Timestamps represent seconds since midnight Coordinated Universal Time (UTC) of January 1, 1970."
   ]
  },
  {
   "cell_type": "code",
   "execution_count": 4,
   "metadata": {},
   "outputs": [
    {
     "name": "stdout",
     "output_type": "stream",
     "text": [
      "root\n",
      " |-- userId: integer (nullable = true)\n",
      " |-- movieId: integer (nullable = true)\n",
      " |-- rating: double (nullable = true)\n",
      " |-- timestamp: integer (nullable = true)\n",
      "\n"
     ]
    }
   ],
   "source": [
    "df = spark.read.format(\"csv\").options(sep=',',header='true',inferschema='true').\\\n",
    "     load(data_path+\"ratings.csv.gz\")\n",
    "\n",
    "df.printSchema()"
   ]
  },
  {
   "cell_type": "code",
   "execution_count": 5,
   "metadata": {},
   "outputs": [
    {
     "data": {
      "text/plain": [
       "[Row(userId=1, movieId=1, rating=4.0),\n",
       " Row(userId=1, movieId=3, rating=4.0),\n",
       " Row(userId=1, movieId=6, rating=4.0),\n",
       " Row(userId=1, movieId=47, rating=5.0),\n",
       " Row(userId=1, movieId=50, rating=5.0)]"
      ]
     },
     "execution_count": 5,
     "metadata": {},
     "output_type": "execute_result"
    }
   ],
   "source": [
    "ratedf = df.select(['userId', 'movieId', 'rating'])\n",
    "ratedf.head(5)"
   ]
  },
  {
   "cell_type": "code",
   "execution_count": 6,
   "metadata": {},
   "outputs": [
    {
     "name": "stdout",
     "output_type": "stream",
     "text": [
      "+------+-------+------+\n",
      "|userId|movieId|rating|\n",
      "+------+-------+------+\n",
      "|     1|      1|   4.0|\n",
      "|     1|      3|   4.0|\n",
      "|     1|      6|   4.0|\n",
      "|     1|     47|   5.0|\n",
      "|     1|     50|   5.0|\n",
      "|     1|     70|   3.0|\n",
      "|     1|    101|   5.0|\n",
      "|     1|    110|   4.0|\n",
      "|     1|    151|   5.0|\n",
      "|     1|    157|   5.0|\n",
      "|     1|    163|   5.0|\n",
      "|     1|    216|   5.0|\n",
      "|     1|    223|   3.0|\n",
      "|     1|    231|   5.0|\n",
      "|     1|    235|   4.0|\n",
      "|     1|    260|   5.0|\n",
      "|     1|    296|   3.0|\n",
      "|     1|    316|   3.0|\n",
      "|     1|    333|   5.0|\n",
      "|     1|    349|   4.0|\n",
      "+------+-------+------+\n",
      "only showing top 20 rows\n",
      "\n"
     ]
    }
   ],
   "source": [
    "ratedf.show()"
   ]
  },
  {
   "cell_type": "markdown",
   "metadata": {},
   "source": [
    "## Movies Data File Structure (movies.csv)\n",
    "---------------------------------------\n",
    "\n",
    "Movie information is contained in the file `movies.csv`. Each line of this file after the header row represents one movie, and has the following format:\n",
    "\n",
    "    movieId,title,genres\n",
    "\n",
    "Movie titles are entered manually or imported from <https://www.themoviedb.org/>, and include the year of release in parentheses.\n",
    "\n",
    "Genres are a pipe-separated list, and are selected from the following:\n",
    "\n",
    "* Action\n",
    "* Adventure\n",
    "* Animation\n",
    "* Children's\n",
    "* Comedy\n",
    "* Crime\n",
    "* Documentary\n",
    "* Drama\n",
    "* Fantasy\n",
    "* Film-Noir\n",
    "* Horror\n",
    "* Musical\n",
    "* Mystery\n",
    "* Romance\n",
    "* Sci-Fi\n",
    "* Thriller\n",
    "* War\n",
    "* Western\n",
    "* (no genres listed)"
   ]
  },
  {
   "cell_type": "code",
   "execution_count": 7,
   "metadata": {},
   "outputs": [
    {
     "name": "stdout",
     "output_type": "stream",
     "text": [
      "root\n",
      " |-- movieId: integer (nullable = true)\n",
      " |-- title: string (nullable = true)\n",
      " |-- genres: string (nullable = true)\n",
      "\n"
     ]
    }
   ],
   "source": [
    "df = spark.read.format(\"csv\").options(sep=',',header='true',inferschema='true').\\\n",
    "           load(data_path+\"movies.csv.gz\")\n",
    "\n",
    "df.printSchema()"
   ]
  },
  {
   "cell_type": "code",
   "execution_count": 8,
   "metadata": {},
   "outputs": [
    {
     "data": {
      "text/plain": [
       "[Row(movieId=1, title='Toy Story (1995)', genres='Adventure|Animation|Children|Comedy|Fantasy'),\n",
       " Row(movieId=2, title='Jumanji (1995)', genres='Adventure|Children|Fantasy'),\n",
       " Row(movieId=3, title='Grumpier Old Men (1995)', genres='Comedy|Romance'),\n",
       " Row(movieId=4, title='Waiting to Exhale (1995)', genres='Comedy|Drama|Romance'),\n",
       " Row(movieId=5, title='Father of the Bride Part II (1995)', genres='Comedy')]"
      ]
     },
     "execution_count": 8,
     "metadata": {},
     "output_type": "execute_result"
    }
   ],
   "source": [
    "moviedf = df.select(['movieId', 'title', 'genres'])\n",
    "moviedf.head(5)"
   ]
  },
  {
   "cell_type": "markdown",
   "metadata": {},
   "source": [
    "## Rating Statistics"
   ]
  },
  {
   "cell_type": "code",
   "execution_count": 9,
   "metadata": {},
   "outputs": [
    {
     "name": "stdout",
     "output_type": "stream",
     "text": [
      "+-------+------------------+----------------+------------------+\n",
      "|summary|            userId|         movieId|            rating|\n",
      "+-------+------------------+----------------+------------------+\n",
      "|  count|            100836|          100836|            100836|\n",
      "|   mean|326.12756356856676|19435.2957177992| 3.501556983616962|\n",
      "| stddev| 182.6184914635004|35530.9871987003|1.0425292390606342|\n",
      "|    min|                 1|               1|               0.5|\n",
      "|    max|               610|          193609|               5.0|\n",
      "+-------+------------------+----------------+------------------+\n",
      "\n"
     ]
    }
   ],
   "source": [
    "ratedf.describe().show()"
   ]
  },
  {
   "cell_type": "code",
   "execution_count": 10,
   "metadata": {},
   "outputs": [
    {
     "name": "stdout",
     "output_type": "stream",
     "text": [
      "Root-mean-square error (RMSE) = 1.1041152882807121\n"
     ]
    }
   ],
   "source": [
    "# Configure ALS\n",
    "als = ALS(maxIter=5, regParam=0.01, userCol='userId', itemCol='movieId', ratingCol='rating', \\\n",
    "          coldStartStrategy='drop')\n",
    "\n",
    "# Train dataset: 80% to ttrain and 20% to test \n",
    "training, test = ratedf.randomSplit([0.8,0.2])\n",
    "\n",
    "model = als.fit(training)\n",
    "\n",
    "# Evaluate the model by computing the RMSE on the test data\n",
    "predictions = model.transform(test)\n",
    "evaluator = RegressionEvaluator(metricName=\"rmse\", labelCol=\"rating\", predictionCol=\"prediction\")\n",
    "rmse = evaluator.evaluate(predictions)\n",
    "print(\"Root-mean-square error (RMSE) = \" + str(rmse))"
   ]
  },
  {
   "cell_type": "code",
   "execution_count": 11,
   "metadata": {},
   "outputs": [
    {
     "name": "stdout",
     "output_type": "stream",
     "text": [
      "+------+--------------------------------------------------------------------------------------------------+\n",
      "|userId|recommendations                                                                                   |\n",
      "+------+--------------------------------------------------------------------------------------------------+\n",
      "|471   |[[26258, 12.84515], [4941, 11.294691], [2290, 11.14419], [3089, 10.463146], [1809, 10.145598]]    |\n",
      "|463   |[[932, 8.336502], [4678, 7.8344407], [157296, 6.437334], [3925, 6.302414], [194, 6.2880564]]      |\n",
      "|496   |[[92535, 8.381637], [86345, 8.325246], [49932, 8.315734], [8973, 7.5235357], [86347, 7.5186667]]  |\n",
      "|148   |[[5291, 5.718426], [5882, 5.7034245], [932, 5.700269], [3741, 5.495344], [26865, 5.381207]]       |\n",
      "|540   |[[932, 8.648776], [3265, 6.521791], [80906, 6.4970374], [4678, 6.3557663], [7360, 6.2567873]]     |\n",
      "|392   |[[7046, 8.612724], [5419, 8.467591], [106100, 7.8681784], [2261, 7.8283925], [103341, 7.678608]]  |\n",
      "|243   |[[158872, 9.826565], [3040, 9.436608], [3918, 9.15696], [132046, 8.68665], [932, 8.084898]]       |\n",
      "|31    |[[26258, 9.391888], [1701, 8.904085], [2290, 8.642967], [926, 8.587239], [1354, 8.58217]]         |\n",
      "|516   |[[2290, 8.440961], [926, 7.5590796], [1379, 7.2820845], [2135, 7.1946983], [916, 7.183701]]       |\n",
      "|580   |[[103341, 7.6266656], [3030, 7.194689], [5291, 6.666328], [44974, 6.483911], [92420, 6.480564]]   |\n",
      "|251   |[[4678, 6.376269], [932, 6.281127], [89904, 6.0791965], [4649, 6.068229], [5291, 5.9598107]]      |\n",
      "|451   |[[103341, 8.949563], [86320, 8.784349], [58301, 8.221096], [3030, 8.193563], [2261, 8.058659]]    |\n",
      "|85    |[[170355, 9.146082], [2693, 8.511485], [166534, 7.923458], [932, 7.5588923], [158872, 7.2172403]] |\n",
      "|137   |[[42723, 5.409319], [1284, 5.162497], [3022, 5.1457286], [1212, 5.1269827], [2202, 5.1181803]]    |\n",
      "|65    |[[932, 6.503277], [2517, 6.0646477], [4799, 5.7823563], [183897, 5.7292476], [123, 5.671952]]     |\n",
      "|458   |[[932, 8.052182], [45880, 7.9198556], [1354, 7.775158], [3083, 7.7411747], [106100, 7.604686]]    |\n",
      "|481   |[[179819, 7.3818374], [938, 7.342784], [125, 7.273806], [1188, 7.1038394], [2693, 6.851303]]      |\n",
      "|53    |[[52435, 9.172332], [85, 8.537519], [4642, 7.6489925], [3616, 7.6150804], [1947, 7.608819]]       |\n",
      "|255   |[[3134, 13.241825], [85367, 12.701676], [70946, 11.850554], [181, 11.196715], [119141, 11.086224]]|\n",
      "|588   |[[3435, 7.2227516], [932, 7.1312823], [103341, 7.095371], [8638, 7.035004], [3036, 6.9497757]]    |\n",
      "+------+--------------------------------------------------------------------------------------------------+\n",
      "only showing top 20 rows\n",
      "\n"
     ]
    }
   ],
   "source": [
    "# Generate top 5 movie recommendations for each user\n",
    "userRecs = model.recommendForAllUsers(5)\n",
    "\n",
    "userRecs.show(truncate=False)"
   ]
  },
  {
   "cell_type": "code",
   "execution_count": 12,
   "metadata": {},
   "outputs": [
    {
     "name": "stdout",
     "output_type": "stream",
     "text": [
      "Row(userId=471, recommendations=[Row(movieId=26258, rating=12.845149993896484), Row(movieId=4941, rating=11.29469108581543), Row(movieId=2290, rating=11.144189834594727), Row(movieId=3089, rating=10.463146209716797), Row(movieId=1809, rating=10.145598411560059)])\n",
      "Row(userId=463, recommendations=[Row(movieId=932, rating=8.336502075195312), Row(movieId=4678, rating=7.8344407081604), Row(movieId=157296, rating=6.437334060668945), Row(movieId=3925, rating=6.3024139404296875), Row(movieId=194, rating=6.288056373596191)])\n",
      "Row(userId=496, recommendations=[Row(movieId=92535, rating=8.381636619567871), Row(movieId=86345, rating=8.32524585723877), Row(movieId=49932, rating=8.315733909606934), Row(movieId=8973, rating=7.52353572845459), Row(movieId=86347, rating=7.518666744232178)])\n"
     ]
    }
   ],
   "source": [
    "for line in userRecs.take(3):\n",
    "    print(line)"
   ]
  },
  {
   "cell_type": "code",
   "execution_count": 13,
   "metadata": {},
   "outputs": [
    {
     "name": "stdout",
     "output_type": "stream",
     "text": [
      "+-------+----------------------------------------------------------------------------------------+\n",
      "|movieId|recommendations                                                                         |\n",
      "+-------+----------------------------------------------------------------------------------------+\n",
      "|1580   |[[35, 6.8533063], [536, 6.36949], [485, 6.201755], [584, 5.87738], [267, 5.7080536]]    |\n",
      "|4900   |[[549, 8.06773], [126, 7.9640265], [598, 7.507944], [530, 7.2240415], [261, 7.152564]]  |\n",
      "|5300   |[[461, 8.871581], [295, 6.164115], [197, 5.6758566], [114, 5.460502], [258, 5.3874536]] |\n",
      "|6620   |[[471, 8.186786], [461, 8.027531], [114, 7.696641], [259, 7.6481266], [530, 7.600788]]  |\n",
      "|7340   |[[423, 5.3940163], [224, 4.4409695], [96, 4.316804], [383, 3.9536536], [81, 3.9005015]] |\n",
      "|32460  |[[393, 9.411356], [55, 9.010375], [399, 8.616556], [423, 8.392638], [544, 7.8689055]]   |\n",
      "|54190  |[[508, 9.152799], [34, 7.429445], [574, 7.4289594], [67, 7.380638], [71, 7.247784]]     |\n",
      "|471    |[[461, 9.993726], [471, 8.554285], [485, 8.398868], [530, 8.363827], [126, 8.170759]]   |\n",
      "|1591   |[[461, 9.290255], [255, 9.145505], [443, 8.444176], [508, 7.4697704], [273, 7.462467]]  |\n",
      "|1342   |[[461, 6.503065], [471, 6.429023], [530, 6.321481], [81, 6.164751], [310, 5.3438396]]   |\n",
      "|2122   |[[71, 8.784023], [544, 8.302336], [97, 8.2526245], [126, 8.115459], [461, 7.9810286]]   |\n",
      "|2142   |[[259, 8.450001], [379, 7.3479095], [574, 6.920326], [258, 6.497551], [374, 6.1016865]] |\n",
      "|7982   |[[259, 12.141631], [443, 10.816329], [258, 10.169184], [508, 9.720485], [255, 9.316138]]|\n",
      "|44022  |[[485, 7.2387457], [574, 7.1694293], [71, 6.6441164], [126, 6.4680085], [544, 6.438114]]|\n",
      "|144522 |[[259, 4.3278275], [529, 4.207703], [531, 3.987681], [120, 3.842877], [413, 3.7548325]] |\n",
      "|833    |[[71, 7.2874546], [34, 6.620984], [126, 6.588806], [544, 6.5091777], [574, 6.3630915]]  |\n",
      "|5803   |[[379, 6.6983643], [344, 5.897053], [548, 5.374205], [283, 5.07884], [498, 5.020234]]   |\n",
      "|7833   |[[423, 6.29302], [224, 5.1811304], [96, 5.0362706], [383, 4.6125956], [81, 4.5505853]]  |\n",
      "|7993   |[[259, 6.956671], [114, 4.771082], [258, 4.5427775], [116, 3.4012759], [497, 3.381967]] |\n",
      "|76143  |[[396, 8.461842], [399, 8.244006], [461, 7.5064816], [197, 7.361128], [116, 6.8842254]] |\n",
      "+-------+----------------------------------------------------------------------------------------+\n",
      "only showing top 20 rows\n",
      "\n"
     ]
    }
   ],
   "source": [
    "# Generate top 5 user recommendations for each movie\n",
    "movieRecs = model.recommendForAllItems(5)\n",
    "movieRecs.show(truncate=False)"
   ]
  },
  {
   "cell_type": "code",
   "execution_count": 14,
   "metadata": {},
   "outputs": [
    {
     "name": "stdout",
     "output_type": "stream",
     "text": [
      "Row(movieId=1580, recommendations=[Row(userId=35, rating=6.853306293487549), Row(userId=536, rating=6.369490146636963), Row(userId=485, rating=6.201755046844482), Row(userId=584, rating=5.877379894256592), Row(userId=267, rating=5.7080535888671875)])\n",
      "Row(movieId=4900, recommendations=[Row(userId=549, rating=8.067729949951172), Row(userId=126, rating=7.96402645111084), Row(userId=598, rating=7.507944107055664), Row(userId=530, rating=7.22404146194458), Row(userId=261, rating=7.15256404876709)])\n",
      "Row(movieId=5300, recommendations=[Row(userId=461, rating=8.871581077575684), Row(userId=295, rating=6.164114952087402), Row(userId=197, rating=5.675856590270996), Row(userId=114, rating=5.4605021476745605), Row(userId=258, rating=5.387453556060791)])\n",
      "Row(movieId=6620, recommendations=[Row(userId=471, rating=8.186785697937012), Row(userId=461, rating=8.027530670166016), Row(userId=114, rating=7.696640968322754), Row(userId=259, rating=7.648126602172852), Row(userId=530, rating=7.600788116455078)])\n"
     ]
    }
   ],
   "source": [
    "for line in movieRecs.take(4):\n",
    "   print(line)"
   ]
  },
  {
   "cell_type": "code",
   "execution_count": 15,
   "metadata": {},
   "outputs": [
    {
     "name": "stdout",
     "output_type": "stream",
     "text": [
      "--- Execution time: 32.69687843322754 seconds ---\n"
     ]
    }
   ],
   "source": [
    "print(\"--- Execution time: %s seconds ---\" % (time.time() - start_time))"
   ]
  },
  {
   "cell_type": "code",
   "execution_count": 16,
   "metadata": {},
   "outputs": [
    {
     "name": "stdin",
     "output_type": "stream",
     "text": [
      "Digite o número do usuário que deseja a recomendação: 31\n"
     ]
    },
    {
     "data": {
      "text/plain": [
       "[Row(movieId=[26258, 1701, 2290, 926, 1354], rating=[9.391887664794922, 8.904085159301758, 8.642967224121094, 8.587239265441895, 8.582169532775879])]"
      ]
     },
     "execution_count": 16,
     "metadata": {},
     "output_type": "execute_result"
    }
   ],
   "source": [
    "enter_user=input(\"Digite o número do usuário que deseja a recomendação:\")\n",
    "userRecs.where(userRecs.userId == enter_user).select(\"recommendations.movieId\",\\\n",
    "              \"recommendations.rating\").collect()"
   ]
  },
  {
   "cell_type": "code",
   "execution_count": 17,
   "metadata": {},
   "outputs": [
    {
     "name": "stdin",
     "output_type": "stream",
     "text": [
      "Digite o número do filme que deseja recomendar: 833\n"
     ]
    },
    {
     "data": {
      "text/plain": [
       "[Row(userId=[71, 34, 126, 544, 574], rating=[7.287454605102539, 6.620984077453613, 6.58880615234375, 6.5091776847839355, 6.363091468811035])]"
      ]
     },
     "execution_count": 17,
     "metadata": {},
     "output_type": "execute_result"
    }
   ],
   "source": [
    "enter_movie=input(\"Digite o número do filme que deseja recomendar:\")\n",
    "movieRecs.where(movieRecs.movieId == enter_movie).select(\"recommendations.userId\",\\\n",
    "                \"recommendations.rating\").collect()"
   ]
  },
  {
   "cell_type": "code",
   "execution_count": 18,
   "metadata": {},
   "outputs": [],
   "source": [
    "spark.stop()"
   ]
  },
  {
   "cell_type": "code",
   "execution_count": null,
   "metadata": {},
   "outputs": [],
   "source": []
  }
 ],
 "metadata": {
  "kernelspec": {
   "display_name": "Python 3",
   "language": "python",
   "name": "python3"
  },
  "language_info": {
   "codemirror_mode": {
    "name": "ipython",
    "version": 3
   },
   "file_extension": ".py",
   "mimetype": "text/x-python",
   "name": "python",
   "nbconvert_exporter": "python",
   "pygments_lexer": "ipython3",
   "version": "3.6.9"
  }
 },
 "nbformat": 4,
 "nbformat_minor": 4
}
