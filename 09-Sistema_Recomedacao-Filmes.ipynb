{
 "cells": [
  {
   "cell_type": "markdown",
   "metadata": {},
   "source": [
    "# Exemplo 09: Sistema de Recomendação\n",
    "## Recomendação de Filmes MovieLens\n",
    "\n",
    "Sistema de Recomendação tem como objetivo selecionar itens personalizados para um usuário (cliente) com base nos interesses dele e dos interesses de usuários semelhantes conforme o contexto no qual estão inseridos. Esta técnica pode recomendar itens variados como, por exemplo, livros, filmes, notícias, música, vídeos, páginas de internet e produtos de uma loja virtual. Este exemplo faz a recomendação de filmes para um determinado usuário baseado nos seus gostos e de gostos de outros usuários semelhantes. O dataset utilizado é do site de recomendação de filmes MovieLens."
   ]
  },
  {
   "cell_type": "code",
   "execution_count": 1,
   "metadata": {},
   "outputs": [],
   "source": [
    "import findspark\n",
    "findspark.init()"
   ]
  },
  {
   "cell_type": "code",
   "execution_count": 2,
   "metadata": {},
   "outputs": [],
   "source": [
    "import pyspark\n",
    "from pyspark.sql import SparkSession, Row\n",
    "\n",
    "from pyspark.ml.recommendation import ALS\n",
    "from pyspark.ml.evaluation import RegressionEvaluator\n",
    "\n",
    "import time\n",
    "start_time = time.time()\n",
    "\n",
    "data_path='./data/'\n",
    "\n",
    "# Experimente uma base de dados maior\n",
    "#data_path='/data/dataset/MovieLens/ml-20m/'"
   ]
  },
  {
   "cell_type": "code",
   "execution_count": 3,
   "metadata": {},
   "outputs": [],
   "source": [
    "# Create Spark Session\n",
    "spark = SparkSession.builder \\\n",
    "       .master(\"local[*]\") \\\n",
    "       .appName(\"Movies_Recommendation\") \\\n",
    "       .getOrCreate()"
   ]
  },
  {
   "cell_type": "markdown",
   "metadata": {},
   "source": [
    "## Ratings Data File Structure (ratings.csv)\n",
    "-----------------------------------------\n",
    "\n",
    "All ratings are contained in the file `ratings.csv`. Each line of this file after the header row represents one rating of one movie by one user, and has the following format:\n",
    "\n",
    "    userId,movieId,rating,timestamp\n",
    "\n",
    "The lines within this file are ordered first by userId, then, within user, by movieId.\n",
    "\n",
    "Ratings are made on a 5-star scale, with half-star increments (0.5 stars - 5.0 stars).\n",
    "\n",
    "Timestamps represent seconds since midnight Coordinated Universal Time (UTC) of January 1, 1970."
   ]
  },
  {
   "cell_type": "code",
   "execution_count": 4,
   "metadata": {},
   "outputs": [
    {
     "name": "stdout",
     "output_type": "stream",
     "text": [
      "root\n",
      " |-- userId: integer (nullable = true)\n",
      " |-- movieId: integer (nullable = true)\n",
      " |-- rating: double (nullable = true)\n",
      " |-- timestamp: integer (nullable = true)\n",
      "\n"
     ]
    }
   ],
   "source": [
    "df = spark.read.format(\"csv\").options(sep=',',header='true',inferschema='true').\\\n",
    "     load(data_path+\"ratings.csv.gz\")\n",
    "\n",
    "df.printSchema()"
   ]
  },
  {
   "cell_type": "code",
   "execution_count": 5,
   "metadata": {},
   "outputs": [
    {
     "data": {
      "text/plain": [
       "[Row(userId=1, movieId=1, rating=4.0),\n",
       " Row(userId=1, movieId=3, rating=4.0),\n",
       " Row(userId=1, movieId=6, rating=4.0),\n",
       " Row(userId=1, movieId=47, rating=5.0),\n",
       " Row(userId=1, movieId=50, rating=5.0)]"
      ]
     },
     "execution_count": 5,
     "metadata": {},
     "output_type": "execute_result"
    }
   ],
   "source": [
    "ratedf = df.select(['userId', 'movieId', 'rating'])\n",
    "ratedf.head(5)"
   ]
  },
  {
   "cell_type": "code",
   "execution_count": 6,
   "metadata": {},
   "outputs": [
    {
     "name": "stdout",
     "output_type": "stream",
     "text": [
      "+------+-------+------+\n",
      "|userId|movieId|rating|\n",
      "+------+-------+------+\n",
      "|     1|      1|   4.0|\n",
      "|     1|      3|   4.0|\n",
      "|     1|      6|   4.0|\n",
      "|     1|     47|   5.0|\n",
      "|     1|     50|   5.0|\n",
      "|     1|     70|   3.0|\n",
      "|     1|    101|   5.0|\n",
      "|     1|    110|   4.0|\n",
      "|     1|    151|   5.0|\n",
      "|     1|    157|   5.0|\n",
      "|     1|    163|   5.0|\n",
      "|     1|    216|   5.0|\n",
      "|     1|    223|   3.0|\n",
      "|     1|    231|   5.0|\n",
      "|     1|    235|   4.0|\n",
      "|     1|    260|   5.0|\n",
      "|     1|    296|   3.0|\n",
      "|     1|    316|   3.0|\n",
      "|     1|    333|   5.0|\n",
      "|     1|    349|   4.0|\n",
      "+------+-------+------+\n",
      "only showing top 20 rows\n",
      "\n"
     ]
    }
   ],
   "source": [
    "ratedf.show()"
   ]
  },
  {
   "cell_type": "markdown",
   "metadata": {},
   "source": [
    "## Movies Data File Structure (movies.csv)\n",
    "---------------------------------------\n",
    "\n",
    "Movie information is contained in the file `movies.csv`. Each line of this file after the header row represents one movie, and has the following format:\n",
    "\n",
    "    movieId,title,genres\n",
    "\n",
    "Movie titles are entered manually or imported from <https://www.themoviedb.org/>, and include the year of release in parentheses.\n",
    "\n",
    "Genres are a pipe-separated list, and are selected from the following:\n",
    "\n",
    "* Action\n",
    "* Adventure\n",
    "* Animation\n",
    "* Children's\n",
    "* Comedy\n",
    "* Crime\n",
    "* Documentary\n",
    "* Drama\n",
    "* Fantasy\n",
    "* Film-Noir\n",
    "* Horror\n",
    "* Musical\n",
    "* Mystery\n",
    "* Romance\n",
    "* Sci-Fi\n",
    "* Thriller\n",
    "* War\n",
    "* Western\n",
    "* (no genres listed)"
   ]
  },
  {
   "cell_type": "code",
   "execution_count": 7,
   "metadata": {},
   "outputs": [
    {
     "name": "stdout",
     "output_type": "stream",
     "text": [
      "root\n",
      " |-- movieId: integer (nullable = true)\n",
      " |-- title: string (nullable = true)\n",
      " |-- genres: string (nullable = true)\n",
      "\n"
     ]
    }
   ],
   "source": [
    "df = spark.read.format(\"csv\").options(sep=',',header='true',inferschema='true').\\\n",
    "           load(data_path+\"movies.csv.gz\")\n",
    "\n",
    "df.printSchema()"
   ]
  },
  {
   "cell_type": "code",
   "execution_count": 8,
   "metadata": {},
   "outputs": [
    {
     "data": {
      "text/plain": [
       "[Row(movieId=1, title='Toy Story (1995)', genres='Adventure|Animation|Children|Comedy|Fantasy'),\n",
       " Row(movieId=2, title='Jumanji (1995)', genres='Adventure|Children|Fantasy'),\n",
       " Row(movieId=3, title='Grumpier Old Men (1995)', genres='Comedy|Romance'),\n",
       " Row(movieId=4, title='Waiting to Exhale (1995)', genres='Comedy|Drama|Romance'),\n",
       " Row(movieId=5, title='Father of the Bride Part II (1995)', genres='Comedy')]"
      ]
     },
     "execution_count": 8,
     "metadata": {},
     "output_type": "execute_result"
    }
   ],
   "source": [
    "moviedf = df.select(['movieId', 'title', 'genres'])\n",
    "moviedf.head(5)"
   ]
  },
  {
   "cell_type": "markdown",
   "metadata": {},
   "source": [
    "## Rating Statistics"
   ]
  },
  {
   "cell_type": "code",
   "execution_count": 9,
   "metadata": {},
   "outputs": [
    {
     "name": "stdout",
     "output_type": "stream",
     "text": [
      "+-------+------------------+----------------+------------------+\n",
      "|summary|            userId|         movieId|            rating|\n",
      "+-------+------------------+----------------+------------------+\n",
      "|  count|            100836|          100836|            100836|\n",
      "|   mean|326.12756356856676|19435.2957177992| 3.501556983616962|\n",
      "| stddev| 182.6184914635004|35530.9871987003|1.0425292390606342|\n",
      "|    min|                 1|               1|               0.5|\n",
      "|    max|               610|          193609|               5.0|\n",
      "+-------+------------------+----------------+------------------+\n",
      "\n"
     ]
    }
   ],
   "source": [
    "ratedf.describe().show()"
   ]
  },
  {
   "cell_type": "code",
   "execution_count": 10,
   "metadata": {},
   "outputs": [
    {
     "name": "stdout",
     "output_type": "stream",
     "text": [
      "Root-mean-square error (RMSE) = 1.0959359106861477\n"
     ]
    }
   ],
   "source": [
    "# Configure ALS\n",
    "als = ALS(maxIter=5, regParam=0.01, userCol='userId', itemCol='movieId', ratingCol='rating', \\\n",
    "          coldStartStrategy='drop')\n",
    "\n",
    "# Train dataset: 80% to ttrain and 20% to test \n",
    "training, test = ratedf.randomSplit([0.8,0.2])\n",
    "\n",
    "model = als.fit(training)\n",
    "\n",
    "# Evaluate the model by computing the RMSE on the test data\n",
    "predictions = model.transform(test)\n",
    "evaluator = RegressionEvaluator(metricName=\"rmse\", labelCol=\"rating\", predictionCol=\"prediction\")\n",
    "rmse = evaluator.evaluate(predictions)\n",
    "print(\"Root-mean-square error (RMSE) = \" + str(rmse))"
   ]
  },
  {
   "cell_type": "code",
   "execution_count": 11,
   "metadata": {},
   "outputs": [
    {
     "name": "stdout",
     "output_type": "stream",
     "text": [
      "+------+--------------------------------------------------------------------------------------------------+\n",
      "|userId|recommendations                                                                                   |\n",
      "+------+--------------------------------------------------------------------------------------------------+\n",
      "|471   |[[3969, 7.0078754], [48322, 6.818779], [5785, 6.739111], [1147, 6.493653], [918, 6.3156576]]      |\n",
      "|463   |[[49932, 6.9578238], [4642, 6.5255427], [71899, 6.3419843], [1260, 6.2815895], [1251, 6.2326956]] |\n",
      "|496   |[[265, 7.269724], [3089, 7.1702523], [613, 7.1454577], [4941, 7.1369314], [2390, 7.0252786]]      |\n",
      "|148   |[[932, 6.487558], [92535, 6.190889], [1809, 6.1229095], [84847, 5.8580184], [1126, 5.821113]]     |\n",
      "|540   |[[1916, 7.2871857], [1211, 7.065893], [5048, 6.906929], [1952, 6.6632004], [2290, 6.529852]]      |\n",
      "|392   |[[501, 10.30653], [412, 9.654592], [2259, 8.984282], [1354, 8.974475], [2935, 8.8553505]]         |\n",
      "|243   |[[5668, 10.899073], [69278, 10.366409], [1726, 9.930966], [2702, 9.849269], [3070, 9.837811]]     |\n",
      "|31    |[[92535, 9.031765], [86377, 8.875385], [1010, 7.974403], [232, 7.8403883], [2899, 7.806216]]      |\n",
      "|516   |[[4642, 7.92898], [4450, 7.8634415], [3030, 7.6601944], [2905, 7.4754477], [158872, 7.3916135]]   |\n",
      "|580   |[[103228, 6.5899754], [49932, 6.370647], [1223, 6.23873], [122906, 6.2015953], [185029, 6.145872]]|\n",
      "|251   |[[1284, 8.124581], [3910, 7.997943], [1726, 7.9462805], [334, 7.8493657], [28, 7.7021604]]        |\n",
      "|451   |[[3477, 9.34762], [417, 8.269911], [183897, 7.84317], [130634, 7.8179636], [51931, 7.6305037]]    |\n",
      "|85    |[[2924, 5.89211], [119141, 5.8780403], [1147, 5.819441], [3270, 5.786432], [4649, 5.76934]]       |\n",
      "|137   |[[232, 5.8788447], [8042, 5.8051457], [1218, 5.680154], [2360, 5.3619547], [5181, 5.30614]]       |\n",
      "|65    |[[932, 7.1130366], [3272, 6.514128], [5047, 6.3941374], [1218, 6.0759826], [1211, 5.9844418]]     |\n",
      "|458   |[[1726, 11.940708], [2513, 10.097865], [46572, 10.029899], [2183, 9.892544], [1754, 9.6870775]]   |\n",
      "|481   |[[232, 8.458704], [535, 7.584369], [166461, 7.3638697], [3272, 7.334011], [119141, 7.2843256]]    |\n",
      "|53    |[[5048, 10.7778845], [1211, 9.664976], [86377, 9.370861], [5014, 9.290495], [104879, 8.921073]]   |\n",
      "|255   |[[2769, 13.16263], [5480, 12.173393], [73266, 11.077578], [72167, 10.374624], [2052, 10.154054]]  |\n",
      "|588   |[[3266, 6.1337376], [27773, 5.6041183], [2290, 5.5922627], [26865, 5.584608], [7034, 5.537012]]   |\n",
      "+------+--------------------------------------------------------------------------------------------------+\n",
      "only showing top 20 rows\n",
      "\n"
     ]
    }
   ],
   "source": [
    "# Generate top 5 movie recommendations for each user\n",
    "userRecs = model.recommendForAllUsers(5)\n",
    "\n",
    "userRecs.show(truncate=False)"
   ]
  },
  {
   "cell_type": "code",
   "execution_count": 12,
   "metadata": {},
   "outputs": [
    {
     "name": "stdout",
     "output_type": "stream",
     "text": [
      "Row(userId=471, recommendations=[Row(movieId=3969, rating=7.007875442504883), Row(movieId=48322, rating=6.818778991699219), Row(movieId=5785, rating=6.739110946655273), Row(movieId=1147, rating=6.493652820587158), Row(movieId=918, rating=6.315657615661621)])\n",
      "Row(userId=463, recommendations=[Row(movieId=49932, rating=6.957823753356934), Row(movieId=4642, rating=6.525542736053467), Row(movieId=71899, rating=6.341984272003174), Row(movieId=1260, rating=6.281589508056641), Row(movieId=1251, rating=6.232695579528809)])\n",
      "Row(userId=496, recommendations=[Row(movieId=265, rating=7.269723892211914), Row(movieId=3089, rating=7.170252323150635), Row(movieId=613, rating=7.145457744598389), Row(movieId=4941, rating=7.136931419372559), Row(movieId=2390, rating=7.025278568267822)])\n"
     ]
    }
   ],
   "source": [
    "for line in userRecs.take(3):\n",
    "    print(line)"
   ]
  },
  {
   "cell_type": "code",
   "execution_count": 13,
   "metadata": {},
   "outputs": [
    {
     "name": "stdout",
     "output_type": "stream",
     "text": [
      "+-------+------------------------------------------------------------------------------------------+\n",
      "|movieId|recommendations                                                                           |\n",
      "+-------+------------------------------------------------------------------------------------------+\n",
      "|1580   |[[544, 5.865222], [531, 5.1814184], [569, 5.1122675], [389, 4.985305], [518, 4.936157]]   |\n",
      "|4900   |[[364, 7.7238946], [423, 7.3393326], [363, 6.5847754], [360, 6.529024], [77, 6.1763105]]  |\n",
      "|6620   |[[289, 7.8415065], [394, 7.7843814], [502, 7.572922], [154, 7.5063796], [157, 7.40295]]   |\n",
      "|7340   |[[461, 6.350884], [295, 5.4302626], [396, 5.1350555], [485, 5.094689], [383, 4.751594]]   |\n",
      "|32460  |[[423, 9.602335], [548, 8.643217], [549, 8.191774], [128, 6.6855235], [407, 6.5842657]]   |\n",
      "|54190  |[[548, 7.9672494], [549, 7.871696], [53, 7.582603], [197, 7.546384], [291, 7.5416565]]    |\n",
      "|471    |[[461, 9.356191], [413, 8.700609], [502, 8.562303], [303, 7.946674], [423, 7.786316]]     |\n",
      "|1591   |[[549, 9.190841], [197, 7.0429306], [548, 6.689595], [257, 6.3985887], [598, 6.287162]]   |\n",
      "|140541 |[[224, 6.0273695], [329, 5.9555154], [296, 5.6144166], [550, 5.6078243], [231, 5.5166984]]|\n",
      "|1342   |[[544, 8.146463], [147, 7.666943], [296, 7.31704], [231, 7.1047945], [344, 6.75205]]      |\n",
      "|2122   |[[37, 11.519884], [22, 9.525786], [243, 8.793933], [557, 8.441291], [114, 8.417191]]      |\n",
      "|2142   |[[257, 6.528714], [224, 6.39422], [498, 6.046859], [396, 5.791073], [60, 5.7119184]]      |\n",
      "|7982   |[[544, 16.357983], [134, 9.592125], [147, 8.979176], [502, 8.892689], [37, 8.890217]]     |\n",
      "|44022  |[[147, 6.128447], [67, 5.8060856], [548, 5.776704], [337, 5.6752605], [549, 5.526258]]    |\n",
      "|141422 |[[257, 4.1026506], [106, 3.8197289], [77, 3.751139], [154, 3.7505305], [393, 3.603397]]   |\n",
      "|833    |[[544, 6.5447793], [423, 5.447984], [303, 4.1742916], [502, 4.171515], [147, 4.115012]]   |\n",
      "|5803   |[[296, 7.751626], [536, 7.5961895], [231, 7.4980907], [96, 7.0946436], [394, 7.0752296]]  |\n",
      "|7833   |[[461, 7.904551], [485, 6.1614017], [396, 5.6396093], [531, 5.20201], [383, 5.1670585]]   |\n",
      "|7993   |[[544, 7.630062], [75, 5.032524], [192, 4.709683], [147, 4.562466], [296, 4.398017]]      |\n",
      "|160563 |[[197, 5.8251243], [130, 5.7473726], [291, 5.5438], [53, 5.5053487], [549, 5.4946065]]    |\n",
      "+-------+------------------------------------------------------------------------------------------+\n",
      "only showing top 20 rows\n",
      "\n"
     ]
    }
   ],
   "source": [
    "# Generate top 5 user recommendations for each movie\n",
    "movieRecs = model.recommendForAllItems(5)\n",
    "movieRecs.show(truncate=False)"
   ]
  },
  {
   "cell_type": "code",
   "execution_count": 14,
   "metadata": {},
   "outputs": [
    {
     "name": "stdout",
     "output_type": "stream",
     "text": [
      "Row(movieId=1580, recommendations=[Row(userId=544, rating=5.865221977233887), Row(userId=531, rating=5.181418418884277), Row(userId=569, rating=5.11226749420166), Row(userId=389, rating=4.985304832458496), Row(userId=518, rating=4.9361572265625)])\n",
      "Row(movieId=4900, recommendations=[Row(userId=364, rating=7.7238945960998535), Row(userId=423, rating=7.339332580566406), Row(userId=363, rating=6.584775447845459), Row(userId=360, rating=6.529024124145508), Row(userId=77, rating=6.1763105392456055)])\n",
      "Row(movieId=6620, recommendations=[Row(userId=289, rating=7.841506481170654), Row(userId=394, rating=7.78438138961792), Row(userId=502, rating=7.572922229766846), Row(userId=154, rating=7.5063796043396), Row(userId=157, rating=7.402949810028076)])\n",
      "Row(movieId=7340, recommendations=[Row(userId=461, rating=6.350883960723877), Row(userId=295, rating=5.430262565612793), Row(userId=396, rating=5.1350555419921875), Row(userId=485, rating=5.094688892364502), Row(userId=383, rating=4.751594066619873)])\n"
     ]
    }
   ],
   "source": [
    "for line in movieRecs.take(4):\n",
    "   print(line)"
   ]
  },
  {
   "cell_type": "code",
   "execution_count": 15,
   "metadata": {},
   "outputs": [
    {
     "name": "stdout",
     "output_type": "stream",
     "text": [
      "--- Execution time: 24.703402519226074 seconds ---\n"
     ]
    }
   ],
   "source": [
    "print(\"--- Execution time: %s seconds ---\" % (time.time() - start_time))"
   ]
  },
  {
   "cell_type": "code",
   "execution_count": null,
   "metadata": {},
   "outputs": [],
   "source": [
    "enter_user=input(\"Digite o número do usuário que deseja a recomendação:\")\n",
    "userRecs.where(userRecs.userId == enter_user).select(\"recommendations.movieId\",\\\n",
    "              \"recommendations.rating\").collect()"
   ]
  },
  {
   "cell_type": "code",
   "execution_count": null,
   "metadata": {},
   "outputs": [],
   "source": [
    "enter_movie=input(\"Digite o número do filme que deseja recomendar:\")\n",
    "movieRecs.where(movieRecs.movieId == enter_movie).select(\"recommendations.userId\",\\\n",
    "                \"recommendations.rating\").collect()"
   ]
  },
  {
   "cell_type": "code",
   "execution_count": null,
   "metadata": {},
   "outputs": [],
   "source": [
    "spark.stop()"
   ]
  },
  {
   "cell_type": "code",
   "execution_count": null,
   "metadata": {},
   "outputs": [],
   "source": []
  }
 ],
 "metadata": {
  "kernelspec": {
   "display_name": "Python 3",
   "language": "python",
   "name": "python3"
  },
  "language_info": {
   "codemirror_mode": {
    "name": "ipython",
    "version": 3
   },
   "file_extension": ".py",
   "mimetype": "text/x-python",
   "name": "python",
   "nbconvert_exporter": "python",
   "pygments_lexer": "ipython3",
   "version": "3.6.9"
  }
 },
 "nbformat": 4,
 "nbformat_minor": 4
}
