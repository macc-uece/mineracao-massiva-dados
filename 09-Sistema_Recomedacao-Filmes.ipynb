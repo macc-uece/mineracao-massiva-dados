{
 "cells": [
  {
   "cell_type": "markdown",
   "metadata": {},
   "source": [
    "# Exemplo 09: Sistema de Recomendação\n",
    "## Recomendação de Filmes MovieLens\n",
    "\n",
    "Sistema de Recomendação tem como objetivo selecionar itens personalizados para um usuário (cliente) com base nos interesses dele e dos interesses de usuários semelhantes conforme o contexto no qual estão inseridos. Esta técnica pode recomendar itens variados como, por exemplo, livros, filmes, notícias, música, vídeos, páginas de internet e produtos de uma loja virtual. Este exemplo faz a recomendação de filmes para um determinado usuário baseado nos seus gostos e de gostos de outros usuários semelhantes. O dataset utilizado é do site de recomendação de filmes MovieLens."
   ]
  },
  {
   "cell_type": "code",
   "execution_count": 1,
   "metadata": {},
   "outputs": [],
   "source": [
    "import pyspark\n",
    "from pyspark.sql import SparkSession, Row\n",
    "\n",
    "from pyspark.ml.recommendation import ALS\n",
    "from pyspark.ml.evaluation import RegressionEvaluator\n",
    "\n",
    "import time\n",
    "start_time = time.time()\n",
    "\n",
    "data_path='./data/'\n",
    "\n",
    "# Experimente uma base de dados maior\n",
    "#data_path='/data/dataset/MovieLens/ml-20m/'"
   ]
  },
  {
   "cell_type": "code",
   "execution_count": 2,
   "metadata": {},
   "outputs": [],
   "source": [
    "# Create Spark Session\n",
    "sc = SparkSession.builder \\\n",
    "     .master(\"local[*]\") \\\n",
    "     .appName(\"Movies_Recommendation\") \\\n",
    "     .getOrCreate()"
   ]
  },
  {
   "cell_type": "markdown",
   "metadata": {},
   "source": [
    "## Ratings Data File Structure (ratings.csv)\n",
    "-----------------------------------------\n",
    "\n",
    "All ratings are contained in the file `ratings.csv`. Each line of this file after the header row represents one rating of one movie by one user, and has the following format:\n",
    "\n",
    "    userId,movieId,rating,timestamp\n",
    "\n",
    "The lines within this file are ordered first by userId, then, within user, by movieId.\n",
    "\n",
    "Ratings are made on a 5-star scale, with half-star increments (0.5 stars - 5.0 stars).\n",
    "\n",
    "Timestamps represent seconds since midnight Coordinated Universal Time (UTC) of January 1, 1970."
   ]
  },
  {
   "cell_type": "code",
   "execution_count": 3,
   "metadata": {},
   "outputs": [
    {
     "name": "stdout",
     "output_type": "stream",
     "text": [
      "root\n",
      " |-- userId: integer (nullable = true)\n",
      " |-- movieId: integer (nullable = true)\n",
      " |-- rating: double (nullable = true)\n",
      " |-- timestamp: integer (nullable = true)\n",
      "\n"
     ]
    }
   ],
   "source": [
    "df = sc.read.format(\"csv\").options(sep=',',header='true',inferschema='true').\\\n",
    "     load(data_path+\"ratings.csv.gz\")\n",
    "\n",
    "df.printSchema()"
   ]
  },
  {
   "cell_type": "code",
   "execution_count": 4,
   "metadata": {},
   "outputs": [
    {
     "data": {
      "text/plain": [
       "[Row(userId=1, movieId=1, rating=4.0),\n",
       " Row(userId=1, movieId=3, rating=4.0),\n",
       " Row(userId=1, movieId=6, rating=4.0),\n",
       " Row(userId=1, movieId=47, rating=5.0),\n",
       " Row(userId=1, movieId=50, rating=5.0)]"
      ]
     },
     "execution_count": 4,
     "metadata": {},
     "output_type": "execute_result"
    }
   ],
   "source": [
    "ratedf = df.select(['userId', 'movieId', 'rating'])\n",
    "ratedf.head(5)"
   ]
  },
  {
   "cell_type": "code",
   "execution_count": 5,
   "metadata": {},
   "outputs": [
    {
     "name": "stdout",
     "output_type": "stream",
     "text": [
      "+------+-------+------+\n",
      "|userId|movieId|rating|\n",
      "+------+-------+------+\n",
      "|     1|      1|   4.0|\n",
      "|     1|      3|   4.0|\n",
      "|     1|      6|   4.0|\n",
      "|     1|     47|   5.0|\n",
      "|     1|     50|   5.0|\n",
      "|     1|     70|   3.0|\n",
      "|     1|    101|   5.0|\n",
      "|     1|    110|   4.0|\n",
      "|     1|    151|   5.0|\n",
      "|     1|    157|   5.0|\n",
      "|     1|    163|   5.0|\n",
      "|     1|    216|   5.0|\n",
      "|     1|    223|   3.0|\n",
      "|     1|    231|   5.0|\n",
      "|     1|    235|   4.0|\n",
      "|     1|    260|   5.0|\n",
      "|     1|    296|   3.0|\n",
      "|     1|    316|   3.0|\n",
      "|     1|    333|   5.0|\n",
      "|     1|    349|   4.0|\n",
      "+------+-------+------+\n",
      "only showing top 20 rows\n",
      "\n"
     ]
    }
   ],
   "source": [
    "ratedf.show()"
   ]
  },
  {
   "cell_type": "markdown",
   "metadata": {},
   "source": [
    "## Movies Data File Structure (movies.csv)\n",
    "---------------------------------------\n",
    "\n",
    "Movie information is contained in the file `movies.csv`. Each line of this file after the header row represents one movie, and has the following format:\n",
    "\n",
    "    movieId,title,genres\n",
    "\n",
    "Movie titles are entered manually or imported from <https://www.themoviedb.org/>, and include the year of release in parentheses.\n",
    "\n",
    "Genres are a pipe-separated list, and are selected from the following:\n",
    "\n",
    "* Action\n",
    "* Adventure\n",
    "* Animation\n",
    "* Children's\n",
    "* Comedy\n",
    "* Crime\n",
    "* Documentary\n",
    "* Drama\n",
    "* Fantasy\n",
    "* Film-Noir\n",
    "* Horror\n",
    "* Musical\n",
    "* Mystery\n",
    "* Romance\n",
    "* Sci-Fi\n",
    "* Thriller\n",
    "* War\n",
    "* Western\n",
    "* (no genres listed)"
   ]
  },
  {
   "cell_type": "code",
   "execution_count": 6,
   "metadata": {},
   "outputs": [
    {
     "name": "stdout",
     "output_type": "stream",
     "text": [
      "root\n",
      " |-- movieId: integer (nullable = true)\n",
      " |-- title: string (nullable = true)\n",
      " |-- genres: string (nullable = true)\n",
      "\n"
     ]
    }
   ],
   "source": [
    "df = sc.read.format(\"csv\").options(sep=',',header='true',inferschema='true').\\\n",
    "     load(data_path+\"movies.csv.gz\")\n",
    "\n",
    "df.printSchema()"
   ]
  },
  {
   "cell_type": "code",
   "execution_count": 7,
   "metadata": {},
   "outputs": [
    {
     "data": {
      "text/plain": [
       "[Row(movieId=1, title='Toy Story (1995)', genres='Adventure|Animation|Children|Comedy|Fantasy'),\n",
       " Row(movieId=2, title='Jumanji (1995)', genres='Adventure|Children|Fantasy'),\n",
       " Row(movieId=3, title='Grumpier Old Men (1995)', genres='Comedy|Romance'),\n",
       " Row(movieId=4, title='Waiting to Exhale (1995)', genres='Comedy|Drama|Romance'),\n",
       " Row(movieId=5, title='Father of the Bride Part II (1995)', genres='Comedy')]"
      ]
     },
     "execution_count": 7,
     "metadata": {},
     "output_type": "execute_result"
    }
   ],
   "source": [
    "moviedf = df.select(['movieId', 'title', 'genres'])\n",
    "moviedf.head(5)"
   ]
  },
  {
   "cell_type": "markdown",
   "metadata": {},
   "source": [
    "## Rating Statistics"
   ]
  },
  {
   "cell_type": "code",
   "execution_count": 8,
   "metadata": {},
   "outputs": [
    {
     "name": "stdout",
     "output_type": "stream",
     "text": [
      "+-------+------------------+----------------+------------------+\n",
      "|summary|            userId|         movieId|            rating|\n",
      "+-------+------------------+----------------+------------------+\n",
      "|  count|            100836|          100836|            100836|\n",
      "|   mean|326.12756356856676|19435.2957177992| 3.501556983616962|\n",
      "| stddev| 182.6184914635004|35530.9871987003|1.0425292390606342|\n",
      "|    min|                 1|               1|               0.5|\n",
      "|    max|               610|          193609|               5.0|\n",
      "+-------+------------------+----------------+------------------+\n",
      "\n"
     ]
    }
   ],
   "source": [
    "ratedf.describe().show()"
   ]
  },
  {
   "cell_type": "code",
   "execution_count": 9,
   "metadata": {},
   "outputs": [
    {
     "name": "stdout",
     "output_type": "stream",
     "text": [
      "Root-mean-square error (RMSE) = 1.0806088998600494\n"
     ]
    }
   ],
   "source": [
    "# Configure ALS\n",
    "als = ALS(maxIter=5, regParam=0.01, userCol='userId', itemCol='movieId', ratingCol='rating', \\\n",
    "          coldStartStrategy='drop')\n",
    "\n",
    "# Train dataset: 80% to ttrain and 20% to test \n",
    "training, test = ratedf.randomSplit([0.8,0.2])\n",
    "\n",
    "model = als.fit(training)\n",
    "\n",
    "# Evaluate the model by computing the RMSE on the test data\n",
    "predictions = model.transform(test)\n",
    "evaluator = RegressionEvaluator(metricName=\"rmse\", labelCol=\"rating\", predictionCol=\"prediction\")\n",
    "rmse = evaluator.evaluate(predictions)\n",
    "print(\"Root-mean-square error (RMSE) = \" + str(rmse))"
   ]
  },
  {
   "cell_type": "code",
   "execution_count": 10,
   "metadata": {},
   "outputs": [
    {
     "name": "stdout",
     "output_type": "stream",
     "text": [
      "+------+--------------------------------------------------------------------------------------------------+\n",
      "|userId|recommendations                                                                                   |\n",
      "+------+--------------------------------------------------------------------------------------------------+\n",
      "|1     |[{183897, 7.972645}, {1866, 7.9014792}, {945, 7.458456}, {4821, 7.1990886}, {134368, 7.081739}]   |\n",
      "|2     |[{45668, 9.398457}, {1866, 9.235968}, {102903, 8.895226}, {54256, 8.519}, {1468, 8.437317}]       |\n",
      "|3     |[{74754, 7.0828533}, {1232, 6.5853977}, {1034, 6.4000034}, {8810, 6.248864}, {5055, 6.1870885}]   |\n",
      "|4     |[{3134, 8.045471}, {1483, 7.8819046}, {48322, 7.5527663}, {6993, 7.5115657}, {4642, 7.363976}]    |\n",
      "|5     |[{4642, 9.11238}, {1483, 8.348793}, {8910, 8.155349}, {2469, 7.960324}, {714, 7.8431997}]         |\n",
      "|6     |[{2937, 6.9683504}, {1354, 6.6519384}, {3134, 6.6474795}, {183897, 6.5362234}, {3676, 6.378956}]  |\n",
      "|7     |[{1464, 8.312141}, {69406, 8.265139}, {5785, 8.229172}, {104211, 8.054518}, {37384, 7.8352976}]   |\n",
      "|8     |[{5106, 8.3809185}, {82, 8.110904}, {2822, 7.747839}, {1441, 7.6591873}, {1078, 7.6517305}]       |\n",
      "|9     |[{5666, 8.197657}, {945, 7.7786245}, {149352, 7.7605047}, {898, 7.645999}, {157296, 7.643238}]    |\n",
      "|10    |[{136598, 5.751835}, {5501, 5.7262993}, {58293, 5.5849934}, {2394, 5.5036473}, {59258, 5.4431677}]|\n",
      "|11    |[{4144, 8.3633585}, {87485, 7.9623165}, {89753, 7.718196}, {3266, 7.6312838}, {3676, 7.5038033}]  |\n",
      "|12    |[{106766, 8.798313}, {103341, 8.451963}, {2867, 8.402969}, {69644, 8.33025}, {7318, 8.0804825}]   |\n",
      "|13    |[{34338, 8.7292595}, {2530, 8.130478}, {12, 7.849024}, {2772, 7.748375}, {46948, 7.7301445}]      |\n",
      "|14    |[{87485, 12.586793}, {6639, 11.143133}, {74532, 11.014301}, {5106, 10.807775}, {4678, 10.8061905}]|\n",
      "|15    |[{106100, 8.0764885}, {2702, 7.899331}, {7018, 7.883479}, {55280, 7.7960157}, {932, 7.7765183}]   |\n",
      "|16    |[{1241, 4.7787275}, {26131, 4.755531}, {65514, 4.737092}, {2731, 4.728607}, {168252, 4.6980953}]  |\n",
      "|17    |[{45880, 5.517173}, {66934, 5.5114136}, {136598, 5.4878263}, {1172, 5.426963}, {3134, 5.3234563}] |\n",
      "|18    |[{7099, 5.0918417}, {3200, 5.0267305}, {103984, 5.0032063}, {3089, 4.997523}, {26131, 4.9670563}] |\n",
      "|19    |[{7008, 4.717967}, {5666, 4.664556}, {945, 4.6526303}, {1658, 4.5727067}, {3358, 4.5576854}]      |\n",
      "|20    |[{222, 6.5863094}, {1096, 6.2591114}, {714, 6.1211214}, {137857, 6.0575356}, {3943, 5.988347}]    |\n",
      "+------+--------------------------------------------------------------------------------------------------+\n",
      "only showing top 20 rows\n",
      "\n"
     ]
    }
   ],
   "source": [
    "# Generate top 5 movie recommendations for each user\n",
    "userRecs = model.recommendForAllUsers(5)\n",
    "\n",
    "userRecs.show(truncate=False)"
   ]
  },
  {
   "cell_type": "code",
   "execution_count": 11,
   "metadata": {},
   "outputs": [
    {
     "name": "stdout",
     "output_type": "stream",
     "text": [
      "Row(userId=1, recommendations=[Row(movieId=183897, rating=7.972644805908203), Row(movieId=1866, rating=7.901479244232178), Row(movieId=945, rating=7.458456039428711), Row(movieId=4821, rating=7.1990885734558105), Row(movieId=134368, rating=7.0817389488220215)])\n",
      "Row(userId=2, recommendations=[Row(movieId=45668, rating=9.398456573486328), Row(movieId=1866, rating=9.235967636108398), Row(movieId=102903, rating=8.895225524902344), Row(movieId=54256, rating=8.519000053405762), Row(movieId=1468, rating=8.43731689453125)])\n",
      "Row(userId=3, recommendations=[Row(movieId=74754, rating=7.082853317260742), Row(movieId=1232, rating=6.585397720336914), Row(movieId=1034, rating=6.400003433227539), Row(movieId=8810, rating=6.24886417388916), Row(movieId=5055, rating=6.187088489532471)])\n"
     ]
    }
   ],
   "source": [
    "for line in userRecs.take(3):\n",
    "    print(line)"
   ]
  },
  {
   "cell_type": "code",
   "execution_count": 12,
   "metadata": {},
   "outputs": [
    {
     "name": "stdout",
     "output_type": "stream",
     "text": [
      "+-------+-----------------------------------------------------------------------------------------+\n",
      "|movieId|recommendations                                                                          |\n",
      "+-------+-----------------------------------------------------------------------------------------+\n",
      "|1      |[{498, 6.5737}, {413, 5.9587665}, {344, 5.951416}, {278, 5.571675}, {393, 5.489744}]     |\n",
      "|12     |[{259, 12.570951}, {231, 10.248701}, {67, 9.625432}, {77, 9.32859}, {569, 9.111862}]     |\n",
      "|13     |[{77, 7.005076}, {224, 6.501129}, {569, 5.739014}, {485, 5.6819344}, {498, 5.597794}]    |\n",
      "|22     |[{243, 5.750332}, {502, 5.679482}, {548, 5.609611}, {173, 5.3974214}, {461, 5.329376}]   |\n",
      "|26     |[{461, 6.608678}, {548, 5.668672}, {236, 5.5750694}, {423, 5.572011}, {468, 5.2249146}]  |\n",
      "|27     |[{549, 9.383605}, {548, 8.301372}, {497, 7.9008756}, {557, 7.6610274}, {423, 7.2323446}] |\n",
      "|28     |[{494, 7.82404}, {423, 7.47771}, {407, 7.271427}, {53, 7.12323}, {120, 7.085224}]        |\n",
      "|31     |[{461, 6.386094}, {502, 5.7794623}, {344, 5.765584}, {243, 5.764615}, {224, 5.7218924}]  |\n",
      "|34     |[{423, 7.039997}, {535, 6.484069}, {443, 6.0717525}, {77, 6.023049}, {418, 5.8340373}]   |\n",
      "|44     |[{344, 6.522489}, {461, 6.421953}, {574, 6.3973966}, {413, 6.1141715}, {2, 6.056136}]    |\n",
      "|47     |[{259, 8.271943}, {276, 7.163945}, {283, 7.1380877}, {549, 6.6342106}, {243, 6.3510256}] |\n",
      "|52     |[{461, 7.667257}, {173, 6.9119487}, {468, 6.583177}, {416, 6.260726}, {145, 6.1060686}]  |\n",
      "|53     |[{423, 9.349903}, {416, 8.621956}, {53, 7.212879}, {461, 6.8258276}, {373, 6.8257384}]   |\n",
      "|65     |[{461, 7.554849}, {508, 7.233915}, {468, 6.998116}, {138, 6.360947}, {327, 6.252075}]    |\n",
      "|76     |[{461, 12.933669}, {502, 7.776621}, {301, 7.013777}, {44, 6.8105545}, {363, 6.6580753}]  |\n",
      "|78     |[{407, 5.324283}, {257, 5.296066}, {486, 5.164402}, {530, 5.0591564}, {458, 5.0035276}]  |\n",
      "|81     |[{399, 8.917947}, {502, 7.294608}, {35, 7.0403905}, {537, 6.7116833}, {394, 6.674054}]   |\n",
      "|85     |[{296, 8.514633}, {493, 7.9930263}, {360, 7.7945337}, {406, 7.6616907}, {259, 7.2009873}]|\n",
      "|93     |[{498, 7.7498236}, {574, 7.235758}, {344, 6.8515177}, {14, 6.1561427}, {267, 6.005476}]  |\n",
      "|101    |[{461, 8.327972}, {193, 8.30389}, {535, 8.058397}, {418, 8.052616}, {295, 7.6404066}]    |\n",
      "+-------+-----------------------------------------------------------------------------------------+\n",
      "only showing top 20 rows\n",
      "\n"
     ]
    }
   ],
   "source": [
    "# Generate top 5 user recommendations for each movie\n",
    "movieRecs = model.recommendForAllItems(5)\n",
    "movieRecs.show(truncate=False)"
   ]
  },
  {
   "cell_type": "code",
   "execution_count": 13,
   "metadata": {},
   "outputs": [
    {
     "name": "stdout",
     "output_type": "stream",
     "text": [
      "Row(movieId=1, recommendations=[Row(userId=498, rating=6.573699951171875), Row(userId=413, rating=5.958766460418701), Row(userId=344, rating=5.951416015625), Row(userId=278, rating=5.571674823760986), Row(userId=393, rating=5.489744186401367)])\n",
      "Row(movieId=12, recommendations=[Row(userId=259, rating=12.570951461791992), Row(userId=231, rating=10.248701095581055), Row(userId=67, rating=9.625432014465332), Row(userId=77, rating=9.328590393066406), Row(userId=569, rating=9.111862182617188)])\n",
      "Row(movieId=13, recommendations=[Row(userId=77, rating=7.005075931549072), Row(userId=224, rating=6.501129150390625), Row(userId=569, rating=5.739014148712158), Row(userId=485, rating=5.681934356689453), Row(userId=498, rating=5.597794055938721)])\n",
      "Row(movieId=22, recommendations=[Row(userId=243, rating=5.750331878662109), Row(userId=502, rating=5.6794819831848145), Row(userId=548, rating=5.6096110343933105), Row(userId=173, rating=5.397421360015869), Row(userId=461, rating=5.329376220703125)])\n"
     ]
    }
   ],
   "source": [
    "for line in movieRecs.take(4):\n",
    "   print(line)"
   ]
  },
  {
   "cell_type": "code",
   "execution_count": 14,
   "metadata": {},
   "outputs": [
    {
     "name": "stdout",
     "output_type": "stream",
     "text": [
      "--- Execution time: 32.838313579559326 seconds ---\n"
     ]
    }
   ],
   "source": [
    "print(\"--- Execution time: %s seconds ---\" % (time.time() - start_time))"
   ]
  },
  {
   "cell_type": "code",
   "execution_count": null,
   "metadata": {},
   "outputs": [],
   "source": [
    "enter_user=input(\"Digite o número do usuário que deseja a recomendação:\")\n",
    "userRecs.where(userRecs.userId == enter_user).select(\"recommendations.movieId\",\\\n",
    "              \"recommendations.rating\").collect()"
   ]
  },
  {
   "cell_type": "code",
   "execution_count": null,
   "metadata": {},
   "outputs": [],
   "source": [
    "enter_movie=input(\"Digite o número do filme que deseja recomendar:\")\n",
    "movieRecs.where(movieRecs.movieId == enter_movie).select(\"recommendations.userId\",\\\n",
    "                \"recommendations.rating\").collect()"
   ]
  },
  {
   "cell_type": "code",
   "execution_count": null,
   "metadata": {},
   "outputs": [],
   "source": [
    "sc.stop()"
   ]
  }
 ],
 "metadata": {
  "kernelspec": {
   "display_name": "Python 3 (ipykernel)",
   "language": "python",
   "name": "python3"
  },
  "language_info": {
   "codemirror_mode": {
    "name": "ipython",
    "version": 3
   },
   "file_extension": ".py",
   "mimetype": "text/x-python",
   "name": "python",
   "nbconvert_exporter": "python",
   "pygments_lexer": "ipython3",
   "version": "3.12.9"
  }
 },
 "nbformat": 4,
 "nbformat_minor": 4
}
