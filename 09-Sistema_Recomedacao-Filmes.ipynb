{
 "cells": [
  {
   "cell_type": "markdown",
   "metadata": {},
   "source": [
    "# Exemplo 09: Sistema de Recomendação\n",
    "## Recomendação de Filmes MovieLens\n",
    "\n",
    "Sistema de Recomendação tem como objetivo selecionar itens personalizados para um usuário (cliente) com base nos interesses dele e dos interesses de usuários semelhantes conforme o contexto no qual estão inseridos. Esta técnica pode recomendar itens variados como, por exemplo, livros, filmes, notícias, música, vídeos, páginas de internet e produtos de uma loja virtual. Este exemplo faz a recomendação de filmes para um determinado usuário baseado nos seus gostos e de gostos de outros usuários semelhantes. O dataset utilizado é do site de recomendação de filmes MovieLens."
   ]
  },
  {
   "cell_type": "code",
   "execution_count": 1,
   "metadata": {},
   "outputs": [],
   "source": [
    "import pyspark\n",
    "from pyspark.sql import SparkSession, Row\n",
    "\n",
    "from pyspark.ml.recommendation import ALS\n",
    "from pyspark.ml.evaluation import RegressionEvaluator\n",
    "\n",
    "import time\n",
    "start_time = time.time()\n",
    "\n",
    "data_path='./data/'\n",
    "\n",
    "# Experimente uma base de dados maior\n",
    "#data_path='/data/dataset/MovieLens/ml-20m/'"
   ]
  },
  {
   "cell_type": "code",
   "execution_count": 2,
   "metadata": {},
   "outputs": [
    {
     "name": "stderr",
     "output_type": "stream",
     "text": [
      "WARNING: An illegal reflective access operation has occurred\n",
      "WARNING: Illegal reflective access by org.apache.spark.unsafe.Platform (file:/usr/local/lib/python3.8/dist-packages/pyspark/jars/spark-unsafe_2.12-3.2.1.jar) to constructor java.nio.DirectByteBuffer(long,int)\n",
      "WARNING: Please consider reporting this to the maintainers of org.apache.spark.unsafe.Platform\n",
      "WARNING: Use --illegal-access=warn to enable warnings of further illegal reflective access operations\n",
      "WARNING: All illegal access operations will be denied in a future release\n",
      "Using Spark's default log4j profile: org/apache/spark/log4j-defaults.properties\n",
      "Setting default log level to \"WARN\".\n",
      "To adjust logging level use sc.setLogLevel(newLevel). For SparkR, use setLogLevel(newLevel).\n",
      "22/02/08 18:51:52 WARN NativeCodeLoader: Unable to load native-hadoop library for your platform... using builtin-java classes where applicable\n",
      "22/02/08 18:51:53 WARN Utils: Service 'SparkUI' could not bind on port 4040. Attempting port 4041.\n"
     ]
    }
   ],
   "source": [
    "# Create Spark Session\n",
    "spark = SparkSession.builder \\\n",
    "       .master(\"local[*]\") \\\n",
    "       .appName(\"Movies_Recommendation\") \\\n",
    "       .getOrCreate()"
   ]
  },
  {
   "cell_type": "markdown",
   "metadata": {},
   "source": [
    "## Ratings Data File Structure (ratings.csv)\n",
    "-----------------------------------------\n",
    "\n",
    "All ratings are contained in the file `ratings.csv`. Each line of this file after the header row represents one rating of one movie by one user, and has the following format:\n",
    "\n",
    "    userId,movieId,rating,timestamp\n",
    "\n",
    "The lines within this file are ordered first by userId, then, within user, by movieId.\n",
    "\n",
    "Ratings are made on a 5-star scale, with half-star increments (0.5 stars - 5.0 stars).\n",
    "\n",
    "Timestamps represent seconds since midnight Coordinated Universal Time (UTC) of January 1, 1970."
   ]
  },
  {
   "cell_type": "code",
   "execution_count": 3,
   "metadata": {},
   "outputs": [
    {
     "name": "stdout",
     "output_type": "stream",
     "text": [
      "root\n",
      " |-- userId: integer (nullable = true)\n",
      " |-- movieId: integer (nullable = true)\n",
      " |-- rating: double (nullable = true)\n",
      " |-- timestamp: integer (nullable = true)\n",
      "\n"
     ]
    }
   ],
   "source": [
    "df = spark.read.format(\"csv\").options(sep=',',header='true',inferschema='true').\\\n",
    "     load(data_path+\"ratings.csv.gz\")\n",
    "\n",
    "df.printSchema()"
   ]
  },
  {
   "cell_type": "code",
   "execution_count": 4,
   "metadata": {},
   "outputs": [
    {
     "data": {
      "text/plain": [
       "[Row(userId=1, movieId=1, rating=4.0),\n",
       " Row(userId=1, movieId=3, rating=4.0),\n",
       " Row(userId=1, movieId=6, rating=4.0),\n",
       " Row(userId=1, movieId=47, rating=5.0),\n",
       " Row(userId=1, movieId=50, rating=5.0)]"
      ]
     },
     "execution_count": 4,
     "metadata": {},
     "output_type": "execute_result"
    }
   ],
   "source": [
    "ratedf = df.select(['userId', 'movieId', 'rating'])\n",
    "ratedf.head(5)"
   ]
  },
  {
   "cell_type": "code",
   "execution_count": 5,
   "metadata": {},
   "outputs": [
    {
     "name": "stdout",
     "output_type": "stream",
     "text": [
      "+------+-------+------+\n",
      "|userId|movieId|rating|\n",
      "+------+-------+------+\n",
      "|     1|      1|   4.0|\n",
      "|     1|      3|   4.0|\n",
      "|     1|      6|   4.0|\n",
      "|     1|     47|   5.0|\n",
      "|     1|     50|   5.0|\n",
      "|     1|     70|   3.0|\n",
      "|     1|    101|   5.0|\n",
      "|     1|    110|   4.0|\n",
      "|     1|    151|   5.0|\n",
      "|     1|    157|   5.0|\n",
      "|     1|    163|   5.0|\n",
      "|     1|    216|   5.0|\n",
      "|     1|    223|   3.0|\n",
      "|     1|    231|   5.0|\n",
      "|     1|    235|   4.0|\n",
      "|     1|    260|   5.0|\n",
      "|     1|    296|   3.0|\n",
      "|     1|    316|   3.0|\n",
      "|     1|    333|   5.0|\n",
      "|     1|    349|   4.0|\n",
      "+------+-------+------+\n",
      "only showing top 20 rows\n",
      "\n"
     ]
    }
   ],
   "source": [
    "ratedf.show()"
   ]
  },
  {
   "cell_type": "markdown",
   "metadata": {},
   "source": [
    "## Movies Data File Structure (movies.csv)\n",
    "---------------------------------------\n",
    "\n",
    "Movie information is contained in the file `movies.csv`. Each line of this file after the header row represents one movie, and has the following format:\n",
    "\n",
    "    movieId,title,genres\n",
    "\n",
    "Movie titles are entered manually or imported from <https://www.themoviedb.org/>, and include the year of release in parentheses.\n",
    "\n",
    "Genres are a pipe-separated list, and are selected from the following:\n",
    "\n",
    "* Action\n",
    "* Adventure\n",
    "* Animation\n",
    "* Children's\n",
    "* Comedy\n",
    "* Crime\n",
    "* Documentary\n",
    "* Drama\n",
    "* Fantasy\n",
    "* Film-Noir\n",
    "* Horror\n",
    "* Musical\n",
    "* Mystery\n",
    "* Romance\n",
    "* Sci-Fi\n",
    "* Thriller\n",
    "* War\n",
    "* Western\n",
    "* (no genres listed)"
   ]
  },
  {
   "cell_type": "code",
   "execution_count": 6,
   "metadata": {},
   "outputs": [
    {
     "name": "stdout",
     "output_type": "stream",
     "text": [
      "root\n",
      " |-- movieId: integer (nullable = true)\n",
      " |-- title: string (nullable = true)\n",
      " |-- genres: string (nullable = true)\n",
      "\n"
     ]
    }
   ],
   "source": [
    "df = spark.read.format(\"csv\").options(sep=',',header='true',inferschema='true').\\\n",
    "           load(data_path+\"movies.csv.gz\")\n",
    "\n",
    "df.printSchema()"
   ]
  },
  {
   "cell_type": "code",
   "execution_count": 7,
   "metadata": {},
   "outputs": [
    {
     "data": {
      "text/plain": [
       "[Row(movieId=1, title='Toy Story (1995)', genres='Adventure|Animation|Children|Comedy|Fantasy'),\n",
       " Row(movieId=2, title='Jumanji (1995)', genres='Adventure|Children|Fantasy'),\n",
       " Row(movieId=3, title='Grumpier Old Men (1995)', genres='Comedy|Romance'),\n",
       " Row(movieId=4, title='Waiting to Exhale (1995)', genres='Comedy|Drama|Romance'),\n",
       " Row(movieId=5, title='Father of the Bride Part II (1995)', genres='Comedy')]"
      ]
     },
     "execution_count": 7,
     "metadata": {},
     "output_type": "execute_result"
    }
   ],
   "source": [
    "moviedf = df.select(['movieId', 'title', 'genres'])\n",
    "moviedf.head(5)"
   ]
  },
  {
   "cell_type": "markdown",
   "metadata": {},
   "source": [
    "## Rating Statistics"
   ]
  },
  {
   "cell_type": "code",
   "execution_count": 8,
   "metadata": {},
   "outputs": [
    {
     "name": "stdout",
     "output_type": "stream",
     "text": [
      "+-------+------------------+----------------+------------------+\n",
      "|summary|            userId|         movieId|            rating|\n",
      "+-------+------------------+----------------+------------------+\n",
      "|  count|            100836|          100836|            100836|\n",
      "|   mean|326.12756356856676|19435.2957177992| 3.501556983616962|\n",
      "| stddev| 182.6184914635004|35530.9871987003|1.0425292390606342|\n",
      "|    min|                 1|               1|               0.5|\n",
      "|    max|               610|          193609|               5.0|\n",
      "+-------+------------------+----------------+------------------+\n",
      "\n"
     ]
    }
   ],
   "source": [
    "ratedf.describe().show()"
   ]
  },
  {
   "cell_type": "code",
   "execution_count": 9,
   "metadata": {},
   "outputs": [
    {
     "name": "stderr",
     "output_type": "stream",
     "text": [
      "22/02/08 18:52:02 WARN InstanceBuilder$NativeLAPACK: Failed to load implementation from:dev.ludovic.netlib.lapack.JNILAPACK\n"
     ]
    },
    {
     "name": "stdout",
     "output_type": "stream",
     "text": [
      "Root-mean-square error (RMSE) = 1.0942630918977896\n"
     ]
    }
   ],
   "source": [
    "# Configure ALS\n",
    "als = ALS(maxIter=5, regParam=0.01, userCol='userId', itemCol='movieId', ratingCol='rating', \\\n",
    "          coldStartStrategy='drop')\n",
    "\n",
    "# Train dataset: 80% to ttrain and 20% to test \n",
    "training, test = ratedf.randomSplit([0.8,0.2])\n",
    "\n",
    "model = als.fit(training)\n",
    "\n",
    "# Evaluate the model by computing the RMSE on the test data\n",
    "predictions = model.transform(test)\n",
    "evaluator = RegressionEvaluator(metricName=\"rmse\", labelCol=\"rating\", predictionCol=\"prediction\")\n",
    "rmse = evaluator.evaluate(predictions)\n",
    "print(\"Root-mean-square error (RMSE) = \" + str(rmse))"
   ]
  },
  {
   "cell_type": "code",
   "execution_count": 10,
   "metadata": {},
   "outputs": [
    {
     "name": "stderr",
     "output_type": "stream",
     "text": [
      "/usr/local/lib/python3.8/dist-packages/pyspark/sql/context.py:125: FutureWarning: Deprecated in 3.0.0. Use SparkSession.builder.getOrCreate() instead.\n",
      "  warnings.warn(\n",
      "[Stage 92:=====================>                                (40 + 40) / 100]\r"
     ]
    },
    {
     "name": "stdout",
     "output_type": "stream",
     "text": [
      "+------+--------------------------------------------------------------------------------------------------+\n",
      "|userId|recommendations                                                                                   |\n",
      "+------+--------------------------------------------------------------------------------------------------+\n",
      "|1     |[{3435, 6.0119767}, {55276, 5.7843413}, {3134, 5.771266}, {1797, 5.7708206}, {3846, 5.7700787}]   |\n",
      "|2     |[{213, 8.605273}, {417, 8.542724}, {3019, 7.9154744}, {79592, 7.9052444}, {1468, 7.7565255}]      |\n",
      "|3     |[{3265, 6.9433246}, {135861, 6.383185}, {112623, 6.3495502}, {487, 5.941598}, {7169, 5.869364}]   |\n",
      "|4     |[{5135, 8.165978}, {166534, 7.6370225}, {4041, 7.4442196}, {26865, 7.317074}, {3030, 7.229325}]   |\n",
      "|5     |[{446, 10.052595}, {3089, 9.013862}, {7099, 8.805123}, {2361, 8.537218}, {5135, 8.521127}]        |\n",
      "|6     |[{3265, 7.1632953}, {232, 7.1197286}, {166534, 6.882869}, {28, 6.5892534}, {3341, 6.5189123}]     |\n",
      "|7     |[{3134, 11.69991}, {3404, 11.178362}, {85, 10.597495}, {446, 9.780886}, {3089, 9.114323}]         |\n",
      "|8     |[{535, 10.516877}, {1241, 9.525654}, {348, 8.938637}, {955, 8.775595}, {2843, 8.580968}]          |\n",
      "|9     |[{2469, 6.890967}, {8633, 6.4989157}, {1147, 6.4287767}, {7842, 6.3377075}, {3404, 6.3269677}]    |\n",
      "|10    |[{102481, 6.7881165}, {140711, 6.5436554}, {8372, 6.455371}, {49274, 6.428767}, {48322, 6.194157}]|\n",
      "|11    |[{1212, 7.3266816}, {5135, 7.001594}, {2300, 6.6865873}, {177765, 6.649566}, {1103, 6.550273}]    |\n",
      "|12    |[{932, 7.7378755}, {119141, 7.648033}, {103339, 7.30205}, {179819, 7.0426183}, {2401, 6.549795}]  |\n",
      "|13    |[{158872, 7.114324}, {112290, 6.9642153}, {4437, 6.8692007}, {3037, 6.863734}, {969, 6.82551}]    |\n",
      "|14    |[{166534, 11.599689}, {3503, 10.12052}, {232, 9.469406}, {728, 8.894732}, {3477, 8.575329}]       |\n",
      "|15    |[{48322, 9.104164}, {2340, 8.860692}, {931, 8.626291}, {49274, 8.092986}, {53127, 8.04853}]       |\n",
      "|16    |[{1241, 4.701162}, {1211, 4.5679045}, {2731, 4.5162177}, {1178, 4.506668}, {86345, 4.4525123}]    |\n",
      "|17    |[{1211, 5.4349127}, {5992, 5.389258}, {1261, 5.37522}, {2664, 5.3377514}, {5915, 5.212372}]       |\n",
      "|18    |[{1797, 5.242362}, {170705, 5.1098976}, {7008, 5.0700436}, {922, 5.067317}, {5690, 5.0114093}]    |\n",
      "|19    |[{3503, 5.2923408}, {158872, 4.8938994}, {417, 4.88872}, {55276, 4.8507633}, {3477, 4.82625}]     |\n",
      "|20    |[{1103, 6.6778555}, {7318, 6.5962815}, {965, 6.5404534}, {5135, 6.360117}, {3328, 6.2895584}]     |\n",
      "+------+--------------------------------------------------------------------------------------------------+\n",
      "only showing top 20 rows\n",
      "\n"
     ]
    },
    {
     "name": "stderr",
     "output_type": "stream",
     "text": [
      "                                                                                \r"
     ]
    }
   ],
   "source": [
    "# Generate top 5 movie recommendations for each user\n",
    "userRecs = model.recommendForAllUsers(5)\n",
    "\n",
    "userRecs.show(truncate=False)"
   ]
  },
  {
   "cell_type": "code",
   "execution_count": 11,
   "metadata": {},
   "outputs": [
    {
     "name": "stdout",
     "output_type": "stream",
     "text": [
      "Row(userId=1, recommendations=[Row(movieId=3435, rating=6.011976718902588), Row(movieId=55276, rating=5.784341335296631), Row(movieId=3134, rating=5.771265983581543), Row(movieId=1797, rating=5.770820617675781), Row(movieId=3846, rating=5.770078659057617)])\n",
      "Row(userId=2, recommendations=[Row(movieId=213, rating=8.605273246765137), Row(movieId=417, rating=8.542723655700684), Row(movieId=3019, rating=7.9154744148254395), Row(movieId=79592, rating=7.90524435043335), Row(movieId=1468, rating=7.75652551651001)])\n",
      "Row(userId=3, recommendations=[Row(movieId=3265, rating=6.943324565887451), Row(movieId=135861, rating=6.383184909820557), Row(movieId=112623, rating=6.349550247192383), Row(movieId=487, rating=5.941597938537598), Row(movieId=7169, rating=5.869363784790039)])\n"
     ]
    }
   ],
   "source": [
    "for line in userRecs.take(3):\n",
    "    print(line)"
   ]
  },
  {
   "cell_type": "code",
   "execution_count": 12,
   "metadata": {},
   "outputs": [
    {
     "name": "stderr",
     "output_type": "stream",
     "text": [
      "[Stage 150:==================================>                  (65 + 35) / 100]\r"
     ]
    },
    {
     "name": "stdout",
     "output_type": "stream",
     "text": [
      "+-------+-----------------------------------------------------------------------------------------+\n",
      "|movieId|recommendations                                                                          |\n",
      "+-------+-----------------------------------------------------------------------------------------+\n",
      "|28     |[{173, 11.805707}, {392, 9.127658}, {120, 9.0567255}, {407, 8.947717}, {574, 8.853763}]  |\n",
      "|31     |[{295, 7.114854}, {67, 6.668771}, {557, 6.567077}, {548, 6.3582892}, {441, 6.304737}]    |\n",
      "|34     |[{295, 6.121164}, {35, 5.965703}, {203, 5.590754}, {451, 5.531224}, {267, 5.4585023}]    |\n",
      "|53     |[{126, 8.545336}, {360, 8.002896}, {203, 7.9733253}, {120, 7.962228}, {173, 7.8958163}]  |\n",
      "|65     |[{441, 7.320288}, {548, 5.8378067}, {497, 5.803167}, {539, 5.5712986}, {598, 5.507638}]  |\n",
      "|76     |[{295, 9.218039}, {329, 8.212451}, {441, 8.037064}, {35, 7.89428}, {433, 6.9272914}]     |\n",
      "|78     |[{574, 6.4934654}, {549, 5.601421}, {257, 5.4445596}, {589, 5.40549}, {174, 5.3622537}]  |\n",
      "|81     |[{67, 6.404974}, {35, 6.2226834}, {37, 6.160732}, {340, 6.038824}, {267, 5.973476}]      |\n",
      "|85     |[{461, 18.051624}, {535, 12.969436}, {498, 12.564865}, {31, 11.045244}, {173, 10.906716}]|\n",
      "|101    |[{203, 7.48484}, {574, 6.772889}, {595, 6.6893554}, {340, 6.6385984}, {96, 6.4486313}]   |\n",
      "|108    |[{461, 7.7608256}, {207, 6.9241643}, {173, 6.5308385}, {498, 6.1711593}, {31, 5.914553}] |\n",
      "|126    |[{173, 6.186606}, {498, 4.5753613}, {77, 4.180518}, {303, 4.1138983}, {53, 4.008108}]    |\n",
      "|148    |[{22, 7.4102364}, {494, 6.931223}, {399, 6.647412}, {423, 5.9759636}, {364, 5.8841057}]  |\n",
      "|155    |[{340, 8.4582205}, {259, 7.4449186}, {302, 7.1715984}, {536, 6.872459}, {502, 6.8182015}]|\n",
      "|183    |[{535, 6.4012613}, {173, 6.035115}, {340, 5.7409983}, {7, 5.620061}, {498, 5.470737}]    |\n",
      "|193    |[{461, 6.9348817}, {295, 6.7533617}, {441, 6.674383}, {548, 5.5415254}, {426, 5.2848296}]|\n",
      "|210    |[{574, 6.4472313}, {173, 6.298297}, {548, 5.8260365}, {303, 5.245209}, {498, 5.149844}]  |\n",
      "|211    |[{393, 7.1201253}, {494, 6.36149}, {130, 6.2969475}, {486, 6.0405283}, {77, 5.46079}]    |\n",
      "|251    |[{97, 5.412505}, {393, 5.041964}, {494, 4.8903527}, {574, 4.6978335}, {486, 4.631775}]   |\n",
      "|255    |[{257, 10.042361}, {549, 7.9982677}, {255, 7.2360854}, {407, 6.8853097}, {114, 6.549373}]|\n",
      "+-------+-----------------------------------------------------------------------------------------+\n",
      "only showing top 20 rows\n",
      "\n"
     ]
    },
    {
     "name": "stderr",
     "output_type": "stream",
     "text": [
      "                                                                                \r"
     ]
    }
   ],
   "source": [
    "# Generate top 5 user recommendations for each movie\n",
    "movieRecs = model.recommendForAllItems(5)\n",
    "movieRecs.show(truncate=False)"
   ]
  },
  {
   "cell_type": "code",
   "execution_count": 13,
   "metadata": {},
   "outputs": [
    {
     "name": "stderr",
     "output_type": "stream",
     "text": [
      "[Stage 179:============================>                        (53 + 40) / 100]\r"
     ]
    },
    {
     "name": "stdout",
     "output_type": "stream",
     "text": [
      "Row(movieId=28, recommendations=[Row(userId=173, rating=11.805706977844238), Row(userId=392, rating=9.127657890319824), Row(userId=120, rating=9.05672550201416), Row(userId=407, rating=8.94771671295166), Row(userId=574, rating=8.85376262664795)])\n",
      "Row(movieId=31, recommendations=[Row(userId=295, rating=7.114853858947754), Row(userId=67, rating=6.668770790100098), Row(userId=557, rating=6.567077159881592), Row(userId=548, rating=6.3582892417907715), Row(userId=441, rating=6.304737091064453)])\n",
      "Row(movieId=34, recommendations=[Row(userId=295, rating=6.121163845062256), Row(userId=35, rating=5.965703010559082), Row(userId=203, rating=5.59075403213501), Row(userId=451, rating=5.531223773956299), Row(userId=267, rating=5.458502292633057)])\n",
      "Row(movieId=53, recommendations=[Row(userId=126, rating=8.54533576965332), Row(userId=360, rating=8.002896308898926), Row(userId=203, rating=7.973325252532959), Row(userId=120, rating=7.962227821350098), Row(userId=173, rating=7.895816326141357)])\n"
     ]
    },
    {
     "name": "stderr",
     "output_type": "stream",
     "text": [
      "                                                                                \r"
     ]
    }
   ],
   "source": [
    "for line in movieRecs.take(4):\n",
    "   print(line)"
   ]
  },
  {
   "cell_type": "code",
   "execution_count": 14,
   "metadata": {},
   "outputs": [
    {
     "name": "stdout",
     "output_type": "stream",
     "text": [
      "--- Execution time: 21.476658582687378 seconds ---\n"
     ]
    }
   ],
   "source": [
    "print(\"--- Execution time: %s seconds ---\" % (time.time() - start_time))"
   ]
  },
  {
   "cell_type": "code",
   "execution_count": 15,
   "metadata": {},
   "outputs": [
    {
     "name": "stdin",
     "output_type": "stream",
     "text": [
      "Digite o número do usuário que deseja a recomendação: 1\n"
     ]
    },
    {
     "data": {
      "text/plain": [
       "[Row(movieId=[3435, 55276, 3134, 1797, 3846], rating=[6.011976718902588, 5.784341335296631, 5.771265983581543, 5.770820617675781, 5.770078659057617])]"
      ]
     },
     "execution_count": 15,
     "metadata": {},
     "output_type": "execute_result"
    }
   ],
   "source": [
    "enter_user=input(\"Digite o número do usuário que deseja a recomendação:\")\n",
    "userRecs.where(userRecs.userId == enter_user).select(\"recommendations.movieId\",\\\n",
    "              \"recommendations.rating\").collect()"
   ]
  },
  {
   "cell_type": "code",
   "execution_count": 16,
   "metadata": {},
   "outputs": [
    {
     "name": "stdin",
     "output_type": "stream",
     "text": [
      "Digite o número do filme que deseja recomendar: 28\n"
     ]
    },
    {
     "data": {
      "text/plain": [
       "[Row(userId=[173, 392, 120, 407, 574], rating=[11.805706977844238, 9.127657890319824, 9.05672550201416, 8.94771671295166, 8.85376262664795])]"
      ]
     },
     "execution_count": 16,
     "metadata": {},
     "output_type": "execute_result"
    }
   ],
   "source": [
    "enter_movie=input(\"Digite o número do filme que deseja recomendar:\")\n",
    "movieRecs.where(movieRecs.movieId == enter_movie).select(\"recommendations.userId\",\\\n",
    "                \"recommendations.rating\").collect()"
   ]
  },
  {
   "cell_type": "code",
   "execution_count": 17,
   "metadata": {},
   "outputs": [],
   "source": [
    "spark.stop()"
   ]
  }
 ],
 "metadata": {
  "kernelspec": {
   "display_name": "Python 3",
   "language": "python",
   "name": "python3"
  },
  "language_info": {
   "codemirror_mode": {
    "name": "ipython",
    "version": 3
   },
   "file_extension": ".py",
   "mimetype": "text/x-python",
   "name": "python",
   "nbconvert_exporter": "python",
   "pygments_lexer": "ipython3",
   "version": "3.8.10"
  }
 },
 "nbformat": 4,
 "nbformat_minor": 4
}
