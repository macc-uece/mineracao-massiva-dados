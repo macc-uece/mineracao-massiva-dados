{
 "cells": [
  {
   "cell_type": "markdown",
   "metadata": {},
   "source": [
    "# Exemplo 06: Processamento Paralelo no Spark  \n",
    "## Cálculo do valor de Pi Serial & Paralelo\n",
    "\n",
    "Esse exemplo mostra o processamento paralelo no cluster LASID. Para isso, realizamos o cálculo do valor do número Pi usando método Monte Carlo (não é a melhor maneira de calcular, mas exige muito processamento...).\n",
    "\n",
    "Esse programa define o tamanho do contador (*partition*) e cria vários processos com a função Map que retornam o valor que é totalizado com a função Reduce.\n",
    "\n",
    "A primeira etapa realiza o cálculo em apenas um host, a segunda etapa realiza o cálculo paralelo com vários hosts usando virtualização da JVM e o terceiro realiza o cálculo paralelo com vários hosts usando virtualização Docker.\n",
    "\n",
    "Esse exemplo avalia apenas o processamento (operação matemática) e não a leitura de arquivos. "
   ]
  },
  {
   "cell_type": "code",
   "execution_count": 1,
   "metadata": {
    "execution": {
     "iopub.execute_input": "2022-07-26T21:05:37.646229Z",
     "iopub.status.busy": "2022-07-26T21:05:37.645850Z",
     "iopub.status.idle": "2022-07-26T21:05:37.654616Z",
     "shell.execute_reply": "2022-07-26T21:05:37.654069Z",
     "shell.execute_reply.started": "2022-07-26T21:05:37.646133Z"
    }
   },
   "outputs": [],
   "source": [
    "# Load Python modules\n",
    "from pyspark import SparkContext, SparkConf\n",
    "from pyspark.sql import SparkSession\n",
    "from random import random\n",
    "from operator import add\n",
    "import time"
   ]
  },
  {
   "cell_type": "code",
   "execution_count": 2,
   "metadata": {
    "execution": {
     "iopub.execute_input": "2022-07-26T21:05:37.655636Z",
     "iopub.status.busy": "2022-07-26T21:05:37.655468Z",
     "iopub.status.idle": "2022-07-26T21:05:37.762953Z",
     "shell.execute_reply": "2022-07-26T21:05:37.761566Z",
     "shell.execute_reply.started": "2022-07-26T21:05:37.655615Z"
    },
    "tags": []
   },
   "outputs": [],
   "source": [
    "# Pi calculation using Monte Carlo Method\n",
    "def f(_):\n",
    "    x = random() * 2 - 1\n",
    "    y = random() * 2 - 1\n",
    "    return 1 if x ** 2 + y ** 2 <= 1 else 0"
   ]
  },
  {
   "cell_type": "markdown",
   "metadata": {},
   "source": [
    "## Spark Pi Serial"
   ]
  },
  {
   "cell_type": "code",
   "execution_count": 3,
   "metadata": {
    "execution": {
     "iopub.execute_input": "2022-07-26T21:05:37.765519Z",
     "iopub.status.busy": "2022-07-26T21:05:37.764923Z",
     "iopub.status.idle": "2022-07-26T21:05:41.463734Z",
     "shell.execute_reply": "2022-07-26T21:05:41.462162Z",
     "shell.execute_reply.started": "2022-07-26T21:05:37.765458Z"
    },
    "tags": []
   },
   "outputs": [
    {
     "name": "stderr",
     "output_type": "stream",
     "text": [
      "Setting default log level to \"WARN\".\n",
      "To adjust logging level use sc.setLogLevel(newLevel). For SparkR, use setLogLevel(newLevel).\n"
     ]
    },
    {
     "name": "stdout",
     "output_type": "stream",
     "text": [
      "22/07/26 18:05:40 WARN NativeCodeLoader: Unable to load native-hadoop library for your platform... using builtin-java classes where applicable\n",
      "22/07/26 18:05:40 WARN Utils: Service 'SparkUI' could not bind on port 4040. Attempting port 4041.\n"
     ]
    }
   ],
   "source": [
    "# Starting Pi Serial (one processor)\n",
    "start_time = time.time()\n",
    "\n",
    "spark = SparkSession.builder\\\n",
    "         .master(\"local[4]\")\\\n",
    "         .appName(\"JupyterPiSerial\")\\\n",
    "         .getOrCreate()"
   ]
  },
  {
   "cell_type": "code",
   "execution_count": 4,
   "metadata": {
    "execution": {
     "iopub.execute_input": "2022-07-26T21:05:41.468829Z",
     "iopub.status.busy": "2022-07-26T21:05:41.468244Z",
     "iopub.status.idle": "2022-07-26T21:06:32.438039Z",
     "shell.execute_reply": "2022-07-26T21:06:32.436897Z",
     "shell.execute_reply.started": "2022-07-26T21:05:41.468781Z"
    },
    "tags": []
   },
   "outputs": [
    {
     "name": "stderr",
     "output_type": "stream",
     "text": [
      "                                                                                \r"
     ]
    },
    {
     "name": "stdout",
     "output_type": "stream",
     "text": [
      "### Pi is roughly 3.151880 ###\n",
      "--- Serial Execution time: 54.5758843421936 seconds ---\n"
     ]
    }
   ],
   "source": [
    "partitions = 2000\n",
    "n = 100000 * partitions\n",
    "\n",
    "count = spark.sparkContext.parallelize(range(1, n + 1), partitions).map(f).reduce(add)\n",
    "\n",
    "print(\"### Pi is roughly %f ###\" % (4.0 * count / n))\n",
    "print(\"--- Serial Execution time: %s seconds ---\" % (time.time() - start_time))"
   ]
  },
  {
   "cell_type": "code",
   "execution_count": 5,
   "metadata": {
    "execution": {
     "iopub.execute_input": "2022-07-26T21:06:32.439528Z",
     "iopub.status.busy": "2022-07-26T21:06:32.439303Z",
     "iopub.status.idle": "2022-07-26T21:06:33.397733Z",
     "shell.execute_reply": "2022-07-26T21:06:33.396440Z",
     "shell.execute_reply.started": "2022-07-26T21:06:32.439501Z"
    }
   },
   "outputs": [],
   "source": [
    "# Stop Spark session\n",
    "spark.stop()"
   ]
  },
  {
   "cell_type": "markdown",
   "metadata": {},
   "source": [
    "## Spark Pi Parallel Standalone Cluster"
   ]
  },
  {
   "cell_type": "code",
   "execution_count": 6,
   "metadata": {
    "execution": {
     "iopub.execute_input": "2022-07-26T21:06:33.401091Z",
     "iopub.status.busy": "2022-07-26T21:06:33.399895Z",
     "iopub.status.idle": "2022-07-26T21:06:33.803197Z",
     "shell.execute_reply": "2022-07-26T21:06:33.801944Z",
     "shell.execute_reply.started": "2022-07-26T21:06:33.401011Z"
    }
   },
   "outputs": [
    {
     "name": "stdout",
     "output_type": "stream",
     "text": [
      "22/07/26 18:06:33 WARN Utils: Service 'SparkUI' could not bind on port 4040. Attempting port 4041.\n"
     ]
    }
   ],
   "source": [
    "# Starting Pi Parallel (Spark Cluster with JVM)\n",
    "start_time = time.time()\n",
    "\n",
    "spark = SparkSession.builder \\\n",
    "        .master(\"spark://lasidcluster:7077\") \\\n",
    "        .appName(\"JupyterPiParallel\") \\\n",
    "        .config(\"spark.sql.shuffle.partitions\",\"10000\") \\\n",
    "        .config(\"spark.driver.memory\",\"4g\") \\\n",
    "        .config(\"spark.executor.memory\",\"4g\") \\\n",
    "        .getOrCreate()\n"
   ]
  },
  {
   "cell_type": "code",
   "execution_count": 7,
   "metadata": {
    "execution": {
     "iopub.execute_input": "2022-07-26T21:06:33.805354Z",
     "iopub.status.busy": "2022-07-26T21:06:33.805006Z",
     "iopub.status.idle": "2022-07-26T21:06:40.842643Z",
     "shell.execute_reply": "2022-07-26T21:06:40.841581Z",
     "shell.execute_reply.started": "2022-07-26T21:06:33.805307Z"
    }
   },
   "outputs": [
    {
     "name": "stderr",
     "output_type": "stream",
     "text": [
      "[Stage 0:=========================================>         (1626 + 216) / 2000]\r"
     ]
    },
    {
     "name": "stdout",
     "output_type": "stream",
     "text": [
      "### Pi is roughly 3.151880 ###\n",
      "--- Parallel JVM Execution time: 7.432798147201538 seconds ---\n"
     ]
    },
    {
     "name": "stderr",
     "output_type": "stream",
     "text": [
      "                                                                                \r"
     ]
    }
   ],
   "source": [
    "partitions = 2000\n",
    "n = 100000 * partitions\n",
    "\n",
    "count = spark.sparkContext.parallelize(range(1, n + 1), partitions).map(f).reduce(add)\n",
    "\n",
    "print(\"### Pi is roughly %f ###\" % (4.0 * count / n))\n",
    "print(\"--- Parallel JVM Execution time: %s seconds ---\" % (time.time() - start_time))"
   ]
  },
  {
   "cell_type": "code",
   "execution_count": 8,
   "metadata": {
    "execution": {
     "iopub.execute_input": "2022-07-26T21:06:40.844311Z",
     "iopub.status.busy": "2022-07-26T21:06:40.844021Z",
     "iopub.status.idle": "2022-07-26T21:06:41.827082Z",
     "shell.execute_reply": "2022-07-26T21:06:41.825530Z",
     "shell.execute_reply.started": "2022-07-26T21:06:40.844278Z"
    },
    "tags": []
   },
   "outputs": [],
   "source": [
    "# Stop Spark session\n",
    "spark.stop()"
   ]
  }
 ],
 "metadata": {
  "kernelspec": {
   "display_name": "Python 3 (ipykernel)",
   "language": "python",
   "name": "python3"
  },
  "language_info": {
   "codemirror_mode": {
    "name": "ipython",
    "version": 3
   },
   "file_extension": ".py",
   "mimetype": "text/x-python",
   "name": "python",
   "nbconvert_exporter": "python",
   "pygments_lexer": "ipython3",
   "version": "3.8.10"
  }
 },
 "nbformat": 4,
 "nbformat_minor": 4
}
