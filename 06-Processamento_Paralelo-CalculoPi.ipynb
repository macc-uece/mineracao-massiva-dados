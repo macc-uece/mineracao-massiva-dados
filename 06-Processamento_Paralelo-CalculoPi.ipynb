{
 "cells": [
  {
   "cell_type": "markdown",
   "metadata": {},
   "source": [
    "# Exemplo 06: Processamento Paralelo no Spark  \n",
    "## Cálculo do valor de Pi Serial & Paralelo\n",
    "\n",
    "Esse exemplo mostra o processamento paralelo no cluster LASID. Para isso, realizamos o cálculo do valor do número Pi usando método Monte Carlo (não é a melhor maneira de calcular, mas exige muito processamento...).\n",
    "\n",
    "Esse programa define o tamanho do contador (*partition*) e cria vários processos com a função Map que retornam o valor que é totalizado com a função Reduce.\n",
    "\n",
    "A primeira etapa realiza o cálculo em apenas um host, a segunda etapa realiza o cálculo paralelo com vários hosts usando virtualização da JVM e o terceiro realiza o cálculo paralelo com vários hosts usando virtualização Docker.\n",
    "\n",
    "Esse exemplo avalia apenas o processamento (operação matemática) e não a leitura de arquivos. "
   ]
  },
  {
   "cell_type": "code",
   "execution_count": 1,
   "metadata": {},
   "outputs": [],
   "source": [
    "# Start Spark environment\n",
    "import findspark\n",
    "findspark.init()"
   ]
  },
  {
   "cell_type": "code",
   "execution_count": 2,
   "metadata": {},
   "outputs": [],
   "source": [
    "# Load Python modules\n",
    "from pyspark import SparkContext, SparkConf\n",
    "from pyspark.sql import SparkSession\n",
    "from random import random\n",
    "from operator import add\n",
    "import time"
   ]
  },
  {
   "cell_type": "code",
   "execution_count": 3,
   "metadata": {},
   "outputs": [],
   "source": [
    "# Pi calculation using Monte Carlo Method\n",
    "def f(_):\n",
    "    x = random() * 2 - 1\n",
    "    y = random() * 2 - 1\n",
    "    return 1 if x ** 2 + y ** 2 <= 1 else 0"
   ]
  },
  {
   "cell_type": "markdown",
   "metadata": {},
   "source": [
    "## Spark Pi Serial"
   ]
  },
  {
   "cell_type": "code",
   "execution_count": 4,
   "metadata": {},
   "outputs": [],
   "source": [
    "# Starting Pi Serial (one processor)\n",
    "start_time = time.time()\n",
    "\n",
    "spark = SparkSession.builder\\\n",
    "         .master(\"local[*]\")\\\n",
    "         .appName(\"JupyterPiSerial\")\\\n",
    "         .getOrCreate()"
   ]
  },
  {
   "cell_type": "code",
   "execution_count": 5,
   "metadata": {},
   "outputs": [
    {
     "name": "stdout",
     "output_type": "stream",
     "text": [
      "### Pi is roughly 3.138440 ###\n",
      "--- Serial Execution time: 27.281426191329956 seconds ---\n"
     ]
    }
   ],
   "source": [
    "partitions = 2000\n",
    "n = 100000 * partitions\n",
    "\n",
    "count = spark.sparkContext.parallelize(range(1, n + 1), partitions).map(f).reduce(add)\n",
    "\n",
    "print(\"### Pi is roughly %f ###\" % (4.0 * count / n))\n",
    "print(\"--- Serial Execution time: %s seconds ---\" % (time.time() - start_time))"
   ]
  },
  {
   "cell_type": "code",
   "execution_count": 6,
   "metadata": {},
   "outputs": [],
   "source": [
    "# Stop Spark session\n",
    "spark.stop()"
   ]
  },
  {
   "cell_type": "markdown",
   "metadata": {},
   "source": [
    "## Spark Pi Parallel JVM"
   ]
  },
  {
   "cell_type": "code",
   "execution_count": 7,
   "metadata": {},
   "outputs": [],
   "source": [
    "# Starting Pi Parallel (Spark Cluster with JVM)\n",
    "start_time = time.time()\n",
    "\n",
    "spark = SparkSession.builder\\\n",
    "        .appName(\"JupyterPiParallel_JVM\")\\\n",
    "        .master(\"mesos://zk://10.129.64.20:2181,10.129.64.10:2181,10.129.64.30:2181/mesos\") \\\n",
    "        .config(\"spark.executor.uri\", \"file:///data/software/spark/spark-2.4.5-bin-hadoop2.7.tgz\")\\\n",
    "        .getOrCreate()\n",
    "\n",
    "spark.conf.set(\"spark.submit.deployMode\", \"client\")\n",
    "spark.conf.set(\"spark.mesos.containerizer\",\"mesos\")\n",
    "spark.conf.set(\"spark.driver.supervise\", \"true\")\n",
    "spark.conf.set(\"spark.executor.memory\", \"4g\")\n",
    "spark.conf.set(\"spark.driver.host\",\"10.129.64.20\")"
   ]
  },
  {
   "cell_type": "code",
   "execution_count": 8,
   "metadata": {},
   "outputs": [
    {
     "name": "stdout",
     "output_type": "stream",
     "text": [
      "### Pi is roughly 3.139978 ###\n",
      "--- Parallel JVM Execution time: 8.766965866088867 seconds ---\n"
     ]
    }
   ],
   "source": [
    "partitions = 2000\n",
    "n = 100000 * partitions\n",
    "\n",
    "count = spark.sparkContext.parallelize(range(1, n + 1), partitions).map(f).reduce(add)\n",
    "\n",
    "print(\"### Pi is roughly %f ###\" % (4.0 * count / n))\n",
    "print(\"--- Parallel JVM Execution time: %s seconds ---\" % (time.time() - start_time))"
   ]
  },
  {
   "cell_type": "code",
   "execution_count": 9,
   "metadata": {},
   "outputs": [],
   "source": [
    "# Stop Spark session\n",
    "spark.stop()"
   ]
  },
  {
   "cell_type": "markdown",
   "metadata": {},
   "source": [
    "## Spark Pi Parallel Docker"
   ]
  },
  {
   "cell_type": "code",
   "execution_count": 10,
   "metadata": {},
   "outputs": [],
   "source": [
    "# Starting Pi Parallel (Spark Cluster with Docker Image)\n",
    "start_time = time.time()\n",
    "\n",
    "spark = SparkSession.builder\\\n",
    "        .appName(\"JupyterPiParallel_Docker\")\\\n",
    "        .master(\"mesos://zk://10.129.64.20:2181,10.129.64.10:2181,10.129.64.30:2181/mesos\") \\\n",
    "        .getOrCreate()\n",
    "\n",
    "spark.conf.set(\"spark.submit.deployMode\", \"client\")\n",
    "spark.conf.set(\"spark.mesos.containerizer\",\"docker\")\n",
    "spark.conf.set(\"spark.mesos.executor.docker.image\",\"lasid/spark-worker:latest\")\n",
    "spark.conf.set(\"spark.driver.supervise\", \"true\")\n",
    "spark.conf.set(\"spark.executor.memory\", \"4g\")\n",
    "spark.conf.set(\"spark.driver.host\",\"10.129.64.20\")"
   ]
  },
  {
   "cell_type": "code",
   "execution_count": 11,
   "metadata": {},
   "outputs": [
    {
     "name": "stdout",
     "output_type": "stream",
     "text": [
      "### Pi is roughly 3.140060 ###\n",
      "--- Parallel Docker Execution time: 8.94360876083374 seconds ---\n"
     ]
    }
   ],
   "source": [
    "partitions = 2000\n",
    "n = 100000 * partitions\n",
    "\n",
    "count = spark.sparkContext.parallelize(range(1, n + 1), partitions).map(f).reduce(add)\n",
    "\n",
    "print(\"### Pi is roughly %f ###\" % (4.0 * count / n))\n",
    "print(\"--- Parallel Docker Execution time: %s seconds ---\" % (time.time() - start_time))"
   ]
  },
  {
   "cell_type": "code",
   "execution_count": 12,
   "metadata": {},
   "outputs": [],
   "source": [
    "# Stop Spark session\n",
    "spark.stop()"
   ]
  },
  {
   "cell_type": "code",
   "execution_count": null,
   "metadata": {},
   "outputs": [],
   "source": []
  }
 ],
 "metadata": {
  "kernelspec": {
   "display_name": "Python 3",
   "language": "python",
   "name": "python3"
  },
  "language_info": {
   "codemirror_mode": {
    "name": "ipython",
    "version": 3
   },
   "file_extension": ".py",
   "mimetype": "text/x-python",
   "name": "python",
   "nbconvert_exporter": "python",
   "pygments_lexer": "ipython3",
   "version": "3.6.9"
  }
 },
 "nbformat": 4,
 "nbformat_minor": 4
}
