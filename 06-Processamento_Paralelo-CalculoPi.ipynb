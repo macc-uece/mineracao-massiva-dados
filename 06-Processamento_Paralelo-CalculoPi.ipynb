{
 "cells": [
  {
   "cell_type": "markdown",
   "metadata": {},
   "source": [
    "# Exemplo 06: Cálculo do valor de Pi Serial & Paralelo\n",
    "\n",
    "Esse exemplo mostra o processamento paralelo no cluster LASID. Para isso, realizamos o cálculo do valor do número Pi usando método Monte Carlo (não é a melho rmaneira de calcular, mas exige muito processamento).\n",
    "\n",
    "Esse programa define o tamanho co contador (*partition*) e cria vários processos com processo Map que retornam o valor que é totalizado com a função Reduce.\n",
    "\n",
    "A primeira etapa realiza o cálculo em apenas um host e a segunda etapa realiza o cálculo com vários hosts.\n",
    "\n",
    "Esse exemplo avalia apenas o processamento (operação matemática) e não a leitura de arquivos. "
   ]
  },
  {
   "cell_type": "code",
   "execution_count": 1,
   "metadata": {},
   "outputs": [],
   "source": [
    "# Start Spark environment\n",
    "import findspark\n",
    "findspark.init()"
   ]
  },
  {
   "cell_type": "code",
   "execution_count": 2,
   "metadata": {},
   "outputs": [],
   "source": [
    "# Load Python modules\n",
    "from pyspark import SparkContext, SparkConf\n",
    "from pyspark.sql import SparkSession\n",
    "from random import random\n",
    "from operator import add\n",
    "import time"
   ]
  },
  {
   "cell_type": "code",
   "execution_count": 3,
   "metadata": {},
   "outputs": [],
   "source": [
    "# Pi calculation using Monte Carlo Method\n",
    "def f(_):\n",
    "    x = random() * 2 - 1\n",
    "    y = random() * 2 - 1\n",
    "    return 1 if x ** 2 + y ** 2 <= 1 else 0"
   ]
  },
  {
   "cell_type": "markdown",
   "metadata": {},
   "source": [
    "## Spark Pi Serial"
   ]
  },
  {
   "cell_type": "code",
   "execution_count": 4,
   "metadata": {},
   "outputs": [],
   "source": [
    "# Starting Pi Serial (one processor)\n",
    "start_time = time.time()\n",
    "\n",
    "spark = SparkSession.builder\\\n",
    "         .master(\"local[1]\")\\\n",
    "         .appName(\"JupyterPiSerial\")\\\n",
    "         .getOrCreate()"
   ]
  },
  {
   "cell_type": "code",
   "execution_count": 5,
   "metadata": {},
   "outputs": [
    {
     "name": "stdout",
     "output_type": "stream",
     "text": [
      "Pi is roughly 3.149600\n",
      "--- Serial Execution time: 41.0227324962616 seconds ---\n"
     ]
    }
   ],
   "source": [
    "partitions = 200\n",
    "n = 100000 * partitions\n",
    "\n",
    "count = spark.sparkContext.parallelize(range(1, n + 1), partitions).map(f).reduce(add)\n",
    "\n",
    "print(\"Pi is roughly %f\" % (4.0 * count / n))\n",
    "print(\"--- Serial Execution time: %s seconds ---\" % (time.time() - start_time))"
   ]
  },
  {
   "cell_type": "code",
   "execution_count": 6,
   "metadata": {},
   "outputs": [],
   "source": [
    "# Stop Spark session\n",
    "spark.stop()"
   ]
  },
  {
   "cell_type": "markdown",
   "metadata": {},
   "source": [
    "## Spark Pi Parallel"
   ]
  },
  {
   "cell_type": "code",
   "execution_count": 7,
   "metadata": {},
   "outputs": [],
   "source": [
    "# Starting Pi Parallel (Spark Cluster with Docker Image)\n",
    "start_time = time.time()\n",
    "\n",
    "spark = SparkSession.builder\\\n",
    "        .appName(\"JupyterPiParallel\")\\\n",
    "        .master(\"mesos://zk://10.129.64.20:2181,10.129.64.10:2181,10.129.64.30:2181/mesos\") \\\n",
    "        .getOrCreate()\n",
    "\n",
    "spark.conf.set(\"spark.submit.deployMode\", \"client\")\n",
    "spark.conf.set(\"spark.driver.supervise\", \"true\")\n",
    "spark.conf.set(\"spark.executor.memory\", \"4g\")\n",
    "spark.conf.set(\"spark.driver.host\",\"10.129.64.20\")\n",
    "spark.conf.set(\"spark.mesos.containerizer\",\"docker\")\n",
    "spark.conf.set(\"spark.mesos.executor.docker.image\",\"lasid/spark-worker:latest\")\n",
    "spark.conf.set(\"spark.mesos.executor.docker.forcePullImage\",\"true\")"
   ]
  },
  {
   "cell_type": "code",
   "execution_count": 8,
   "metadata": {},
   "outputs": [
    {
     "name": "stdout",
     "output_type": "stream",
     "text": [
      "Pi is roughly 3.138272\n",
      "--- Parallel Execution time: 5.433460235595703 seconds ---\n"
     ]
    }
   ],
   "source": [
    "partitions = 200\n",
    "n = 100000 * partitions\n",
    "\n",
    "count = spark.sparkContext.parallelize(range(1, n + 1), partitions).map(f).reduce(add)\n",
    "\n",
    "print(\"Pi is roughly %f\" % (4.0 * count / n))\n",
    "print(\"--- Parallel Execution time: %s seconds ---\" % (time.time() - start_time))"
   ]
  },
  {
   "cell_type": "code",
   "execution_count": 9,
   "metadata": {},
   "outputs": [],
   "source": [
    "# Stop Spark session\n",
    "spark.stop()"
   ]
  },
  {
   "cell_type": "code",
   "execution_count": null,
   "metadata": {},
   "outputs": [],
   "source": []
  }
 ],
 "metadata": {
  "kernelspec": {
   "display_name": "Python 3",
   "language": "python",
   "name": "python3"
  },
  "language_info": {
   "codemirror_mode": {
    "name": "ipython",
    "version": 3
   },
   "file_extension": ".py",
   "mimetype": "text/x-python",
   "name": "python",
   "nbconvert_exporter": "python",
   "pygments_lexer": "ipython3",
   "version": "3.6.9"
  }
 },
 "nbformat": 4,
 "nbformat_minor": 4
}
